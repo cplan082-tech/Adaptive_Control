{
 "cells": [
  {
   "cell_type": "code",
   "execution_count": 5,
   "id": "7fb05cd3-f5f3-420e-b481-85e2a0d296de",
   "metadata": {},
   "outputs": [
    {
     "name": "stdout",
     "output_type": "stream",
     "text": [
      "[[1.0000e+00 0.0000e+00 0.0000e+00 0.0000e+00 0.0000e+00]\n",
      " [1.0000e+00 1.0000e+00 1.0000e+00 1.0000e+00 1.0000e+00]\n",
      " [1.0000e+00 2.0000e+00 4.0000e+00 8.0000e+00 1.6000e+01]\n",
      " [1.0000e+00 3.0000e+00 9.0000e+00 2.7000e+01 8.1000e+01]\n",
      " [1.0000e+00 4.0000e+00 1.6000e+01 6.4000e+01 2.5600e+02]\n",
      " [1.0000e+00 5.0000e+00 2.5000e+01 1.2500e+02 6.2500e+02]\n",
      " [1.0000e+00 6.0000e+00 3.6000e+01 2.1600e+02 1.2960e+03]\n",
      " [1.0000e+00 7.0000e+00 4.9000e+01 3.4300e+02 2.4010e+03]\n",
      " [1.0000e+00 8.0000e+00 6.4000e+01 5.1200e+02 4.0960e+03]\n",
      " [1.0000e+00 9.0000e+00 8.1000e+01 7.2900e+02 6.5610e+03]\n",
      " [1.0000e+00 1.0000e+01 1.0000e+02 1.0000e+03 1.0000e+04]\n",
      " [1.0000e+00 1.1000e+01 1.2100e+02 1.3310e+03 1.4641e+04]\n",
      " [1.0000e+00 1.2000e+01 1.4400e+02 1.7280e+03 2.0736e+04]\n",
      " [1.0000e+00 1.3000e+01 1.6900e+02 2.1970e+03 2.8561e+04]\n",
      " [1.0000e+00 1.4000e+01 1.9600e+02 2.7440e+03 3.8416e+04]]\n"
     ]
    }
   ],
   "source": [
    "import numpy as np\n",
    "param_max = 5 # Largest number of parameters\n",
    "\n",
    "data = np.loadtxt('dataHw1.dat')\n",
    "t = data[:,0].copy()\n",
    "y = data[:,1].copy()\n",
    "phi = np.stack([(t - 1)**n for n in range(0,param_max)], axis=1)\n",
    "print(phi)"
   ]
  },
  {
   "cell_type": "code",
   "execution_count": 2,
   "id": "2f0fe99d-3d1b-4b46-8258-0a6f850aac59",
   "metadata": {},
   "outputs": [
    {
     "data": {
      "text/html": [
       "<div>\n",
       "<style scoped>\n",
       "    .dataframe tbody tr th:only-of-type {\n",
       "        vertical-align: middle;\n",
       "    }\n",
       "\n",
       "    .dataframe tbody tr th {\n",
       "        vertical-align: top;\n",
       "    }\n",
       "\n",
       "    .dataframe thead th {\n",
       "        text-align: right;\n",
       "    }\n",
       "</style>\n",
       "<table border=\"1\" class=\"dataframe\">\n",
       "  <thead>\n",
       "    <tr style=\"text-align: right;\">\n",
       "      <th></th>\n",
       "      <th>Theta1</th>\n",
       "      <th>Theta2</th>\n",
       "      <th>Theta3</th>\n",
       "      <th>Theta4</th>\n",
       "      <th>Theta5</th>\n",
       "      <th>Loss</th>\n",
       "    </tr>\n",
       "  </thead>\n",
       "  <tbody>\n",
       "    <tr>\n",
       "      <th>1</th>\n",
       "      <td>51.435013</td>\n",
       "      <td>0.000000</td>\n",
       "      <td>0.000000</td>\n",
       "      <td>0.000000</td>\n",
       "      <td>0.000000</td>\n",
       "      <td>24103.092840</td>\n",
       "    </tr>\n",
       "    <tr>\n",
       "      <th>2</th>\n",
       "      <td>-31.106229</td>\n",
       "      <td>11.791606</td>\n",
       "      <td>0.000000</td>\n",
       "      <td>0.000000</td>\n",
       "      <td>0.000000</td>\n",
       "      <td>4637.216740</td>\n",
       "    </tr>\n",
       "    <tr>\n",
       "      <th>3</th>\n",
       "      <td>11.150564</td>\n",
       "      <td>-7.711529</td>\n",
       "      <td>1.393081</td>\n",
       "      <td>0.000000</td>\n",
       "      <td>0.000000</td>\n",
       "      <td>634.251379</td>\n",
       "    </tr>\n",
       "    <tr>\n",
       "      <th>4</th>\n",
       "      <td>8.137128</td>\n",
       "      <td>-4.576673</td>\n",
       "      <td>0.813574</td>\n",
       "      <td>0.027596</td>\n",
       "      <td>0.000000</td>\n",
       "      <td>612.440363</td>\n",
       "    </tr>\n",
       "    <tr>\n",
       "      <th>5</th>\n",
       "      <td>4.234310</td>\n",
       "      <td>3.497340</td>\n",
       "      <td>-1.992023</td>\n",
       "      <td>0.346007</td>\n",
       "      <td>-0.011372</td>\n",
       "      <td>563.290183</td>\n",
       "    </tr>\n",
       "  </tbody>\n",
       "</table>\n",
       "</div>"
      ],
      "text/plain": [
       "      Theta1     Theta2    Theta3    Theta4    Theta5          Loss\n",
       "1  51.435013   0.000000  0.000000  0.000000  0.000000  24103.092840\n",
       "2 -31.106229  11.791606  0.000000  0.000000  0.000000   4637.216740\n",
       "3  11.150564  -7.711529  1.393081  0.000000  0.000000    634.251379\n",
       "4   8.137128  -4.576673  0.813574  0.027596  0.000000    612.440363\n",
       "5   4.234310   3.497340 -1.992023  0.346007 -0.011372    563.290183"
      ]
     },
     "execution_count": 2,
     "metadata": {},
     "output_type": "execute_result"
    }
   ],
   "source": [
    "import pprint\n",
    "import pandas as pd\n",
    "from numpy.linalg import inv\n",
    "\n",
    "theta_hat = []\n",
    "loss = []\n",
    "for i in range(0,param_max):\n",
    "    phi_temp = phi[:, 0:i+1]\n",
    "    theta_temp = inv(phi_temp.T@phi_temp)@phi_temp.T@y\n",
    "    err = (y - phi_temp@theta_temp)\n",
    "    theta_hat.append(np.append(theta_temp, [0]*(param_max - i - 1)))\n",
    "    loss.append(err@err/2)\n",
    "    \n",
    "df = pd.DataFrame(np.vstack(theta_hat),\n",
    "                  index=[i for i in range(1,param_max+1)],\n",
    "                  columns=[f'Theta{i}' for i in range(1,param_max+1)])\n",
    "df['Loss'] = loss\n",
    "df"
   ]
  },
  {
   "cell_type": "code",
   "execution_count": 3,
   "id": "70cb6baf-1716-4ac2-bf3b-9920baa79497",
   "metadata": {},
   "outputs": [
    {
     "data": {
      "text/plain": [
       "Text(0.5, 1.0, 'y_hat vs. t')"
      ]
     },
     "execution_count": 3,
     "metadata": {},
     "output_type": "execute_result"
    },
    {
     "data": {
      "image/png": "[encoded data removed]",
      "text/plain": [
       "<Figure size 432x288 with 1 Axes>"
      ]
     },
     "metadata": {
      "needs_background": "light"
     },
     "output_type": "display_data"
    }
   ],
   "source": [
    "import matplotlib.pyplot as mpl\n",
    "num_param_best = 3\n",
    "\n",
    "theta_hat_true = df.loc[num_param_best, df.columns != 'Loss']\n",
    "y_hat = phi@theta_hat_true\n",
    "\n",
    "mpl.scatter((t - 1), y)\n",
    "mpl.plot((t - 1), y_hat)\n",
    "mpl.xlabel('t')\n",
    "mpl.ylabel('y_hat')\n",
    "mpl.title('y_hat vs. t')"
   ]
  },
  {
   "cell_type": "code",
   "execution_count": null,
   "id": "6e97f7da-ab04-42ba-ad3c-0329e95655fd",
   "metadata": {},
   "outputs": [],
   "source": [
    "num_param_best = 3\n",
    "sigma = np.sqrt(2*df['Loss']/(np.array([15]*param_max) - df.index))\n",
    "sigma\n",
    "\n",
    "# sigma = 11\n",
    "# phi_true = phi[:, 0:num_param_best]\n",
    "# cov = pd.DataFrame((sigma**2)*inv(phi_true.T@phi_true), \n",
    "#                    index=[i for i in range(1,num_param_best+1)], \n",
    "#                    columns=[i for i in range(1,num_param_best+1)])\n",
    "# pp.pprint(cov)"
   ]
  },
  {
   "cell_type": "markdown",
   "id": "f3feebff-cc80-4809-bcf8-a8131eba91d6",
   "metadata": {},
   "source": [
    "# Q.2"
   ]
  },
  {
   "cell_type": "code",
   "execution_count": 15,
   "id": "0b150723-b077-474b-97da-78b23424864d",
   "metadata": {},
   "outputs": [],
   "source": [
    "import numpy as np\n",
    "import pandas as pd\n",
    "from math import cos, sin, pi\n",
    "import scipy as spy\n",
    "from numpy.linalg import inv\n",
    "from scipy.signal import unit_impulse \n",
    "import matplotlib.pyplot as mpl\n",
    "\n",
    "# testing vvvvvvvvvvvvvvvvvvvvvvvvvvvvvvvvvvv\n",
    "# df = pd.read_csv('noise_set.csv')\n",
    "# noise = df['0']\n",
    "# testing ^^^^^^^^^^^^^^^^^^^^^^^^^^^^^^^^^^^\n",
    "\n",
    "sample_depth = 400\n",
    "\n",
    "a1 = 1.3\n",
    "a2 = 0.75\n",
    "b0 = 1.1\n",
    "b1 = -0.35\n",
    "\n",
    "theta0 = np.array([a1, a2, b0, b1])\n",
    "p =100*np.identity(4) # starting P matrix\n",
    "\n",
    "t = [i for i in range(sample_depth)]\n",
    "u_t1 = unit_impulse(sample_depth, 100) # Creating impulse delta(t - 100)\n",
    "u_t2 = np.zeros(sample_depth) # Creating unit step unit(t - 100)\n",
    "u_t2[np.where(np.arange(0,sample_depth) >= 100)] = 1\n",
    "u_t3 = np.array([sin(2*pi*t[i]/5) + cos(4*pi*t[i]/5) for i in t])\n",
    "\n",
    "# u_t = np.stack([u_t1, u_t2]) # impulse = u_t[0], step = u_t[1]\n",
    "u_t = np.stack([u_t1, u_t2, u_t3]) # impulse = u_t[0], step = u_t[1]\n",
    "\n",
    "sigma = 0.65\n",
    "y0 = np.random.normal(0, sigma)\n",
    "# y0 = np.array(noise[0]) # for testing **************************************\n",
    "# y = [[y0],[y0]] # first elements in y vector\n",
    "y = [[y0] for i in range(len(u_t))]\n",
    "\n",
    "theta_hat0 = np.reshape(np.array([0]*4), (-1,1))\n",
    "# theta_hat1 = [[theta_hat0], [theta_hat0]]\n",
    "theta_hat = [[theta_hat0] for i in range(len(u_t))]"
   ]
  },
  {
   "cell_type": "code",
   "execution_count": 16,
   "id": "b04043a0-f244-4776-8a32-ad509a1bc3d4",
   "metadata": {},
   "outputs": [],
   "source": [
    "for j in range(len(u_t)):\n",
    "    p =100*np.identity(4) # starting P matrix\n",
    "    for i in range(1,sample_depth):\n",
    "        if (i == 1): # accounts for the lack of t-2 data on first iteration\n",
    "            phi = np.array([-y[j][i-1], 0, u_t[j][i-1], 0])\n",
    "        else:\n",
    "            phi = np.array([-y[j][i-1], -y[j][i-2], u_t[j][i-1], u_t[j][i-2]])\n",
    "            \n",
    "        phi = np.asarray(phi).reshape(-1,1) # changes phi's dimensions from (4,) to [4,1] enabling transpose operations\n",
    "        y[j].append(np.reshape(phi.T@theta0 + np.random.normal(0, sigma), ()))\n",
    "        # y[j].append(np.reshape(phi.T@theta0 + np.array(noise[i]), ()))\n",
    "        p = inv(inv(p) + phi*phi.T)\n",
    "        k = p@phi\n",
    "        theta_hat[j].append(theta_hat[j][i-1] + k*(y[j][i] - phi.T@theta_hat[j][i-1]))\n",
    "\n",
    "df_lst = [pd.DataFrame(np.asarray(theta_hat[i]).reshape(-1,4,), \n",
    "                   columns=['a1', 'a2', 'b0', 'b1']) for i in range(len(u_t))]"
   ]
  },
  {
   "cell_type": "code",
   "execution_count": 45,
   "id": "4d6561c5-19f6-47cc-b47a-e2610139e788",
   "metadata": {},
   "outputs": [
    {
     "data": {
      "text/plain": [
       "<matplotlib.legend.Legend at 0x18bde58d310>"
      ]
     },
     "execution_count": 45,
     "metadata": {},
     "output_type": "execute_result"
    },
    {
     "data": {
      "image/png": "[encoded data removed]",
      "text/plain": [
       "<Figure size 432x288 with 1 Axes>"
      ]
     },
     "metadata": {
      "needs_background": "light"
     },
     "output_type": "display_data"
    }
   ],
   "source": [
    "import matplotlib.pyplot as mpl\n",
    "import seaborn as sns\n",
    "line_width = 0.8\n",
    "graph = sns.lineplot(data=df_lst[2], dashes=False)\n",
    "# graph.despine(left=True)\n",
    "graph.axhline(y=a1, color='black', linestyle='--', linewidth=line_width, label='a1')\n",
    "graph.axhline(y=a2, color='black', linestyle='--', linewidth=line_width, label='a2')\n",
    "graph.axhline(y=b0, color='black', linestyle='--', linewidth=line_width, label='b0')\n",
    "graph.axhline(y=b1, color='black', linestyle='--', linewidth=line_width, label='b1')\n",
    "\n",
    "mpl.legend(bbox_to_anchor=(1.05, 1), loc=2, borderaxespad=0, labels=df_lst[2].columns)\n",
    "        "
   ]
  },
  {
   "cell_type": "code",
   "execution_count": null,
   "id": "ca56c60c-d107-4fd5-8fc5-76c60548793a",
   "metadata": {},
   "outputs": [],
   "source": []
  },
  {
   "cell_type": "code",
   "execution_count": null,
   "id": "5c875d92-2332-4e50-923b-dce3e945faed",
   "metadata": {},
   "outputs": [],
   "source": []
  }
 ],
 "metadata": {
  "kernelspec": {
   "display_name": "Python 3 (ipykernel)",
   "language": "python",
   "name": "python3"
  },
  "language_info": {
   "codemirror_mode": {
    "name": "ipython",
    "version": 3
   },
   "file_extension": ".py",
   "mimetype": "text/x-python",
   "name": "python",
   "nbconvert_exporter": "python",
   "pygments_lexer": "ipython3",
   "version": "3.9.2"
  }
 },
 "nbformat": 4,
 "nbformat_minor": 5
}
