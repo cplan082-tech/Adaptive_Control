{
 "cells": [
  {
   "cell_type": "markdown",
   "id": "3ec10742-871e-42fc-9d69-0c35757d8cf4",
   "metadata": {},
   "source": [
    "# Q1"
   ]
  },
  {
   "cell_type": "markdown",
   "id": "06e79e39-9117-4901-b99e-6a99fb49c55b",
   "metadata": {},
   "source": [
    "The data was first extracted from teh .dat file and seperated type. the \"t\" variable holds the discrete time stamps while the \"y\" variable holds the measured output at said timestamps"
   ]
  },
  {
   "cell_type": "code",
   "execution_count": 27,
   "id": "2ce43d56-6b94-4838-bc51-8663956a4f6a",
   "metadata": {},
   "outputs": [],
   "source": [
    "import numpy as np\n",
    "param_max = 5 # Largest number of parameters\n",
    "\n",
    "data = np.loadtxt('dataHw1.dat')\n",
    "t = data[:,0].copy()\n",
    "y = data[:,1].copy()"
   ]
  },
  {
   "cell_type": "markdown",
   "id": "85d9a169-c3c2-4715-b464-57b010948c11",
   "metadata": {},
   "source": [
    "A look-up table containing the regressors was generated. The width of this table (# of columns) is determined by the value of the \"param_max\" variable declaired in the previous cell. The code code cell used for estimating phi will make use of this table by slicing the required section (e.g. only the first 2 columns will be used when estimating 2 parameters)."
   ]
  },
  {
   "cell_type": "code",
   "execution_count": 26,
   "id": "7d8f385e-03a3-4a51-8210-895e022a8683",
   "metadata": {},
   "outputs": [
    {
     "data": {
      "text/html": [
       "<div>\n",
       "<style scoped>\n",
       "    .dataframe tbody tr th:only-of-type {\n",
       "        vertical-align: middle;\n",
       "    }\n",
       "\n",
       "    .dataframe tbody tr th {\n",
       "        vertical-align: top;\n",
       "    }\n",
       "\n",
       "    .dataframe thead th {\n",
       "        text-align: right;\n",
       "    }\n",
       "</style>\n",
       "<table border=\"1\" class=\"dataframe\">\n",
       "  <thead>\n",
       "    <tr style=\"text-align: right;\">\n",
       "      <th></th>\n",
       "      <th>t^0</th>\n",
       "      <th>t^1</th>\n",
       "      <th>t^2</th>\n",
       "      <th>t^3</th>\n",
       "      <th>t^4</th>\n",
       "    </tr>\n",
       "  </thead>\n",
       "  <tbody>\n",
       "    <tr>\n",
       "      <th>0</th>\n",
       "      <td>1.0</td>\n",
       "      <td>0.0</td>\n",
       "      <td>0.0</td>\n",
       "      <td>0.0</td>\n",
       "      <td>0.0</td>\n",
       "    </tr>\n",
       "    <tr>\n",
       "      <th>1</th>\n",
       "      <td>1.0</td>\n",
       "      <td>1.0</td>\n",
       "      <td>1.0</td>\n",
       "      <td>1.0</td>\n",
       "      <td>1.0</td>\n",
       "    </tr>\n",
       "    <tr>\n",
       "      <th>2</th>\n",
       "      <td>1.0</td>\n",
       "      <td>2.0</td>\n",
       "      <td>4.0</td>\n",
       "      <td>8.0</td>\n",
       "      <td>16.0</td>\n",
       "    </tr>\n",
       "    <tr>\n",
       "      <th>3</th>\n",
       "      <td>1.0</td>\n",
       "      <td>3.0</td>\n",
       "      <td>9.0</td>\n",
       "      <td>27.0</td>\n",
       "      <td>81.0</td>\n",
       "    </tr>\n",
       "    <tr>\n",
       "      <th>4</th>\n",
       "      <td>1.0</td>\n",
       "      <td>4.0</td>\n",
       "      <td>16.0</td>\n",
       "      <td>64.0</td>\n",
       "      <td>256.0</td>\n",
       "    </tr>\n",
       "    <tr>\n",
       "      <th>5</th>\n",
       "      <td>1.0</td>\n",
       "      <td>5.0</td>\n",
       "      <td>25.0</td>\n",
       "      <td>125.0</td>\n",
       "      <td>625.0</td>\n",
       "    </tr>\n",
       "    <tr>\n",
       "      <th>6</th>\n",
       "      <td>1.0</td>\n",
       "      <td>6.0</td>\n",
       "      <td>36.0</td>\n",
       "      <td>216.0</td>\n",
       "      <td>1296.0</td>\n",
       "    </tr>\n",
       "    <tr>\n",
       "      <th>7</th>\n",
       "      <td>1.0</td>\n",
       "      <td>7.0</td>\n",
       "      <td>49.0</td>\n",
       "      <td>343.0</td>\n",
       "      <td>2401.0</td>\n",
       "    </tr>\n",
       "    <tr>\n",
       "      <th>8</th>\n",
       "      <td>1.0</td>\n",
       "      <td>8.0</td>\n",
       "      <td>64.0</td>\n",
       "      <td>512.0</td>\n",
       "      <td>4096.0</td>\n",
       "    </tr>\n",
       "    <tr>\n",
       "      <th>9</th>\n",
       "      <td>1.0</td>\n",
       "      <td>9.0</td>\n",
       "      <td>81.0</td>\n",
       "      <td>729.0</td>\n",
       "      <td>6561.0</td>\n",
       "    </tr>\n",
       "    <tr>\n",
       "      <th>10</th>\n",
       "      <td>1.0</td>\n",
       "      <td>10.0</td>\n",
       "      <td>100.0</td>\n",
       "      <td>1000.0</td>\n",
       "      <td>10000.0</td>\n",
       "    </tr>\n",
       "    <tr>\n",
       "      <th>11</th>\n",
       "      <td>1.0</td>\n",
       "      <td>11.0</td>\n",
       "      <td>121.0</td>\n",
       "      <td>1331.0</td>\n",
       "      <td>14641.0</td>\n",
       "    </tr>\n",
       "    <tr>\n",
       "      <th>12</th>\n",
       "      <td>1.0</td>\n",
       "      <td>12.0</td>\n",
       "      <td>144.0</td>\n",
       "      <td>1728.0</td>\n",
       "      <td>20736.0</td>\n",
       "    </tr>\n",
       "    <tr>\n",
       "      <th>13</th>\n",
       "      <td>1.0</td>\n",
       "      <td>13.0</td>\n",
       "      <td>169.0</td>\n",
       "      <td>2197.0</td>\n",
       "      <td>28561.0</td>\n",
       "    </tr>\n",
       "    <tr>\n",
       "      <th>14</th>\n",
       "      <td>1.0</td>\n",
       "      <td>14.0</td>\n",
       "      <td>196.0</td>\n",
       "      <td>2744.0</td>\n",
       "      <td>38416.0</td>\n",
       "    </tr>\n",
       "  </tbody>\n",
       "</table>\n",
       "</div>"
      ],
      "text/plain": [
       "    t^0   t^1    t^2     t^3      t^4\n",
       "0   1.0   0.0    0.0     0.0      0.0\n",
       "1   1.0   1.0    1.0     1.0      1.0\n",
       "2   1.0   2.0    4.0     8.0     16.0\n",
       "3   1.0   3.0    9.0    27.0     81.0\n",
       "4   1.0   4.0   16.0    64.0    256.0\n",
       "5   1.0   5.0   25.0   125.0    625.0\n",
       "6   1.0   6.0   36.0   216.0   1296.0\n",
       "7   1.0   7.0   49.0   343.0   2401.0\n",
       "8   1.0   8.0   64.0   512.0   4096.0\n",
       "9   1.0   9.0   81.0   729.0   6561.0\n",
       "10  1.0  10.0  100.0  1000.0  10000.0\n",
       "11  1.0  11.0  121.0  1331.0  14641.0\n",
       "12  1.0  12.0  144.0  1728.0  20736.0\n",
       "13  1.0  13.0  169.0  2197.0  28561.0\n",
       "14  1.0  14.0  196.0  2744.0  38416.0"
      ]
     },
     "execution_count": 26,
     "metadata": {},
     "output_type": "execute_result"
    }
   ],
   "source": [
    "phi = np.stack([(t - 1)**n for n in range(param_max)], axis=1) # generation of phi look-up table\n",
    "pd.DataFrame(phi, columns=[f't^{i}' for i in range(param_max)]) # Prints look-up table bellow"
   ]
  },
  {
   "cell_type": "markdown",
   "id": "d0732763-bca6-4083-b8ac-e1de5c215de0",
   "metadata": {},
   "source": [
    "In the cell below, the least square estimates for parameters ranging from 1 to 5 (or param_max) are calculated with each iteration of the for loop "
   ]
  },
  {
   "cell_type": "code",
   "execution_count": 29,
   "id": "2f0fe99d-3d1b-4b46-8258-0a6f850aac59",
   "metadata": {},
   "outputs": [
    {
     "data": {
      "text/html": [
       "<div>\n",
       "<style scoped>\n",
       "    .dataframe tbody tr th:only-of-type {\n",
       "        vertical-align: middle;\n",
       "    }\n",
       "\n",
       "    .dataframe tbody tr th {\n",
       "        vertical-align: top;\n",
       "    }\n",
       "\n",
       "    .dataframe thead th {\n",
       "        text-align: right;\n",
       "    }\n",
       "</style>\n",
       "<table border=\"1\" class=\"dataframe\">\n",
       "  <thead>\n",
       "    <tr style=\"text-align: right;\">\n",
       "      <th></th>\n",
       "      <th>Theta1</th>\n",
       "      <th>Theta2</th>\n",
       "      <th>Theta3</th>\n",
       "      <th>Theta4</th>\n",
       "      <th>Theta5</th>\n",
       "      <th>Loss</th>\n",
       "    </tr>\n",
       "  </thead>\n",
       "  <tbody>\n",
       "    <tr>\n",
       "      <th>1</th>\n",
       "      <td>51.435013</td>\n",
       "      <td>0.000000</td>\n",
       "      <td>0.000000</td>\n",
       "      <td>0.000000</td>\n",
       "      <td>0.000000</td>\n",
       "      <td>24103.092840</td>\n",
       "    </tr>\n",
       "    <tr>\n",
       "      <th>2</th>\n",
       "      <td>-31.106229</td>\n",
       "      <td>11.791606</td>\n",
       "      <td>0.000000</td>\n",
       "      <td>0.000000</td>\n",
       "      <td>0.000000</td>\n",
       "      <td>4637.216740</td>\n",
       "    </tr>\n",
       "    <tr>\n",
       "      <th>3</th>\n",
       "      <td>11.150564</td>\n",
       "      <td>-7.711529</td>\n",
       "      <td>1.393081</td>\n",
       "      <td>0.000000</td>\n",
       "      <td>0.000000</td>\n",
       "      <td>634.251379</td>\n",
       "    </tr>\n",
       "    <tr>\n",
       "      <th>4</th>\n",
       "      <td>8.137128</td>\n",
       "      <td>-4.576673</td>\n",
       "      <td>0.813574</td>\n",
       "      <td>0.027596</td>\n",
       "      <td>0.000000</td>\n",
       "      <td>612.440363</td>\n",
       "    </tr>\n",
       "    <tr>\n",
       "      <th>5</th>\n",
       "      <td>4.234310</td>\n",
       "      <td>3.497340</td>\n",
       "      <td>-1.992023</td>\n",
       "      <td>0.346007</td>\n",
       "      <td>-0.011372</td>\n",
       "      <td>563.290183</td>\n",
       "    </tr>\n",
       "  </tbody>\n",
       "</table>\n",
       "</div>"
      ],
      "text/plain": [
       "      Theta1     Theta2    Theta3    Theta4    Theta5          Loss\n",
       "1  51.435013   0.000000  0.000000  0.000000  0.000000  24103.092840\n",
       "2 -31.106229  11.791606  0.000000  0.000000  0.000000   4637.216740\n",
       "3  11.150564  -7.711529  1.393081  0.000000  0.000000    634.251379\n",
       "4   8.137128  -4.576673  0.813574  0.027596  0.000000    612.440363\n",
       "5   4.234310   3.497340 -1.992023  0.346007 -0.011372    563.290183"
      ]
     },
     "execution_count": 29,
     "metadata": {},
     "output_type": "execute_result"
    }
   ],
   "source": [
    "import pandas as pd\n",
    "from numpy.linalg import inv\n",
    "\n",
    "theta_hat = [] # list for storing theta_hat\n",
    "loss = [] # list for storing the loss functions\n",
    "for i in range(0,param_max):\n",
    "    phi_temp = phi[:, 0:i+1] # the \"phi\" look-up table is sliced as required for each iteration\n",
    "    theta_temp = inv(phi_temp.T@phi_temp)@phi_temp.T@y # temporary storage of theta_hat estimate\n",
    "    err = (y - phi_temp@theta_temp) # difference between measured output and estimated output\n",
    "    theta_hat.append(np.append(theta_temp, [0]*(param_max - i - 1))) # estimated theta_hat for each \n",
    "                                                                     # iteration are stored here\n",
    "    loss.append(err@err/2) # Loss function for each iteration are stored here\n",
    "\n",
    "# Theta_hats for parameter counts ranging from one to 5 (or value of \"param_max\") are \n",
    "# packaged into a dataframe for presentation in table format\n",
    "df = pd.DataFrame(np.vstack(theta_hat),\n",
    "                  index=[i for i in range(1,param_max+1)],\n",
    "                  columns=[f'Theta{i}' for i in range(1,param_max+1)])\n",
    "df['Loss'] = loss # Loss column is added on far right side of table\n",
    "df"
   ]
  },
  {
   "cell_type": "markdown",
   "id": "9a655caa-6fb5-42ee-9e01-56a691ab8431",
   "metadata": {},
   "source": [
    "When observing the data in the table above, one can see that the loss function seems to stabilise around 3 parameters with relativley small differences for 4 parameters and up. Although the loss function seems to plateau, the value at which it levels out is still quite high. This is due to the large value of sigma (i.e. sigma = 11). \n",
    "The code in the cell below extracts the row coeresponding to 3 parameters (third row) and is post matrix multiplied by the \"phi\" look-up table. The row was padded with zeros for parameters 4 and 5 and therfore, can be directly multiplied by the entire look-up table when calculating the estimated y_hat vector."
   ]
  },
  {
   "cell_type": "code",
   "execution_count": 38,
   "id": "70cb6baf-1716-4ac2-bf3b-9920baa79497",
   "metadata": {},
   "outputs": [
    {
     "data": {
      "text/plain": [
       "<matplotlib.legend.Legend at 0x15d306fa6d0>"
      ]
     },
     "execution_count": 38,
     "metadata": {},
     "output_type": "execute_result"
    },
    {
     "data": {
      "image/png": "[encoded data removed]",
      "text/plain": [
       "<Figure size 432x288 with 1 Axes>"
      ]
     },
     "metadata": {
      "needs_background": "light"
     },
     "output_type": "display_data"
    }
   ],
   "source": [
    "import matplotlib.pyplot as mpl\n",
    "num_param_best = 3 # number of parameters to be used\n",
    "\n",
    "theta_hat_true = df.loc[num_param_best, df.columns != 'Loss'] # extraction of row with 3 parameters excluding the \"loss\" column\n",
    "y_hat = phi@theta_hat_true # calculation of estimated y_hat vector\n",
    "\n",
    "mpl.scatter((t - 1), y) # plot measured output y\n",
    "mpl.plot((t - 1), y_hat, 'r') # plot estimated output y_hat\n",
    "mpl.xlabel('t')\n",
    "mpl.ylabel('y_hat')\n",
    "mpl.title('y_hat vs. t')\n",
    "mpl.legend(labels=['y_hat', 'y'])"
   ]
  },
  {
   "cell_type": "markdown",
   "id": "504af915-0f9a-4e03-b98e-a7e5a8a88ebd",
   "metadata": {},
   "source": [
    "Clearly, when analysing the graph above (y_hat vs. t), one can see that the curve representing the estimated outputs \"y_hat\" folows the trend of the measured values very closely."
   ]
  },
  {
   "cell_type": "code",
   "execution_count": 42,
   "id": "6e97f7da-ab04-42ba-ad3c-0329e95655fd",
   "metadata": {},
   "outputs": [
    {
     "data": {
      "text/html": [
       "<div>\n",
       "<style scoped>\n",
       "    .dataframe tbody tr th:only-of-type {\n",
       "        vertical-align: middle;\n",
       "    }\n",
       "\n",
       "    .dataframe tbody tr th {\n",
       "        vertical-align: top;\n",
       "    }\n",
       "\n",
       "    .dataframe thead th {\n",
       "        text-align: right;\n",
       "    }\n",
       "</style>\n",
       "<table border=\"1\" class=\"dataframe\">\n",
       "  <thead>\n",
       "    <tr style=\"text-align: right;\">\n",
       "      <th></th>\n",
       "      <th>Sigma</th>\n",
       "    </tr>\n",
       "  </thead>\n",
       "  <tbody>\n",
       "    <tr>\n",
       "      <th>1</th>\n",
       "      <td>58.679630</td>\n",
       "    </tr>\n",
       "    <tr>\n",
       "      <th>2</th>\n",
       "      <td>26.709885</td>\n",
       "    </tr>\n",
       "    <tr>\n",
       "      <th>3</th>\n",
       "      <td>10.281467</td>\n",
       "    </tr>\n",
       "    <tr>\n",
       "      <th>4</th>\n",
       "      <td>10.552383</td>\n",
       "    </tr>\n",
       "    <tr>\n",
       "      <th>5</th>\n",
       "      <td>10.614049</td>\n",
       "    </tr>\n",
       "  </tbody>\n",
       "</table>\n",
       "</div>"
      ],
      "text/plain": [
       "       Sigma\n",
       "1  58.679630\n",
       "2  26.709885\n",
       "3  10.281467\n",
       "4  10.552383\n",
       "5  10.614049"
      ]
     },
     "execution_count": 42,
     "metadata": {},
     "output_type": "execute_result"
    }
   ],
   "source": [
    "num_param_best = 3\n",
    "sigma = np.sqrt(2*df['Loss']/(np.array([15]*param_max) - df.index))\n",
    "pd.DataFrame(sigma, columns=['Sigma'])"
   ]
  },
  {
   "cell_type": "markdown",
   "id": "92373bb2-46a5-4aa1-94dc-1087529ec0b1",
   "metadata": {},
   "source": [
    "# Don't foget to talk here!!!!!!!!!!!!!!!!!!!!!!!!!!!!!!!!!!!!!!"
   ]
  },
  {
   "cell_type": "markdown",
   "id": "f3feebff-cc80-4809-bcf8-a8131eba91d6",
   "metadata": {},
   "source": [
    "# Q.2"
   ]
  },
  {
   "cell_type": "markdown",
   "id": "5ded4469-d068-4b29-99ff-52d49e82f031",
   "metadata": {},
   "source": []
  },
  {
   "cell_type": "code",
   "execution_count": 75,
   "id": "0b150723-b077-474b-97da-78b23424864d",
   "metadata": {},
   "outputs": [],
   "source": [
    "import numpy as np\n",
    "import pandas as pd\n",
    "from math import cos, sin, pi\n",
    "import scipy as spy\n",
    "from numpy.linalg import inv\n",
    "from scipy.signal import unit_impulse \n",
    "import matplotlib.pyplot as mpl\n",
    "\n",
    "sample_depth = 3000\n",
    "\n",
    "a1 = 1.3\n",
    "a2 = 0.75\n",
    "b0 = 1.1\n",
    "b1 = -0.35\n",
    "\n",
    "theta0 = np.array([a1, a2, b0, b1])\n",
    "p =100*np.identity(4) # starting P matrix\n",
    "\n",
    "t = [i for i in range(sample_depth)]\n",
    "u_t1 = unit_impulse(sample_depth, 100) # Creating impulse delta(t - 100)\n",
    "u_t2 = np.zeros(sample_depth) # Creating unit step unit(t - 100)\n",
    "u_t2[np.where(np.arange(0,sample_depth) >= 100)] = 1\n",
    "u_t3 = np.array([sin(2*pi*t[i]/5) + cos(4*pi*t[i]/5) for i in t])\n",
    "\n",
    "u_t = np.stack([u_t1, u_t2, u_t3]) # impulse = u_t[0], step = u_t[1]\n",
    "\n",
    "sigma = 0.65\n",
    "y0 = np.random.normal(0, sigma)\n",
    "y = [[y0] for i in range(len(u_t))]\n",
    "\n",
    "theta_hat0 = np.reshape(np.array([0]*4), (-1,1))\n",
    "theta_hat = [[theta_hat0] for i in range(len(u_t))]"
   ]
  },
  {
   "cell_type": "code",
   "execution_count": 76,
   "id": "b04043a0-f244-4776-8a32-ad509a1bc3d4",
   "metadata": {},
   "outputs": [],
   "source": [
    "for j in range(len(u_t)):\n",
    "    p =100*np.identity(4) # starting P matrix\n",
    "    for i in range(1,sample_depth):\n",
    "        if (i == 1): # accounts for the lack of t-2 data on first iteration\n",
    "            phi = np.array([-y[j][i-1], 0, u_t[j][i-1], 0])\n",
    "        else:\n",
    "            phi = np.array([-y[j][i-1], -y[j][i-2], u_t[j][i-1], u_t[j][i-2]])\n",
    "            \n",
    "        phi = np.asarray(phi).reshape(-1,1) # changes phi's dimensions from (4,) to [4,1] enabling transpose operations\n",
    "        y[j].append(np.reshape(phi.T@theta0 + np.random.normal(0, sigma), ()))\n",
    "        # y[j].append(np.reshape(phi.T@theta0 + np.array(noise[i]), ()))\n",
    "        p = inv(inv(p) + phi*phi.T)\n",
    "        k = p@phi\n",
    "        theta_hat[j].append(theta_hat[j][i-1] + k*(y[j][i] - phi.T@theta_hat[j][i-1]))\n",
    "\n",
    "df_lst = [pd.DataFrame(np.asarray(theta_hat[i]).reshape(-1,4,), \n",
    "                   columns=['a1', 'a2', 'b0', 'b1']) for i in range(len(u_t))]"
   ]
  },
  {
   "cell_type": "code",
   "execution_count": 77,
   "id": "bd033bdc-a40c-4b32-8368-d27f63cdda1a",
   "metadata": {},
   "outputs": [
    {
     "data": {
      "image/png": "[encoded data removed]",
      "text/plain": [
       "<Figure size 432x288 with 1 Axes>"
      ]
     },
     "metadata": {
      "needs_background": "light"
     },
     "output_type": "display_data"
    },
    {
     "data": {
      "image/png": "[encoded data removed]",
      "text/plain": [
       "<Figure size 432x288 with 1 Axes>"
      ]
     },
     "metadata": {
      "needs_background": "light"
     },
     "output_type": "display_data"
    }
   ],
   "source": [
    "import matplotlib.pyplot as mpl\n",
    "import seaborn as sns\n",
    "\n",
    "def theta_hat_ploter(df, title, line_width=0.8):\n",
    "    graph = sns.lineplot(data=df, dashes=False)\n",
    "\n",
    "    graph.axhline(y=a1, color='black', linestyle='--', linewidth=line_width, label='a1')\n",
    "    graph.axhline(y=a2, color='black', linestyle='--', linewidth=line_width, label='a2')\n",
    "    graph.axhline(y=b0, color='black', linestyle='--', linewidth=line_width, label='b0')\n",
    "    graph.axhline(y=b1, color='black', linestyle='--', linewidth=line_width, label='b1')\n",
    "\n",
    "    mpl.title(title)\n",
    "    mpl.legend(bbox_to_anchor=(1.05, 1), loc=2, borderaxespad=0, labels=df_lst[2].columns)\n",
    "    mpl.show()\n",
    "    \n",
    "theta_hat_ploter(df_lst[0], 'Theta_hat Estimates for Impulse Input')\n",
    "theta_hat_ploter(df_lst[1], 'Theta_hat Estimates for Step Input')"
   ]
  },
  {
   "cell_type": "code",
   "execution_count": 78,
   "id": "8ea4e640-bf47-49ed-a894-5141dc804ed0",
   "metadata": {},
   "outputs": [
    {
     "data": {
      "image/png": "[encoded data removed]",
      "text/plain": [
       "<Figure size 432x288 with 1 Axes>"
      ]
     },
     "metadata": {
      "needs_background": "light"
     },
     "output_type": "display_data"
    }
   ],
   "source": [
    "theta_hat_ploter(df_lst[2], 'Theta_hat Estimates for Dual Frequency Sinuziodal Input')"
   ]
  },
  {
   "cell_type": "code",
   "execution_count": null,
   "id": "8cc98f31-bb1d-4165-9b1c-ce7f817a4337",
   "metadata": {},
   "outputs": [],
   "source": []
  }
 ],
 "metadata": {
  "kernelspec": {
   "display_name": "Python 3 (ipykernel)",
   "language": "python",
   "name": "python3"
  },
  "language_info": {
   "codemirror_mode": {
    "name": "ipython",
    "version": 3
   },
   "file_extension": ".py",
   "mimetype": "text/x-python",
   "name": "python",
   "nbconvert_exporter": "python",
   "pygments_lexer": "ipython3",
   "version": "3.9.2"
  }
 },
 "nbformat": 4,
 "nbformat_minor": 5
}
