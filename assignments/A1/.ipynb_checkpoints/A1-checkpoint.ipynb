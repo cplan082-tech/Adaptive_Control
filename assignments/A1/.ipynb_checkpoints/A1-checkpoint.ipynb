{
 "cells": [
  {
   "cell_type": "code",
   "execution_count": 65,
   "id": "7fb05cd3-f5f3-420e-b481-85e2a0d296de",
   "metadata": {},
   "outputs": [
    {
     "name": "stdout",
     "output_type": "stream",
     "text": [
      "[[1.0000e+00 1.0000e+00 1.0000e+00 1.0000e+00 1.0000e+00]\n",
      " [1.0000e+00 2.0000e+00 4.0000e+00 8.0000e+00 1.6000e+01]\n",
      " [1.0000e+00 3.0000e+00 9.0000e+00 2.7000e+01 8.1000e+01]\n",
      " [1.0000e+00 4.0000e+00 1.6000e+01 6.4000e+01 2.5600e+02]\n",
      " [1.0000e+00 5.0000e+00 2.5000e+01 1.2500e+02 6.2500e+02]\n",
      " [1.0000e+00 6.0000e+00 3.6000e+01 2.1600e+02 1.2960e+03]\n",
      " [1.0000e+00 7.0000e+00 4.9000e+01 3.4300e+02 2.4010e+03]\n",
      " [1.0000e+00 8.0000e+00 6.4000e+01 5.1200e+02 4.0960e+03]\n",
      " [1.0000e+00 9.0000e+00 8.1000e+01 7.2900e+02 6.5610e+03]\n",
      " [1.0000e+00 1.0000e+01 1.0000e+02 1.0000e+03 1.0000e+04]\n",
      " [1.0000e+00 1.1000e+01 1.2100e+02 1.3310e+03 1.4641e+04]\n",
      " [1.0000e+00 1.2000e+01 1.4400e+02 1.7280e+03 2.0736e+04]\n",
      " [1.0000e+00 1.3000e+01 1.6900e+02 2.1970e+03 2.8561e+04]\n",
      " [1.0000e+00 1.4000e+01 1.9600e+02 2.7440e+03 3.8416e+04]\n",
      " [1.0000e+00 1.5000e+01 2.2500e+02 3.3750e+03 5.0625e+04]]\n"
     ]
    }
   ],
   "source": [
    "import numpy as np\n",
    "param_max = 5 # Largest number of parameters\n",
    "\n",
    "data = np.loadtxt('dataHw1.dat')\n",
    "t = data[:,0].copy()\n",
    "y = data[:,1].copy()\n",
    "phi = np.stack([t**n for n in range(0,param_max)], axis=1)\n",
    "# print(y)\n",
    "print(phi)"
   ]
  },
  {
   "cell_type": "code",
   "execution_count": 66,
   "id": "2f0fe99d-3d1b-4b46-8258-0a6f850aac59",
   "metadata": {},
   "outputs": [
    {
     "name": "stdout",
     "output_type": "stream",
     "text": [
      "      Theta1     Theta2    Theta3    Theta4    Theta5          Loss\n",
      "1  51.435013   0.000000  0.000000  0.000000  0.000000  24103.092840\n",
      "2 -42.897835  11.791606  0.000000  0.000000  0.000000   4637.216740\n",
      "3  20.255174 -10.497691  1.393081  0.000000  0.000000    634.251379\n",
      "4  13.499779  -6.121034  0.730787  0.027596  0.000000    612.440363\n",
      "5  -1.612432   8.564895 -3.098276  0.391495 -0.011372    563.290183\n"
     ]
    }
   ],
   "source": [
    "import pprint\n",
    "import pandas as pd\n",
    "from numpy.linalg import inv\n",
    "pp = pprint.PrettyPrinter(indent=4)\n",
    "\n",
    "theta_hat = []\n",
    "loss = []\n",
    "for i in range(0,param_max):\n",
    "    phi_temp = phi[:, 0:i+1]\n",
    "    theta_temp = inv(phi_temp.T@phi_temp)@phi_temp.T@y\n",
    "    err = (y - phi_temp@theta_temp)\n",
    "    theta_hat.append(np.append(theta_temp, [0]*(param_max - i - 1)))\n",
    "    loss.append(err@err/2)\n",
    "    \n",
    "df = pd.DataFrame(np.vstack(theta_hat),\n",
    "                  index=[i for i in range(1,param_max+1)],\n",
    "                  columns=[f'Theta{i}' for i in range(1,param_max+1)])\n",
    "df['Loss'] = loss\n",
    "pp.pprint(df) "
   ]
  },
  {
   "cell_type": "code",
   "execution_count": 69,
   "id": "6e97f7da-ab04-42ba-ad3c-0329e95655fd",
   "metadata": {},
   "outputs": [
    {
     "name": "stdout",
     "output_type": "stream",
     "text": [
      "            1           2          3         4         5\n",
      "1  503.703297 -379.929792  84.967949 -7.286325  0.211538\n",
      "2 -379.929792  326.554706 -77.728438  6.913299 -0.205571\n",
      "3   84.967949  -77.728438  19.293457 -1.765853  0.053599\n",
      "4   -7.286325    6.913299  -1.765853  0.165114 -0.005094\n",
      "5    0.211538   -0.205571   0.053599 -0.005094  0.000159\n"
     ]
    }
   ],
   "source": [
    "true_num_param = 5\n",
    "# sigma = 2*loss[true_num_param - 1]/(15 - true_num_param)\n",
    "sigma = 11\n",
    "phi_true = phi[:, 0:true_num_param]\n",
    "cov = pd.DataFrame((sigma**2)*inv(phi_true.T@phi_true), \n",
    "                   index=[i for i in range(1,true_num_param+1)], \n",
    "                   columns=[i for i in range(1,true_num_param+1)])\n",
    "pp.pprint(cov)"
   ]
  },
  {
   "cell_type": "code",
   "execution_count": null,
   "id": "0b150723-b077-474b-97da-78b23424864d",
   "metadata": {},
   "outputs": [],
   "source": []
  }
 ],
 "metadata": {
  "kernelspec": {
   "display_name": "Python 3 (ipykernel)",
   "language": "python",
   "name": "python3"
  },
  "language_info": {
   "codemirror_mode": {
    "name": "ipython",
    "version": 3
   },
   "file_extension": ".py",
   "mimetype": "text/x-python",
   "name": "python",
   "nbconvert_exporter": "python",
   "pygments_lexer": "ipython3",
   "version": "3.9.2"
  }
 },
 "nbformat": 4,
 "nbformat_minor": 5
}
