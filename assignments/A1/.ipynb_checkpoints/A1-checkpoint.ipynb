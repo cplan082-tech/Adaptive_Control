{
 "cells": [
  {
   "cell_type": "code",
   "execution_count": null,
   "id": "7fb05cd3-f5f3-420e-b481-85e2a0d296de",
   "metadata": {},
   "outputs": [],
   "source": [
    "import numpy as np\n",
    "param_max = 5 # Largest number of parameters\n",
    "\n",
    "data = np.loadtxt('dataHw1.dat')\n",
    "t = data[:,0].copy()\n",
    "y = data[:,1].copy()\n",
    "phi = np.stack([(t - 1)**n for n in range(0,param_max)], axis=1)\n",
    "# print(y)\n",
    "print(phi)"
   ]
  },
  {
   "cell_type": "code",
   "execution_count": null,
   "id": "2f0fe99d-3d1b-4b46-8258-0a6f850aac59",
   "metadata": {},
   "outputs": [],
   "source": [
    "import pprint\n",
    "import pandas as pd\n",
    "from numpy.linalg import inv\n",
    "\n",
    "theta_hat = []\n",
    "loss = []\n",
    "for i in range(0,param_max):\n",
    "    phi_temp = phi[:, 0:i+1]\n",
    "    theta_temp = inv(phi_temp.T@phi_temp)@phi_temp.T@y\n",
    "    err = (y - phi_temp@theta_temp)\n",
    "    theta_hat.append(np.append(theta_temp, [0]*(param_max - i - 1)))\n",
    "    loss.append(err@err/2)\n",
    "    \n",
    "df = pd.DataFrame(np.vstack(theta_hat),\n",
    "                  index=[i for i in range(1,param_max+1)],\n",
    "                  columns=[f'Theta{i}' for i in range(1,param_max+1)])\n",
    "df['Loss'] = loss\n",
    "df"
   ]
  },
  {
   "cell_type": "code",
   "execution_count": null,
   "id": "70cb6baf-1716-4ac2-bf3b-9920baa79497",
   "metadata": {},
   "outputs": [],
   "source": [
    "import matplotlib.pyplot as mpl\n",
    "num_param_best = 3\n",
    "\n",
    "theta_hat_true = df.loc[num_param_best, df.columns != 'Loss']\n",
    "y_hat = phi@theta_hat_true\n",
    "\n",
    "mpl.scatter((t - 1), y)\n",
    "mpl.plot((t - 1), y_hat)\n",
    "mpl.xlabel('t')\n",
    "mpl.ylabel('y_hat')\n",
    "mpl.title('y_hat vs. t')"
   ]
  },
  {
   "cell_type": "code",
   "execution_count": null,
   "id": "6e97f7da-ab04-42ba-ad3c-0329e95655fd",
   "metadata": {},
   "outputs": [],
   "source": [
    "num_param_best = 3\n",
    "sigma = np.sqrt(2*df['Loss']/(np.array([15]*param_max) - df.index))\n",
    "sigma\n",
    "\n",
    "# sigma = 11\n",
    "# phi_true = phi[:, 0:num_param_best]\n",
    "# cov = pd.DataFrame((sigma**2)*inv(phi_true.T@phi_true), \n",
    "#                    index=[i for i in range(1,num_param_best+1)], \n",
    "#                    columns=[i for i in range(1,num_param_best+1)])\n",
    "# pp.pprint(cov)"
   ]
  },
  {
   "cell_type": "code",
   "execution_count": 1,
   "id": "0b150723-b077-474b-97da-78b23424864d",
   "metadata": {},
   "outputs": [],
   "source": [
    "import numpy as np\n",
    "import scipy as spy\n",
    "from numpy.linalg import inv\n",
    "from scipy.signal import unit_impulse \n",
    "sample_depth = 200\n",
    "\n",
    "a1 = 1.3\n",
    "a2 = 0.75\n",
    "b0 = 1.1\n",
    "b1 = -0.35\n",
    "\n",
    "theta0 = np.array([a1, a2, b0, b1])\n",
    "p = 100*np.identity(4) # starting P matrix\n",
    "\n",
    "sigma = 0.65\n",
    "y0 = np.random.normal(0, sigma)\n",
    "y = [[y0],[y0]] # first elements in y vector\n",
    "# y = [[np.random.normal(0, sigma)],[np.random.normal(0, sigma)]]\n",
    "\n",
    "u_t1 = unit_impulse(sample_depth, 100) # Creating impulse delta(t - 100)\n",
    "u_t2 = np.zeros(sample_depth) # Creating unit step unit(t - 100)\n",
    "u_t2[np.where(np.arange(0,sample_depth) >= 100)] = 1\n",
    "u_t = np.stack([u_t1, u_t2]) # impulse = u_t[0], step = u_t[1]\n",
    "\n",
    "theta_hat0 = np.array([0]*4)\n",
    "theta_hat = [[theta_hat0], [theta_hat0]]"
   ]
  },
  {
   "cell_type": "code",
   "execution_count": 57,
   "id": "b04043a0-f244-4776-8a32-ad509a1bc3d4",
   "metadata": {},
   "outputs": [
    {
     "name": "stdout",
     "output_type": "stream",
     "text": [
      "[0.08623647 0.         0.         0.        ]\n",
      "[0 0 0 0]\n"
     ]
    },
    {
     "data": {
      "text/plain": [
       "0.0"
      ]
     },
     "execution_count": 57,
     "metadata": {},
     "output_type": "execute_result"
    }
   ],
   "source": [
    "# theta_hat[0].append(np.array([1]*4))\n",
    "# print(theta_hat[0])\n",
    "phi = np.array([-y[0][0], 0, u_t[0][0], 0])\n",
    "print(phi)\n",
    "print(theta_hat[0][0])\n",
    "phi@theta_hat[0][0]\n",
    "# y[0].append(1)\n",
    "# print(y)"
   ]
  },
  {
   "cell_type": "code",
   "execution_count": 2,
   "id": "4d6561c5-19f6-47cc-b47a-e2610139e788",
   "metadata": {},
   "outputs": [
    {
     "name": "stderr",
     "output_type": "stream",
     "text": [
      "C:\\Users\\clive\\AppData\\Local\\Temp\\ipykernel_26556\\421046482.py:9: RuntimeWarning: overflow encountered in multiply\n",
      "  theta_hat[j].append(theta_hat[j][i-1] + k*(y[j][i] - phi.T@theta_hat[j][i-1]))\n",
      "C:\\Users\\clive\\AppData\\Local\\Temp\\ipykernel_26556\\421046482.py:9: RuntimeWarning: invalid value encountered in add\n",
      "  theta_hat[j].append(theta_hat[j][i-1] + k*(y[j][i] - phi.T@theta_hat[j][i-1]))\n",
      "C:\\Users\\clive\\AppData\\Local\\Temp\\ipykernel_26556\\421046482.py:9: RuntimeWarning: invalid value encountered in matmul\n",
      "  theta_hat[j].append(theta_hat[j][i-1] + k*(y[j][i] - phi.T@theta_hat[j][i-1]))\n"
     ]
    }
   ],
   "source": [
    "for j in [0, 1]:\n",
    "    for i in range(1,sample_depth):\n",
    "        if (i == 1): # accounts for the lack of t-2 data on first iteration\n",
    "            phi = np.array([-y[j][i-1], 0, u_t[j][i-1], 0])\n",
    "        phi = np.array([-y[j][i-1], -y[j][i-2], u_t[j][i-1], u_t[j][i-2]])\n",
    "        y[j].append(phi.T@theta0 + np.random.normal(0, sigma))\n",
    "        p = inv(inv(p) + phi@phi.T)\n",
    "        k = p@phi\n",
    "        theta_hat[j].append(theta_hat[j][i-1] + k*(y[j][i] - phi.T@theta_hat[j][i-1]))\n",
    "\n",
    "        "
   ]
  },
  {
   "cell_type": "code",
   "execution_count": 30,
   "id": "9e17cd94-8af8-4f07-aee7-fc6719c057df",
   "metadata": {},
   "outputs": [
    {
     "name": "stdout",
     "output_type": "stream",
     "text": [
      "-1.6328107022469498 -0.45439742617192713\n"
     ]
    }
   ],
   "source": [
    "y[0] is y[1]\n",
    "print(y[0][-1], y[1][-1])"
   ]
  },
  {
   "cell_type": "code",
   "execution_count": null,
   "id": "9bc3d9d1-cb5d-4896-9525-89eff0aaa00f",
   "metadata": {},
   "outputs": [],
   "source": []
  },
  {
   "cell_type": "code",
   "execution_count": null,
   "id": "ca56c60c-d107-4fd5-8fc5-76c60548793a",
   "metadata": {},
   "outputs": [],
   "source": []
  }
 ],
 "metadata": {
  "kernelspec": {
   "display_name": "Python 3 (ipykernel)",
   "language": "python",
   "name": "python3"
  },
  "language_info": {
   "codemirror_mode": {
    "name": "ipython",
    "version": 3
   },
   "file_extension": ".py",
   "mimetype": "text/x-python",
   "name": "python",
   "nbconvert_exporter": "python",
   "pygments_lexer": "ipython3",
   "version": "3.9.2"
  }
 },
 "nbformat": 4,
 "nbformat_minor": 5
}
