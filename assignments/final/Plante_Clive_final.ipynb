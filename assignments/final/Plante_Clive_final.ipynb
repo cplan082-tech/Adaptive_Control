{
 "cells": [
  {
   "cell_type": "code",
   "execution_count": 1,
   "id": "e24cc9e1",
   "metadata": {},
   "outputs": [],
   "source": [
    "import numpy as np\n",
    "import sympy as sp\n",
    "import pandas as pd\n",
    "import math as m\n",
    "from sympy import collect, simplify, expand, fraction, latex, diff, cancel, nsimplify\n",
    "from IPython.display import display, Markdown, Math\n",
    "from scipy.integrate import odeint\n",
    "import matplotlib.pyplot as plt\n",
    "plt.rcParams['figure.figsize'] = [20, 10]"
   ]
  },
  {
   "cell_type": "code",
   "execution_count": 2,
   "id": "995c7043",
   "metadata": {},
   "outputs": [],
   "source": [
    "theta, theta_d, I, E_bar, w, w_dot = sp.symbols(\"\\\\theta \\\\theta_d I \\\\bar{E} \\omega \\dot{\\omega}\")\n",
    "e_theta, e_w, e_I = sp.symbols(\"e_{\\\\theta} e_{\\omega} e_{I} \")\n",
    "# e_theta_k, e_w_k, e_I_k = sp.symbols(\"e_{\\\\theta_{k}} e_{\\omega_{k}} e_{I_{k}}\")\n",
    "e_theta_dot, e_omega_dot, e_I_dot = sp.symbols(\"\\dot{e_{\\\\theta}} \\dot{e_{\\omega}} \\dot{e_{I}}\")\n",
    "J, D, M, g, L, N1, N2, Kt = sp.symbols(\"J D M g L N_1 N_2 K_t\") \n",
    "La, Ra, Kb, u = sp.symbols(\"L_a R_a K_b u\")\n",
    "Ja, Da, DL = sp.symbols(\"J_a D_a D_L\")\n",
    "delta = sp.Symbol(\"\\Delta\")"
   ]
  },
  {
   "cell_type": "markdown",
   "id": "2adbca34",
   "metadata": {},
   "source": [
    "# Problem 1"
   ]
  },
  {
   "cell_type": "markdown",
   "id": "52119c85",
   "metadata": {},
   "source": [
    "## part 1"
   ]
  },
  {
   "cell_type": "code",
   "execution_count": 23,
   "id": "39fc69bc",
   "metadata": {},
   "outputs": [],
   "source": [
    "Ts = 0.01\n",
    "J_eq = Ja + (N1/N2)**2*M*L**2\n",
    "D_eq = Da + (N1/N2)**2*DL\n",
    "\n",
    "lst_subs = [(M,5), (L,1), (DL,1), (N1,15), (N2,45), (Ja,2), (Da,0.1), (Ra,10), (La,0.1), \n",
    "            (Kt,11), (Kb,6.36), (theta_d, np.pi/6), (delta, Ts), (g,9.8)]\n",
    "\n",
    "# eq 3a\n",
    "org_3a = w\n",
    "dot_e_theta = e_w\n",
    "e_theta_k_1 = e_theta + delta*dot_e_theta\n",
    "e_theta_k_1_subd = e_theta_k_1.subs(lst_subs)\n",
    "e_theta_k_1_func = sp.lambdify([e_theta, e_w], e_theta_k_1_subd)\n",
    "\n",
    "# eq 3b\n",
    "org_3b = sp.Eq(J*w_dot + D*w + M*g*L*N1/N2*(sp.sin(N1/N2*(e_theta + theta_d)) - sp.sin(N1/N2*theta_d)), Kt*e_I)\n",
    "dot_e_w = sp.solve(org_3b, w_dot)[0].subs(w, e_w)\n",
    "e_w_k_1 = e_w + delta*dot_e_w\n",
    "e_w_k_1_subd = e_w_k_1.subs(lst_subs)\n",
    "e_w_k_1_func = sp.lambdify([e_theta, e_w, e_I, D, J], e_w_k_1_subd)\n",
    "\n",
    "# eq 3c\n",
    "org_3c = sp.Eq(La*e_I_dot + Ra*e_I + Kb*w, u)\n",
    "dot_e_I = sp.solve(org_3c, e_I_dot)[0].subs(w, e_w)\n",
    "e_I_k_1 = e_I+ delta*dot_e_I\n",
    "e_I_k_1_subd = e_I_k_1.subs(lst_subs)\n",
    "e_I_k_1_func = sp.lambdify([e_w, u], e_I_k_1_subd)\n",
    "e_I_k_1_coeffs = sp.Poly(e_I_k_1, u).coeffs()\n",
    "\n",
    "g_xk = sp.Matrix([[0], [0], [e_I_k_1_coeffs[0]]])\n",
    "f_xk = sp.Matrix([[e_theta_k_1], [e_w_k_1], [e_I_k_1_coeffs[1]]])"
   ]
  },
  {
   "cell_type": "markdown",
   "id": "9c56e236",
   "metadata": {
    "variables": {
     "e_I_k_1": "$\\displaystyle e_{I} + \\frac{\\Delta \\left(- K_{b} e_{\\omega} - R_{a} e_{I} + u\\right)}{L_{a}}$",
     "e_theta_k_1": "$\\displaystyle \\Delta e_{\\omega} + e_{\\theta}$",
     "e_w_k_1": "$\\displaystyle e_{\\omega} + \\frac{\\Delta \\left(L M N_{1} g \\left(\\sin{\\left(\\frac{N_{1} \\theta_{d}}{N_{2}} \\right)} - \\sin{\\left(\\frac{N_{1} \\left(\\theta_{d} + e_{\\theta}\\right)}{N_{2}} \\right)}\\right) + N_{2} \\left(- D e_{\\omega} + K_{t} e_{I}\\right)\\right)}{J N_{2}}$",
     "e_w_k_1_subd": "$\\displaystyle e_{\\omega} + \\frac{0.000222222222222222 \\left(- 45 D e_{\\omega} + 495 e_{I} - 735.0 \\sin{\\left(\\frac{e_{\\theta}}{3} + 0.174532925199433 \\right)} + 127.631410585194\\right)}{J}$",
     "f_xk": "$\\displaystyle \\left[\\begin{matrix}\\Delta e_{\\omega} + e_{\\theta}\\\\e_{\\omega} + \\frac{\\Delta \\left(L M N_{1} g \\left(\\sin{\\left(\\frac{N_{1} \\theta_{d}}{N_{2}} \\right)} - \\sin{\\left(\\frac{N_{1} \\left(\\theta_{d} + e_{\\theta}\\right)}{N_{2}} \\right)}\\right) + N_{2} \\left(- D e_{\\omega} + K_{t} e_{I}\\right)\\right)}{J N_{2}}\\\\\\frac{- K_{b} \\Delta e_{\\omega} + L_{a} e_{I} - R_{a} \\Delta e_{I}}{L_{a}}\\end{matrix}\\right]$",
     "g_xk": "$\\displaystyle \\left[\\begin{matrix}0\\\\0\\\\\\frac{\\Delta}{L_{a}}\\end{matrix}\\right]$"
    }
   },
   "source": [
    "$e_{\\theta_{k+1}} = \\;${{e_theta_k_1}}\n",
    "\n",
    "$e_{\\omega_{k+1}} = \\;${{e_w_k_1}}$=${{e_w_k_1_subd}}\n",
    "\n",
    "$e_{I_{k+1}} = \\;${{e_I_k_1}}\n",
    "\n",
    "$f(\\cdot) =\\;$ {{f_xk}}\n",
    "\n",
    "$g(\\cdot) =\\;$ {{g_xk}}"
   ]
  },
  {
   "cell_type": "markdown",
   "id": "c3eff63a",
   "metadata": {},
   "source": [
    "## part 2"
   ]
  },
  {
   "cell_type": "code",
   "execution_count": null,
   "id": "72e736fa",
   "metadata": {},
   "outputs": [],
   "source": []
  }
 ],
 "metadata": {
  "kernelspec": {
   "display_name": "Python 3 (ipykernel)",
   "language": "python",
   "name": "python3"
  },
  "language_info": {
   "codemirror_mode": {
    "name": "ipython",
    "version": 3
   },
   "file_extension": ".py",
   "mimetype": "text/x-python",
   "name": "python",
   "nbconvert_exporter": "python",
   "pygments_lexer": "ipython3",
   "version": "3.9.2"
  }
 },
 "nbformat": 4,
 "nbformat_minor": 5
}
