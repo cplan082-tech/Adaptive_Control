{
 "cells": [
  {
   "cell_type": "code",
   "execution_count": 1,
   "id": "e24cc9e1",
   "metadata": {},
   "outputs": [],
   "source": [
    "import numpy as np\n",
    "from numpy.linalg import inv\n",
    "import sympy as sp\n",
    "import pandas as pd\n",
    "import math as m\n",
    "from sympy import collect, simplify, expand, fraction, latex, diff, cancel, nsimplify\n",
    "from IPython.display import display, Markdown, Math\n",
    "from scipy.integrate import odeint\n",
    "import matplotlib.pyplot as plt\n",
    "plt.rcParams['figure.figsize'] = [20, 10]"
   ]
  },
  {
   "cell_type": "code",
   "execution_count": 2,
   "id": "995c7043",
   "metadata": {},
   "outputs": [],
   "source": [
    "theta, theta_d, I, E_bar, w, w_dot = sp.symbols(\"\\\\theta \\\\theta_d I \\\\bar{E} \\omega \\dot{\\omega}\")\n",
    "e_theta, e_w, e_I = sp.symbols(\"e_{\\\\theta} e_{\\omega} e_{I} \")\n",
    "# e_theta_k, e_w_k, e_I_k = sp.symbols(\"e_{\\\\theta_{k}} e_{\\omega_{k}} e_{I_{k}}\")\n",
    "e_theta_dot, e_omega_dot, e_I_dot = sp.symbols(\"\\dot{e_{\\\\theta}} \\dot{e_{\\omega}} \\dot{e_{I}}\")\n",
    "J, D, M, g, L, N1, N2, Kt = sp.symbols(\"J D M g L N_1 N_2 K_t\") \n",
    "La, Ra, Kb, u = sp.symbols(\"L_a R_a K_b u\")\n",
    "Ja, Da, DL = sp.symbols(\"J_a D_a D_L\")\n",
    "delta = sp.Symbol(\"\\Delta\")"
   ]
  },
  {
   "cell_type": "code",
   "execution_count": null,
   "id": "881b10ef",
   "metadata": {},
   "outputs": [],
   "source": []
  },
  {
   "cell_type": "markdown",
   "id": "2adbca34",
   "metadata": {},
   "source": [
    "# Problem 1"
   ]
  },
  {
   "cell_type": "markdown",
   "id": "52119c85",
   "metadata": {},
   "source": [
    "## part 1"
   ]
  },
  {
   "cell_type": "code",
   "execution_count": 10,
   "id": "39fc69bc",
   "metadata": {},
   "outputs": [
    {
     "data": {
      "text/latex": [
       "$\\displaystyle \\left[\\begin{matrix}0.01 e_{\\omega} + e_{\\theta}\\\\0.0430434782608696 e_{I} + 0.999173913043478 e_{\\omega} - 0.0639130434782609 \\sin{\\left(\\frac{e_{\\theta}}{3} + 0.174532925199433 \\right)} + 0.0110983835291473\\\\- 0.636 e_{\\omega}\\end{matrix}\\right]$"
      ],
      "text/plain": [
       "Matrix([\n",
       "[                                                                                                           0.01*e_{\\omega} + e_{\\theta}],\n",
       "[0.0430434782608696*e_{I} + 0.999173913043478*e_{\\omega} - 0.0639130434782609*sin(e_{\\theta}/3 + 0.174532925199433) + 0.0110983835291473],\n",
       "[                                                                                                                      -0.636*e_{\\omega}]])"
      ]
     },
     "metadata": {},
     "output_type": "display_data"
    },
    {
     "data": {
      "text/plain": [
       "array([[ 1.02      ],\n",
       "       [ 2.10749484],\n",
       "       [-1.272     ]])"
      ]
     },
     "metadata": {},
     "output_type": "display_data"
    }
   ],
   "source": [
    "M_val = 5\n",
    "L_val = 1\n",
    "Ra_val = 10\n",
    "La_val = 0.1\n",
    "g_val = 9.8\n",
    "Kt_val = 11\n",
    "Kb_val = 6.36\n",
    "DL_val = 1\n",
    "Da_val = 0.1\n",
    "Ja_val = 2\n",
    "N1_val = 15\n",
    "N2_val = 45\n",
    "theta_d_val = np.pi/6\n",
    "Ts = 0.01\n",
    "\n",
    "J_val = Ja_val + (N1_val/N2_val)**2*M_val*L_val**2\n",
    "D_val = Da_val + (N1_val/N2_val)**2*DL_val\n",
    "E_bar = Ra_val*g_val*N1_val/(Kt_val*L_val*N2_val)*np.sin(N1_val/N2_val*theta_d_val)\n",
    "\n",
    "lst_subs = [(M,M_val), (L,L_val), (Ra,Ra_val), (La,La_val), (g,g_val), (Kt,Kt_val), (Kb,Kb_val), \n",
    "            (D,D_val), (J,J_val), (N1,N1_val), (N2,N2_val), \n",
    "            (theta_d, theta_d_val), (delta, Ts)]\n",
    "\n",
    "# eq 3a\n",
    "org_3a = w\n",
    "dot_e_theta = e_w\n",
    "e_theta_k_1 = e_theta + delta*dot_e_theta\n",
    "e_theta_k_1_subd = e_theta_k_1.subs(lst_subs)\n",
    "e_theta_k_1_func = sp.lambdify([e_theta, e_w], e_theta_k_1_subd)\n",
    "\n",
    "# eq 3b\n",
    "org_3b = sp.Eq(J*w_dot + D*w + M*g*L*N1/N2*(sp.sin(N1/N2*(e_theta + theta_d)) - sp.sin(N1/N2*theta_d)), Kt*e_I)\n",
    "dot_e_w = sp.solve(org_3b, w_dot)[0].subs(w, e_w)\n",
    "e_w_k_1 = e_w + delta*dot_e_w\n",
    "e_w_k_1_subd = e_w_k_1.subs(lst_subs)\n",
    "e_w_k_1_func = sp.lambdify([e_theta, e_w, e_I, D, J], e_w_k_1_subd)\n",
    "\n",
    "# eq 3c\n",
    "org_3c = sp.Eq(La*e_I_dot + Ra*e_I + Kb*w, u)\n",
    "dot_e_I = sp.solve(org_3c, e_I_dot)[0].subs(w, e_w)\n",
    "e_I_k_1 = e_I+ delta*dot_e_I\n",
    "e_I_k_1_subd = e_I_k_1.subs(lst_subs)\n",
    "e_I_k_1_func = sp.lambdify([e_w, u], e_I_k_1_subd)\n",
    "e_I_k_1_coeffs = sp.Poly(e_I_k_1, u).coeffs()\n",
    "\n",
    "# g_xk = sp.Matrix([[0], [0], [e_I_k_1_coeffs[0]*u]])\n",
    "g_xk = sp.Matrix([[0], [0], [e_I_k_1_coeffs[0]]])\n",
    "f_xk = sp.Matrix([[e_theta_k_1], [e_w_k_1], [e_I_k_1_coeffs[1]]])\n",
    "\n",
    "# u is used as a temporary var. makes turning into np array easier\n",
    "g_xk_func = sp.lambdify([u], g_xk.subs(lst_subs)*u) \n",
    "g_xk_subd = g_xk_func(1)\n",
    "\n",
    "f_xk_func = sp.lambdify([e_theta, e_w, e_I], f_xk.subs(lst_subs))\n"
   ]
  },
  {
   "cell_type": "code",
   "execution_count": 4,
   "id": "0cfa0b30",
   "metadata": {},
   "outputs": [
    {
     "data": {
      "text/latex": [
       "$\\displaystyle u$"
      ],
      "text/plain": [
       "u"
      ]
     },
     "execution_count": 4,
     "metadata": {},
     "output_type": "execute_result"
    }
   ],
   "source": [
    "u"
   ]
  },
  {
   "cell_type": "markdown",
   "id": "438b2110",
   "metadata": {
    "variables": {
     "e_I_k_1": "$\\displaystyle e_{I} + \\frac{\\Delta \\left(- K_{b} e_{\\omega} - R_{a} e_{I} + u\\right)}{L_{a}}$",
     "e_theta_k_1": "$\\displaystyle \\Delta e_{\\omega} + e_{\\theta}$",
     "e_w_k_1": "$\\displaystyle e_{\\omega} + \\frac{\\Delta \\left(L M N_{1} g \\left(\\sin{\\left(\\frac{N_{1} \\theta_{d}}{N_{2}} \\right)} - \\sin{\\left(\\frac{N_{1} \\left(\\theta_{d} + e_{\\theta}\\right)}{N_{2}} \\right)}\\right) + N_{2} \\left(- D e_{\\omega} + K_{t} e_{I}\\right)\\right)}{J N_{2}}$",
     "f_xk": "$\\displaystyle \\left[\\begin{matrix}\\Delta e_{\\omega} + e_{\\theta}\\\\e_{\\omega} + \\frac{\\Delta \\left(L M N_{1} g \\left(\\sin{\\left(\\frac{N_{1} \\theta_{d}}{N_{2}} \\right)} - \\sin{\\left(\\frac{N_{1} \\left(\\theta_{d} + e_{\\theta}\\right)}{N_{2}} \\right)}\\right) + N_{2} \\left(- D e_{\\omega} + K_{t} e_{I}\\right)\\right)}{J N_{2}}\\\\\\frac{- K_{b} \\Delta e_{\\omega} + L_{a} e_{I} - R_{a} \\Delta e_{I}}{L_{a}}\\end{matrix}\\right]$",
     "g_xk": "$\\displaystyle \\left[\\begin{matrix}0\\\\0\\\\\\frac{\\Delta}{L_{a}}\\end{matrix}\\right]$"
    }
   },
   "source": [
    "$e_{\\theta_{k+1}} = \\;${{e_theta_k_1}}\n",
    "\n",
    "$e_{\\omega_{k+1}} = \\;${{e_w_k_1}}\n",
    "\n",
    "$e_{I_{k+1}} = \\;${{e_I_k_1}}\n",
    "\n",
    "$f(\\cdot) =\\;$ {{f_xk}}\n",
    "\n",
    "$g(\\cdot) =\\;$ {{g_xk}}"
   ]
  },
  {
   "cell_type": "markdown",
   "id": "0ed577d7",
   "metadata": {},
   "source": [
    "## part 2"
   ]
  },
  {
   "cell_type": "code",
   "execution_count": 34,
   "id": "7f1535f9",
   "metadata": {},
   "outputs": [
    {
     "data": {
      "text/plain": [
       "[-4.237265971630289]"
      ]
     },
     "execution_count": 34,
     "metadata": {},
     "output_type": "execute_result"
    }
   ],
   "source": [
    "NL = 9\n",
    "gamma = 0.9\n",
    "alpha = 2\n",
    "\n",
    "theta0 = 0\n",
    "w0 = 0\n",
    "I0 = 0\n",
    "\n",
    "e_theta0 = theta0 - theta_d_val\n",
    "e_w0 = w0\n",
    "e_I0 = I0 - E_bar/Ra_val\n",
    "\n",
    "R = 0.05\n",
    "q = np.array([[1, 0], \n",
    "            [0, 1]])\n",
    "\n",
    "W0 = np.random.randint(0,10,(1, NL)).T\n",
    "W = [W0]\n",
    "\n",
    "xk = [np.array([e_theta0, e_w0, e_I0]).reshape(-1,1)]\n",
    "\n",
    "\n",
    "phi = sp.Matrix([[e_theta, e_w, e_I, \n",
    "                 e_theta*e_w, e_theta*e_I, e_w*e_I, \n",
    "                 e_theta**2, e_w**2, e_I**2]])\n",
    "\n",
    "del_phi = sp.Matrix([[diff(phi, e_theta)], [diff(phi, e_w)], [diff(phi, e_I)]])\n",
    "\n",
    "phi_func = sp.lambdify([e_theta, e_w, e_I], phi)\n",
    "del_phi_func = sp.lambdify([e_theta, e_w, e_I], del_phi)\n",
    "# phi = np.array([]).reshape(-1,1)\n",
    "\n",
    "lst_u = [float((-gamma/(2*R)*g_xk_subd.T@del_phi_func(*xk[-1].T.tolist()[0])@W[-1]).reshape(()))]"
   ]
  },
  {
   "cell_type": "code",
   "execution_count": 37,
   "id": "a5a86d6c",
   "metadata": {},
   "outputs": [],
   "source": [
    "stop_time = 20 # in seconds\n",
    "cycles = int(stop_time//Ts)\n",
    "\n",
    "for k in range(cycles):\n",
    "    xk.append(f_xk_func(*xk[-1].T.tolist()[0]) + g_xk_subd*lst_u[-1])"
   ]
  },
  {
   "cell_type": "code",
   "execution_count": 40,
   "id": "7068fe86",
   "metadata": {},
   "outputs": [
    {
     "data": {
      "text/plain": [
       "2000"
      ]
     },
     "execution_count": 40,
     "metadata": {},
     "output_type": "execute_result"
    }
   ],
   "source": [
    "len(xk)"
   ]
  },
  {
   "cell_type": "code",
   "execution_count": 30,
   "id": "673001bd",
   "metadata": {},
   "outputs": [
    {
     "data": {
      "text/plain": [
       "array([[-0.52359878],\n",
       "       [ 0.00887871],\n",
       "       [-0.        ]])"
      ]
     },
     "execution_count": 30,
     "metadata": {},
     "output_type": "execute_result"
    }
   ],
   "source": [
    "f_xk_func(*xk[-1].tolist()[0])"
   ]
  }
 ],
 "metadata": {
  "kernelspec": {
   "display_name": "Python 3 (ipykernel)",
   "language": "python",
   "name": "python3"
  },
  "language_info": {
   "codemirror_mode": {
    "name": "ipython",
    "version": 3
   },
   "file_extension": ".py",
   "mimetype": "text/x-python",
   "name": "python",
   "nbconvert_exporter": "python",
   "pygments_lexer": "ipython3",
   "version": "3.9.2"
  }
 },
 "nbformat": 4,
 "nbformat_minor": 5
}
