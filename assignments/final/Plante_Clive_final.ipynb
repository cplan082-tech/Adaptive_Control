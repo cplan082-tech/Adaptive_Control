{
 "cells": [
  {
   "cell_type": "code",
   "execution_count": 67,
   "id": "e24cc9e1",
   "metadata": {},
   "outputs": [],
   "source": [
    "import numpy as np\n",
    "from numpy.linalg import inv\n",
    "import sympy as sp\n",
    "import pandas as pd\n",
    "import math as m\n",
    "from sympy import collect, simplify, expand, fraction, latex, diff, cancel, nsimplify\n",
    "from IPython.display import display, Markdown, Math\n",
    "from scipy.integrate import odeint\n",
    "import matplotlib.pyplot as plt\n",
    "plt.rcParams['figure.figsize'] = [20, 10]"
   ]
  },
  {
   "cell_type": "code",
   "execution_count": 68,
   "id": "995c7043",
   "metadata": {},
   "outputs": [],
   "source": [
    "theta, theta_d, I, E_bar, w, w_dot = sp.symbols(\"\\\\theta \\\\theta_d I \\\\bar{E} \\omega \\dot{\\omega}\")\n",
    "e_theta, e_w, e_I = sp.symbols(\"e_{\\\\theta} e_{\\omega} e_{I} \")\n",
    "# e_theta_k, e_w_k, e_I_k = sp.symbols(\"e_{\\\\theta_{k}} e_{\\omega_{k}} e_{I_{k}}\")\n",
    "e_theta_dot, e_omega_dot, e_I_dot = sp.symbols(\"\\dot{e_{\\\\theta}} \\dot{e_{\\omega}} \\dot{e_{I}}\")\n",
    "J, D, M, g, L, N1, N2, Kt = sp.symbols(\"J D M g L N_1 N_2 K_t\") \n",
    "La, Ra, Kb, u = sp.symbols(\"L_a R_a K_b u\")\n",
    "Ja, Da, DL = sp.symbols(\"J_a D_a D_L\")\n",
    "delta = sp.Symbol(\"\\Delta\")"
   ]
  },
  {
   "cell_type": "code",
   "execution_count": null,
   "id": "e619c9fe",
   "metadata": {},
   "outputs": [],
   "source": []
  },
  {
   "cell_type": "markdown",
   "id": "2adbca34",
   "metadata": {},
   "source": [
    "# Problem 1"
   ]
  },
  {
   "cell_type": "markdown",
   "id": "52119c85",
   "metadata": {},
   "source": [
    "## part 1"
   ]
  },
  {
   "cell_type": "code",
   "execution_count": 69,
   "id": "39fc69bc",
   "metadata": {},
   "outputs": [],
   "source": [
    "M_val = 5\n",
    "L_val = 1\n",
    "Ra_val = 10\n",
    "La_val = 0.1\n",
    "g_val = 9.8\n",
    "Kt_val = 11\n",
    "Kb_val = 6.36\n",
    "DL_val = 1\n",
    "Da_val = 0.1\n",
    "Ja_val = 2\n",
    "N1_val = 15\n",
    "N2_val = 45\n",
    "theta_d_val = np.pi/6\n",
    "Ts = 0.01\n",
    "\n",
    "J_val = Ja_val + (N1_val/N2_val)**2*M_val*L_val**2\n",
    "D_val = Da_val + (N1_val/N2_val)**2*DL_val\n",
    "E_bar = Ra_val*g_val*N1_val/(Kt_val*L_val*N2_val)*np.sin(N1_val/N2_val*theta_d_val)\n",
    "\n",
    "lst_subs = [(M,M_val), (L,L_val), (Ra,Ra_val), (La,La_val), (g,g_val), (Kt,Kt_val), (Kb,Kb_val), \n",
    "            (D,D_val), (J,J_val), (N1,N1_val), (N2,N2_val), \n",
    "            (theta_d, theta_d_val), (delta, Ts)]\n",
    "\n",
    "# eq 3a\n",
    "org_3a = w\n",
    "dot_e_theta = e_w\n",
    "e_theta_k_1 = e_theta + delta*dot_e_theta\n",
    "e_theta_k_1_subd = e_theta_k_1.subs(lst_subs)\n",
    "e_theta_k_1_func = sp.lambdify([e_theta, e_w], e_theta_k_1_subd)\n",
    "\n",
    "# eq 3b\n",
    "org_3b = sp.Eq(J*w_dot + D*w + M*g*L*N1/N2*(sp.sin(N1/N2*(e_theta + theta_d)) - sp.sin(N1/N2*theta_d)), Kt*e_I)\n",
    "dot_e_w = sp.solve(org_3b, w_dot)[0].subs(w, e_w)\n",
    "e_w_k_1 = e_w + delta*dot_e_w\n",
    "e_w_k_1_subd = e_w_k_1.subs(lst_subs)\n",
    "e_w_k_1_func = sp.lambdify([e_theta, e_w, e_I, D, J], e_w_k_1_subd)\n",
    "\n",
    "# eq 3c\n",
    "org_3c = sp.Eq(La*e_I_dot + Ra*e_I + Kb*w, u)\n",
    "dot_e_I = sp.solve(org_3c, e_I_dot)[0].subs(w, e_w)\n",
    "e_I_k_1 = e_I+ delta*dot_e_I\n",
    "e_I_k_1_subd = e_I_k_1.subs(lst_subs)\n",
    "e_I_k_1_func = sp.lambdify([e_w, u], e_I_k_1_subd)\n",
    "e_I_k_1_coeffs = sp.Poly(e_I_k_1, u).coeffs()\n",
    "\n",
    "# g_xk = sp.Matrix([[0], [0], [e_I_k_1_coeffs[0]*u]])\n",
    "g_xk = sp.Matrix([[0], [0], [e_I_k_1_coeffs[0]]])\n",
    "f_xk = sp.Matrix([[e_theta_k_1], [e_w_k_1], [e_I_k_1_coeffs[1]]])\n",
    "\n",
    "# u is used as a temporary var. makes turning into np array easier\n",
    "g_xk_func = sp.lambdify([u], g_xk.subs(lst_subs)*u) \n",
    "g_xk_subd = g_xk_func(1)\n",
    "\n",
    "f_xk_func = sp.lambdify([e_theta, e_w, e_I], f_xk.subs(lst_subs))\n"
   ]
  },
  {
   "cell_type": "code",
   "execution_count": 70,
   "id": "1a71d811",
   "metadata": {},
   "outputs": [
    {
     "data": {
      "text/latex": [
       "$\\displaystyle u$"
      ],
      "text/plain": [
       "u"
      ]
     },
     "execution_count": 70,
     "metadata": {},
     "output_type": "execute_result"
    }
   ],
   "source": [
    "u"
   ]
  },
  {
   "cell_type": "markdown",
   "id": "438b2110",
   "metadata": {
    "variables": {
     "e_I_k_1": "$\\displaystyle e_{I} + \\frac{\\Delta \\left(- K_{b} e_{\\omega} - R_{a} e_{I} + u\\right)}{L_{a}}$",
     "e_theta_k_1": "$\\displaystyle \\Delta e_{\\omega} + e_{\\theta}$",
     "e_w_k_1": "$\\displaystyle e_{\\omega} + \\frac{\\Delta \\left(L M N_{1} g \\left(\\sin{\\left(\\frac{N_{1} \\theta_{d}}{N_{2}} \\right)} - \\sin{\\left(\\frac{N_{1} \\left(\\theta_{d} + e_{\\theta}\\right)}{N_{2}} \\right)}\\right) + N_{2} \\left(- D e_{\\omega} + K_{t} e_{I}\\right)\\right)}{J N_{2}}$",
     "f_xk": "$\\displaystyle \\left[\\begin{matrix}\\Delta e_{\\omega} + e_{\\theta}\\\\e_{\\omega} + \\frac{\\Delta \\left(L M N_{1} g \\left(\\sin{\\left(\\frac{N_{1} \\theta_{d}}{N_{2}} \\right)} - \\sin{\\left(\\frac{N_{1} \\left(\\theta_{d} + e_{\\theta}\\right)}{N_{2}} \\right)}\\right) + N_{2} \\left(- D e_{\\omega} + K_{t} e_{I}\\right)\\right)}{J N_{2}}\\\\\\frac{- K_{b} \\Delta e_{\\omega} + L_{a} e_{I} - R_{a} \\Delta e_{I}}{L_{a}}\\end{matrix}\\right]$",
     "g_xk": "$\\displaystyle \\left[\\begin{matrix}0\\\\0\\\\\\frac{\\Delta}{L_{a}}\\end{matrix}\\right]$"
    }
   },
   "source": [
    "$e_{\\theta_{k+1}} = \\;${{e_theta_k_1}}\n",
    "\n",
    "$e_{\\omega_{k+1}} = \\;${{e_w_k_1}}\n",
    "\n",
    "$e_{I_{k+1}} = \\;${{e_I_k_1}}\n",
    "\n",
    "$f(\\cdot) =\\;$ {{f_xk}}\n",
    "\n",
    "$g(\\cdot) =\\;$ {{g_xk}}"
   ]
  },
  {
   "cell_type": "code",
   "execution_count": 71,
   "id": "99cd96e4",
   "metadata": {},
   "outputs": [
    {
     "data": {
      "text/plain": [
       "array([[6],\n",
       "       [8],\n",
       "       [0],\n",
       "       [9],\n",
       "       [5],\n",
       "       [0],\n",
       "       [4],\n",
       "       [1],\n",
       "       [5]])"
      ]
     },
     "execution_count": 71,
     "metadata": {},
     "output_type": "execute_result"
    }
   ],
   "source": [
    "W0 = np.array([6, 8, 0, 9, 5, 0, 4, 1, 5]).reshape(-1,1)\n",
    "W0"
   ]
  },
  {
   "cell_type": "markdown",
   "id": "0ed577d7",
   "metadata": {},
   "source": [
    "## part 2"
   ]
  },
  {
   "cell_type": "code",
   "execution_count": 85,
   "id": "7f1535f9",
   "metadata": {},
   "outputs": [],
   "source": [
    "# NL = 9\n",
    "# gamma = 0.9\n",
    "# alpha = 2\n",
    "\n",
    "# theta0 = 0\n",
    "# w0 = 0\n",
    "# I0 = 0\n",
    "\n",
    "# e_theta0 = theta0 - theta_d_val\n",
    "# e_w0 = w0\n",
    "# e_I0 = I0 - E_bar/Ra_val\n",
    "\n",
    "# R = 0.05\n",
    "# q = np.array([[1, 0, 0], \n",
    "#             [0, 1, 0],\n",
    "#              [0, 0, 1]])\n",
    "\n",
    "# # W0 = np.random.randint(0,10,(1, NL)).T\n",
    "# W0 = np.array([6, 8, 0, 9, 5, 0, 4, 1, 5]).reshape(-1,1)\n",
    "# W = [W0]\n",
    "\n",
    "# xk = [np.array([e_theta0, e_w0, e_I0]).reshape(-1,1)]\n",
    "\n",
    "\n",
    "# phi = sp.Matrix([[e_theta, e_w, e_I, \n",
    "#                  e_theta*e_w, e_theta*e_I, e_w*e_I, \n",
    "#                  e_theta**2, e_w**2, e_I**2]])\n",
    "\n",
    "# del_phi = sp.Matrix([[diff(phi, e_theta)], [diff(phi, e_w)], [diff(phi, e_I)]])\n",
    "\n",
    "# phi_func = sp.lambdify([e_theta, e_w, e_I], phi)\n",
    "# del_phi_func = sp.lambdify([e_theta, e_w, e_I], del_phi)\n",
    "\n",
    "# lst_phi = [phi_func(*xk[-1].T.tolist()[0])]\n",
    "# lst_u = [float((-gamma/(2*R)*g_xk_subd.T@del_phi_func(*xk[-1].T.tolist()[0])@W[-1]).reshape(()))]"
   ]
  },
  {
   "cell_type": "code",
   "execution_count": 155,
   "id": "e70ce9bd",
   "metadata": {},
   "outputs": [
    {
     "ename": "KeyboardInterrupt",
     "evalue": "",
     "output_type": "error",
     "traceback": [
      "\u001b[1;31m---------------------------------------------------------------------------\u001b[0m",
      "\u001b[1;31mKeyboardInterrupt\u001b[0m                         Traceback (most recent call last)",
      "\u001b[1;32m~\\AppData\\Local\\Temp\\ipykernel_3784\\4143582822.py\u001b[0m in \u001b[0;36m<module>\u001b[1;34m\u001b[0m\n\u001b[0;32m     75\u001b[0m         \u001b[0mk\u001b[0m\u001b[1;33m+=\u001b[0m\u001b[1;36m1\u001b[0m\u001b[1;33m\u001b[0m\u001b[1;33m\u001b[0m\u001b[0m\n\u001b[0;32m     76\u001b[0m         \u001b[0mt\u001b[0m\u001b[1;33m.\u001b[0m\u001b[0mappend\u001b[0m\u001b[1;33m(\u001b[0m\u001b[0mk\u001b[0m\u001b[1;33m*\u001b[0m\u001b[0mTs\u001b[0m\u001b[1;33m)\u001b[0m\u001b[1;33m\u001b[0m\u001b[1;33m\u001b[0m\u001b[0m\n\u001b[1;32m---> 77\u001b[1;33m         \u001b[0mlst_u\u001b[0m\u001b[1;33m.\u001b[0m\u001b[0mappend\u001b[0m\u001b[1;33m(\u001b[0m\u001b[0mfloat\u001b[0m\u001b[1;33m(\u001b[0m\u001b[1;33m(\u001b[0m\u001b[1;33m-\u001b[0m\u001b[0mgamma\u001b[0m\u001b[1;33m/\u001b[0m\u001b[1;33m(\u001b[0m\u001b[1;36m2\u001b[0m\u001b[1;33m*\u001b[0m\u001b[0mR\u001b[0m\u001b[1;33m)\u001b[0m\u001b[1;33m*\u001b[0m\u001b[0mg_xk_subd\u001b[0m\u001b[1;33m.\u001b[0m\u001b[0mT\u001b[0m\u001b[1;33m@\u001b[0m\u001b[0mdel_phi_func\u001b[0m\u001b[1;33m(\u001b[0m\u001b[1;33m*\u001b[0m\u001b[0mxk\u001b[0m\u001b[1;33m[\u001b[0m\u001b[1;33m-\u001b[0m\u001b[1;36m1\u001b[0m\u001b[1;33m]\u001b[0m\u001b[1;33m.\u001b[0m\u001b[0mT\u001b[0m\u001b[1;33m.\u001b[0m\u001b[0mtolist\u001b[0m\u001b[1;33m(\u001b[0m\u001b[1;33m)\u001b[0m\u001b[1;33m[\u001b[0m\u001b[1;36m0\u001b[0m\u001b[1;33m]\u001b[0m\u001b[1;33m)\u001b[0m\u001b[1;33m@\u001b[0m\u001b[0mW\u001b[0m\u001b[1;33m[\u001b[0m\u001b[0mWj_idx\u001b[0m\u001b[1;33m]\u001b[0m\u001b[1;33m)\u001b[0m\u001b[1;33m.\u001b[0m\u001b[0mreshape\u001b[0m\u001b[1;33m(\u001b[0m\u001b[1;33m(\u001b[0m\u001b[1;33m)\u001b[0m\u001b[1;33m)\u001b[0m\u001b[1;33m)\u001b[0m\u001b[1;33m)\u001b[0m\u001b[1;33m\u001b[0m\u001b[1;33m\u001b[0m\u001b[0m\n\u001b[0m\u001b[0;32m     78\u001b[0m         \u001b[0mPhi\u001b[0m \u001b[1;33m=\u001b[0m \u001b[0mlst_phi\u001b[0m\u001b[1;33m[\u001b[0m\u001b[1;33m-\u001b[0m\u001b[1;36m1\u001b[0m\u001b[1;33m]\u001b[0m\u001b[1;33m.\u001b[0m\u001b[0mT\u001b[0m \u001b[1;31m# phi(x_k) (column vec)\u001b[0m\u001b[1;33m\u001b[0m\u001b[1;33m\u001b[0m\u001b[0m\n\u001b[0;32m     79\u001b[0m         \u001b[0mlst_phi\u001b[0m\u001b[1;33m.\u001b[0m\u001b[0mappend\u001b[0m\u001b[1;33m(\u001b[0m\u001b[0mphi_func\u001b[0m\u001b[1;33m(\u001b[0m\u001b[1;33m*\u001b[0m\u001b[0mxk\u001b[0m\u001b[1;33m[\u001b[0m\u001b[1;33m-\u001b[0m\u001b[1;36m1\u001b[0m\u001b[1;33m]\u001b[0m\u001b[1;33m.\u001b[0m\u001b[0mT\u001b[0m\u001b[1;33m.\u001b[0m\u001b[0mtolist\u001b[0m\u001b[1;33m(\u001b[0m\u001b[1;33m)\u001b[0m\u001b[1;33m[\u001b[0m\u001b[1;36m0\u001b[0m\u001b[1;33m]\u001b[0m\u001b[1;33m)\u001b[0m\u001b[1;33m)\u001b[0m\u001b[1;33m\u001b[0m\u001b[1;33m\u001b[0m\u001b[0m\n",
      "\u001b[1;31mKeyboardInterrupt\u001b[0m: "
     ]
    }
   ],
   "source": [
    "NL = 9\n",
    "gamma = 0.9\n",
    "alpha = 2\n",
    "\n",
    "theta0 = 0\n",
    "w0 = 0\n",
    "I0 = 0\n",
    "\n",
    "e_theta0 = theta0 - theta_d_val\n",
    "e_w0 = w0\n",
    "e_I0 = I0 - E_bar/Ra_val\n",
    "\n",
    "R = 0.05\n",
    "q = np.array([[1, 0, 0], \n",
    "            [0, 1, 0],\n",
    "             [0, 0, 1]])\n",
    "\n",
    "# W0 = np.random.randint(0,10,(1, NL)).T\n",
    "# W0 = np.array([6, 8, 0, 9, 5, 0, 4, 1, 5]).reshape(-1,1)\n",
    "W0 = np.array([5]*NL).reshape(-1,1)\n",
    "W = [W0]\n",
    "\n",
    "xk = [np.array([e_theta0, e_w0, e_I0]).reshape(-1,1)]\n",
    "\n",
    "\n",
    "phi = sp.Matrix([[e_theta, e_w, e_I, \n",
    "                 e_theta*e_w, e_theta*e_I, e_w*e_I, \n",
    "                 e_theta**2, e_w**2, e_I**2]])\n",
    "\n",
    "del_phi = sp.Matrix([[diff(phi, e_theta)], [diff(phi, e_w)], [diff(phi, e_I)]])\n",
    "\n",
    "phi_func = sp.lambdify([e_theta, e_w, e_I], phi)\n",
    "del_phi_func = sp.lambdify([e_theta, e_w, e_I], del_phi)\n",
    "\n",
    "lst_phi = [phi_func(*xk[-1].T.tolist()[0])]\n",
    "lst_u = [float((-gamma/(2*R)*g_xk_subd.T@del_phi_func(*xk[-1].T.tolist()[0])@W[-1]).reshape(()))]\n",
    "\n",
    "stop_time = 20 # in seconds\n",
    "cycles = int(stop_time//Ts)\n",
    "cnt_limit = 1000\n",
    "eps = 1e-1\n",
    "\n",
    "t = [0]\n",
    "k = 0\n",
    "Wji = 0\n",
    "while (k < cycles):\n",
    "#     print(cnt)\n",
    "#     input(\"halt\")\n",
    "    Wj_idx = k\n",
    "    k+=1\n",
    "    t.append(k*Ts)\n",
    "    \n",
    "    Phi = lst_phi[-1].T # phi(x_k) (column vec)\n",
    "    \n",
    "    xk.append(f_xk_func(*xk[-1].T.tolist()[0]) + g_xk_subd*lst_u[-1])\n",
    "    \n",
    "    lst_phi.append(phi_func(*xk[-1].T.tolist()[0]))\n",
    "    \n",
    "    rk = (xk[-2].T@q@xk[-2]).reshape(()) + R*lst_u[-1]**2 + gamma*lst_phi[-1]@W[-1]\n",
    "    \n",
    "    cnt = 0\n",
    "    while (~(abs(Wji - W[-1]) < eps).all() & cnt < cnt_limit):\n",
    "#         print(\"\\n\")\n",
    "#         print(f\" W[-1]: {W[-1]}\")\n",
    "#         print(f\" Wji: {Wji}\")\n",
    "#         print(f\"Phi: {Phi}\")\n",
    "#         input(\"halt\")\n",
    "        Wji = W[-1]\n",
    "        try:\n",
    "            W.append(Wji - alpha*Phi*(Phi.T@Wji - rk))\n",
    "        except RuntimeWarning:\n",
    "            print(\"hit\")\n",
    "            print(cnt)\n",
    "        xk.append(f_xk_func(*xk[-1].T.tolist()[0]) + g_xk_subd*lst_u[-1]) # Measurment\n",
    "        k+=1\n",
    "        t.append(k*Ts)\n",
    "        lst_u.append(float((-gamma/(2*R)*g_xk_subd.T@del_phi_func(*xk[-1].T.tolist()[0])@W[Wj_idx]).reshape(())))\n",
    "        Phi = lst_phi[-1].T # phi(x_k) (column vec)\n",
    "        lst_phi.append(phi_func(*xk[-1].T.tolist()[0]))\n",
    "        rk = (xk[-2].T@q@xk[-2]).reshape(()) + R*lst_u[-1]**2 + gamma*lst_phi[-1]@W[Wj_idx]\n",
    "        cnt+=1\n",
    "        \n",
    "    lst_u.append(float((-gamma/(2*R)*g_xk_subd.T@del_phi_func(*xk[-1].T.tolist()[0])@W[-1]).reshape(())))\n",
    "    print((abs(Wji - W[-1]) > eps).all())\n",
    "    \n",
    "    \n",
    "for j in range(NL):\n",
    "    plt.plot(t[0:2001], [float((W[i][j]).reshape(())) for i in range(len(W))])\n",
    "    \n",
    "\n",
    "plt.grid()\n",
    "plt.legend(bbox_to_anchor=(1.05, 1), \n",
    "               loc=2, \n",
    "               borderaxespad=0, \n",
    "               labels=[f\"$W_{i}$\" for i in range(NL)], \n",
    "               fontsize='xx-large')\n",
    "plt.show()\n",
    "    "
   ]
  },
  {
   "cell_type": "code",
   "execution_count": 153,
   "id": "3833ba3c",
   "metadata": {},
   "outputs": [
    {
     "name": "stdout",
     "output_type": "stream",
     "text": [
      "0.1\n",
      "[[0.02588072]\n",
      " [0.00491592]\n",
      " [0.00881107]\n",
      " [0.00252408]\n",
      " [0.00452404]\n",
      " [0.00085932]\n",
      " [0.01328845]\n",
      " [0.00047944]\n",
      " [0.00154021]]\n",
      "True\n"
     ]
    }
   ],
   "source": [
    "print(eps)\n",
    "print(abs(W[20] - W[21]))\n",
    "print((abs(W[20] - W[21])<eps).all())"
   ]
  },
  {
   "cell_type": "code",
   "execution_count": 94,
   "id": "66039007",
   "metadata": {},
   "outputs": [
    {
     "data": {
      "image/png": "[encoded data removed]",
      "text/plain": [
       "<Figure size 1440x720 with 1 Axes>"
      ]
     },
     "metadata": {
      "needs_background": "light"
     },
     "output_type": "display_data"
    }
   ],
   "source": [
    "for j in range(NL):\n",
    "    plt.plot(t[0:2001], [float((W[i][j]).reshape(())) for i in range(len(W))])\n",
    "    \n",
    "plt.legend(bbox_to_anchor=(1.05, 1), \n",
    "               loc=2, \n",
    "               borderaxespad=0, \n",
    "               labels=[f\"$W_{i}$\" for i in range(NL)], \n",
    "               fontsize='xx-large')\n",
    "plt.grid()   \n",
    "plt.show()"
   ]
  },
  {
   "cell_type": "code",
   "execution_count": 121,
   "id": "1fa5e5ac",
   "metadata": {},
   "outputs": [
    {
     "data": {
      "text/plain": [
       "-0.5235987755982988"
      ]
     },
     "metadata": {},
     "output_type": "display_data"
    },
    {
     "data": {
      "text/plain": [
       "0.5235987755982988"
      ]
     },
     "execution_count": 121,
     "metadata": {},
     "output_type": "execute_result"
    }
   ],
   "source": [
    "np.shape(xk)\n",
    "display(float(xk[0][0]))\n",
    "xk[0]\n",
    "theta_d_val"
   ]
  },
  {
   "cell_type": "code",
   "execution_count": 126,
   "id": "f94ea6f2",
   "metadata": {},
   "outputs": [
    {
     "data": {
      "text/plain": [
       "0.23502916287283365"
      ]
     },
     "metadata": {},
     "output_type": "display_data"
    },
    {
     "data": {
      "text/plain": [
       "[<matplotlib.lines.Line2D at 0x19928b5fdc0>]"
      ]
     },
     "execution_count": 126,
     "metadata": {},
     "output_type": "execute_result"
    },
    {
     "data": {
      "image/png": "[encoded data removed]",
      "text/plain": [
       "<Figure size 1440x720 with 1 Axes>"
      ]
     },
     "metadata": {
      "needs_background": "light"
     },
     "output_type": "display_data"
    }
   ],
   "source": [
    "theta = [(float(xk[i][0]) + theta_d_val) for i in range(len(xk))]\n",
    "display(theta[-1])\n",
    "plt.plot(t, theta)"
   ]
  },
  {
   "cell_type": "code",
   "execution_count": 76,
   "id": "4128b524",
   "metadata": {},
   "outputs": [
    {
     "data": {
      "text/plain": [
       "1001"
      ]
     },
     "execution_count": 76,
     "metadata": {},
     "output_type": "execute_result"
    }
   ],
   "source": [
    "np.shape(W)\n",
    "len(t[0:1001])"
   ]
  },
  {
   "cell_type": "code",
   "execution_count": 77,
   "id": "f1e79d7f",
   "metadata": {},
   "outputs": [
    {
     "data": {
      "text/plain": [
       "array([[-9.93649953e-02],\n",
       "       [-1.17325263e-05],\n",
       "       [-4.85252984e-02]])"
      ]
     },
     "metadata": {},
     "output_type": "display_data"
    },
    {
     "data": {
      "text/plain": [
       "True"
      ]
     },
     "metadata": {},
     "output_type": "display_data"
    }
   ],
   "source": [
    "display(xk[-1])\n",
    "display((abs(xk[-1]) < 1e-3).all() | True)"
   ]
  },
  {
   "cell_type": "code",
   "execution_count": 78,
   "id": "5735d090",
   "metadata": {},
   "outputs": [
    {
     "data": {
      "text/plain": [
       "0.0003707071030830425"
      ]
     },
     "execution_count": 78,
     "metadata": {},
     "output_type": "execute_result"
    }
   ],
   "source": [
    "R*lst_u[-1]**2"
   ]
  },
  {
   "cell_type": "code",
   "execution_count": 79,
   "id": "a29f8498",
   "metadata": {},
   "outputs": [
    {
     "data": {
      "text/plain": [
       "0.012598814121017035"
      ]
     },
     "execution_count": 79,
     "metadata": {},
     "output_type": "execute_result"
    }
   ],
   "source": [
    "(xk[-1].T@q@xk[-1]).reshape(()) + R*lst_u[-1]**2"
   ]
  },
  {
   "cell_type": "code",
   "execution_count": 80,
   "id": "d854a24a",
   "metadata": {},
   "outputs": [
    {
     "ename": "TypeError",
     "evalue": "_lambdifygenerated() missing 2 required positional arguments: 'Dummy_99' and 'Dummy_100'",
     "output_type": "error",
     "traceback": [
      "\u001b[1;31m---------------------------------------------------------------------------\u001b[0m",
      "\u001b[1;31mTypeError\u001b[0m                                 Traceback (most recent call last)",
      "\u001b[1;32m~\\AppData\\Local\\Temp\\ipykernel_3784\\724943283.py\u001b[0m in \u001b[0;36m<module>\u001b[1;34m\u001b[0m\n\u001b[1;32m----> 1\u001b[1;33m \u001b[0mf_xk_func\u001b[0m\u001b[1;33m(\u001b[0m\u001b[1;33m*\u001b[0m\u001b[0mxk\u001b[0m\u001b[1;33m[\u001b[0m\u001b[1;33m-\u001b[0m\u001b[1;36m1\u001b[0m\u001b[1;33m]\u001b[0m\u001b[1;33m.\u001b[0m\u001b[0mtolist\u001b[0m\u001b[1;33m(\u001b[0m\u001b[1;33m)\u001b[0m\u001b[1;33m[\u001b[0m\u001b[1;36m0\u001b[0m\u001b[1;33m]\u001b[0m\u001b[1;33m)\u001b[0m\u001b[1;33m\u001b[0m\u001b[1;33m\u001b[0m\u001b[0m\n\u001b[0m",
      "\u001b[1;31mTypeError\u001b[0m: _lambdifygenerated() missing 2 required positional arguments: 'Dummy_99' and 'Dummy_100'"
     ]
    }
   ],
   "source": [
    "f_xk_func(*xk[-1].tolist()[0])"
   ]
  }
 ],
 "metadata": {
  "kernelspec": {
   "display_name": "Python 3 (ipykernel)",
   "language": "python",
   "name": "python3"
  },
  "language_info": {
   "codemirror_mode": {
    "name": "ipython",
    "version": 3
   },
   "file_extension": ".py",
   "mimetype": "text/x-python",
   "name": "python",
   "nbconvert_exporter": "python",
   "pygments_lexer": "ipython3",
   "version": "3.9.2"
  }
 },
 "nbformat": 4,
 "nbformat_minor": 5
}
