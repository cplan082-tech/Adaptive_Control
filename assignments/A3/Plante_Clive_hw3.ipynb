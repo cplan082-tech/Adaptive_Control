{
 "cells": [
  {
   "cell_type": "code",
   "execution_count": 130,
   "id": "8f8693ae",
   "metadata": {},
   "outputs": [],
   "source": [
    "import pandas as pd\n",
    "import numpy as np\n",
    "import sympy as sp\n",
    "import math as m\n",
    "from sympy import collect, simplify, expand, fraction, latex, diff, cancel, nsimplify\n",
    "from IPython.display import display, Markdown, Math\n",
    "from scipy.integrate import odeint\n",
    "import matplotlib.pyplot as plt"
   ]
  },
  {
   "cell_type": "code",
   "execution_count": 131,
   "id": "ed4516a0",
   "metadata": {},
   "outputs": [],
   "source": [
    "def theta_hat_ploter(df, theta0, title, line_width=1.2):\n",
    "    lst_color = ['b', 'y', 'g', 'r']\n",
    "    lst_labels = df.columns\n",
    "    graph = sns.lineplot(data=df, dashes=False)\n",
    "\n",
    "    for i in range(len(theta0)):\n",
    "        graph.axhline(y=theta0[i], color=lst_color[i], linestyle='--', linewidth=line_width, label=lst_labels[i])\n",
    "        \n",
    "    plt.title(title, fontsize=20)\n",
    "    plt.ylabel('Magnitude of \"Theta_hat\"', fontsize=18)\n",
    "    plt.xlabel('Time Stamps \"t\"', fontsize=18)\n",
    "    plt.legend(bbox_to_anchor=(1.05, 1), \n",
    "               loc=2, \n",
    "               borderaxespad=0, \n",
    "               labels=lst_labels, \n",
    "               fontsize='xx-large')\n",
    "    plt.show()"
   ]
  },
  {
   "cell_type": "code",
   "execution_count": 132,
   "id": "d48cb9d2",
   "metadata": {},
   "outputs": [],
   "source": [
    "class numden_coeff:\n",
    "    def __init__(self, expr, symb):\n",
    "        self.num, self.denum = fraction(expr)\n",
    "        self.symb = symb\n",
    "        self.common_factor = None\n",
    "        self.lst_denum_coeff = self.build_lst(self.denum)\n",
    "        self.lst_num_coeff = self.build_lst(self.num)\n",
    "        \n",
    "    def build_lst(self, poly):\n",
    "        order = sp.Poly(poly, self.symb).degree()\n",
    "        lst = [expand(poly).coeff(self.symb**i) for i in range((order), 0, -1)]\n",
    "        lst.append(poly.subs(self.symb,0))\n",
    "        if (self.common_factor == None):\n",
    "            self.common_factor = lst[0]\n",
    "            \n",
    "        lst = [simplify(lst[i]/self.common_factor) for i in range(order + 1)]\n",
    "        return lst\n",
    "    \n",
    "    def disp(self):\n",
    "        display(Markdown(r\"Numerator coefficients (\\beta)\"), self.lst_num_coeff)\n",
    "        display(Markdown(r\"Denominator coefficients (alpha)\"), self.lst_denum_coeff)"
   ]
  },
  {
   "cell_type": "markdown",
   "id": "36e912d0",
   "metadata": {},
   "source": [
    "# Problem 1"
   ]
  },
  {
   "cell_type": "markdown",
   "id": "d82fb6b7",
   "metadata": {},
   "source": [
    "## Part 1"
   ]
  },
  {
   "cell_type": "code",
   "execution_count": 133,
   "id": "178ff239",
   "metadata": {},
   "outputs": [
    {
     "data": {
      "text/latex": [
       "$\\displaystyle y = - \\frac{b \\theta_{1} u_{c}(t)}{a p + b p \\theta_{2} - b \\theta_{1} + p^{2}}$"
      ],
      "text/plain": [
       "<IPython.core.display.Math object>"
      ]
     },
     "metadata": {},
     "output_type": "display_data"
    }
   ],
   "source": [
    "a, b, p, e = sp.symbols(\"a b p e\")\n",
    "zeta, omega, gamma_prime, gamma, theta1, theta2 = sp.symbols(\"zeta omega \\\\gamma^{'} gamma theta_1 theta_2\")\n",
    "y, u, uc, ym = sp.symbols(\"y(t) u(t) u_{c}(t) y_m\")\n",
    "\n",
    "y_eq = sp.solve(sp.Eq(y*p**2, (-a*p*y + b*u)), y)[0]\n",
    "\n",
    "u_eq = sp.solve(sp.Eq(u, (theta1*(y - uc) - theta2*p*y)), u)[0]\n",
    "y_eq = sp.solve(sp.Eq(y, y_eq.subs(u, u_eq)), y)[0]\n",
    "display(Math(\"y = \"+latex(y_eq)))"
   ]
  },
  {
   "cell_type": "code",
   "execution_count": 134,
   "id": "44d76341",
   "metadata": {},
   "outputs": [
    {
     "data": {
      "text/latex": [
       "$\\displaystyle G_{m} = \\frac{\\omega^{2}}{\\omega^{2} + 2 \\omega p \\zeta + p^{2}}$"
      ],
      "text/plain": [
       "<IPython.core.display.Math object>"
      ]
     },
     "metadata": {},
     "output_type": "display_data"
    }
   ],
   "source": [
    "bm0, am1, am0 = sp.symbols(\"b_{m0} a_{m1} a_{m0}\")\n",
    "\n",
    "b_m0 = omega**2\n",
    "a_m1 = 2*zeta*omega\n",
    "a_m0 = b_m0\n",
    "\n",
    "# Bm = bm0\n",
    "# Am = (p**2 + am1*p + bm0)\n",
    "\n",
    "Bm = omega**2\n",
    "Am = (p**2 + 2*zeta*omega*p + omega**2)\n",
    "\n",
    "Gm = Bm/Am\n",
    "Gm\n",
    "display(Math(\"G_{m} = \"+latex(Gm)))"
   ]
  },
  {
   "cell_type": "code",
   "execution_count": 135,
   "id": "50c79710",
   "metadata": {},
   "outputs": [
    {
     "data": {
      "text/latex": [
       "$\\displaystyle \\theta_1 =\\;- \\frac{\\omega^{2}}{b}$"
      ],
      "text/plain": [
       "<IPython.core.display.Math object>"
      ]
     },
     "metadata": {},
     "output_type": "display_data"
    },
    {
     "data": {
      "text/latex": [
       "$\\displaystyle \\theta_2 =\\;\\frac{- a + 2 \\omega \\zeta}{b}$"
      ],
      "text/plain": [
       "<IPython.core.display.Math object>"
      ]
     },
     "metadata": {},
     "output_type": "display_data"
    }
   ],
   "source": [
    "num, den = fraction(y_eq)\n",
    "num_m, den_m = fraction(Gm*uc)\n",
    "\n",
    "theta_1 = sp.solve(sp.Eq(num, num_m), theta1)[0]\n",
    "theta_2 = sp.solve(sp.Eq(den.subs(theta1, theta_1), den_m), theta2)[0]\n",
    "\n",
    "display(Math(\"\\\\theta_1 =\\;\"+latex(theta_1)))\n",
    "display(Math(\"\\\\theta_2 =\\;\"+latex(theta_2)))"
   ]
  },
  {
   "cell_type": "code",
   "execution_count": 136,
   "id": "2b94beaf",
   "metadata": {},
   "outputs": [
    {
     "data": {
      "text/latex": [
       "$\\displaystyle \\frac{\\partial e}{\\partial \\theta_1} =\\;- \\frac{b p u_{c}(t) \\left(a + b \\theta_{2} + p\\right)}{\\left(- b \\theta_{1} + p^{2} + p \\left(a + b \\theta_{2}\\right)\\right)^{2}}$"
      ],
      "text/plain": [
       "<IPython.core.display.Math object>"
      ]
     },
     "metadata": {},
     "output_type": "display_data"
    },
    {
     "data": {
      "text/latex": [
       "$\\displaystyle \\frac{\\partial e}{\\partial \\theta_2} =\\;\\frac{b^{2} p \\theta_{1} u_{c}(t)}{\\left(- b \\theta_{1} + p^{2} + p \\left(a + b \\theta_{2}\\right)\\right)^{2}}$"
      ],
      "text/plain": [
       "<IPython.core.display.Math object>"
      ]
     },
     "metadata": {},
     "output_type": "display_data"
    }
   ],
   "source": [
    "del_e_theta1 = collect(simplify(diff(y_eq, theta1)), p)\n",
    "del_e_theta2 = collect(simplify(diff(y_eq, theta2)), p)\n",
    "\n",
    "# del_e_theta1_fact = simplify(cancel(del_e_theta1/y_eq)*y)\n",
    "# num_theta1, den_theta1 = fraction(del_e_theta1_fact)\n",
    "\n",
    "# del_e_theta2_fact = simplify(cancel(del_e_theta2/y_eq)*y)\n",
    "# num_theta2, den_theta2 = fraction(del_e_theta2_fact)\n",
    "\n",
    "# display(Math(\"\\\\frac{\\\\partial e}{\\\\partial \\\\theta_1} =\\;\"\n",
    "#              +latex(del_e_theta1)+\"\\;=\\;\"\n",
    "#              +latex(del_e_theta1_fact.subs([(theta1, theta_1), (theta2, theta_2)]))+\"\\;=\\;\"\n",
    "#              +latex(num_theta1.subs(theta2,theta_2)/(Am*theta_1))))\n",
    "\n",
    "# display(Math(\"\\\\frac{\\\\partial e}{\\\\partial \\\\theta_2} =\\;\"\n",
    "#              +latex(del_e_theta2)+\"\\;=\\;\"\n",
    "#              +latex(del_e_theta2_fact.subs([(theta1, theta_1), (theta2, theta_2)]))+\"\\;=\\;\"\n",
    "#              +latex(num_theta2/Am)))\n",
    "\n",
    "display(Math(\"\\\\frac{\\\\partial e}{\\\\partial \\\\theta_1} =\\;\"+latex(del_e_theta1)))\n",
    "display(Math(\"\\\\frac{\\\\partial e}{\\\\partial \\\\theta_2} =\\;\"+latex(del_e_theta2)))"
   ]
  },
  {
   "cell_type": "code",
   "execution_count": 137,
   "id": "e0b3ec66",
   "metadata": {},
   "outputs": [
    {
     "data": {
      "text/latex": [
       "$\\displaystyle \\frac{\\partial e}{\\partial \\theta_1} =\\;- \\frac{b p y_{m} \\left(2 \\omega \\zeta + p\\right)}{\\omega^{2} \\left(\\omega^{2} + 2 \\omega p \\zeta + p^{2}\\right)}$"
      ],
      "text/plain": [
       "<IPython.core.display.Math object>"
      ]
     },
     "metadata": {},
     "output_type": "display_data"
    },
    {
     "data": {
      "text/latex": [
       "$\\displaystyle \\frac{\\partial e}{\\partial \\theta_2} =\\;- \\frac{b p y_{m}}{\\omega^{2} + 2 \\omega p \\zeta + p^{2}}$"
      ],
      "text/plain": [
       "<IPython.core.display.Math object>"
      ]
     },
     "metadata": {},
     "output_type": "display_data"
    }
   ],
   "source": [
    "u_c = sp.solve(sp.Eq(ym, Gm*uc), uc)[0]\n",
    "\n",
    "del_e_theta1_subd = del_e_theta1.subs([(uc,u_c),(theta1, theta_1), (theta2, theta_2)])\n",
    "del_e_theta2_subd = del_e_theta2.subs([(uc,u_c),(theta1, theta_1), (theta2, theta_2)])\n",
    "\n",
    "display(Math(\"\\\\frac{\\\\partial e}{\\\\partial \\\\theta_1} =\\;\"+latex(del_e_theta1_subd)))\n",
    "display(Math(\"\\\\frac{\\\\partial e}{\\\\partial \\\\theta_2} =\\;\"+latex(del_e_theta2_subd)))"
   ]
  },
  {
   "cell_type": "code",
   "execution_count": 138,
   "id": "e2a293a0",
   "metadata": {},
   "outputs": [
    {
     "data": {
      "text/latex": [
       "$\\displaystyle \\dot{\\theta}_1 =\\;\\frac{\\gamma^{'} b e p y_{m} \\left(2 \\omega \\zeta + p\\right)}{\\omega^{2} \\left(\\omega^{2} + 2 \\omega p \\zeta + p^{2}\\right)}$"
      ],
      "text/plain": [
       "<IPython.core.display.Math object>"
      ]
     },
     "metadata": {},
     "output_type": "display_data"
    },
    {
     "data": {
      "text/latex": [
       "$\\displaystyle \\dot{\\theta}_2 =\\;\\frac{\\gamma^{'} b e p y_{m}}{\\omega^{2} + 2 \\omega p \\zeta + p^{2}}$"
      ],
      "text/plain": [
       "<IPython.core.display.Math object>"
      ]
     },
     "metadata": {},
     "output_type": "display_data"
    }
   ],
   "source": [
    "theta1_dot = -gamma_prime*e*del_e_theta1_subd\n",
    "theta2_dot = -gamma_prime*e*del_e_theta2_subd\n",
    "\n",
    "display(Math(\"\\\\dot{\\\\theta}_1 =\\;\"+latex(theta1_dot)))\n",
    "display(Math(\"\\\\dot{\\\\theta}_2 =\\;\"+latex(theta2_dot)))"
   ]
  },
  {
   "cell_type": "markdown",
   "id": "e955c9e9",
   "metadata": {},
   "source": [
    "Letting $\\gamma = \\gamma^{'}b$ gives"
   ]
  },
  {
   "cell_type": "code",
   "execution_count": 139,
   "id": "f68531f0",
   "metadata": {},
   "outputs": [
    {
     "data": {
      "text/latex": [
       "$\\displaystyle \\dot{\\theta}_1 =\\;\\frac{e \\gamma p y_{m} \\left(2 \\omega \\zeta + p\\right)}{\\omega^{2} \\left(\\omega^{2} + 2 \\omega p \\zeta + p^{2}\\right)}$"
      ],
      "text/plain": [
       "<IPython.core.display.Math object>"
      ]
     },
     "metadata": {},
     "output_type": "display_data"
    },
    {
     "data": {
      "text/latex": [
       "$\\displaystyle \\dot{\\theta}_2 =\\;\\frac{e \\gamma p y_{m}}{\\omega^{2} + 2 \\omega p \\zeta + p^{2}}$"
      ],
      "text/plain": [
       "<IPython.core.display.Math object>"
      ]
     },
     "metadata": {},
     "output_type": "display_data"
    }
   ],
   "source": [
    "theta1_dot_subd = theta1_dot*gamma/(gamma_prime*b)\n",
    "theta2_dot_subd = theta2_dot*gamma/(gamma_prime*b)\n",
    "\n",
    "display(Math(\"\\\\dot{\\\\theta}_1 =\\;\"+latex(theta1_dot_subd)))\n",
    "display(Math(\"\\\\dot{\\\\theta}_2 =\\;\"+latex(theta2_dot_subd)))"
   ]
  },
  {
   "cell_type": "code",
   "execution_count": 140,
   "id": "08d27d21",
   "metadata": {},
   "outputs": [
    {
     "data": {
      "text/latex": [
       "$\\displaystyle \\alpha\\dot{\\theta}_1 =\\;\\left[ \\omega^{2}, \\  2 \\omega \\zeta, \\  1\\right]$"
      ],
      "text/plain": [
       "<IPython.core.display.Math object>"
      ]
     },
     "metadata": {},
     "output_type": "display_data"
    },
    {
     "data": {
      "text/latex": [
       "$\\displaystyle \\beta\\dot{\\theta}_1 =\\;\\left[ 0, \\  \\frac{2 e \\gamma \\zeta}{\\omega}, \\  \\frac{e \\gamma}{\\omega^{2}}\\right]$"
      ],
      "text/plain": [
       "<IPython.core.display.Math object>"
      ]
     },
     "metadata": {},
     "output_type": "display_data"
    },
    {
     "data": {
      "text/latex": [
       "$\\displaystyle \\alpha\\dot{\\theta}_2 =\\;\\left[ \\omega^{2}, \\  2 \\omega \\zeta, \\  1\\right]$"
      ],
      "text/plain": [
       "<IPython.core.display.Math object>"
      ]
     },
     "metadata": {},
     "output_type": "display_data"
    },
    {
     "data": {
      "text/latex": [
       "$\\displaystyle \\beta\\dot{\\theta}_2 =\\;\\left[ 0, \\  e \\gamma\\right]$"
      ],
      "text/plain": [
       "<IPython.core.display.Math object>"
      ]
     },
     "metadata": {},
     "output_type": "display_data"
    }
   ],
   "source": [
    "obj_theta1_dot = numden_coeff(theta1_dot_subd/ym, p)\n",
    "obj_theta2_dot = numden_coeff(theta2_dot_subd/ym, p)\n",
    "\n",
    "atheta1 = obj_theta1_dot.lst_denum_coeff[::-1]\n",
    "btheta1 = obj_theta1_dot.lst_num_coeff[::-1]\n",
    "\n",
    "atheta2 = obj_theta2_dot.lst_denum_coeff[::-1]\n",
    "btheta2 = obj_theta2_dot.lst_num_coeff[::-1]\n",
    "\n",
    "display(Math(\"\\\\alpha\\\\dot{\\\\theta}_1 =\\;\"+latex(atheta1)))\n",
    "display(Math(\"\\\\beta\\\\dot{\\\\theta}_1 =\\;\"+latex(btheta1)))\n",
    "\n",
    "display(Math(\"\\\\alpha\\\\dot{\\\\theta}_2 =\\;\"+latex(atheta2)))\n",
    "display(Math(\"\\\\beta\\\\dot{\\\\theta}_2 =\\;\"+latex(btheta2)))"
   ]
  },
  {
   "cell_type": "code",
   "execution_count": 141,
   "id": "7637602f",
   "metadata": {},
   "outputs": [
    {
     "data": {
      "text/latex": [
       "$\\displaystyle \\dddot{\\theta}_1 =\\;- 1.8 \\ddot{\\theta}_{1} + 3.33333333333333 \\ddot{y}_{m} e - 2.25 \\dot{\\theta}_{1} + 6.0 \\dot{y}_{m} e$"
      ],
      "text/plain": [
       "<IPython.core.display.Math object>"
      ]
     },
     "metadata": {},
     "output_type": "display_data"
    },
    {
     "data": {
      "text/latex": [
       "$\\displaystyle \\dddot{\\theta}_2 =\\;- 1.8 \\ddot{\\theta}_{2} - 2.25 \\dot{\\theta}_{2} + 7.5 \\dot{y}_{m} e$"
      ],
      "text/plain": [
       "<IPython.core.display.Math object>"
      ]
     },
     "metadata": {},
     "output_type": "display_data"
    }
   ],
   "source": [
    "gamma_val = 7.5\n",
    "omega_val = 1.5\n",
    "zeta_val = 0.6\n",
    "\n",
    "ym_d, ym_dd = sp.symbols(\"\\\\dot{y}_{m} \\\\ddot{y}_{m}\")\n",
    "theta1d, theta1dd = sp.symbols(\"\\\\dot{\\\\theta}_{1} \\\\ddot{\\\\theta}_{1}\") \n",
    "theta2d, theta2dd = sp.symbols(\"\\\\dot{\\\\theta}_{2} \\\\ddot{\\\\theta}_{2}\") \n",
    "\n",
    "theta1_ddd = -atheta1[0]*theta1d - atheta1[1]*theta1dd + btheta1[1]*ym_d + btheta1[2]*ym_dd\n",
    "theta2_ddd = -atheta2[0]*theta2d - atheta2[1]*theta2dd + btheta2[1]*ym_d\n",
    "\n",
    "theta1_ddd_subd = theta1_ddd.subs([(gamma, gamma_val),(omega,omega_val), (zeta, zeta_val)])\n",
    "theta2_ddd_subd = theta2_ddd.subs([(gamma, gamma_val),(omega,omega_val), (zeta, zeta_val)])\n",
    "\n",
    "theta1_ddd_func = sp.lambdify([theta1d, theta1dd, ym_d, ym_dd, e], theta1_ddd_subd)\n",
    "theta2_ddd_func = sp.lambdify([theta2d, theta2dd, ym_d, e], theta2_ddd_subd)\n",
    "\n",
    "display(Math(\"\\\\dddot{\\\\theta}_1 =\\;\"+latex(theta1_ddd_subd)))\n",
    "display(Math(\"\\\\dddot{\\\\theta}_2 =\\;\"+latex(theta2_ddd_subd)))"
   ]
  },
  {
   "cell_type": "code",
   "execution_count": 146,
   "id": "abebb5c8",
   "metadata": {},
   "outputs": [],
   "source": [
    "def ode_solver(y0, t, a, b, omega, zeta, gamma):\n",
    "    \n",
    "    ym, ym_dot = y0[0], y0[1]\n",
    "    y, y_dot = y0[2], y0[3]\n",
    "    theta1, theta1_dot, theta1_dotdot = y0[4], y0[5], y0[6]\n",
    "    theta2, theta2_dot, theta2_dotdot = y0[7], y0[8], y0[9]\n",
    "    u = y0[10]\n",
    "    u_c_ode = m.sin(m.pi*t/15) >= 0\n",
    "    \n",
    "    ym_dotdot = -2*omega*zeta*ym_dot - omega**2*ym + omega**2*u_c_ode\n",
    "    y_dotdot = -(a + b*theta2)*y_dot + b*theta1*(y - u_c_ode)\n",
    "    e = y_dot - ym_dot\n",
    "\n",
    "    theta1_dotdotdot = theta1_ddd_func(theta1_dot, theta1_dotdot, ym_dot, ym_dotdot, e)\n",
    "    theta2_dotdotdot = theta2_ddd_func(theta2_dot, theta2_dotdot, ym_dot, e)\n",
    "    \n",
    "    u = theta1*(y - u_c_ode) - theta2*y_dot\n",
    "    \n",
    "    return [ym_dot, ym_dotdot,\n",
    "            y_dot, y_dotdot,\n",
    "            theta1_dot, theta1_dotdot, theta1_dotdotdot,\n",
    "            theta2_dot, theta2_dotdot, theta2_dotdotdot,\n",
    "            u]"
   ]
  },
  {
   "cell_type": "code",
   "execution_count": 147,
   "id": "ca98cd78",
   "metadata": {},
   "outputs": [
    {
     "data": {
      "image/png": "[encoded data removed]",
      "text/plain": [
       "<Figure size 432x288 with 1 Axes>"
      ]
     },
     "metadata": {
      "needs_background": "light"
     },
     "output_type": "display_data"
    },
    {
     "data": {
      "image/png": "[encoded data removed]",
      "text/plain": [
       "<Figure size 432x288 with 1 Axes>"
      ]
     },
     "metadata": {
      "needs_background": "light"
     },
     "output_type": "display_data"
    },
    {
     "data": {
      "image/png": "[encoded data removed]",
      "text/plain": [
       "<Figure size 432x288 with 1 Axes>"
      ]
     },
     "metadata": {
      "needs_background": "light"
     },
     "output_type": "display_data"
    }
   ],
   "source": [
    "T_val = 0.1\n",
    "sample_depth = int(10/T_val) # 1000 samples totalling 100 seconds (since sample time T is 0.1 secons)\n",
    "sample_range = range(sample_depth)\n",
    "starting_samples = 3\n",
    "\n",
    "gamma_val = 7.5\n",
    "omega_val = 1.5\n",
    "zeta_val = 0.6\n",
    "a_val = 3\n",
    "b_val = 1\n",
    "\n",
    "# calculation of input signal\n",
    "t = [i for i in sample_range]\n",
    "u_c = np.ones(sample_depth)\n",
    "u_c[np.where([m.sin(t[i]*m.pi*T_val/15)<=0 for i in sample_range])] = 0\n",
    "\n",
    "y0 = [0]*11\n",
    "\n",
    "ode_res = odeint(ode_solver, y0, t, args=(a_val, b_val,\n",
    "                                          omega_val,\n",
    "                                          zeta_val,\n",
    "                                          gamma_val))\n",
    "plt.plot(t, ode_res[:, 0])\n",
    "plt.plot(t, ode_res[:, 2])\n",
    "\n",
    "plt.plot(t, ode_res[:,2] - ode_res[:,0])\n",
    "plt.show()\n",
    "\n",
    "plt.plot(t, ode_res[:,10])\n",
    "plt.show()\n",
    "\n",
    "plt.plot(t, ode_res[:,4])\n",
    "plt.plot(t, ode_res[:,7])\n",
    "plt.show()"
   ]
  },
  {
   "cell_type": "code",
   "execution_count": 154,
   "id": "c91aba2a",
   "metadata": {},
   "outputs": [
    {
     "data": {
      "text/latex": [
       "$\\displaystyle \\alpha\\dot{\\theta}_1 =\\;\\left[ \\omega^{2}, \\  2 \\omega \\zeta, \\  1\\right]$"
      ],
      "text/plain": [
       "<IPython.core.display.Math object>"
      ]
     },
     "metadata": {},
     "output_type": "display_data"
    },
    {
     "data": {
      "text/latex": [
       "$\\displaystyle \\beta\\dot{\\theta}_1 =\\;\\left[ 0, \\  \\frac{2 \\zeta}{\\omega}, \\  \\frac{1}{\\omega^{2}}\\right]$"
      ],
      "text/plain": [
       "<IPython.core.display.Math object>"
      ]
     },
     "metadata": {},
     "output_type": "display_data"
    },
    {
     "data": {
      "text/latex": [
       "$\\displaystyle \\alpha\\dot{\\theta}_2 =\\;\\left[ \\omega^{2}, \\  2 \\omega \\zeta, \\  1\\right]$"
      ],
      "text/plain": [
       "<IPython.core.display.Math object>"
      ]
     },
     "metadata": {},
     "output_type": "display_data"
    },
    {
     "data": {
      "text/latex": [
       "$\\displaystyle \\beta\\dot{\\theta}_2 =\\;\\left[ 0, \\  1\\right]$"
      ],
      "text/plain": [
       "<IPython.core.display.Math object>"
      ]
     },
     "metadata": {},
     "output_type": "display_data"
    }
   ],
   "source": [
    "obj_theta1_dot = numden_coeff(theta1_dot_subd/(ym*e*gamma), p)\n",
    "obj_theta2_dot = numden_coeff(theta2_dot_subd/(ym*e*gamma), p)\n",
    "\n",
    "atheta1 = obj_theta1_dot.lst_denum_coeff[::-1]\n",
    "btheta1 = obj_theta1_dot.lst_num_coeff[::-1]\n",
    "\n",
    "atheta2 = obj_theta2_dot.lst_denum_coeff[::-1]\n",
    "btheta2 = obj_theta2_dot.lst_num_coeff[::-1]\n",
    "\n",
    "display(Math(\"\\\\alpha\\\\dot{\\\\theta}_1 =\\;\"+latex(atheta1)))\n",
    "display(Math(\"\\\\beta\\\\dot{\\\\theta}_1 =\\;\"+latex(btheta1)))\n",
    "\n",
    "display(Math(\"\\\\alpha\\\\dot{\\\\theta}_2 =\\;\"+latex(atheta2)))\n",
    "display(Math(\"\\\\beta\\\\dot{\\\\theta}_2 =\\;\"+latex(btheta2)))"
   ]
  },
  {
   "cell_type": "code",
   "execution_count": 155,
   "id": "f46eeca8",
   "metadata": {},
   "outputs": [
    {
     "data": {
      "text/latex": [
       "$\\displaystyle \\dddot{\\theta}_1 =\\;1.8 \\ddot{\\theta}_{1} + 0.444444444444444 \\ddot{y}_{m} + 2.25 \\dot{\\theta}_{1} + 0.8 \\dot{y}_{m}$"
      ],
      "text/plain": [
       "<IPython.core.display.Math object>"
      ]
     },
     "metadata": {},
     "output_type": "display_data"
    },
    {
     "data": {
      "text/latex": [
       "$\\displaystyle \\dddot{\\theta}_2 =\\;1.8 \\ddot{\\theta}_{2} + 2.25 \\dot{\\theta}_{2} + \\dot{y}_{m}$"
      ],
      "text/plain": [
       "<IPython.core.display.Math object>"
      ]
     },
     "metadata": {},
     "output_type": "display_data"
    }
   ],
   "source": [
    "gamma_val = 7.5\n",
    "omega_val = 1.5\n",
    "zeta_val = 0.6\n",
    "\n",
    "ym_d, ym_dd = sp.symbols(\"\\\\dot{y}_{m} \\\\ddot{y}_{m}\")\n",
    "theta1d, theta1dd = sp.symbols(\"\\\\dot{\\\\theta}_{1} \\\\ddot{\\\\theta}_{1}\") \n",
    "theta2d, theta2dd = sp.symbols(\"\\\\dot{\\\\theta}_{2} \\\\ddot{\\\\theta}_{2}\") \n",
    "\n",
    "theta1_ddd = atheta1[0]*theta1d + atheta1[1]*theta1dd + btheta1[1]*ym_d + btheta1[2]*ym_dd\n",
    "theta2_ddd = atheta2[0]*theta2d + atheta2[1]*theta2dd + btheta2[1]*ym_d\n",
    "\n",
    "theta1_ddd_subd = theta1_ddd.subs([(gamma, gamma_val),(omega,omega_val), (zeta, zeta_val)])\n",
    "theta2_ddd_subd = theta2_ddd.subs([(gamma, gamma_val),(omega,omega_val), (zeta, zeta_val)])\n",
    "\n",
    "theta1_ddd_func = sp.lambdify([theta1d, theta1dd, ym_d, ym_dd], theta1_ddd_subd)\n",
    "theta2_ddd_func = sp.lambdify([theta2d, theta2dd, ym_d], theta2_ddd_subd)\n",
    "\n",
    "display(Math(\"\\\\dddot{\\\\theta}_1 =\\;\"+latex(theta1_ddd_subd)))\n",
    "display(Math(\"\\\\dddot{\\\\theta}_2 =\\;\"+latex(theta2_ddd_subd)))"
   ]
  },
  {
   "cell_type": "code",
   "execution_count": 156,
   "id": "6de10714",
   "metadata": {},
   "outputs": [],
   "source": [
    "def ode_solver(y0, t, a, b, omega, zeta, gamma, alpha):\n",
    "    \n",
    "    ym, ym_dot = y0[0], y0[1]\n",
    "    y, y_dot = y0[2], y0[3]\n",
    "    theta1, theta1_dot, theta1_dotdot = y0[4], y0[5], y0[6]\n",
    "    theta2, theta2_dot, theta2_dotdot = y0[7], y0[8], y0[9]\n",
    "    theta1_norm = y0[10]\n",
    "    theta2_norm = y0[11]\n",
    "    u = y0[12]\n",
    "    u_c_ode = m.sin(m.pi*t/15) >= 0\n",
    "    \n",
    "    ym_dotdot = -2*omega*zeta*ym_dot - omega**2*ym + omega**2*u_c_ode\n",
    "    y_dotdot = -(a + b*theta2_norm)*y_dot + b*theta1_norm*(y - u_c_ode)\n",
    "    e = y_dot - ym_dot\n",
    "\n",
    "    theta1_dotdotdot = theta1_ddd_func(theta1_dot, theta1_dotdot, ym_dot, ym_dotdot)\n",
    "    theta2_dotdotdot = theta2_ddd_func(theta2_dot, theta2_dotdot, ym_dot)\n",
    "#     theta1_dotdotdot = 2*zeta*omega*theta1_dotdot + omega**2*theta1_dot + (2*zeta*omega*ym_dot + ym_dotdot)/omega**2\n",
    "#     theta2_dotdotdot = 2*zeta*omega*theta2_dotdot + omega**2*theta2_dot + ym_dot\n",
    "    \n",
    "    theta1_n = theta1*e*gamma/(alpha + (theta1)**2)\n",
    "    theta2_n = theta2*e*gamma/(alpha + (theta2)**2)\n",
    "    \n",
    "    u = theta1_norm*(y - u_c_ode) - theta2_norm*y_dot\n",
    "    \n",
    "    return [ym_dot, ym_dotdot,\n",
    "            y_dot, y_dotdot,\n",
    "            theta1_dot, theta1_dotdot, theta1_dotdotdot,\n",
    "            theta2_dot, theta2_dotdot, theta2_dotdotdot,\n",
    "            theta1_n,\n",
    "            theta2_n,\n",
    "            u]"
   ]
  },
  {
   "cell_type": "code",
   "execution_count": 158,
   "id": "0b8aa881",
   "metadata": {},
   "outputs": [
    {
     "data": {
      "image/png": "[encoded data removed]",
      "text/plain": [
       "<Figure size 432x288 with 1 Axes>"
      ]
     },
     "metadata": {
      "needs_background": "light"
     },
     "output_type": "display_data"
    },
    {
     "data": {
      "image/png": "[encoded data removed]",
      "text/plain": [
       "<Figure size 432x288 with 1 Axes>"
      ]
     },
     "metadata": {
      "needs_background": "light"
     },
     "output_type": "display_data"
    },
    {
     "data": {
      "image/png": "[encoded data removed]",
      "text/plain": [
       "<Figure size 432x288 with 1 Axes>"
      ]
     },
     "metadata": {
      "needs_background": "light"
     },
     "output_type": "display_data"
    }
   ],
   "source": [
    "T_val = 0.1\n",
    "sample_depth = int(10/T_val) # 1000 samples totalling 100 seconds (since sample time T is 0.1 secons)\n",
    "sample_range = range(sample_depth)\n",
    "starting_samples = 3\n",
    "\n",
    "alpha_val = 0.5\n",
    "gamma_val = 7.5\n",
    "omega_val = 1.5\n",
    "zeta_val = 0.6\n",
    "a_val = 3\n",
    "b_val = 1\n",
    "\n",
    "# calculation of input signal\n",
    "t = [i for i in sample_range]\n",
    "u_c = np.ones(sample_depth)\n",
    "u_c[np.where([m.sin(t[i]*m.pi*T_val/15)<=0 for i in sample_range])] = 0\n",
    "\n",
    "y0 = [0]*13\n",
    "\n",
    "ode_res = odeint(ode_solver, y0, t, args=(a_val, b_val,\n",
    "                                          omega_val,\n",
    "                                          zeta_val,\n",
    "                                          gamma_val,\n",
    "                                          alpha_val))\n",
    "plt.plot(t, ode_res[:, 0])\n",
    "plt.plot(t, ode_res[:, 2])\n",
    "\n",
    "plt.plot(t, ode_res[:,2] - ode_res[:,0])\n",
    "plt.show()\n",
    "\n",
    "plt.plot(t, ode_res[:,12])\n",
    "plt.show()\n",
    "\n",
    "plt.plot(t, ode_res[:,10])\n",
    "plt.plot(t, ode_res[:,11])\n",
    "plt.show()"
   ]
  },
  {
   "cell_type": "code",
   "execution_count": null,
   "id": "8e1e496d",
   "metadata": {},
   "outputs": [],
   "source": []
  },
  {
   "cell_type": "code",
   "execution_count": null,
   "id": "dfbc18df",
   "metadata": {},
   "outputs": [],
   "source": []
  },
  {
   "cell_type": "code",
   "execution_count": 52,
   "id": "4afa44ba",
   "metadata": {},
   "outputs": [
    {
     "data": {
      "text/latex": [
       "$\\displaystyle \\frac{p \\left(2 \\omega \\zeta + p\\right)}{\\omega^{2} \\left(\\omega^{2} + 2 \\omega p \\zeta + p^{2}\\right)}$"
      ],
      "text/plain": [
       "p*(2*omega*zeta + p)/(omega**2*(omega**2 + 2*omega*p*zeta + p**2))"
      ]
     },
     "metadata": {},
     "output_type": "display_data"
    },
    {
     "data": {
      "text/latex": [
       "$\\displaystyle \\frac{p}{\\omega^{2} + 2 \\omega p \\zeta + p^{2}}$"
      ],
      "text/plain": [
       "p/(omega**2 + 2*omega*p*zeta + p**2)"
      ]
     },
     "metadata": {},
     "output_type": "display_data"
    }
   ],
   "source": [
    "e1 = theta1_dot_subd/(gamma*e*ym)\n",
    "e2 = theta2_dot_subd/(gamma*e*ym)\n",
    "\n",
    "display(e1)\n",
    "display(e2)"
   ]
  },
  {
   "cell_type": "code",
   "execution_count": 76,
   "id": "701fa632",
   "metadata": {},
   "outputs": [
    {
     "data": {
      "text/latex": [
       "$\\displaystyle \\alpha\\dot{e}_1 =\\;\\left[ \\omega^{2}, \\  2 \\omega \\zeta, \\  1\\right]$"
      ],
      "text/plain": [
       "<IPython.core.display.Math object>"
      ]
     },
     "metadata": {},
     "output_type": "display_data"
    },
    {
     "data": {
      "text/latex": [
       "$\\displaystyle \\beta\\dot{e}_1 =\\;\\left[ 0, \\  \\frac{2 \\zeta}{\\omega}, \\  \\frac{1}{\\omega^{2}}\\right]$"
      ],
      "text/plain": [
       "<IPython.core.display.Math object>"
      ]
     },
     "metadata": {},
     "output_type": "display_data"
    },
    {
     "data": {
      "text/latex": [
       "$\\displaystyle \\alpha\\dot{e}_2 =\\;\\left[ \\omega^{2}, \\  2 \\omega \\zeta, \\  1\\right]$"
      ],
      "text/plain": [
       "<IPython.core.display.Math object>"
      ]
     },
     "metadata": {},
     "output_type": "display_data"
    },
    {
     "data": {
      "text/latex": [
       "$\\displaystyle \\beta\\dot{e}_2 =\\;\\left[ 0, \\  1\\right]$"
      ],
      "text/plain": [
       "<IPython.core.display.Math object>"
      ]
     },
     "metadata": {},
     "output_type": "display_data"
    }
   ],
   "source": [
    "obj_e1_dot = numden_coeff(theta1_dot_subd/(gamma*e*ym), p)\n",
    "obj_e2_dot = numden_coeff(theta2_dot_subd/(gamma*e*ym), p)\n",
    "\n",
    "ae1 = obj_e1_dot.lst_denum_coeff[::-1]\n",
    "be1 = obj_e1_dot.lst_num_coeff[::-1]\n",
    "\n",
    "ae2 = obj_e2_dot.lst_denum_coeff[::-1]\n",
    "be2 = obj_e2_dot.lst_num_coeff[::-1]\n",
    "\n",
    "display(Math(\"\\\\alpha\\\\dot{e}_1 =\\;\"+latex(ae1)))\n",
    "display(Math(\"\\\\beta\\\\dot{e}_1 =\\;\"+latex(be1)))\n",
    "\n",
    "display(Math(\"\\\\alpha\\\\dot{e}_2 =\\;\"+latex(ae2)))\n",
    "display(Math(\"\\\\beta\\\\dot{e}_2 =\\;\"+latex(be2)))"
   ]
  },
  {
   "cell_type": "code",
   "execution_count": 77,
   "id": "d37c58d3",
   "metadata": {},
   "outputs": [
    {
     "data": {
      "text/latex": [
       "$\\displaystyle \\dddot{e}_1 =\\;- 1.8 \\ddot{e}_{1} + 0.444444444444444 \\ddot{y}_{m} - 2.25 \\dot{e}_{1} + 0.8 \\dot{y}_{m}$"
      ],
      "text/plain": [
       "<IPython.core.display.Math object>"
      ]
     },
     "metadata": {},
     "output_type": "display_data"
    },
    {
     "data": {
      "text/latex": [
       "$\\displaystyle \\dddot{e}_2 =\\;- 1.8 \\ddot{e}_{2} - 2.25 \\dot{e}_{2} + \\dot{y}_{m}$"
      ],
      "text/plain": [
       "<IPython.core.display.Math object>"
      ]
     },
     "metadata": {},
     "output_type": "display_data"
    }
   ],
   "source": [
    "gamma_val = 7.5\n",
    "omega_val = 1.5\n",
    "zeta_val = 0.6\n",
    "\n",
    "ym_d, ym_dd = sp.symbols(\"\\\\dot{y}_{m} \\\\ddot{y}_{m}\")\n",
    "e1d, e1dd = sp.symbols(\"\\\\dot{e}_{1} \\\\ddot{e}_{1}\") \n",
    "e2d, e2dd = sp.symbols(\"\\\\dot{e}_{2} \\\\ddot{e}_{2}\") \n",
    "\n",
    "e1_ddd = -ae1[0]*e1d - ae1[1]*e1dd + be1[1]*ym_d + be1[2]*ym_dd\n",
    "e2_ddd = -ae2[0]*e2d - ae2[1]*e2dd + be2[1]*ym_d\n",
    "\n",
    "e1_ddd_subd = e1_ddd.subs([(gamma, gamma_val),(omega,omega_val), (zeta, zeta_val)])\n",
    "e2_ddd_subd = e2_ddd.subs([(gamma, gamma_val),(omega,omega_val), (zeta, zeta_val)])\n",
    "\n",
    "e1_ddd_func = sp.lambdify([e1d, e1dd, ym_d, ym_dd, e], e1_ddd_subd)\n",
    "e2_ddd_func = sp.lambdify([e2d, e2dd, ym_d, e], e2_ddd_subd)\n",
    "\n",
    "display(Math(\"\\\\dddot{e}_1 =\\;\"+latex(e1_ddd_subd)))\n",
    "display(Math(\"\\\\dddot{e}_2 =\\;\"+latex(e2_ddd_subd)))"
   ]
  },
  {
   "cell_type": "code",
   "execution_count": 84,
   "id": "e4bd7bb4",
   "metadata": {},
   "outputs": [],
   "source": [
    "def ode_solver(y0, t, a, b, omega, zeta, gamma, alpha):\n",
    "    \n",
    "    ym, ym_dot = y0[0], y0[1]\n",
    "    y, y_dot = y0[2], y0[3]\n",
    "    theta1, theta1_dot, theta1_dotdot = y0[4], y0[5], y0[6]\n",
    "    theta2, theta2_dot, theta2_dotdot = y0[7], y0[8], y0[9]\n",
    "    u = y0[10]\n",
    "    e1, e1_dot, e1_dotdot = y0[11], y0[12], y0[13]\n",
    "    e2, e2_dot, e2_dotdot = y0[14], y0[15], y0[16]\n",
    "    \n",
    "    norm_theta1 = y0[17]\n",
    "    norm_theta2 = y0[18]\n",
    "    \n",
    "    \n",
    "    u_c_ode = m.sin(m.pi*t/15) >= 0\n",
    "    \n",
    "    ym_dotdot = -2*omega*zeta*ym_dot - omega**2*ym + omega**2*u_c_ode\n",
    "    y_dotdot = -(a + b*theta2)*y_dot + b*theta1*(y - u_c_ode)\n",
    "    e = y_dot - ym_dot\n",
    "\n",
    "    theta1_dotdotdot = theta1_ddd_func(theta1_dot, theta1_dotdot, ym_dot, ym_dotdot, e)\n",
    "    theta2_dotdotdot = theta2_ddd_func(theta2_dot, theta2_dotdot, ym_dot, e)\n",
    "    \n",
    "    e1_dotdotdot = e1_ddd_func(e1_dot, e1_dotdot, ym_dot, ym_dotdot, e)\n",
    "    e2_dotdotdot = e2_ddd_func(e2_dot, e2_dotdot, ym_dot, e)\n",
    "    \n",
    "    norm_theta1 = theta1_dotdotdot/(alpha + e1_dotdotdot**2)\n",
    "    norm_theta2 = theta2_dotdotdot/(alpha + e2_dotdotdot**2)\n",
    "    \n",
    "    u = theta1*(y - u_c_ode) - theta2*y_dot\n",
    "    \n",
    "    return [ym_dot, ym_dotdot,\n",
    "            y_dot, y_dotdot,\n",
    "            theta1_dot, theta1_dotdot, norm_theta1,\n",
    "            theta2_dot, theta2_dotdot, norm_theta2,\n",
    "            e1, e1_dot, e1_dotdot,\n",
    "            e2, e2_dot, e2_dotdot,\n",
    "            norm_theta1,\n",
    "            norm_theta2,\n",
    "            u]"
   ]
  },
  {
   "cell_type": "code",
   "execution_count": 85,
   "id": "e1a99ec4",
   "metadata": {},
   "outputs": [
    {
     "name": "stderr",
     "output_type": "stream",
     "text": [
      "c:\\users\\clive\\appdata\\local\\programs\\python\\python39\\lib\\site-packages\\scipy\\integrate\\odepack.py:247: ODEintWarning: Excess work done on this call (perhaps wrong Dfun type). Run with full_output = 1 to get quantitative information.\n",
      "  warnings.warn(warning_msg, ODEintWarning)\n"
     ]
    },
    {
     "data": {
      "image/png": "[encoded data removed]",
      "text/plain": [
       "<Figure size 432x288 with 1 Axes>"
      ]
     },
     "metadata": {
      "needs_background": "light"
     },
     "output_type": "display_data"
    },
    {
     "data": {
      "image/png": "[encoded data removed]",
      "text/plain": [
       "<Figure size 432x288 with 1 Axes>"
      ]
     },
     "metadata": {
      "needs_background": "light"
     },
     "output_type": "display_data"
    },
    {
     "data": {
      "image/png": "[encoded data removed]",
      "text/plain": [
       "<Figure size 432x288 with 1 Axes>"
      ]
     },
     "metadata": {
      "needs_background": "light"
     },
     "output_type": "display_data"
    }
   ],
   "source": [
    "T_val = 0.1\n",
    "sample_depth = int(10/T_val) # 1000 samples totalling 100 seconds (since sample time T is 0.1 secons)\n",
    "sample_range = range(sample_depth)\n",
    "starting_samples = 3\n",
    "\n",
    "alpha_val = 0.5\n",
    "gamma_val = 7.5\n",
    "omega_val = 1.5\n",
    "zeta_val = 0.6\n",
    "a_val = 3\n",
    "b_val = 1\n",
    "\n",
    "# calculation of input signal\n",
    "t = [i for i in sample_range]\n",
    "u_c = np.ones(sample_depth)\n",
    "u_c[np.where([m.sin(t[i]*m.pi*T_val/15)<=0 for i in sample_range])] = 0\n",
    "\n",
    "y0 = [0]*19\n",
    "\n",
    "ode_res = odeint(ode_solver, y0, t, args=(a_val, b_val,\n",
    "                                          omega_val,\n",
    "                                          zeta_val,\n",
    "                                          gamma_val,\n",
    "                                          alpha_val))\n",
    "plt.plot(t, ode_res[:, 0])\n",
    "plt.plot(t, ode_res[:, 2])\n",
    "\n",
    "plt.plot(t, ode_res[:,2] - ode_res[:,0])\n",
    "plt.show()\n",
    "\n",
    "plt.plot(t, ode_res[:,10])\n",
    "plt.show()\n",
    "\n",
    "plt.plot(t, ode_res[:,4])\n",
    "plt.plot(t, ode_res[:,7])\n",
    "plt.show()"
   ]
  },
  {
   "cell_type": "code",
   "execution_count": null,
   "id": "481f304a",
   "metadata": {},
   "outputs": [],
   "source": [
    "def ode_solver(y0, t, a, b, omega, zeta, gamma):\n",
    "    \n",
    "    ym, ym_dot = y0[0], y0[1]\n",
    "    y, y_dot = y0[2], y0[3]\n",
    "    theta1, theta1_dot, theta1_dotdot = y0[4], y0[5], y0[6]\n",
    "    theta2, theta2_dot, theta2_dotdot = y0[7], y0[8], y0[9]\n",
    "    u = y0[10]\n",
    "    u_c_ode = m.sin(m.pi*t/15) >= 0\n",
    "    \n",
    "    ym_dotdot = -2*omega*zeta*ym_dot - omega**2*ym + omega**2*u_c_ode\n",
    "    y_dotdot = -(a + b*theta2)*y_dot + b*theta1*(y - u_c_ode)\n",
    "    e = y_dot - ym_dot\n",
    "\n",
    "    theta1_dotdotdot = theta1_ddd_func(theta1_dot, theta1_dotdot, ym_dot, ym_dotdot, e)\n",
    "    theta2_dotdotdot = theta2_ddd_func(theta2_dot, theta2_dotdot, ym_dot, e)\n",
    "    \n",
    "    u = theta1*(y - u_c_ode) - theta2*y_dot\n",
    "    \n",
    "    return [ym_dot, ym_dotdot,\n",
    "            y_dot, y_dotdot,\n",
    "            theta1_dot, theta1_dotdot, theta1_dotdotdot,\n",
    "            theta2_dot, theta2_dotdot, theta2_dotdotdot,\n",
    "            u]"
   ]
  },
  {
   "cell_type": "markdown",
   "id": "2f8e25db",
   "metadata": {},
   "source": [
    "### Billinear Transformations"
   ]
  },
  {
   "cell_type": "code",
   "execution_count": 15,
   "id": "45676cb7",
   "metadata": {},
   "outputs": [],
   "source": [
    "# T, q, y_dot = sp.symbols('T q \\\\dot{y}')\n",
    "\n",
    "# bilinear_T = (2/T)*((1 - q**(-1))/(1 + q**(-1))) # what will be subsituted for s (kept actual equations in terms of s)"
   ]
  },
  {
   "cell_type": "code",
   "execution_count": null,
   "id": "65af23eb",
   "metadata": {},
   "outputs": [],
   "source": []
  },
  {
   "cell_type": "code",
   "execution_count": 16,
   "id": "ed6ad600",
   "metadata": {},
   "outputs": [],
   "source": [
    "# # y_dot = (-y*p**2 + b*u)/a\n",
    "# yDot_eq = sp.solve(sp.Eq(y_dot*p, (-a*y_dot + b*u)), y_dot)[0]\n",
    "# yDot_eq"
   ]
  },
  {
   "cell_type": "code",
   "execution_count": null,
   "id": "b574db7b",
   "metadata": {},
   "outputs": [],
   "source": []
  },
  {
   "cell_type": "code",
   "execution_count": 17,
   "id": "a86a47fd",
   "metadata": {},
   "outputs": [],
   "source": [
    "# ym_b = collect(simplify(expand(Gm.subs(p,bilinear_T))), q)\n",
    "# # y_b = collect(simplify(expand((y_eq.subs([(theta1, theta_1), (theta2, theta_2)])/uc).subs(p,bilinear_T))), q)\n",
    "# # y_b = collect(simplify(expand((y_eq/uc).subs(p,bilinear_T))), q)\n",
    "# yDot_b = collect(simplify(expand((yDot_eq/u).subs(p,bilinear_T))), q)\n",
    "# # yDot_b = collect(expand(simplify(expand((yDot_eq/u).subs(p,bilinear_T)))), q)\n",
    "# theta1_dot_b = collect(simplify(expand((theta1_dot_subd/ym).subs(p,bilinear_T))), q)\n",
    "# theta2_dot_b = collect(simplify(expand((theta2_dot_subd/ym).subs(p,bilinear_T))), q)\n",
    "\n",
    "# display(Math(\"y_m =\\;\"+latex(ym_b)))\n",
    "# display(Math(\"\\\\dot{y} =\\;\"+latex(yDot_b)))\n",
    "# display(Math(\"\\\\dot{\\\\theta}_1 =\\;\"+latex(theta1_dot_b)))\n",
    "# display(Math(\"\\\\dot{\\\\theta}_2 =\\;\"+latex(theta2_dot_b)))"
   ]
  },
  {
   "cell_type": "code",
   "execution_count": 18,
   "id": "be57d5c9",
   "metadata": {},
   "outputs": [],
   "source": [
    "# obj_ym = numden_coeff(ym_b, q)\n",
    "# obj_yDot = numden_coeff(yDot_b, q)\n",
    "# obj_theta1_dot = numden_coeff(theta1_dot_b, q)\n",
    "# obj_theta2_dot = numden_coeff(theta2_dot_b, q)\n",
    "\n",
    "# aym = obj_ym.lst_denum_coeff\n",
    "# bym = obj_ym.lst_num_coeff\n",
    "\n",
    "# ayDot = obj_yDot.lst_denum_coeff\n",
    "# byDot = obj_yDot.lst_num_coeff\n",
    "\n",
    "# atheta1 = obj_theta1_dot.lst_denum_coeff\n",
    "# btheta1 = obj_theta1_dot.lst_num_coeff\n",
    "\n",
    "# atheta2 = obj_theta2_dot.lst_denum_coeff\n",
    "# btheta2 = obj_theta2_dot.lst_num_coeff\n",
    "\n",
    "\n",
    "# display(Math(\"\\\\alpha y_m =\\;\"+latex(aym)))\n",
    "# display(Math(\"\\\\beta y_m =\\;\"+latex(bym)))\n",
    "\n",
    "# display(Math(\"\\\\alpha \\\\dot{y} =\\;\"+latex(ayDot)))\n",
    "# display(Math(\"\\\\beta \\\\dot{y} =\\;\"+latex(byDot)))\n",
    "\n",
    "# display(Math(\"\\\\alpha\\\\dot{\\\\theta}_1 =\\;\"+latex(atheta1)))\n",
    "# display(Math(\"\\\\beta\\\\dot{\\\\theta}_1 =\\;\"+latex(btheta1)))\n",
    "\n",
    "# display(Math(\"\\\\alpha\\\\dot{\\\\theta}_2 =\\;\"+latex(atheta2)))\n",
    "# display(Math(\"\\\\beta\\\\dot{\\\\theta}_2 =\\;\"+latex(btheta2)))"
   ]
  },
  {
   "cell_type": "code",
   "execution_count": 19,
   "id": "7c7feb06",
   "metadata": {},
   "outputs": [],
   "source": [
    "# ym_k, ym_k_1, ym_k_2, uc_k, uc_k_1, uc_k_2 = sp.symbols(\"y_{m}(k) y_{m}(k-1) y_{m}(k-2) u_{c}(k) u_{c}(k-1) u_{c}(k-2)\")\n",
    "# yDot_k_1, u_k, u_k_1 = sp.symbols(\"\\\\dot{y}(k-1) u(k) u(k-1)\")\n",
    "# theta1Dot_k_1, theta1Dot_k_2 = sp.symbols(\"\\\\dot{\\\\theta}_{1}(k-1) \\\\dot{\\\\theta}_{1}(k-2)\") \n",
    "# theta2Dot_k_1, theta2Dot_k_2 = sp.symbols(\"\\\\dot{\\\\theta}_{2}(k-1) \\\\dot{\\\\theta}_{2}(k-2)\") \n",
    "\n",
    "# ym_eq = -ym_k_1*aym[1] - ym_k_2*aym[2] + uc_k*bym[0] + uc_k_1*bym[1] + uc_k_2*bym[2]\n",
    "# yDot_eq = -yDot_k_1*ayDot[1] + u_k*byDot[0] + u_k_1*byDot[1]\n",
    "# theta1Dot_eq = -theta1Dot_k_1*atheta1[1] - theta1Dot_k_2*atheta1[2] + ym_k*btheta1[0] + ym_k_1*btheta1[1] + ym_k_2*btheta1[2]\n",
    "# theta2Dot_eq = -theta2Dot_k_1*atheta2[1] - theta2Dot_k_2*atheta2[2] + ym_k*btheta2[0] + ym_k_2*btheta2[2]\n",
    "\n",
    "# display(Math(\"y_m =\\;\"+latex(ym_eq)))\n",
    "# display(Math(\"\\\\dot{y} =\\;\"+latex(yDot_eq)))\n",
    "# display(Math(\"\\\\dot{\\\\theta}_1 =\\;\"+latex(theta1Dot_eq)))\n",
    "# display(Math(\"\\\\dot{\\\\theta}_2 =\\;\"+latex(theta2Dot_eq)))"
   ]
  },
  {
   "cell_type": "markdown",
   "id": "8db9663c",
   "metadata": {},
   "source": [
    "## Part 2"
   ]
  },
  {
   "cell_type": "code",
   "execution_count": 20,
   "id": "7d08c532",
   "metadata": {},
   "outputs": [],
   "source": [
    "# T_val = 0.1\n",
    "# gamma_val = 5\n",
    "# omega_val = 1.5\n",
    "# zeta_val = 0.6\n",
    "# a_val = 3\n",
    "# b_val = 1\n",
    "\n",
    "# ym_eq_subd = ym_eq.subs([(T, T_val), (omega, omega_val), (zeta, zeta_val)])\n",
    "# yDot_eq_subd = yDot_eq.subs([(T, T_val), (a, a_val), (b,b_val)])\n",
    "# theta1Dot_eq_subd = theta1Dot_eq.subs([(T, T_val), (omega, omega_val), (zeta, zeta_val), (gamma, gamma_val)])\n",
    "# theta2Dot_eq_subd = theta2Dot_eq.subs([(T, T_val), (omega, omega_val), (zeta, zeta_val), (gamma, gamma_val)])\n",
    "\n",
    "# ym_func = sp.lambdify([ym_k_1, ym_k_2, uc_k, uc_k_1, uc_k_2], ym_eq_subd)\n",
    "# yDot_func = sp.lambdify([yDot_k_1, u_k, u_k_1], yDot_eq_subd)\n",
    "# theta1Dot_func = sp.lambdify([theta1Dot_k_1, theta1Dot_k_2, ym_k, ym_k_1, ym_k_2, e], theta1Dot_eq_subd)\n",
    "# theta2Dot_func = sp.lambdify([theta2Dot_k_1, theta2Dot_k_2, ym_k, ym_k_2, e], theta2Dot_eq_subd)\n",
    "\n",
    "# display(Math(\"y_m =\\;\"+latex(ym_eq_subd)))\n",
    "# display(Math(\"\\\\dot{y} =\\;\"+latex(yDot_eq_subd)))\n",
    "# display(Math(\"\\\\dot{\\\\theta}_1 =\\;\"+latex(theta1Dot_eq_subd)))\n",
    "# display(Math(\"\\\\dot{\\\\theta}_2 =\\;\"+latex(theta2Dot_eq_subd)))"
   ]
  },
  {
   "cell_type": "code",
   "execution_count": 21,
   "id": "492a455e",
   "metadata": {},
   "outputs": [],
   "source": [
    "# sample_depth = int(100/T_val) # 1000 samples totalling 100 seconds (since sample time T is 0.1 secons)\n",
    "# sample_range = range(sample_depth)\n",
    "# starting_samples = 3\n",
    "\n",
    "# # calculation of input signal\n",
    "# t = [i for i in sample_range]\n",
    "# u_c = np.ones(sample_depth)\n",
    "# u_c[np.where([m.sin(t[i]*m.pi*T_val/15)<=0 for i in sample_range])] = 0\n",
    "\n",
    "# y = [0]*starting_samples\n",
    "# y_m = [0]*starting_samples\n",
    "# u = [0]*starting_samples\n",
    "# theta1 = [0]*starting_samples\n",
    "# theta2 = [0]*starting_samples\n",
    "# e_val = 0\n",
    "\n",
    "# y_dot = [0]*starting_samples\n",
    "# theta1_dot = [0]*starting_samples\n",
    "# theta2_dot = [0]*starting_samples\n",
    "\n",
    "# for i in range(starting_samples, sample_depth):\n",
    "#     u.append(theta1[-1]*(y[-1] - u_c[i]) - theta2[-1]*y_dot[-1])\n",
    "# #     u.append((omega_val**2/b_val)*(y[-1] - u_c[i-1]) - ((-a_val + 2*omega_val*zeta_val)/b_val)*y_dot[-1])\n",
    "    \n",
    "#     y_m.append(np.reshape(ym_func(y_m[-1], y_m[-2], u_c[i], u_c[i-1], u_c[i-2]), ()))\n",
    "#     y_dot.append(np.reshape(yDot_func(y_dot[-1], u_c[i], u_c[i-1]), ()))\n",
    "#     theta1_dot.append(np.reshape(theta1Dot_func(theta1_dot[-1], theta1_dot[-2], y_m[i], y_m[i-1], y_m[i-2], e_val), ()))\n",
    "#     theta2_dot.append(np.reshape(theta2Dot_func(theta2_dot[-1], theta2_dot[-2], y_m[i], y_m[i-2], e_val), ()))\n",
    "    \n",
    "#     y.append(y[-1] + T_val*y_dot[i-1])\n",
    "#     theta1.append(theta1[-1] + T_val*theta1_dot[i-1])\n",
    "#     theta2.append(theta2[-1] + T_val*theta2_dot[i-1])\n",
    "#     e_val = y[i] - y_m[i]\n",
    "\n",
    "# plt.plot(y)\n",
    "# plt.plot(y_m)\n",
    "# plt.show()\n",
    "\n",
    "# plt.plot(u_c)\n",
    "# plt.plot(u)\n",
    "# plt.show()\n",
    "\n",
    "# plt.plot(theta1)\n",
    "# plt.plot(theta2)\n",
    "# plt.show()"
   ]
  },
  {
   "cell_type": "code",
   "execution_count": null,
   "id": "80ca00aa",
   "metadata": {},
   "outputs": [],
   "source": []
  },
  {
   "cell_type": "markdown",
   "id": "7995ac51",
   "metadata": {},
   "source": [
    "# Problem 2"
   ]
  },
  {
   "cell_type": "markdown",
   "id": "3805af84",
   "metadata": {},
   "source": [
    "## Part 1"
   ]
  },
  {
   "cell_type": "code",
   "execution_count": 22,
   "id": "7450ce6b",
   "metadata": {},
   "outputs": [
    {
     "data": {
      "text/latex": [
       "$\\displaystyle y = \\frac{b \\theta_{1} u_{c}(t)}{b \\theta_{2} + p}$"
      ],
      "text/plain": [
       "<IPython.core.display.Math object>"
      ]
     },
     "metadata": {},
     "output_type": "display_data"
    }
   ],
   "source": [
    "y, u, uc, ym, e = sp.symbols(\"y(t) u(t) u_{c}(t) y_m e\")\n",
    "alpha, beta, gamma, b, theta1, theta2, p = sp.symbols(\"alpha beta gamma b theta_1 theta_2 p\")\n",
    "\n",
    "V1 = 0.5*e**2\n",
    "V2 = 1/(b*gamma*2)*(alpha - b*theta2)**2\n",
    "V3 = 1/(b*gamma*2)*(beta - b*theta1)**2\n",
    "V = V1 + V2 + V3\n",
    "\n",
    "y_eq = b*u/p\n",
    "u_eq = theta1*uc - theta2*y\n",
    "\n",
    "y_eq = sp.solve(sp.Eq(y,y_eq.subs(u, u_eq)),y)[0]\n",
    "display(Math(\"y = \"+latex(y_eq)))"
   ]
  },
  {
   "cell_type": "code",
   "execution_count": 23,
   "id": "d5823721",
   "metadata": {},
   "outputs": [
    {
     "data": {
      "text/latex": [
       "$\\displaystyle y_{m} = \\frac{\\beta u_{c}(t)}{\\alpha + p}$"
      ],
      "text/plain": [
       "<IPython.core.display.Math object>"
      ]
     },
     "metadata": {},
     "output_type": "display_data"
    }
   ],
   "source": [
    "Bm = beta\n",
    "Am = p + alpha\n",
    "\n",
    "Gm = Bm/Am\n",
    "\n",
    "ym_eq = sp.solve(sp.Eq(ym,Gm*uc), ym)[0]\n",
    "display(Math(\"y_{m} = \"+latex(ym_eq)))"
   ]
  },
  {
   "cell_type": "code",
   "execution_count": 24,
   "id": "81f17fb3",
   "metadata": {},
   "outputs": [
    {
     "data": {
      "text/latex": [
       "$\\displaystyle \\theta_1 =\\;\\frac{\\beta}{b}$"
      ],
      "text/plain": [
       "<IPython.core.display.Math object>"
      ]
     },
     "metadata": {},
     "output_type": "display_data"
    },
    {
     "data": {
      "text/latex": [
       "$\\displaystyle \\theta_2 =\\;\\frac{\\alpha}{b}$"
      ],
      "text/plain": [
       "<IPython.core.display.Math object>"
      ]
     },
     "metadata": {},
     "output_type": "display_data"
    }
   ],
   "source": [
    "num, den = fraction(y_eq)\n",
    "num_m, den_m = fraction(ym_eq)\n",
    "\n",
    "theta_1 = sp.solve(sp.Eq(num, num_m), theta1)[0]\n",
    "theta_2 = sp.solve(sp.Eq(den, den_m), theta2)[0]\n",
    "\n",
    "display(Math(\"\\\\theta_1 =\\;\"+latex(theta_1)))\n",
    "display(Math(\"\\\\theta_2 =\\;\"+latex(theta_2)))"
   ]
  },
  {
   "cell_type": "code",
   "execution_count": 25,
   "id": "011dbd6c",
   "metadata": {},
   "outputs": [
    {
     "data": {
      "text/latex": [
       "$\\displaystyle \\dot{y} =\\;b \\left(\\theta_{1} u_{c}(t) - \\theta_{2} y(t)\\right)$"
      ],
      "text/plain": [
       "<IPython.core.display.Math object>"
      ]
     },
     "metadata": {},
     "output_type": "display_data"
    },
    {
     "data": {
      "text/latex": [
       "$\\displaystyle \\dot{y}_m =\\;- \\alpha y_{m} + \\beta u_{c}(t)$"
      ],
      "text/plain": [
       "<IPython.core.display.Math object>"
      ]
     },
     "metadata": {},
     "output_type": "display_data"
    },
    {
     "data": {
      "text/latex": [
       "$\\displaystyle \\dot{e} =\\;\\alpha y_{m} - b \\theta_{2} y(t) + u_{c}(t) \\left(b \\theta_{1} - \\beta\\right)\\;=\\;\\alpha y(t) + b \\theta_{1} u_{c}(t) - b \\theta_{2} y(t) - \\beta u_{c}(t) - e$"
      ],
      "text/plain": [
       "<IPython.core.display.Math object>"
      ]
     },
     "metadata": {},
     "output_type": "display_data"
    }
   ],
   "source": [
    "y, u, uc, ym = sp.symbols(\"y(t) u(t) u_{c}(t) y_m\")\n",
    "alpha, beta, b, theta1, theta2, p = sp.symbols(\"alpha beta b theta_1 theta_2 p\")\n",
    "\n",
    "y_dot = b*u_eq\n",
    "ym_dot = -alpha*ym + beta*uc\n",
    "e_dot = collect(expand(y_dot - ym_dot), y)\n",
    "e_dot_poly = sp.Poly(e_dot, [y,uc])\n",
    "e_dot_poly_subd = e_dot_poly.as_expr().subs([(theta1, theta_1), (theta2, theta_2)])\n",
    "\n",
    "e_dot_alt = uc*(b*theta1 - beta) - b*theta2*y - e + alpha*y\n",
    "e_dot_alt_poly = sp.Poly(e_dot_alt, [e, theta1, theta2])\n",
    "\n",
    "\n",
    "V_subd = V.subs([(e,0), (theta1, theta_1), (theta2, theta_2)])\n",
    "\n",
    "display(Math(\"\\\\dot{y} =\\;\"+latex(y_dot)))\n",
    "display(Math(\"\\\\dot{y}_m =\\;\"+latex(ym_dot)))\n",
    "display(Math(\"\\\\dot{e} =\\;\"+latex(e_dot_poly.as_expr())+\"\\;=\\;\"+\n",
    "            latex(e_dot_alt_poly.as_expr())))\n",
    "# display(e_dot_alt_poly.coeffs()[3])"
   ]
  },
  {
   "cell_type": "markdown",
   "id": "2ff7330a",
   "metadata": {},
   "source": [
    "Subing in $\\theta_1$ and $\\theta_2$ into $\\dot{e}$ gives {{e_dot_poly_subd}}, therefore, if $\\theta_1$ and $\\theta_2$ converge to their true values, then $y$ must converge to $y_m$"
   ]
  },
  {
   "cell_type": "markdown",
   "id": "1a51e266",
   "metadata": {},
   "source": [
    "Subing these results into the equation provided in the assingment document gives\n",
    "\n",
    "$V(e) =\\;$ {{V}} $\\;=\\;$ {{V_subd}}"
   ]
  },
  {
   "cell_type": "markdown",
   "id": "33420d52",
   "metadata": {},
   "source": [
    "Therefore, the first condition for the lyapunov function is satisfied (i.e. V = 0 at the equilibrium point)"
   ]
  },
  {
   "cell_type": "code",
   "execution_count": 26,
   "id": "b4e6426f",
   "metadata": {},
   "outputs": [
    {
     "data": {
      "text/latex": [
       "$\\displaystyle \\dot{V}(e) =\\;- \\frac{\\dot{\\theta}_1 \\left(- b \\theta_{1} + \\beta\\right)}{\\gamma} - \\frac{\\dot{\\theta}_2 \\left(\\alpha - b \\theta_{2}\\right)}{\\gamma} + \\dot{e} e$"
      ],
      "text/plain": [
       "<IPython.core.display.Math object>"
      ]
     },
     "metadata": {},
     "output_type": "display_data"
    },
    {
     "data": {
      "text/latex": [
       "$\\displaystyle \\dot{V}(e) =\\;\\frac{\\dot{\\theta}_1 \\left(b \\theta_{1} - \\beta\\right)}{\\gamma} + \\frac{\\dot{\\theta}_2 \\left(- \\alpha + b \\theta_{2}\\right)}{\\gamma} - e^{2} + u_{c}(t) \\left(b e \\theta_{1} - \\beta e\\right) + y(t) \\left(\\alpha e - b e \\theta_{2}\\right)$"
      ],
      "text/plain": [
       "<IPython.core.display.Math object>"
      ]
     },
     "metadata": {},
     "output_type": "display_data"
    }
   ],
   "source": [
    "eDot, theta1Dot, theta2Dot = sp.symbols(\"\\\\dot{e} \\\\dot{\\\\theta}_1 \\\\dot{\\\\theta}_2\")\n",
    "\n",
    "V_dot = nsimplify(diff(V1, e))*eDot+ diff(V2,theta2)*theta2Dot + diff(V3,theta1)*theta1Dot\n",
    "V_dot_subd = V_dot.subs([(eDot, e_dot_alt)])\n",
    "V_dot_subd_alt = V_dot.subs([(eDot, e_dot_alt), (theta1, theta_1), (theta2, theta_2)])\n",
    "V_dot_subd_poly = sp.Poly(V_dot_subd, [theta1Dot, theta2Dot, y, uc])\n",
    "\n",
    "display(Math(\"\\\\dot{V}(e) =\\;\"+latex(V_dot)))\n",
    "display(Math(\"\\\\dot{V}(e) =\\;\"+latex(V_dot_subd_poly.as_expr())))"
   ]
  },
  {
   "cell_type": "markdown",
   "id": "91fbfa8d",
   "metadata": {},
   "source": [
    "Subbing the true values for  $\\theta_1$ and $\\theta_2$ into $\\dot{V}(e)$ gives\n",
    "\n",
    "$\\dot{V}(e)=\\;${{V_dot_subd_alt}}\n",
    "\n",
    "Which means that $\\dot{V}(e)$ is decreasing thus satisfying Lyanupov's second criteria. "
   ]
  },
  {
   "cell_type": "markdown",
   "id": "6b03d989",
   "metadata": {},
   "source": [
    "## Derivation of Control Parameters"
   ]
  },
  {
   "cell_type": "code",
   "execution_count": 27,
   "id": "0d0d76c9",
   "metadata": {},
   "outputs": [],
   "source": [
    "lst_coeffs = V_dot_subd_poly.coeffs()\n",
    "equ_1 = lst_coeffs[0]*theta1Dot + lst_coeffs[3]*uc\n",
    "equ_2 = lst_coeffs[1]*theta2Dot + lst_coeffs[2]*y\n",
    "\n",
    "\n",
    "theta1_dot = sp.solve(sp.Eq(equ_1, 0), theta1Dot)[0]\n",
    "theta2_dot = sp.solve(sp.Eq(equ_2, 0), theta2Dot)[0]\n",
    "\n",
    "# display(Math(\"\\\\dot{\\\\theta}_1 =\\;\"+latex(theta1_dot)))\n",
    "# display(Math(\"\\\\dot{\\\\theta}_2 =\\;\"+latex(theta2_dot)))"
   ]
  },
  {
   "cell_type": "markdown",
   "id": "a89e939a",
   "metadata": {},
   "source": [
    "The equations for updating the control parameters can be obtained from\n",
    "\n",
    "{{equ_1}}$\\;=0$ \n",
    "\n",
    "$\\Rightarrow \\; \\dot{\\theta}_1 = \\;${{theta1_dot}}\n",
    "\n",
    "and \n",
    "\n",
    "{{equ_2}}$\\;=0$ \n",
    "\n",
    "$\\Rightarrow \\; \\dot{\\theta}_2 = \\;${{theta2_dot}}"
   ]
  },
  {
   "cell_type": "markdown",
   "id": "5649d610",
   "metadata": {},
   "source": [
    "## Part 2"
   ]
  },
  {
   "cell_type": "code",
   "execution_count": 28,
   "id": "7354fd15",
   "metadata": {},
   "outputs": [
    {
     "data": {
      "image/png": "[encoded data removed]",
      "text/plain": [
       "<Figure size 432x288 with 1 Axes>"
      ]
     },
     "metadata": {
      "needs_background": "light"
     },
     "output_type": "display_data"
    },
    {
     "data": {
      "text/plain": [
       "[<matplotlib.lines.Line2D at 0x1bf978a3c10>]"
      ]
     },
     "execution_count": 28,
     "metadata": {},
     "output_type": "execute_result"
    },
    {
     "data": {
      "image/png": "[encoded data removed]",
      "text/plain": [
       "<Figure size 432x288 with 1 Axes>"
      ]
     },
     "metadata": {
      "needs_background": "light"
     },
     "output_type": "display_data"
    }
   ],
   "source": [
    "T = 0.01\n",
    "sample_depth = int(100/T) # 1000 samples totalling 100 seconds (since sample time T is 0.1 secons)\n",
    "sample_range = range(sample_depth)\n",
    "\n",
    "t = [i for i in sample_range]\n",
    "uc = np.ones(sample_depth)\n",
    "uc[np.where([m.sin(t[i]*m.pi*T/15)<=0 for i in sample_range])] = 0\n",
    "\n",
    "# actual parameters\n",
    "b = 2\n",
    "beta = 1\n",
    "alpha = 1\n",
    "gamma = 0.5\n",
    "\n",
    "y = [0]\n",
    "ym = [0]\n",
    "u = [0]\n",
    "e = 0\n",
    "\n",
    "theta_1 = [0]\n",
    "theta_2 = [0]\n",
    "\n",
    "for i in range(sample_depth):\n",
    "    theta_1.append(theta_1[i] - T*e*gamma*uc[i])\n",
    "    theta_2.append(theta_2[i] + T*e*gamma*y[i])\n",
    "    \n",
    "    y.append(y[i] + T*b*(theta_1[-1]*uc[i] - theta_2[-1]*y[i]))\n",
    "    ym.append(ym[i] + T*(-alpha*ym[i] + beta*uc[i]))\n",
    "    \n",
    "    e = y[i] - ym[i]\n",
    "y.pop(-1)\n",
    "theta_1.pop(-1)\n",
    "theta_2.pop(-1)\n",
    "\n",
    "plt.plot(t,uc)\n",
    "plt.plot(t,y)\n",
    "plt.show()\n",
    "\n",
    "plt.plot(t, theta_1)\n",
    "plt.plot(t, theta_2)\n",
    "    "
   ]
  }
 ],
 "metadata": {
  "kernelspec": {
   "display_name": "Python 3 (ipykernel)",
   "language": "python",
   "name": "python3"
  },
  "language_info": {
   "codemirror_mode": {
    "name": "ipython",
    "version": 3
   },
   "file_extension": ".py",
   "mimetype": "text/x-python",
   "name": "python",
   "nbconvert_exporter": "python",
   "pygments_lexer": "ipython3",
   "version": "3.9.2"
  }
 },
 "nbformat": 4,
 "nbformat_minor": 5
}
