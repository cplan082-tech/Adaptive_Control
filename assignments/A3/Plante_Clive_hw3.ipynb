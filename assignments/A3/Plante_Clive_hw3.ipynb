{
 "cells": [
  {
   "cell_type": "code",
   "execution_count": 2,
   "id": "8f8693ae",
   "metadata": {},
   "outputs": [],
   "source": [
    "import pandas as pd\n",
    "import numpy as np\n",
    "import sympy as sp\n",
    "import math as m\n",
    "from sympy import collect, simplify, expand, fraction, latex, diff, cancel, nsimplify\n",
    "from IPython.display import display, Markdown, Math\n",
    "import matplotlib.pyplot as plt"
   ]
  },
  {
   "cell_type": "code",
   "execution_count": 20,
   "id": "ed4516a0",
   "metadata": {},
   "outputs": [],
   "source": [
    "def theta_hat_ploter(df, theta0, title, line_width=1.2):\n",
    "    lst_color = ['b', 'y', 'g', 'r']\n",
    "    lst_labels = df.columns\n",
    "    graph = sns.lineplot(data=df, dashes=False)\n",
    "\n",
    "    for i in range(len(theta0)):\n",
    "        graph.axhline(y=theta0[i], color=lst_color[i], linestyle='--', linewidth=line_width, label=lst_labels[i])\n",
    "        \n",
    "    plt.title(title, fontsize=20)\n",
    "    plt.ylabel('Magnitude of \"Theta_hat\"', fontsize=18)\n",
    "    plt.xlabel('Time Stamps \"t\"', fontsize=18)\n",
    "    plt.legend(bbox_to_anchor=(1.05, 1), \n",
    "               loc=2, \n",
    "               borderaxespad=0, \n",
    "               labels=lst_labels, \n",
    "               fontsize='xx-large')\n",
    "    plt.show()"
   ]
  },
  {
   "cell_type": "markdown",
   "id": "36e912d0",
   "metadata": {},
   "source": [
    "# Problem 1"
   ]
  },
  {
   "cell_type": "markdown",
   "id": "d82fb6b7",
   "metadata": {},
   "source": [
    "## Part 1"
   ]
  },
  {
   "cell_type": "code",
   "execution_count": 2,
   "id": "178ff239",
   "metadata": {},
   "outputs": [
    {
     "data": {
      "text/latex": [
       "$\\displaystyle y = - \\frac{b \\theta_{1} u_{c}(t)}{a p + b p \\theta_{2} - b \\theta_{1} + p^{2}}$"
      ],
      "text/plain": [
       "<IPython.core.display.Math object>"
      ]
     },
     "metadata": {},
     "output_type": "display_data"
    }
   ],
   "source": [
    "a, b, p = sp.symbols(\"a b p\")\n",
    "zeta, omega, theta1, theta2 = sp.symbols(\"zeta omega theta_1 theta_2\")\n",
    "y, u, uc, ym = sp.symbols(\"y(t) u(t) u_{c}(t) y_m\")\n",
    "\n",
    "y_eq = sp.solve(sp.Eq(y*p**2, (-a*p*y + b*u)), y)[0]\n",
    "\n",
    "u_eq = sp.solve(sp.Eq(u, (theta1*(y - uc) - theta2*p*y)), u)[0]\n",
    "y_eq = sp.solve(sp.Eq(y, y_eq.subs(u, u_eq)), y)[0]\n",
    "display(Math(\"y = \"+latex(y_eq)))"
   ]
  },
  {
   "cell_type": "code",
   "execution_count": 3,
   "id": "44d76341",
   "metadata": {},
   "outputs": [
    {
     "data": {
      "text/latex": [
       "$\\displaystyle G_{m} = \\frac{\\omega^{2}}{\\omega^{2} + 2 \\omega p \\zeta + p^{2}}$"
      ],
      "text/plain": [
       "<IPython.core.display.Math object>"
      ]
     },
     "metadata": {},
     "output_type": "display_data"
    }
   ],
   "source": [
    "bm0, am1, am0 = sp.symbols(\"b_{m0} a_{m1} a_{m0}\")\n",
    "\n",
    "b_m0 = omega**2\n",
    "a_m1 = 2*zeta*omega\n",
    "a_m0 = b_m0\n",
    "\n",
    "# Bm = bm0\n",
    "# Am = (p**2 + am1*p + bm0)\n",
    "\n",
    "Bm = omega**2\n",
    "Am = (p**2 + 2*zeta*omega*p + omega**2)\n",
    "\n",
    "Gm = Bm/Am\n",
    "Gm\n",
    "display(Math(\"G_{m} = \"+latex(Gm)))"
   ]
  },
  {
   "cell_type": "code",
   "execution_count": 4,
   "id": "50c79710",
   "metadata": {},
   "outputs": [
    {
     "data": {
      "text/latex": [
       "$\\displaystyle \\theta_1 =\\;- \\frac{\\omega^{2}}{b}$"
      ],
      "text/plain": [
       "<IPython.core.display.Math object>"
      ]
     },
     "metadata": {},
     "output_type": "display_data"
    },
    {
     "data": {
      "text/latex": [
       "$\\displaystyle \\theta_2 =\\;\\frac{- a + 2 \\omega \\zeta}{b}$"
      ],
      "text/plain": [
       "<IPython.core.display.Math object>"
      ]
     },
     "metadata": {},
     "output_type": "display_data"
    }
   ],
   "source": [
    "num, den = fraction(y_eq)\n",
    "num_m, den_m = fraction(Gm*uc)\n",
    "\n",
    "theta_1 = sp.solve(sp.Eq(num, num_m), theta1)[0]\n",
    "theta_2 = sp.solve(sp.Eq(den.subs(theta1, theta_1), den_m), theta2)[0]\n",
    "\n",
    "display(Math(\"\\\\theta_1 =\\;\"+latex(theta_1)))\n",
    "display(Math(\"\\\\theta_2 =\\;\"+latex(theta_2)))"
   ]
  },
  {
   "cell_type": "code",
   "execution_count": 5,
   "id": "2b94beaf",
   "metadata": {},
   "outputs": [
    {
     "data": {
      "text/latex": [
       "$\\displaystyle \\frac{\\partial e}{\\partial \\theta_1} =\\;- \\frac{b p u_{c}(t) \\left(a + b \\theta_{2} + p\\right)}{\\left(- b \\theta_{1} + p^{2} + p \\left(a + b \\theta_{2}\\right)\\right)^{2}}\\;=\\;- \\frac{b p y(t) \\left(2 \\omega \\zeta + p\\right)}{\\omega^{2} \\left(a p + \\omega^{2} + p^{2} + p \\left(- a + 2 \\omega \\zeta\\right)\\right)}\\;=\\;- \\frac{b p y(t) \\left(2 \\omega \\zeta + p\\right)}{\\omega^{2} \\left(\\omega^{2} + 2 \\omega p \\zeta + p^{2}\\right)}$"
      ],
      "text/plain": [
       "<IPython.core.display.Math object>"
      ]
     },
     "metadata": {},
     "output_type": "display_data"
    },
    {
     "data": {
      "text/latex": [
       "$\\displaystyle \\frac{\\partial e}{\\partial \\theta_2} =\\;\\frac{b^{2} p \\theta_{1} u_{c}(t)}{\\left(- b \\theta_{1} + p^{2} + p \\left(a + b \\theta_{2}\\right)\\right)^{2}}\\;=\\;- \\frac{b p y(t)}{a p + \\omega^{2} + p^{2} + p \\left(- a + 2 \\omega \\zeta\\right)}\\;=\\;- \\frac{b p y(t)}{\\omega^{2} + 2 \\omega p \\zeta + p^{2}}$"
      ],
      "text/plain": [
       "<IPython.core.display.Math object>"
      ]
     },
     "metadata": {},
     "output_type": "display_data"
    }
   ],
   "source": [
    "del_e_theta1 = collect(simplify(diff(y_eq, theta1)), p)\n",
    "del_e_theta2 = collect(simplify(diff(y_eq, theta2)), p)\n",
    "\n",
    "del_e_theta1_fact = simplify(cancel(del_e_theta1/y_eq)*y)\n",
    "num_theta1, den_theta1 = fraction(del_e_theta1_fact)\n",
    "\n",
    "del_e_theta2_fact = simplify(cancel(del_e_theta2/y_eq)*y)\n",
    "num_theta2, den_theta2 = fraction(del_e_theta2_fact)\n",
    "\n",
    "display(Math(\"\\\\frac{\\\\partial e}{\\\\partial \\\\theta_1} =\\;\"\n",
    "             +latex(del_e_theta1)+\"\\;=\\;\"\n",
    "             +latex(del_e_theta1_fact.subs([(theta1, theta_1), (theta2, theta_2)]))+\"\\;=\\;\"\n",
    "             +latex(num_theta1.subs(theta2,theta_2)/(Am*theta_1))))\n",
    "\n",
    "display(Math(\"\\\\frac{\\\\partial e}{\\\\partial \\\\theta_2} =\\;\"\n",
    "             +latex(del_e_theta2)+\"\\;=\\;\"\n",
    "             +latex(del_e_theta2_fact.subs([(theta1, theta_1), (theta2, theta_2)]))+\"\\;=\\;\"\n",
    "             +latex(num_theta2/Am)))"
   ]
  },
  {
   "cell_type": "code",
   "execution_count": null,
   "id": "e0b3ec66",
   "metadata": {},
   "outputs": [],
   "source": []
  },
  {
   "cell_type": "code",
   "execution_count": 6,
   "id": "0f35bd5b",
   "metadata": {},
   "outputs": [
    {
     "data": {
      "text/latex": [
       "$\\displaystyle \\frac{p \\left(a + b \\theta_{2} + p\\right)}{\\theta_{1} \\left(a p + b p \\theta_{2} - b \\theta_{1} + p^{2}\\right)}$"
      ],
      "text/plain": [
       "p*(a + b*theta_2 + p)/(theta_1*(a*p + b*p*theta_2 - b*theta_1 + p**2))"
      ]
     },
     "metadata": {},
     "output_type": "display_data"
    },
    {
     "data": {
      "text/latex": [
       "$\\displaystyle - \\frac{b p}{a p + b p \\theta_{2} - b \\theta_{1} + p^{2}}$"
      ],
      "text/plain": [
       "-b*p/(a*p + b*p*theta_2 - b*theta_1 + p**2)"
      ]
     },
     "metadata": {},
     "output_type": "display_data"
    }
   ],
   "source": [
    "display(simplify(cancel(del_e_theta1/y_eq)))\n",
    "display(simplify(cancel(del_e_theta2/y_eq)))"
   ]
  },
  {
   "cell_type": "markdown",
   "id": "7995ac51",
   "metadata": {},
   "source": [
    "# Problem 2"
   ]
  },
  {
   "cell_type": "markdown",
   "id": "3805af84",
   "metadata": {},
   "source": [
    "## Part 1"
   ]
  },
  {
   "cell_type": "code",
   "execution_count": 7,
   "id": "7450ce6b",
   "metadata": {},
   "outputs": [
    {
     "data": {
      "text/latex": [
       "$\\displaystyle y = \\frac{b \\theta_{1} u_{c}(t)}{b \\theta_{2} + p}$"
      ],
      "text/plain": [
       "<IPython.core.display.Math object>"
      ]
     },
     "metadata": {},
     "output_type": "display_data"
    }
   ],
   "source": [
    "y, u, uc, ym, e = sp.symbols(\"y(t) u(t) u_{c}(t) y_m e\")\n",
    "alpha, beta, gamma, b, theta1, theta2, p = sp.symbols(\"alpha beta gamma b theta_1 theta_2 p\")\n",
    "\n",
    "V1 = 0.5*e**2\n",
    "V2 = 1/(b*gamma*2)*(alpha - b*theta2)**2\n",
    "V3 = 1/(b*gamma*2)*(beta - b*theta1)**2\n",
    "V = V1 + V2 + V3\n",
    "\n",
    "y_eq = b*u/p\n",
    "u_eq = theta1*uc - theta2*y\n",
    "\n",
    "y_eq = sp.solve(sp.Eq(y,y_eq.subs(u, u_eq)),y)[0]\n",
    "display(Math(\"y = \"+latex(y_eq)))"
   ]
  },
  {
   "cell_type": "code",
   "execution_count": 8,
   "id": "d5823721",
   "metadata": {},
   "outputs": [
    {
     "data": {
      "text/latex": [
       "$\\displaystyle y_{m} = \\frac{\\beta u_{c}(t)}{\\alpha + p}$"
      ],
      "text/plain": [
       "<IPython.core.display.Math object>"
      ]
     },
     "metadata": {},
     "output_type": "display_data"
    }
   ],
   "source": [
    "Bm = beta\n",
    "Am = p + alpha\n",
    "\n",
    "Gm = Bm/Am\n",
    "\n",
    "ym_eq = sp.solve(sp.Eq(ym,Gm*uc), ym)[0]\n",
    "display(Math(\"y_{m} = \"+latex(ym_eq)))"
   ]
  },
  {
   "cell_type": "code",
   "execution_count": 9,
   "id": "81f17fb3",
   "metadata": {},
   "outputs": [
    {
     "data": {
      "text/latex": [
       "$\\displaystyle \\theta_1 =\\;\\frac{\\beta}{b}$"
      ],
      "text/plain": [
       "<IPython.core.display.Math object>"
      ]
     },
     "metadata": {},
     "output_type": "display_data"
    },
    {
     "data": {
      "text/latex": [
       "$\\displaystyle \\theta_2 =\\;\\frac{\\alpha}{b}$"
      ],
      "text/plain": [
       "<IPython.core.display.Math object>"
      ]
     },
     "metadata": {},
     "output_type": "display_data"
    }
   ],
   "source": [
    "num, den = fraction(y_eq)\n",
    "num_m, den_m = fraction(ym_eq)\n",
    "\n",
    "theta_1 = sp.solve(sp.Eq(num, num_m), theta1)[0]\n",
    "theta_2 = sp.solve(sp.Eq(den, den_m), theta2)[0]\n",
    "\n",
    "display(Math(\"\\\\theta_1 =\\;\"+latex(theta_1)))\n",
    "display(Math(\"\\\\theta_2 =\\;\"+latex(theta_2)))"
   ]
  },
  {
   "cell_type": "code",
   "execution_count": 10,
   "id": "011dbd6c",
   "metadata": {},
   "outputs": [
    {
     "data": {
      "text/latex": [
       "$\\displaystyle \\dot{y} =\\;b \\left(\\theta_{1} u_{c}(t) - \\theta_{2} y(t)\\right)$"
      ],
      "text/plain": [
       "<IPython.core.display.Math object>"
      ]
     },
     "metadata": {},
     "output_type": "display_data"
    },
    {
     "data": {
      "text/latex": [
       "$\\displaystyle \\dot{y}_m =\\;- \\alpha y_{m} + \\beta u_{c}(t)$"
      ],
      "text/plain": [
       "<IPython.core.display.Math object>"
      ]
     },
     "metadata": {},
     "output_type": "display_data"
    },
    {
     "data": {
      "text/latex": [
       "$\\displaystyle \\dot{e} =\\;\\alpha y_{m} - b \\theta_{2} y(t) + u_{c}(t) \\left(b \\theta_{1} - \\beta\\right)\\;=\\;\\alpha y(t) + b \\theta_{1} u_{c}(t) - b \\theta_{2} y(t) - \\beta u_{c}(t) - e$"
      ],
      "text/plain": [
       "<IPython.core.display.Math object>"
      ]
     },
     "metadata": {},
     "output_type": "display_data"
    },
    {
     "data": {
      "text/latex": [
       "$\\displaystyle \\alpha y(t) - \\beta u_{c}(t)$"
      ],
      "text/plain": [
       "alpha*y(t) - beta*u_{c}(t)"
      ]
     },
     "metadata": {},
     "output_type": "display_data"
    }
   ],
   "source": [
    "y, u, uc, ym = sp.symbols(\"y(t) u(t) u_{c}(t) y_m\")\n",
    "alpha, beta, b, theta1, theta2, p = sp.symbols(\"alpha beta b theta_1 theta_2 p\")\n",
    "\n",
    "y_dot = b*u_eq\n",
    "ym_dot = -alpha*ym + beta*uc\n",
    "e_dot = collect(expand(y_dot - ym_dot), y)\n",
    "e_dot_poly = sp.Poly(e_dot, [y,uc])\n",
    "e_dot_poly_subd = e_dot_poly.as_expr().subs([(theta1, theta_1), (theta2, theta_2)])\n",
    "\n",
    "e_dot_alt = uc*(b*theta1 - beta) - b*theta2*y - e + alpha*y\n",
    "e_dot_alt_poly = sp.Poly(e_dot_alt, [e, theta1, theta2])\n",
    "\n",
    "\n",
    "V_subd = V.subs([(e,0), (theta1, theta_1), (theta2, theta_2)])\n",
    "\n",
    "display(Math(\"\\\\dot{y} =\\;\"+latex(y_dot)))\n",
    "display(Math(\"\\\\dot{y}_m =\\;\"+latex(ym_dot)))\n",
    "display(Math(\"\\\\dot{e} =\\;\"+latex(e_dot_poly.as_expr())+\"\\;=\\;\"+\n",
    "            latex(e_dot_alt_poly.as_expr())))\n",
    "# display(e_dot_alt_poly.coeffs()[3])"
   ]
  },
  {
   "cell_type": "markdown",
   "id": "2ff7330a",
   "metadata": {},
   "source": [
    "Subing in $\\theta_1$ and $\\theta_2$ into $\\dot{e}$ gives {{e_dot_poly_subd}}, therefore, if $\\theta_1$ and $\\theta_2$ converge to their true values, then $y$ must converge to $y_m$"
   ]
  },
  {
   "cell_type": "markdown",
   "id": "1a51e266",
   "metadata": {},
   "source": [
    "Subing these results into the equation provided in the assingment document gives\n",
    "\n",
    "$V(e) =\\;$ {{V}} $\\;=\\;$ {{V_subd}}"
   ]
  },
  {
   "cell_type": "markdown",
   "id": "33420d52",
   "metadata": {},
   "source": [
    "Therefore, the first condition for the lyapunov function is satisfied (i.e. V = 0 at the equilibrium point)"
   ]
  },
  {
   "cell_type": "code",
   "execution_count": 11,
   "id": "b4e6426f",
   "metadata": {},
   "outputs": [
    {
     "data": {
      "text/latex": [
       "$\\displaystyle \\dot{V}(e) =\\;- \\frac{\\dot{\\theta}_1 \\left(- b \\theta_{1} + \\beta\\right)}{\\gamma} - \\frac{\\dot{\\theta}_2 \\left(\\alpha - b \\theta_{2}\\right)}{\\gamma} + \\dot{e} e$"
      ],
      "text/plain": [
       "<IPython.core.display.Math object>"
      ]
     },
     "metadata": {},
     "output_type": "display_data"
    },
    {
     "data": {
      "text/latex": [
       "$\\displaystyle \\dot{V}(e) =\\;\\frac{\\dot{\\theta}_1 \\left(b \\theta_{1} - \\beta\\right)}{\\gamma} + \\frac{\\dot{\\theta}_2 \\left(- \\alpha + b \\theta_{2}\\right)}{\\gamma} - e^{2} + u_{c}(t) \\left(b e \\theta_{1} - \\beta e\\right) + y(t) \\left(\\alpha e - b e \\theta_{2}\\right)$"
      ],
      "text/plain": [
       "<IPython.core.display.Math object>"
      ]
     },
     "metadata": {},
     "output_type": "display_data"
    }
   ],
   "source": [
    "eDot, theta1Dot, theta2Dot = sp.symbols(\"\\\\dot{e} \\\\dot{\\\\theta}_1 \\\\dot{\\\\theta}_2\")\n",
    "\n",
    "V_dot = nsimplify(diff(V1, e))*eDot+ diff(V2,theta2)*theta2Dot + diff(V3,theta1)*theta1Dot\n",
    "V_dot_subd = V_dot.subs([(eDot, e_dot_alt)])\n",
    "V_dot_subd_alt = V_dot.subs([(eDot, e_dot_alt), (theta1, theta_1), (theta2, theta_2)])\n",
    "V_dot_subd_poly = sp.Poly(V_dot_subd, [theta1Dot, theta2Dot, y, uc])\n",
    "\n",
    "display(Math(\"\\\\dot{V}(e) =\\;\"+latex(V_dot)))\n",
    "display(Math(\"\\\\dot{V}(e) =\\;\"+latex(V_dot_subd_poly.as_expr())))"
   ]
  },
  {
   "cell_type": "markdown",
   "id": "91fbfa8d",
   "metadata": {},
   "source": [
    "Subbing the true values for  $\\theta_1$ and $\\theta_2$ into $\\dot{V}(e)$ gives\n",
    "\n",
    "$\\dot{V}(e)=\\;${{V_dot_subd_alt}}\n",
    "\n",
    "Which means that $\\dot{V}(e)$ is decreasing thus satisfying Lyanupov's second criteria. "
   ]
  },
  {
   "cell_type": "markdown",
   "id": "6b03d989",
   "metadata": {},
   "source": [
    "## Derivation of Control Parameters"
   ]
  },
  {
   "cell_type": "code",
   "execution_count": 12,
   "id": "0d0d76c9",
   "metadata": {},
   "outputs": [],
   "source": [
    "lst_coeffs = V_dot_subd_poly.coeffs()\n",
    "equ_1 = lst_coeffs[0]*theta1Dot + lst_coeffs[3]*uc\n",
    "equ_2 = lst_coeffs[1]*theta2Dot + lst_coeffs[2]*y\n",
    "\n",
    "\n",
    "theta1_dot = sp.solve(sp.Eq(equ_1, 0), theta1Dot)[0]\n",
    "theta2_dot = sp.solve(sp.Eq(equ_2, 0), theta2Dot)[0]\n",
    "\n",
    "# display(Math(\"\\\\dot{\\\\theta}_1 =\\;\"+latex(theta1_dot)))\n",
    "# display(Math(\"\\\\dot{\\\\theta}_2 =\\;\"+latex(theta2_dot)))"
   ]
  },
  {
   "cell_type": "markdown",
   "id": "a89e939a",
   "metadata": {},
   "source": [
    "The equations for updating the control parameters can be obtained from\n",
    "\n",
    "{{equ_1}}$\\;=0$ \n",
    "\n",
    "$\\Rightarrow \\; \\dot{\\theta}_1 = \\;${{theta1_dot}}\n",
    "\n",
    "and \n",
    "\n",
    "{{equ_2}}$\\;=0$ \n",
    "\n",
    "$\\Rightarrow \\; \\dot{\\theta}_2 = \\;${{theta2_dot}}"
   ]
  },
  {
   "cell_type": "markdown",
   "id": "5649d610",
   "metadata": {},
   "source": [
    "## Part 2"
   ]
  },
  {
   "cell_type": "code",
   "execution_count": 42,
   "id": "7354fd15",
   "metadata": {},
   "outputs": [
    {
     "data": {
      "image/png": "[encoded data removed]",
      "text/plain": [
       "<Figure size 432x288 with 1 Axes>"
      ]
     },
     "metadata": {
      "needs_background": "light"
     },
     "output_type": "display_data"
    },
    {
     "data": {
      "text/plain": [
       "[<matplotlib.lines.Line2D at 0x20d0add82b0>]"
      ]
     },
     "execution_count": 42,
     "metadata": {},
     "output_type": "execute_result"
    },
    {
     "data": {
      "image/png": "[encoded data removed]",
      "text/plain": [
       "<Figure size 432x288 with 1 Axes>"
      ]
     },
     "metadata": {
      "needs_background": "light"
     },
     "output_type": "display_data"
    }
   ],
   "source": [
    "T = 0.01\n",
    "sample_depth = int(100/T) # 1000 samples totalling 100 seconds (since sample time T is 0.1 secons)\n",
    "sample_range = range(sample_depth)\n",
    "\n",
    "t = [i for i in sample_range]\n",
    "uc = np.ones(sample_depth)\n",
    "uc[np.where([m.sin(t[i]*m.pi*T/15)<=0 for i in sample_range])] = 0\n",
    "\n",
    "# actual parameters\n",
    "b = 2\n",
    "beta = 1\n",
    "alpha = 1\n",
    "gamma = 0.5\n",
    "\n",
    "y = [0]\n",
    "ym = [0]\n",
    "u = [0]\n",
    "e = 0\n",
    "\n",
    "theta_1 = [0]\n",
    "theta_2 = [0]\n",
    "\n",
    "for i in range(sample_depth):\n",
    "    theta_1.append(theta_1[i] - T*e*gamma*uc[i])\n",
    "    theta_2.append(theta_2[i] + T*e*gamma*y[i])\n",
    "    \n",
    "    y.append(y[i] + T*b*(theta_1[-1]*uc[i] - theta_2[-1]*y[i]))\n",
    "    ym.append(ym[i] + T*(-alpha*ym[i] + beta*uc[i]))\n",
    "    \n",
    "    e = y[i] - ym[i]\n",
    "y.pop(-1)\n",
    "theta_1.pop(-1)\n",
    "theta_2.pop(-1)\n",
    "\n",
    "plt.plot(t,uc)\n",
    "plt.plot(t,y)\n",
    "plt.show()\n",
    "\n",
    "plt.plot(t, theta_1)\n",
    "plt.plot(t, theta_2)\n",
    "    "
   ]
  }
 ],
 "metadata": {
  "kernelspec": {
   "display_name": "Python 3 (ipykernel)",
   "language": "python",
   "name": "python3"
  },
  "language_info": {
   "codemirror_mode": {
    "name": "ipython",
    "version": 3
   },
   "file_extension": ".py",
   "mimetype": "text/x-python",
   "name": "python",
   "nbconvert_exporter": "python",
   "pygments_lexer": "ipython3",
   "version": "3.9.2"
  }
 },
 "nbformat": 4,
 "nbformat_minor": 5
}
