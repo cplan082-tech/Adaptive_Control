{
 "cells": [
  {
   "cell_type": "code",
   "execution_count": 1,
   "id": "de19f6ec",
   "metadata": {},
   "outputs": [],
   "source": [
    "import numpy as np\n",
    "import sympy as sp\n",
    "import math as m\n",
    "from sympy import collect, simplify, expand, fraction, latex, diff, cancel, nsimplify\n",
    "from IPython.display import display, Markdown, Math\n",
    "from scipy.integrate import odeint\n",
    "import matplotlib.pyplot as plt\n",
    "plt.rcParams['figure.figsize'] = [20, 10]"
   ]
  },
  {
   "cell_type": "markdown",
   "id": "65b314d8",
   "metadata": {},
   "source": [
    "# Problem 1"
   ]
  },
  {
   "cell_type": "markdown",
   "id": "ff48a9b6",
   "metadata": {},
   "source": [
    "## Part 1"
   ]
  },
  {
   "cell_type": "code",
   "execution_count": 2,
   "id": "59f385d8",
   "metadata": {},
   "outputs": [
    {
     "data": {
      "text/latex": [
       "$\\displaystyle L^k(x_k,u_k) =\\;\\frac{r u_{k}^{2}}{2}$"
      ],
      "text/plain": [
       "<IPython.core.display.Math object>"
      ]
     },
     "metadata": {},
     "output_type": "display_data"
    },
    {
     "data": {
      "text/latex": [
       "$\\displaystyle f^k(x_k,u_k) =\\;\\alpha + u_{k} x_{k}$"
      ],
      "text/plain": [
       "<IPython.core.display.Math object>"
      ]
     },
     "metadata": {},
     "output_type": "display_data"
    },
    {
     "data": {
      "text/latex": [
       "$\\displaystyle H^k = L^k(x_k,u_k) + \\lambda_{k+1}f^k(x_k,u_k) =\\;\\lambda_{k+1} \\left(\\alpha + u_{k} x_{k}\\right) + \\frac{r u_{k}^{2}}{2}$"
      ],
      "text/plain": [
       "<IPython.core.display.Math object>"
      ]
     },
     "metadata": {},
     "output_type": "display_data"
    }
   ],
   "source": [
    "xk, uk, alpha, lam_k_1, r = sp.symbols(\"x_k u_k alpha \\lambda_{k+1} r\")\n",
    "\n",
    "x_k_1 = xk*uk + alpha\n",
    "f_k = x_k_1\n",
    "L_k = (r/2)*uk**2\n",
    "H_k = L_k + lam_k_1*f_k\n",
    "\n",
    "display(Math(\"L^k(x_k,u_k) =\\;\"+latex(L_k)))\n",
    "display(Math(\"f^k(x_k,u_k) =\\;\"+latex(f_k)))\n",
    "display(Math(\"H^k = L^k(x_k,u_k) + \\\\lambda_{k+1}f^k(x_k,u_k) =\\;\"+latex(H_k)))"
   ]
  },
  {
   "cell_type": "code",
   "execution_count": 3,
   "id": "1e2d565d",
   "metadata": {},
   "outputs": [
    {
     "data": {
      "text/latex": [
       "$\\displaystyle x_{k+1} =\\;\\alpha + u_{k} x_{k}\\;\\;\\;(State \\;Equation)$"
      ],
      "text/plain": [
       "<IPython.core.display.Math object>"
      ]
     },
     "metadata": {},
     "output_type": "display_data"
    },
    {
     "data": {
      "text/latex": [
       "$\\displaystyle \\lambda_k =\\;\\lambda_{k+1} u_{k}\\;\\;\\;(Costate \\;Equation)$"
      ],
      "text/plain": [
       "<IPython.core.display.Math object>"
      ]
     },
     "metadata": {},
     "output_type": "display_data"
    },
    {
     "data": {
      "text/latex": [
       "$\\displaystyle 0 =\\;\\lambda_{k+1} x_{k} + r u_{k}\\;\\;\\;(Stationary \\;Equation)$"
      ],
      "text/plain": [
       "<IPython.core.display.Math object>"
      ]
     },
     "metadata": {},
     "output_type": "display_data"
    }
   ],
   "source": [
    "x_k_plus_1 = diff(H_k, lam_k_1)\n",
    "lam_k = diff(H_k, xk)\n",
    "stat_cond = diff(H_k, uk)\n",
    "\n",
    "display(Math(\"x_{k+1} =\\;\"+latex(x_k_1)+\"\\;\\;\\;(State \\;Equation)\"))\n",
    "display(Math(\"\\\\lambda_k =\\;\"+latex(lam_k)+\"\\;\\;\\;(Costate \\;Equation)\"))\n",
    "display(Math(\"0 =\\;\"+latex(stat_cond)+\"\\;\\;\\;(Stationary \\;Equation)\"))"
   ]
  },
  {
   "cell_type": "markdown",
   "id": "b1a158ec",
   "metadata": {},
   "source": [
    "## Part 2"
   ]
  },
  {
   "cell_type": "code",
   "execution_count": 4,
   "id": "f746a14a",
   "metadata": {},
   "outputs": [
    {
     "data": {
      "text/markdown": [
       "Solving the stationary equation for $u_k$ gives"
      ],
      "text/plain": [
       "<IPython.core.display.Markdown object>"
      ]
     },
     "metadata": {},
     "output_type": "display_data"
    },
    {
     "data": {
      "text/latex": [
       "$\\displaystyle u_k =\\;- \\frac{\\lambda_{k+1} x_{k}}{r}$"
      ],
      "text/plain": [
       "<IPython.core.display.Math object>"
      ]
     },
     "metadata": {},
     "output_type": "display_data"
    },
    {
     "data": {
      "text/markdown": [
       "Subing this result into the state and costate equations gives"
      ],
      "text/plain": [
       "<IPython.core.display.Markdown object>"
      ]
     },
     "metadata": {},
     "output_type": "display_data"
    },
    {
     "data": {
      "text/latex": [
       "$\\displaystyle x_{k+1} =\\;- \\frac{\\lambda_{k+1} x_{k}^{2}}{r} + \\alpha$"
      ],
      "text/plain": [
       "<IPython.core.display.Math object>"
      ]
     },
     "metadata": {},
     "output_type": "display_data"
    },
    {
     "data": {
      "text/latex": [
       "$\\displaystyle \\lambda_k =\\;- \\frac{\\lambda_{k+1}^{2} x_{k}}{r}$"
      ],
      "text/plain": [
       "<IPython.core.display.Math object>"
      ]
     },
     "metadata": {},
     "output_type": "display_data"
    }
   ],
   "source": [
    "u_k = sp.solve(sp.Eq(0,stat_cond), uk)[0]\n",
    "\n",
    "x_k_1_subd = x_k_1.subs(uk, u_k)\n",
    "lam_k_subd = lam_k.subs(uk, u_k)\n",
    "\n",
    "display(Markdown(\"Solving the stationary equation for $u_k$ gives\"),\n",
    "        Math(\"u_k =\\;\"+latex(u_k)))\n",
    "display(Markdown(\"Subing this result into the state and costate equations gives\"),\n",
    "        Math(\"x_{k+1} =\\;\"+latex(x_k_1_subd)))\n",
    "display(Math(\"\\\\lambda_k =\\;\"+latex(lam_k_subd)))"
   ]
  },
  {
   "cell_type": "markdown",
   "id": "0fefa4d5",
   "metadata": {},
   "source": [
    "## Part 3"
   ]
  },
  {
   "cell_type": "code",
   "execution_count": 5,
   "id": "d663b4ca",
   "metadata": {},
   "outputs": [
    {
     "data": {
      "text/latex": [
       "$\\displaystyle \\lambda_1 =\\;- \\frac{\\lambda_{2}^{2} x_{1}}{r}$"
      ],
      "text/plain": [
       "<IPython.core.display.Math object>"
      ]
     },
     "metadata": {},
     "output_type": "display_data"
    },
    {
     "data": {
      "text/latex": [
       "$\\displaystyle x_1 =\\;\\frac{\\alpha r^{2}}{- \\lambda_{2}^{2} x_{0}^{2} + r^{2}}$"
      ],
      "text/plain": [
       "<IPython.core.display.Math object>"
      ]
     },
     "metadata": {},
     "output_type": "display_data"
    },
    {
     "data": {
      "text/latex": [
       "$\\displaystyle x_2 =\\;\\frac{\\alpha \\left(\\lambda_{2}^{4} x_{0}^{4} - 2 \\lambda_{2}^{2} r^{2} x_{0}^{2} - \\lambda_{2} \\alpha r^{3} + r^{4}\\right)}{\\lambda_{2}^{4} x_{0}^{4} - 2 \\lambda_{2}^{2} r^{2} x_{0}^{2} + r^{4}} = 0$"
      ],
      "text/plain": [
       "<IPython.core.display.Math object>"
      ]
     },
     "metadata": {},
     "output_type": "display_data"
    }
   ],
   "source": [
    "lam1, lam2, x0, x1, x2 = sp.symbols(\"\\lambda_1 \\lambda_2 x_0 x_1 x_2\")\n",
    "\n",
    "lam_1 = lam_k_subd.subs([(lam_k_1,lam2), (xk,x1)])\n",
    "x_1 = sp.solve(sp.Eq((x_k_1_subd.subs([(lam_k_1,lam_1), (xk,x0)])),x1), x1)[0]\n",
    "x_2 = simplify(expand(sp.Eq((x_k_1_subd.subs([(lam_k_1,lam2), (xk, x_1)])),0)))\n",
    "\n",
    "display(Math(\"\\\\lambda_1 =\\;\"+latex(lam_1)))\n",
    "display(Math(\"x_1 =\\;\"+latex(x_1)))\n",
    "display(Math(\"x_2 =\\;\"+latex(x_2)))"
   ]
  },
  {
   "cell_type": "code",
   "execution_count": 6,
   "id": "1f1e5dcc",
   "metadata": {},
   "outputs": [
    {
     "data": {
      "text/latex": [
       "$\\displaystyle \\lambda_{2}^{4} x_{0}^{4} - 2 \\lambda_{2}^{2} r^{2} x_{0}^{2} - \\lambda_{2} \\alpha r^{3} + r^{4} = 0$"
      ],
      "text/plain": [
       "Eq(\\lambda_2**4*x_0**4 - 2*\\lambda_2**2*r**2*x_0**2 - \\lambda_2*alpha*r**3 + r**4, 0)"
      ]
     },
     "execution_count": 6,
     "metadata": {},
     "output_type": "execute_result"
    }
   ],
   "source": [
    "num,den = fraction(x_2.lhs)\n",
    "char_eq = sp.Eq((num/alpha),0)\n",
    "char_eq"
   ]
  },
  {
   "cell_type": "markdown",
   "id": "5bdff6be",
   "metadata": {},
   "source": [
    "## Part 4"
   ]
  },
  {
   "cell_type": "code",
   "execution_count": 7,
   "id": "6dfd8107",
   "metadata": {},
   "outputs": [
    {
     "data": {
      "text/latex": [
       "$\\displaystyle u_0^{*} =\\;\\frac{\\lambda_{2}^{2} \\alpha x_{0}}{- \\lambda_{2}^{2} x_{0}^{2} + r^{2}}$"
      ],
      "text/plain": [
       "<IPython.core.display.Math object>"
      ]
     },
     "metadata": {},
     "output_type": "display_data"
    },
    {
     "data": {
      "text/latex": [
       "$\\displaystyle u_1^{*} =\\;- \\frac{\\lambda_{2} \\alpha r}{- \\lambda_{2}^{2} x_{0}^{2} + r^{2}}$"
      ],
      "text/plain": [
       "<IPython.core.display.Math object>"
      ]
     },
     "metadata": {},
     "output_type": "display_data"
    },
    {
     "data": {
      "text/latex": [
       "$\\displaystyle x_1^{*} =\\;\\frac{\\alpha r^{2}}{- \\lambda_{2}^{2} x_{0}^{2} + r^{2}}$"
      ],
      "text/plain": [
       "<IPython.core.display.Math object>"
      ]
     },
     "metadata": {},
     "output_type": "display_data"
    },
    {
     "data": {
      "text/latex": [
       "$\\displaystyle x_2 =\\;\\frac{\\alpha \\left(\\lambda_{2}^{4} x_{0}^{4} - 2 \\lambda_{2}^{2} r^{2} x_{0}^{2} - \\lambda_{2} \\alpha r^{3} + r^{4}\\right)}{\\lambda_{2}^{4} x_{0}^{4} - 2 \\lambda_{2}^{2} r^{2} x_{0}^{2} + r^{4}}$"
      ],
      "text/plain": [
       "<IPython.core.display.Math object>"
      ]
     },
     "metadata": {},
     "output_type": "display_data"
    }
   ],
   "source": [
    "u0_op = u_k.subs([(lam_k_1,lam_1), (xk, x0), (x1,x_1)])\n",
    "u1_op = u_k.subs([(lam_k_1,lam2), (xk, x_1)])\n",
    "x1_op = x_1\n",
    "\n",
    "display(Math(\"u_0^{*} =\\;\"+latex(u0_op)))\n",
    "display(Math(\"u_1^{*} =\\;\"+latex(u1_op)))\n",
    "display(Math(\"x_1^{*} =\\;\"+latex(x1_op)))\n",
    "display(Math(\"x_2 =\\;\"+latex(x_2.lhs)))"
   ]
  },
  {
   "cell_type": "markdown",
   "id": "178ca025",
   "metadata": {},
   "source": [
    "## Part 5"
   ]
  },
  {
   "cell_type": "code",
   "execution_count": 8,
   "id": "cde47fc5",
   "metadata": {},
   "outputs": [
    {
     "data": {
      "text/plain": [
       "[0.308638629149894,\n",
       " 1.04215953122448,\n",
       " -0.675399080187185 - 0.397431974797673*I,\n",
       " -0.675399080187185 + 0.397431974797673*I]"
      ]
     },
     "execution_count": 8,
     "metadata": {},
     "output_type": "execute_result"
    }
   ],
   "source": [
    "alpha_val = 2\n",
    "r_val = 1\n",
    "x0_val = 1.5\n",
    "\n",
    "u0_op_func = sp.lambdify(lam2, u0_op.subs([(alpha, alpha_val), (r, r_val), (x0,x0_val)]))\n",
    "u1_op_func = sp.lambdify(lam2, u1_op.subs([(alpha, alpha_val), (r, r_val), (x0,x0_val)]))\n",
    "x1_op_func = sp.lambdify(lam2, x1_op.subs([(alpha, alpha_val), (r, r_val), (x0,x0_val)]))\n",
    "x2_func = sp.lambdify(lam2, x_2.lhs.subs([(alpha, alpha_val), (r, r_val), (x0,x0_val)]))\n",
    "\n",
    "char_eq_subd = char_eq.subs([(alpha, alpha_val), (r, r_val), (x0,x0_val)])\n",
    "lst_lam2_val = sp.solve(char_eq_subd, lam2)\n",
    "lst_lam2_val"
   ]
  },
  {
   "cell_type": "code",
   "execution_count": 9,
   "id": "22c4a443",
   "metadata": {},
   "outputs": [
    {
     "data": {
      "text/latex": [
       "$\\displaystyle \\lambda_2 =\\;\\left[ 0.308638629149894, \\  1.04215953122448\\right]$"
      ],
      "text/plain": [
       "<IPython.core.display.Math object>"
      ]
     },
     "metadata": {},
     "output_type": "display_data"
    },
    {
     "data": {
      "text/latex": [
       "$\\displaystyle u_0^{*} =\\;\\left[ 0.363732140953098, \\  -2.25687530294475\\right]$"
      ],
      "text/plain": [
       "<IPython.core.display.Math object>"
      ]
     },
     "metadata": {},
     "output_type": "display_data"
    },
    {
     "data": {
      "text/latex": [
       "$\\displaystyle u_1^{*} =\\;\\left[ -0.785669942342067, \\  1.44371709917454\\right]$"
      ],
      "text/plain": [
       "<IPython.core.display.Math object>"
      ]
     },
     "metadata": {},
     "output_type": "display_data"
    },
    {
     "data": {
      "text/latex": [
       "$\\displaystyle x_1^{*} =\\;\\left[ 2.54559821142965, \\  -1.38531295441712\\right]$"
      ],
      "text/plain": [
       "<IPython.core.display.Math object>"
      ]
     },
     "metadata": {},
     "output_type": "display_data"
    },
    {
     "data": {
      "text/latex": [
       "$\\displaystyle x_2 =\\;\\left[ 0, \\  0\\right]$"
      ],
      "text/plain": [
       "<IPython.core.display.Math object>"
      ]
     },
     "metadata": {},
     "output_type": "display_data"
    }
   ],
   "source": [
    "lam2_val = lst_lam2_val[:2]\n",
    "\n",
    "u0_op_res = []\n",
    "u1_op_res = []\n",
    "x1_op_res = []\n",
    "x2_res = []\n",
    "\n",
    "for i in range(2):\n",
    "    u0_op_res.append(u0_op_func(lam2_val[i]))\n",
    "    u1_op_res.append(u1_op_func(lam2_val[i]))\n",
    "    x1_op_res.append(x1_op_func(lam2_val[i]))\n",
    "    x2_res.append(x2_func(lam2_val[i]))\n",
    "\n",
    "display(Math(\"\\lambda_2 =\\;\"+latex(lam2_val)))\n",
    "display(Math(\"u_0^{*} =\\;\"+latex(u0_op_res)))\n",
    "display(Math(\"u_1^{*} =\\;\"+latex(u1_op_res)))\n",
    "display(Math(\"x_1^{*} =\\;\"+latex(x1_op_res)))\n",
    "display(Math(\"x_2 =\\;\"+latex(x2_res)))"
   ]
  }
 ],
 "metadata": {
  "kernelspec": {
   "display_name": "Python 3 (ipykernel)",
   "language": "python",
   "name": "python3"
  },
  "language_info": {
   "codemirror_mode": {
    "name": "ipython",
    "version": 3
   },
   "file_extension": ".py",
   "mimetype": "text/x-python",
   "name": "python",
   "nbconvert_exporter": "python",
   "pygments_lexer": "ipython3",
   "version": "3.9.2"
  }
 },
 "nbformat": 4,
 "nbformat_minor": 5
}
