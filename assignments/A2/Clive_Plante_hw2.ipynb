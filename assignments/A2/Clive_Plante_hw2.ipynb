{
 "cells": [
  {
   "cell_type": "code",
   "execution_count": 225,
   "id": "e83ea1ef",
   "metadata": {},
   "outputs": [],
   "source": [
    "import pandas as pd\n",
    "import numpy as np\n",
    "from numpy.linalg import inv\n",
    "import math as m\n",
    "from math import sqrt\n",
    "import sympy as sp\n",
    "from sympy import collect, simplify, expand, fraction, latex\n",
    "from IPython.display import display, Markdown, Math\n",
    "import control as co\n",
    "import seaborn as sns\n",
    "import matplotlib.pyplot as plt\n",
    "from matplotlib import colors as mcolors\n",
    "sp.init_printing(use_latex='mathjax')\n",
    "plt.rcParams['figure.figsize'] = [20, 10]"
   ]
  },
  {
   "cell_type": "code",
   "execution_count": 226,
   "id": "afc61177",
   "metadata": {},
   "outputs": [],
   "source": [
    "class numden_coeff:\n",
    "    def __init__(self, expr, order_num, order_denum, symb):\n",
    "        self.num, self.denum = fraction(expr)\n",
    "        self.symb = symb\n",
    "        self.common_factor = None\n",
    "        self.lst_denum_coeff = self.build_lst(self.denum, order_denum)\n",
    "        self.lst_num_coeff = self.build_lst(self.num, order_num)\n",
    "        \n",
    "    def build_lst(self, poly, order):\n",
    "        lst = [expand(poly).coeff(self.symb**i) for i in range((order), 0, -1)]\n",
    "        lst.append(poly.subs(self.symb,0))\n",
    "        if (self.common_factor == None):\n",
    "            self.common_factor = lst[0]\n",
    "            \n",
    "        lst = [simplify(lst[i]/self.common_factor) for i in range(order + 1)]\n",
    "        return lst\n",
    "    \n",
    "    def disp(self):\n",
    "        display(Markdown(r\"Numerator coefficients (\\beta)\"), self.lst_num_coeff)\n",
    "        display(Markdown(r\"Denominator coefficients (alpha)\"), self.lst_denum_coeff)"
   ]
  },
  {
   "cell_type": "code",
   "execution_count": 227,
   "id": "10d2f7ae",
   "metadata": {},
   "outputs": [],
   "source": [
    "def theta_hat_ploter(df, theta0, title, line_width=1.2):\n",
    "    lst_color = ['b', 'y', 'g', 'r']\n",
    "    lst_labels = df.columns\n",
    "    graph = sns.lineplot(data=df, dashes=False)\n",
    "\n",
    "    for i in range(len(theta0)):\n",
    "        graph.axhline(y=theta0[i], color=lst_color[i], linestyle='--', linewidth=line_width, label=lst_labels[i])\n",
    "        \n",
    "    plt.title(title)\n",
    "    plt.ylabel('Magnitude of \"Theta_hat\"')\n",
    "    plt.xlabel('Time Stamps \"t\"')\n",
    "    plt.legend(bbox_to_anchor=(1.05, 1), \n",
    "               loc=2, \n",
    "               borderaxespad=0, \n",
    "               labels=lst_labels, \n",
    "               fontsize='xx-large')\n",
    "    plt.show()"
   ]
  },
  {
   "cell_type": "markdown",
   "id": "0c8e1fd4",
   "metadata": {},
   "source": [
    "# Problem 1"
   ]
  },
  {
   "cell_type": "markdown",
   "id": "c6199b01",
   "metadata": {},
   "source": [
    "## Part 1"
   ]
  },
  {
   "cell_type": "code",
   "execution_count": 228,
   "id": "a1d2201b",
   "metadata": {},
   "outputs": [],
   "source": [
    "c, d, s, zeta, omega, r_1, s_0, s_1, a_0 = sp.symbols('c d s zeta omega r_1 s_0 s_1 a_0')\n",
    "a = 1\n",
    "b = 1\n",
    "G1 = b/(s + a)\n",
    "G2 = c/(s+d)\n",
    "G = collect(expand(G1*G2), s)\n",
    "B, A = fraction(G)\n",
    "B_minus = B"
   ]
  },
  {
   "cell_type": "markdown",
   "id": "f3361d21",
   "metadata": {
    "variables": {
     "A": "$\\displaystyle d + s^{2} + s \\left(d + 1\\right)$",
     "B": "$\\displaystyle c$",
     "G": "$\\displaystyle \\frac{c}{d + s^{2} + s \\left(d + 1\\right)}$"
    }
   },
   "source": [
    "$G_1(s)G_2(s) = G(s) =\\;$ {{G}}\n",
    "\n",
    "Therefore\n",
    "\n",
    "$B = \\;${{B}}\n",
    "\n",
    "$A = \\;$ {{A}}\n",
    "\n",
    "Since $Deg(B)$ is clearly $0$, $B^{+} = 1$ and $B^- =\\;$ {{B}}"
   ]
  },
  {
   "cell_type": "code",
   "execution_count": 229,
   "id": "67683fbd",
   "metadata": {},
   "outputs": [],
   "source": [
    "A_m = s**2 + 2*s + 1\n",
    "B_m = 1\n",
    "G_m = B_m/A_m\n",
    "B_m_prime = B_m/B_minus"
   ]
  },
  {
   "cell_type": "markdown",
   "id": "50cd4a4d",
   "metadata": {
    "variables": {
     "A_m": "$\\displaystyle s^{2} + 2 s + 1$",
     "G_m": "$\\displaystyle \\frac{1}{s^{2} + 2 s + 1}$"
    }
   },
   "source": [
    "$A_m$ is given to be {{A_m}}. Letting the desired model take the form of \n",
    "\n",
    "$G_m = \\frac{\\omega^2}{s^2 + 2\\zeta\\omega + \\omega^2}$\n",
    "\n",
    "$\\omega$ and $\\zeta$ are equivalent to $1$. Since $\\omega = 1$, $B_m$ must be equal to $1$ which yeilds\n",
    "\n",
    "$G_m =\\;${{G_m}}"
   ]
  },
  {
   "cell_type": "markdown",
   "id": "7cde01b6",
   "metadata": {},
   "source": [
    "$$Deg(A_0) = Deg(A) - Deg(B^+) - 1 = 2 - 0 - 1 = 1$$\n",
    "\n",
    "$$Deg(A_c) = 2(Deg(A))-1 = 2*2 - 1 = 3$$\n",
    "\n",
    "$$Deg(R) = Deg(S) = Deg(A_c) - Deg(A) = 3 - 2 = 1$$"
   ]
  },
  {
   "cell_type": "code",
   "execution_count": 230,
   "id": "c60dc604",
   "metadata": {},
   "outputs": [],
   "source": [
    "A_0 = s + a_0\n",
    "R_prime = s + r_1\n",
    "R_ = R_prime\n",
    "S_ = s_0*s + s_1\n",
    "T_ = A_0*B_m_prime"
   ]
  },
  {
   "cell_type": "markdown",
   "id": "bb688bbb",
   "metadata": {
    "variables": {
     "A_0": "$\\displaystyle a_{0} + s$",
     "R_prime": "$\\displaystyle r_{1} + s$",
     "S_": "$\\displaystyle s s_{0} + s_{1}$",
     "T_": "$\\displaystyle \\frac{a_{0} + s}{c}$"
    }
   },
   "source": [
    "Since $Deg(B^+) = 0$ then $Deg(R^{'}) = 1$ and therfore \n",
    "\n",
    "$R = B^{+}R^{'} = R^{'} =\\;${{R_prime}} \n",
    "\n",
    "Additionally\n",
    "\n",
    "$A_0 =\\;${{A_0}}\n",
    "\n",
    "$S =\\;${{S_}}\n",
    "\n",
    "$T =A_0B_{m}^{'}=\\;${{T_}}"
   ]
  },
  {
   "cell_type": "code",
   "execution_count": 231,
   "id": "21c78fb3",
   "metadata": {},
   "outputs": [],
   "source": [
    "LHS = collect(expand(A*R_prime + B_minus*S_), s)\n",
    "RHS = collect(expand(A_0*A_m), s)\n",
    "equ = sp.Eq(LHS,RHS)\n",
    "r_1_ = sp.solve(sp.Eq(LHS.coeff(s**2),RHS.coeff(s**2)), r_1)[0]\n",
    "s_0_ = sp.solve(sp.Eq(LHS.coeff(s**1),RHS.coeff(s**1)), s_0)[0]\n",
    "s_1_ = sp.solve(sp.Eq(LHS.subs(s,0),RHS.subs(s,0)), s_1)[0]"
   ]
  },
  {
   "cell_type": "code",
   "execution_count": 232,
   "id": "3ed89a07",
   "metadata": {},
   "outputs": [
    {
     "data": {
      "text/latex": [
       "$\\displaystyle c \\left(s s_{0} + s_{1}\\right) + \\left(r_{1} + s\\right) \\left(d + s^{2} + s \\left(d + 1\\right)\\right)$"
      ],
      "text/plain": [
       "                         ⎛     2            ⎞\n",
       "c⋅(s⋅s₀ + s₁) + (r₁ + s)⋅⎝d + s  + s⋅(d + 1)⎠"
      ]
     },
     "metadata": {},
     "output_type": "display_data"
    },
    {
     "data": {
      "text/latex": [
       "$\\displaystyle \\left(a_{0} + s\\right) \\left(s^{2} + 2 s + 1\\right)$"
      ],
      "text/plain": [
       "         ⎛ 2          ⎞\n",
       "(a₀ + s)⋅⎝s  + 2⋅s + 1⎠"
      ]
     },
     "metadata": {},
     "output_type": "display_data"
    }
   ],
   "source": [
    "display((A*R_prime + B_minus*S_))\n",
    "display(A_0*A_m)"
   ]
  },
  {
   "cell_type": "markdown",
   "id": "625b1ef0",
   "metadata": {
    "variables": {
     "LHS": "$\\displaystyle c s_{1} + d r_{1} + s^{3} + s^{2} \\left(d + r_{1} + 1\\right) + s \\left(c s_{0} + d r_{1} + d + r_{1}\\right)$",
     "RHS": "$\\displaystyle a_{0} + s^{3} + s^{2} \\left(a_{0} + 2\\right) + s \\left(2 a_{0} + 1\\right)$"
    }
   },
   "source": [
    "The Diophantine equation $AR^{'} + B^{-}S = A_0A_m$ in terms of control parameters is given by\n",
    "\n",
    "{{LHS}}$=${{RHS}}"
   ]
  },
  {
   "cell_type": "markdown",
   "id": "d90389ad",
   "metadata": {
    "variables": {
     "r_1_": "$\\displaystyle a_{0} - d + 1$",
     "s_0_": "$\\displaystyle \\frac{2 a_{0} - d r_{1} - d - r_{1} + 1}{c}$",
     "s_1_": "$\\displaystyle \\frac{a_{0} - d r_{1}}{c}$"
    }
   },
   "source": [
    "Which yeilds\n",
    "\n",
    "$r_1 =${{r_1_}}\n",
    "\n",
    "$s_0 =${{s_0_}}\n",
    "\n",
    "$s_1 =${{s_1_}}"
   ]
  },
  {
   "cell_type": "markdown",
   "id": "bb387686",
   "metadata": {},
   "source": [
    "## Part 2"
   ]
  },
  {
   "cell_type": "markdown",
   "id": "3319c524",
   "metadata": {},
   "source": [
    "### ODE of Plant"
   ]
  },
  {
   "cell_type": "code",
   "execution_count": 233,
   "id": "9add1c1f",
   "metadata": {},
   "outputs": [
    {
     "data": {
      "text/latex": [
       "$\\displaystyle c u(s) + y(s) \\left(- d + s \\left(- d - 1\\right)\\right)$"
      ],
      "text/plain": [
       "c⋅u(s) + y(s)⋅(-d + s⋅(-d - 1))"
      ]
     },
     "execution_count": 233,
     "metadata": {},
     "output_type": "execute_result"
    }
   ],
   "source": [
    "y_s, u_s = sp.symbols('y(s) u(s)')\n",
    "\n",
    "ode_RHS = ((-A.coeff(s**1)*s - A.subs(s,0))*y_s) + (B.coeff(s**2)*s**2 + B.coeff(s**1)*s**1 + B.subs(s,0))*u_s\n",
    "ode_RHS"
   ]
  },
  {
   "cell_type": "markdown",
   "id": "326b9690",
   "metadata": {},
   "source": [
    "The ODE of $2^{nd}$ order describing the process is given by\n",
    "\n",
    "$s^2y(s) = -(d + 1)sy(s) - dy(s) + cu(s)$\n",
    "\n",
    "where $p$ is the time shifting operator. The reliance of the RHS of the equation on derivatives can be changed to integrals by filtering the input ($u(s)$) and output ($y(s)$) of the plant by a filter whose denominator polynomial is greater order than the derivative. The above equation becomes \n",
    "\n",
    "$s^2y_f(s) = -(d + 1)sy_f(s) - dy_f(s) + cu_f(s)$ \n",
    "\n",
    "$\\Rightarrow s^2H_fy(s) = -(d + 1)sH_fy(s) - dH_fy(s) + cH_fu(s)$\n",
    "\n",
    "$\\Rightarrow \\frac{s^2}{A_m}y(s) = -(d + 1)\\frac{s}{A_m}y(s) - d\\frac{1}{A_m}y(s) + c\\frac{1}{A_m}u(s)$\n",
    "\n",
    "For simplicity, let $(d + 1) = x$. The ODE then becomes \n",
    "\n",
    "$\\Rightarrow \\frac{s^2}{A_m}y(s) = -x\\frac{s}{A_m}y(s) - d\\frac{1}{A_m}y(s) + c\\frac{1}{A_m}u(s)$\n",
    "\n",
    "This equation can be further simplified as\n",
    "\n",
    "$\\Rightarrow y_2(s) = -xy_1(s) - dy_0(s) + cu_0(s)$ \n",
    "\n"
   ]
  },
  {
   "cell_type": "markdown",
   "id": "f74d134f",
   "metadata": {},
   "source": [
    "### Bilinear Transformation of Filtered ODE"
   ]
  },
  {
   "cell_type": "code",
   "execution_count": 234,
   "id": "239d10b6",
   "metadata": {},
   "outputs": [],
   "source": [
    "H_f = 1/A_m"
   ]
  },
  {
   "cell_type": "markdown",
   "id": "e42565e4",
   "metadata": {
    "variables": {
     "H_f": "$\\displaystyle \\frac{1}{s^{2} + 2 s + 1}$"
    }
   },
   "source": [
    "The filter $H_f(s)$ is given to be\n",
    "\n",
    "$H_f(s)= \\frac{1}{A_m}=\\;$ {{H_f}}\n",
    "\n",
    "This filter ,and the ODE above, are however, in terms of $s$ and are therfore, in continuous time domain. To converte the filter to discrete time ($q$), a bilinear transformation will be performed. i.e.\n",
    "\n",
    "$s\\rightarrow\\frac{2(1 - \\frac{1}{q})}{T(1 + \\frac{1}{q})}$\n",
    "\n",
    "\n",
    "The ODE can now be represented in the discret time domain by\n",
    "\n",
    "$y_i(kT) = H_i(q^{-1})y(kT) = \\frac{s^i}{A_m(s)}\\bigg\\rvert_{s=\\frac{2(1 - \\frac{1}{q})}{T(1 + \\frac{1}{q})}}y(kT), \\;\\;\\;  u_i(kT)  = \\frac{s^i}{A_m(s)}\\bigg\\rvert_{s=\\frac{2(1 - \\frac{1}{q})}{T(1 + \\frac{1}{q})}}u(kT)$\n"
   ]
  },
  {
   "cell_type": "code",
   "execution_count": 235,
   "id": "b38cdc01",
   "metadata": {},
   "outputs": [],
   "source": [
    "T, q = sp.symbols('T q')\n",
    "\n",
    "bilinear_T = (2/T)*((1 - q**(-1))/(1 + q**(-1)))\n",
    "\n",
    "H_fy1 = collect(simplify(expand((s*H_f).subs(s,bilinear_T))), q)\n",
    "H_fy0 = collect(simplify(expand((H_f).subs(s,bilinear_T))), q)\n",
    "H_fu0 = collect(simplify(expand((H_f).subs(s,bilinear_T))), q)\n",
    "\n",
    "obj_H_fy1 = numden_coeff(H_fy1, 2, 2, q)\n",
    "obj_H_fy0 = numden_coeff(H_fy0, 2, 2, q)\n",
    "obj_H_fu0 = numden_coeff(H_fu0, 2, 2, q)\n",
    "\n",
    "aH_fy1 = obj_H_fy1.lst_denum_coeff\n",
    "bH_fy1 = obj_H_fy1.lst_num_coeff\n",
    "aH_fy0 = obj_H_fy0.lst_denum_coeff\n",
    "bH_fy0 = obj_H_fy0.lst_num_coeff\n",
    "aH_fu0 = obj_H_fu0.lst_denum_coeff\n",
    "bH_fu0 = obj_H_fu0.lst_num_coeff"
   ]
  },
  {
   "cell_type": "markdown",
   "id": "25768457",
   "metadata": {
    "variables": {
     "aH_fu0": "$\\displaystyle \\left[ 1, \\  \\frac{2 \\left(T - 2\\right)}{T + 2}, \\  \\frac{T^{2} - 4 T + 4}{T^{2} + 4 T + 4}\\right]$",
     "aH_fy0": "$\\displaystyle \\left[ 1, \\  \\frac{2 \\left(T - 2\\right)}{T + 2}, \\  \\frac{T^{2} - 4 T + 4}{T^{2} + 4 T + 4}\\right]$",
     "aH_fy1": "$\\displaystyle \\left[ 1, \\  \\frac{2 \\left(T - 2\\right)}{T + 2}, \\  \\frac{T^{2} - 4 T + 4}{T^{2} + 4 T + 4}\\right]$",
     "bH_fu0": "$\\displaystyle \\left[ \\frac{T^{2}}{T^{2} + 4 T + 4}, \\  \\frac{2 T^{2}}{T^{2} + 4 T + 4}, \\  \\frac{T^{2}}{T^{2} + 4 T + 4}\\right]$",
     "bH_fy0": "$\\displaystyle \\left[ \\frac{T^{2}}{T^{2} + 4 T + 4}, \\  \\frac{2 T^{2}}{T^{2} + 4 T + 4}, \\  \\frac{T^{2}}{T^{2} + 4 T + 4}\\right]$",
     "bH_fy1": "$\\displaystyle \\left[ \\frac{2 T}{T^{2} + 4 T + 4}, \\  0, \\  - \\frac{2 T}{T^{2} + 4 T + 4}\\right]$"
    }
   },
   "source": [
    "For $H_1(q^{-1})y(kT)$, the coefficients of the denominator $\\alpha y_1$ are\n",
    "\n",
    "$\\alpha y_1 = \\;${{aH_fy1}}\n",
    "\n",
    "(ordered by powers of $q$ going from $q^0$ to $q^-2$) and the coefficients of the numerator $\\beta y_1$ are\n",
    "\n",
    "$\\beta y_1 = \\;${{bH_fy1}}\n",
    "\n",
    "which are also ordered by powers of $q$ going from $q^0$ to $q^-2$. Similarly, the coefficients for the denominator ($\\alpha$) and numerator ($\\beta$) of $y_0$ and $u_0$ are\n",
    "\n",
    "$\\alpha y_0 = \\;${{aH_fy0}}\n",
    "\n",
    "$\\beta y_0 = \\;${{bH_fy0}}\n",
    "\n",
    "$\\alpha u_0 = \\;${{aH_fu0}}\n",
    "\n",
    "$\\beta u_0 = \\;${{bH_fu0}}\n",
    "\n",
    "Note that $\\alpha y_0 = \\alpha u_0$ and $\\beta y_0 = \\beta u_0$ "
   ]
  },
  {
   "cell_type": "code",
   "execution_count": 236,
   "id": "513aefa6",
   "metadata": {},
   "outputs": [],
   "source": [
    "y_k, y_k_1, y_k_2  = sp.symbols('y(k) y(k-1) y(k-2)')\n",
    "u_k, u_k_1, u_k_2  = sp.symbols('u(k) u(k-1) u(k-2)')\n",
    "y1_k_1, y1_k_2 = sp.symbols('y_{1}(k-1) y_{1}(k-2)')\n",
    "y0_k_1, y0_k_2 = sp.symbols('y_{0}(k-1) y_{0}(k-2)')\n",
    "u0_k_1, u0_k_2 = sp.symbols('u_{0}(k-1) u_{0}(k-2)')\n",
    "\n",
    "y1_k = -y1_k_1*aH_fy1[1] - y1_k_2*aH_fy1[2] + y_k*bH_fy1[0] + y_k_2*bH_fy1[2]\n",
    "y0_k = -y0_k_1*aH_fy0[1] - y0_k_2*aH_fy0[2] + y_k*bH_fy0[0] + y_k_1*bH_fy0[1] + y_k_2*bH_fy0[2]\n",
    "u0_k = -u0_k_1*aH_fu0[1] - u0_k_2*aH_fu0[2] + u_k*bH_fu0[0] + u_k_1*bH_fu0[1] + u_k_2*bH_fu0[2]"
   ]
  },
  {
   "cell_type": "markdown",
   "id": "6aa69d5d",
   "metadata": {
    "variables": {
     "u0_k": "$\\displaystyle \\frac{T^{2} u(k)}{T^{2} + 4 T + 4} + \\frac{2 T^{2} u(k-1)}{T^{2} + 4 T + 4} + \\frac{T^{2} u(k-2)}{T^{2} + 4 T + 4} - \\frac{2 u_{0}(k-1) \\left(T - 2\\right)}{T + 2} - \\frac{u_{0}(k-2) \\left(T^{2} - 4 T + 4\\right)}{T^{2} + 4 T + 4}$",
     "y0_k": "$\\displaystyle \\frac{T^{2} y(k)}{T^{2} + 4 T + 4} + \\frac{2 T^{2} y(k-1)}{T^{2} + 4 T + 4} + \\frac{T^{2} y(k-2)}{T^{2} + 4 T + 4} - \\frac{2 y_{0}(k-1) \\left(T - 2\\right)}{T + 2} - \\frac{y_{0}(k-2) \\left(T^{2} - 4 T + 4\\right)}{T^{2} + 4 T + 4}$",
     "y1_k": "$\\displaystyle \\frac{2 T y(k)}{T^{2} + 4 T + 4} - \\frac{2 T y(k-2)}{T^{2} + 4 T + 4} - \\frac{2 y_{1}(k-1) \\left(T - 2\\right)}{T + 2} - \\frac{y_{1}(k-2) \\left(T^{2} - 4 T + 4\\right)}{T^{2} + 4 T + 4}$"
    }
   },
   "source": [
    "The difference equations for $y_i(kT)$ and $u_i(kT)$ are\n",
    "\n",
    "$y_1(kT) = \\;$ {{y1_k}}\n",
    "\n",
    "$y_0(kT) = \\;$ {{y0_k}}\n",
    "\n",
    "$u_0(kT) = \\;$ {{u0_k}}\n",
    "\n",
    "Therefore,\n",
    "\n",
    "$y_2(kT) = [-y_1(kT) \\; -y_0(kT) \\; u_0(kT)][x \\; d \\; c]^T = \\phi^T\\theta$"
   ]
  },
  {
   "cell_type": "markdown",
   "id": "5ae43ba5",
   "metadata": {},
   "source": [
    "### Bilinear Transformation of Control Signal u(t)"
   ]
  },
  {
   "cell_type": "code",
   "execution_count": 237,
   "id": "29d29592",
   "metadata": {},
   "outputs": [],
   "source": [
    "T_R = T_/R_\n",
    "S_R = S_/R_\n",
    "\n",
    "T_subd = T_\n",
    "R_subd = R_.subs(r_1, r_1_)\n",
    "S_subd = collect(expand(S_.subs([(s_0,s_0_), (s_1,s_1_), (r_1, r_1_)])), s)\n",
    "\n",
    "T_R_subd = T_subd/R_subd\n",
    "S_R_subd = simplify(S_subd/R_subd)\n",
    "\n",
    "# bilinear transformation of T/R and S/R\n",
    "# TR = collect(simplify(expand(T_R_subd.subs(s, bilinear_T))), q)\n",
    "# SR = collect(simplify(expand(S_R_subd.subs(s, bilinear_T))), q)\n",
    "\n",
    "TR = collect(simplify(expand(T_R.subs(s, bilinear_T))), q)\n",
    "SR = collect(simplify(expand(S_R.subs(s, bilinear_T))), q)"
   ]
  },
  {
   "cell_type": "markdown",
   "id": "c5f4c1ea",
   "metadata": {
    "variables": {
     "SR": "$\\displaystyle \\frac{T s_{1} + q \\left(T s_{1} + 2 s_{0}\\right) - 2 s_{0}}{T r_{1} + q \\left(T r_{1} + 2\\right) - 2}$",
     "S_R": "$\\displaystyle \\frac{s s_{0} + s_{1}}{r_{1} + s}$",
     "S_R_subd": "$\\displaystyle \\frac{- a_{0} d + a_{0} + d^{2} - d - s \\left(a_{0} d - a_{0} - d^{2} + d\\right)}{c \\left(a_{0} - d + s + 1\\right)}$",
     "TR": "$\\displaystyle \\frac{T a_{0} + q \\left(T a_{0} + 2\\right) - 2}{c \\left(T r_{1} + q \\left(T r_{1} + 2\\right) - 2\\right)}$",
     "T_R": "$\\displaystyle \\frac{a_{0} + s}{c \\left(r_{1} + s\\right)}$",
     "T_R_subd": "$\\displaystyle \\frac{a_{0} + s}{c \\left(a_{0} - d + s + 1\\right)}$"
    }
   },
   "source": [
    "The control signal of the system is given by \n",
    "\n",
    "$u(t) = \\frac{T}{R}u_c(t) - \\frac{S}{R}y(t) = \\;${{T_R}}$u_c(t) -\\;${{S_R}}$y(t)=\\;$ {{T_R_subd}}$u_c(t) -\\;${{S_R_subd}}$y(t)$\n",
    "\n",
    "This however, must also be converted to the discrete time doamin with a bilinear transformation as well. This will be done by directly performing the transformation on $\\frac{T}{R}$ and $\\frac{S}{R}$ (no filtering) and using the $\\alpha$ and $\\beta$ coefficients to derive difference equations for $u_c(kT)$ and $y(kT)$ respectivley. \n",
    "\n",
    "The bilinear transformations of $\\frac{T}{R}$ and $\\frac{S}{R}$ are\n",
    "\n",
    "$\\frac{T}{R}\\bigg\\rvert_{s=\\frac{2(1 - \\frac{1}{q})}{T(1 + \\frac{1}{q})}} = \\;${{TR}}\n",
    "\n",
    "$\\frac{S}{R}\\bigg\\rvert_{s=\\frac{2(1 - \\frac{1}{q})}{T(1 + \\frac{1}{q})}} = \\;${{SR}}"
   ]
  },
  {
   "cell_type": "code",
   "execution_count": 238,
   "id": "ae9747c7",
   "metadata": {},
   "outputs": [],
   "source": [
    "obj_TR = numden_coeff(TR, 1, 1, q)\n",
    "obj_SR = numden_coeff(SR, 1, 1, q)\n",
    "\n",
    "aTR = obj_TR.lst_denum_coeff\n",
    "bTR = obj_TR.lst_num_coeff\n",
    "\n",
    "aSR = obj_SR.lst_denum_coeff\n",
    "bSR = obj_SR.lst_num_coeff"
   ]
  },
  {
   "cell_type": "markdown",
   "id": "d4da140b",
   "metadata": {
    "variables": {
     "aSR": "$\\displaystyle \\left[ 1, \\  \\frac{T r_{1} - 2}{T r_{1} + 2}\\right]$",
     "aTR": "$\\displaystyle \\left[ 1, \\  \\frac{T r_{1} - 2}{T r_{1} + 2}\\right]$",
     "bSR": "$\\displaystyle \\left[ \\frac{T s_{1} + 2 s_{0}}{T r_{1} + 2}, \\  \\frac{T s_{1} - 2 s_{0}}{T r_{1} + 2}\\right]$",
     "bTR": "$\\displaystyle \\left[ \\frac{T a_{0} + 2}{c \\left(T r_{1} + 2\\right)}, \\  \\frac{T a_{0} - 2}{c \\left(T r_{1} + 2\\right)}\\right]$"
    }
   },
   "source": [
    "For $\\frac{T}{R}$, the coefficients of the numerator and denominator are\n",
    "\n",
    "$\\alpha\\frac{T}{R} =\\;$ {{aTR}} \n",
    "\n",
    "and\n",
    "\n",
    "$\\beta\\frac{T}{R} =\\;$ {{bTR}}\n",
    "\n",
    "while the coefficients of the numerator and denominator for $\\frac{S}{R}$ are\n",
    "\n",
    "$\\alpha\\frac{S}{R} =\\;$ {{aSR}}\n",
    "\n",
    "and\n",
    "\n",
    "$\\beta\\frac{S}{R} =\\;$ {{bSR}}"
   ]
  },
  {
   "cell_type": "code",
   "execution_count": 239,
   "id": "18f15d8f",
   "metadata": {},
   "outputs": [],
   "source": [
    "uc_k, uc_k_1 = sp.symbols('u_{c}(k) u_{c}(k-1)')\n",
    "\n",
    "uk = -u_k_1*aTR[1] + uc_k*bTR[0] + uc_k_1*bTR[1] - y_k*bSR[0] - y_k_1*bSR[1]"
   ]
  },
  {
   "cell_type": "markdown",
   "id": "c2bb211c",
   "metadata": {
    "variables": {
     "uk": "$\\displaystyle - \\frac{u(k-1) \\left(T r_{1} - 2\\right)}{T r_{1} + 2} - \\frac{y(k) \\left(T s_{1} + 2 s_{0}\\right)}{T r_{1} + 2} - \\frac{y(k-1) \\left(T s_{1} - 2 s_{0}\\right)}{T r_{1} + 2} + \\frac{u_{c}(k) \\left(T a_{0} + 2\\right)}{c \\left(T r_{1} + 2\\right)} + \\frac{u_{c}(k-1) \\left(T a_{0} - 2\\right)}{c \\left(T r_{1} + 2\\right)}$"
    }
   },
   "source": [
    "The difference equation representing the control signal becomes\n",
    "\n",
    "$u(k) = \\;${{uk}}"
   ]
  },
  {
   "cell_type": "markdown",
   "id": "820d8170",
   "metadata": {},
   "source": [
    "### Bilinear Transformation of Control Signal $G(s)$"
   ]
  },
  {
   "cell_type": "code",
   "execution_count": 240,
   "id": "b69c726b",
   "metadata": {},
   "outputs": [],
   "source": [
    "G_ = collect(simplify(expand(G.subs(s, bilinear_T))), q)\n",
    "\n",
    "obj_G_ = numden_coeff(G_, 2, 2, q)\n",
    "\n",
    "aG_ = obj_G_.lst_denum_coeff\n",
    "bG_ = obj_G_.lst_num_coeff\n",
    "\n",
    "yk = -y_k_1*aG_[1] - y_k_2*aG_[2] + u_k*bG_[0] + u_k_1*bG_[1] + u_k_2*bG_[2]"
   ]
  },
  {
   "cell_type": "markdown",
   "id": "ac5ca298",
   "metadata": {
    "variables": {
     "G_": "$\\displaystyle \\frac{T^{2} c \\left(q^{2} + 2 q + 1\\right)}{T^{2} d - 2 T d - 2 T + q^{2} \\left(T^{2} d + 2 T d + 2 T + 4\\right) + q \\left(2 T^{2} d - 8\\right) + 4}$",
     "aG_": "$\\displaystyle \\left[ 1, \\  \\frac{2 \\left(T^{2} d - 4\\right)}{T^{2} d + 2 T d + 2 T + 4}, \\  \\frac{T^{2} d - 2 T d - 2 T + 4}{T^{2} d + 2 T d + 2 T + 4}\\right]$",
     "bG_": "$\\displaystyle \\left[ \\frac{T^{2} c}{T^{2} d + 2 T d + 2 T + 4}, \\  \\frac{2 T^{2} c}{T^{2} d + 2 T d + 2 T + 4}, \\  \\frac{T^{2} c}{T^{2} d + 2 T d + 2 T + 4}\\right]$",
     "yk": "$\\displaystyle \\frac{T^{2} c u(k)}{T^{2} d + 2 T d + 2 T + 4} + \\frac{2 T^{2} c u(k-1)}{T^{2} d + 2 T d + 2 T + 4} + \\frac{T^{2} c u(k-2)}{T^{2} d + 2 T d + 2 T + 4} - \\frac{2 y(k-1) \\left(T^{2} d - 4\\right)}{T^{2} d + 2 T d + 2 T + 4} - \\frac{y(k-2) \\left(T^{2} d - 2 T d - 2 T + 4\\right)}{T^{2} d + 2 T d + 2 T + 4}$"
    }
   },
   "source": [
    "Performing a bilinear transformation on $G(s)$ yeilds\n",
    "\n",
    "$G(kT) =\\;${{G_}}\n",
    "\n",
    "To which the coefficients of the numerator and denominator are\n",
    "\n",
    "$\\beta G(kT) = \\;${{bG_}}\n",
    "\n",
    "and \n",
    "\n",
    "$\\alpha G(kT) = \\;${{aG_}}\n",
    "\n",
    "The difference equation representing the output of the plant is therefore given by\n",
    "\n",
    "$y(k) =\\;${{yk}}"
   ]
  },
  {
   "cell_type": "markdown",
   "id": "791d29e1",
   "metadata": {},
   "source": [
    "## part 3"
   ]
  },
  {
   "cell_type": "code",
   "execution_count": 241,
   "id": "8db1bb44",
   "metadata": {},
   "outputs": [],
   "source": [
    "T_val = 1\n",
    "a_0_val = 1\n",
    "\n",
    "y1_k_ = y1_k.subs(T,T_val)\n",
    "y0_k_ = y0_k.subs(T,T_val)\n",
    "u0_k_ = u0_k.subs(T,T_val)\n",
    "yk_ = yk.subs(T,T_val)\n",
    "uk_ = uk.subs([(T,T_val),(s_0, s_0_), (s_1, s_1_), (r_1 ,(a_0 - d + 1)), (a_0, a_0_val)])\n",
    "\n",
    "y1_k_func = sp.lambdify([y_k, y_k_2, y1_k_1, y1_k_2], y1_k_)\n",
    "y0_k_func = sp.lambdify([y_k, y_k_1, y_k_2, y0_k_1, y0_k_2], y0_k_)\n",
    "u0_k_func = sp.lambdify([u_k, u_k_1, u_k_2, u0_k_1, u0_k_2], u0_k_)\n",
    "yk_func = sp.lambdify([u_k, u_k_1, u_k_2, y_k_1, y_k_2, c, d], yk_)\n",
    "uk_func = sp.lambdify([u_k_1, uc_k, uc_k_1, y_k, y_k_1, c, d], uk_)"
   ]
  },
  {
   "cell_type": "markdown",
   "id": "26f417e7",
   "metadata": {
    "variables": {
     "T_val": "$\\displaystyle 1$",
     "a_0_val": "$\\displaystyle 1$",
     "u0_k_": "$\\displaystyle \\frac{u(k)}{9} + \\frac{2 u(k-1)}{9} + \\frac{u(k-2)}{9} + \\frac{2 u_{0}(k-1)}{3} - \\frac{u_{0}(k-2)}{9}$",
     "uk_": "$\\displaystyle \\frac{d u(k-1)}{4 - d} + \\frac{3 u_{c}(k)}{c \\left(4 - d\\right)} - \\frac{u_{c}(k-1)}{c \\left(4 - d\\right)} - \\frac{3 y(k) \\left(- d \\left(2 - d\\right) + 1\\right)}{c \\left(4 - d\\right)} + \\frac{y(k-1) \\left(- d \\left(2 - d\\right) + 1\\right)}{c \\left(4 - d\\right)}$",
     "y0_k_": "$\\displaystyle \\frac{y(k)}{9} + \\frac{2 y(k-1)}{9} + \\frac{y(k-2)}{9} + \\frac{2 y_{0}(k-1)}{3} - \\frac{y_{0}(k-2)}{9}$",
     "y1_k_": "$\\displaystyle \\frac{2 y(k)}{9} - \\frac{2 y(k-2)}{9} + \\frac{2 y_{1}(k-1)}{3} - \\frac{y_{1}(k-2)}{9}$",
     "yk_": "$\\displaystyle \\frac{c u(k)}{3 d + 6} + \\frac{2 c u(k-1)}{3 d + 6} + \\frac{c u(k-2)}{3 d + 6} - \\frac{2 y(k-1) \\left(d - 4\\right)}{3 d + 6} - \\frac{y(k-2) \\left(2 - d\\right)}{3 d + 6}$"
    }
   },
   "source": [
    "The for the implementation of the design, a sampling period of {{T_val}} ($T =\\;${{T_val}}) and an observer polynomial parameter of {{a_0_val}} ($a_0 = \\;${{a_0_val}}) will be used. The difference equations for $y_1(kT), y_0(kT), u_0(kT), u(kT)$ and $y(kT)$ become\n",
    "\n",
    "$y_1(kT) = \\;${{y1_k_}}\n",
    "\n",
    "$y_0(kT) = \\;${{y0_k_}}\n",
    "\n",
    "$u_0(kT) = \\;${{u0_k_}}\n",
    "\n",
    "$y(kT) = \\;${{yk_}}\n",
    "\n",
    "$u(kT) = \\;${{uk_}}"
   ]
  },
  {
   "cell_type": "code",
   "execution_count": 242,
   "id": "3a6e6b5a",
   "metadata": {
    "scrolled": true
   },
   "outputs": [
    {
     "data": {
      "image/png": "[encoded data removed]",
      "text/plain": [
       "<Figure size 1440x720 with 1 Axes>"
      ]
     },
     "metadata": {
      "needs_background": "light"
     },
     "output_type": "display_data"
    },
    {
     "data": {
      "image/png": "[encoded data removed]",
      "text/plain": [
       "<Figure size 1440x720 with 1 Axes>"
      ]
     },
     "metadata": {
      "needs_background": "light"
     },
     "output_type": "display_data"
    },
    {
     "name": "stdout",
     "output_type": "stream",
     "text": [
      "[[1.46648976]\n",
      " [0.49053877]\n",
      " [1.96034847]]\n"
     ]
    }
   ],
   "source": [
    "sample_depth = 100\n",
    "sample_range = range(sample_depth)\n",
    "starting_samples = 2\n",
    "\n",
    "t = [i for i in sample_range]\n",
    "u_c = np.ones(sample_depth)*-1\n",
    "u_c[np.where([m.sin(t[i]*m.pi/20)>=0 for i in sample_range])] = 1\n",
    "\n",
    "c = 2\n",
    "d = 0.5\n",
    "x = d + 1\n",
    "\n",
    "theta0 = np.array([x, d, c]).reshape(-1,1)\n",
    "theta_hat = [np.array([1]*3).reshape(-1,1) for _ in range(starting_samples)]\n",
    "\n",
    "y = [0]*starting_samples\n",
    "u = [0]*starting_samples\n",
    "\n",
    "y1 = [0]*starting_samples\n",
    "y0 = [0]*starting_samples\n",
    "u0 = [0]*starting_samples\n",
    "\n",
    "lam = 1\n",
    "I = np.identity(3)\n",
    "p = 100*I \n",
    "    \n",
    "for k in range(2,sample_depth):\n",
    "    phi = np.array([-y1[-1], -y0[-1], u0[-1]]).reshape(-1,1)\n",
    "    \n",
    "#     K = p@phi@inv(lam + phi.T@p@phi)\n",
    "#     theta_hat.append(theta_hat[-1] + K*(phi.T@theta0 - phi.T@theta_hat[-1]))\n",
    "#     p = (I - K@phi.T)@p/lam\n",
    "    \n",
    "    p = inv(inv(p) + phi@phi.T)\n",
    "    K = p@phi\n",
    "    theta_hat.append(theta_hat[-1] + K*(np.reshape(phi.T@theta0, ()) - phi.T@theta_hat[-1]))\n",
    "\n",
    "#     theta_hat.append(theta_hat[-1] + T_val*(p@phi)*(phi.T@theta0 - phi.T@theta_hat[-1]))\n",
    "#     p = p + T_val*(lam*I - p@phi@phi.T)@p\n",
    "\n",
    "#     theta_hat.append(T_val*(p@phi)*(phi.T@theta0 - phi.T@theta_hat[-1]))\n",
    "#     p = p + T_val*(lamb*I - p@phi@phi.T)@p\n",
    "    \n",
    "    \n",
    "    u.append(np.reshape(uk_func(u[k-1], u_c[k], u_c[k-1], phi.T@theta0, y[k-1], theta_hat[-1][2], theta_hat[-1][1]), ()))\n",
    "    y.append(np.reshape(yk_func(u[k], u[k-1], u[k-2], y[k-1], y[k-2], theta_hat[k][2], theta_hat[-1][1]), ()))\n",
    "    \n",
    "    y1.append(np.reshape(y1_k_func(y[k], y[k-2], y1[k-1], y1[k-2]), ()))\n",
    "    y0.append(np.reshape(y0_k_func(y[k], y[k-1], y[k-2], y0[k-1], y0[k-2]), ()))\n",
    "    u0.append(np.reshape(u0_k_func(u[k], u[k-1], u[k-2], u0[k-1], u0[k-2]), ()))\n",
    "    \n",
    "\n",
    "# pd.DataFrame(np.asarray(theta_hat).reshape(-1,4,), \n",
    "#                    columns=['a1', 'a2', 'b0', 'b1'])\n",
    "plt.plot(t,u)\n",
    "plt.show()\n",
    "\n",
    "plt.plot(t,u_c)\n",
    "plt.plot(t,y)\n",
    "plt.show()\n",
    "print(theta_hat[-1])"
   ]
  },
  {
   "cell_type": "markdown",
   "id": "45f668a8",
   "metadata": {},
   "source": [
    "# Problem 2"
   ]
  },
  {
   "cell_type": "markdown",
   "id": "c322752e",
   "metadata": {},
   "source": [
    "## part 1"
   ]
  },
  {
   "cell_type": "markdown",
   "id": "92294760",
   "metadata": {},
   "source": [
    "## part 2"
   ]
  },
  {
   "cell_type": "code",
   "execution_count": 243,
   "id": "d91c3d07",
   "metadata": {},
   "outputs": [
    {
     "data": {
      "text/latex": [
       "$\\displaystyle \\frac{b_{0} q + b_{1}}{a_{1} q + a_{2} + q^{2}}$"
      ],
      "text/plain": [
       "  b_{0}⋅q + b_{1}   \n",
       "────────────────────\n",
       "                   2\n",
       "a_{1}⋅q + a_{2} + q "
      ]
     },
     "execution_count": 243,
     "metadata": {},
     "output_type": "execute_result"
    }
   ],
   "source": [
    "a1, a2, b0, b1 = sp.symbols('a_{1} a_{2} b_{0} b_{1}')\n",
    "am1, am2, bm0, bm1 = sp.symbols('a_{m1} a_{m2} b_{m0} b_{m1}')\n",
    "s, q = sp.symbols('s q')\n",
    "r1, s0, s1, a0 = sp.symbols('r_1 s_0 s_1 a_0')\n",
    "\n",
    "A = q**2 + a1*q + a2\n",
    "B = b0*q + b1\n",
    "\n",
    "A_pol = sp.Poly(A)\n",
    "B_pol = sp.Poly(B)\n",
    "\n",
    "B_minus = b0\n",
    "B_plus = simplify(B/B_minus)\n",
    "H = B/A\n",
    "H"
   ]
  },
  {
   "cell_type": "markdown",
   "id": "f8fbc21e",
   "metadata": {
    "variables": {
     "B_minus": "$\\displaystyle b_{0}$",
     "B_plus": "$\\displaystyle q + \\frac{b_{1}}{b_{0}}$"
    }
   },
   "source": [
    "$B = B^{-}B^{+} = \\;$({{B_minus}})({{B_plus}})\n",
    "\n",
    "Therfore,\n",
    "\n",
    "$$Deg(B^-) = 0$$\n",
    "\n",
    "and \n",
    "\n",
    "$$Deg(B^+) = Deg(B) = Deg(B_m) = 1$$\n",
    "\n",
    "Additionally\n",
    "\n",
    "$$Deg(A) = Deg(A_m) = 2$$\n",
    "\n",
    "$$Deg(S) = Deg(R) = Deg(A) - 1 = 2 - 1 = 1$$\n",
    "\n",
    "$$Deg(R^{'}) = Deg(R) - Deg(B^+) = 1 - 1 = 0$$\n",
    "\n",
    "$$Deg(A_0) = Deg(A) + Deg(R^{'}) - Deg(A_m) = 2 + 0 - 2 = 0$$"
   ]
  },
  {
   "cell_type": "code",
   "execution_count": 244,
   "id": "bae2bf1a",
   "metadata": {},
   "outputs": [],
   "source": [
    "A0 = 1\n",
    "S = s0*q + s1\n",
    "R = B_plus\n",
    "R_prime = 1\n",
    "Am = q**2 + am1*q + am2\n",
    "Bm = Am.subs(q,1)*q**B_pol.degree()\n",
    "T = simplify(A0*Bm/B_minus)"
   ]
  },
  {
   "cell_type": "markdown",
   "id": "d73d0e6f",
   "metadata": {
    "variables": {
     "A0": "$\\displaystyle 1$",
     "Am": "$\\displaystyle a_{m1} q + a_{m2} + q^{2}$",
     "Bm": "$\\displaystyle q \\left(a_{m1} + a_{m2} + 1\\right)$",
     "R": "$\\displaystyle q + \\frac{b_{1}}{b_{0}}$",
     "R_prime": "$\\displaystyle 1$",
     "S": "$\\displaystyle q s_{0} + s_{1}$",
     "T": "$\\displaystyle \\frac{q \\left(a_{m1} + a_{m2} + 1\\right)}{b_{0}}$"
    }
   },
   "source": [
    "The control polynomials become\n",
    "\n",
    "$A_0 =\\;${{A0}}\n",
    "\n",
    "$S =\\;${{S}}\n",
    "\n",
    "$R =\\;${{R}}\n",
    "\n",
    "$R^{'} =\\;${{R_prime}}\n",
    "\n",
    "$A_m =\\;${{Am}}\n",
    "\n",
    "Additionally, to achive unity gain, the final value theorem can implemented on $A_m$ to obtain the value of $B_m$. This is achived by the equation $B_m = A_m(1)q^m$.This way, when k goes to infinity ($q \\rightarrow 1$), $G_m = 1$ and $Deg(B_m) = Deg(B)$. Therfore,\n",
    "\n",
    "$B_m =\\;${{Bm}}\n",
    "\n",
    "From this result, $T$ can be calculated\n",
    "\n",
    "$T =\\;${{T}} "
   ]
  },
  {
   "cell_type": "code",
   "execution_count": 245,
   "id": "a11dec44",
   "metadata": {},
   "outputs": [],
   "source": [
    "LHS_coeffs = sp.Poly(A*R_prime + B_minus*S, q).coeffs()[::-1]\n",
    "RHS_coeffs = sp.Poly(A0*Am, q).coeffs()[::-1]\n",
    "\n",
    "s_0 = sp.solve(sp.Eq(LHS_coeffs[1], RHS_coeffs[1]), s0)[0]\n",
    "s_1 = sp.solve(sp.Eq(LHS_coeffs[0], RHS_coeffs[0]), s1)[0]"
   ]
  },
  {
   "cell_type": "markdown",
   "id": "6de82dcc",
   "metadata": {
    "variables": {
     "A": "$\\displaystyle a_{1} q + a_{2} + q^{2}$",
     "Am": "$\\displaystyle a_{m1} q + a_{m2} + q^{2}$",
     "B_minus": "$\\displaystyle b_{0}$",
     "S": "$\\displaystyle q s_{0} + s_{1}$",
     "s_0": "$\\displaystyle \\frac{- a_{1} + a_{m1}}{b_{0}}$",
     "s_1": "$\\displaystyle \\frac{- a_{2} + a_{m2}}{b_{0}}$"
    }
   },
   "source": [
    "Solving the diophantine equation\n",
    "\n",
    " $AR^{'} + B^{-}S = A_0A_m \\;\\;\\;\\Rightarrow \\;\\;\\;$ {{A}} $\\;+\\;${{B_minus}}{{S}}$\\;=\\;${{Am}}\n",
    " \n",
    " yeilds the following control paramters\n",
    " \n",
    " $s_0 =\\;${{s_0}}\n",
    " \n",
    " $s_1 =\\;${{s_1}}"
   ]
  },
  {
   "cell_type": "code",
   "execution_count": 246,
   "id": "c58b9a74",
   "metadata": {},
   "outputs": [],
   "source": [
    "S_ = S.subs([(s0, s_0), (s1, s_1)])\n",
    "R_ = R\n",
    "T_ = T"
   ]
  },
  {
   "cell_type": "markdown",
   "id": "991bd2dc",
   "metadata": {
    "variables": {
     "S_": "$\\displaystyle \\frac{q \\left(- a_{1} + a_{m1}\\right)}{b_{0}} + \\frac{- a_{2} + a_{m2}}{b_{0}}$"
    }
   },
   "source": [
    "The $R$ and $T$ polynomials are the same when expressed in terms of control parameters while $S$ becomes\n",
    "\n",
    "$S =\\;${{S_}}"
   ]
  },
  {
   "cell_type": "markdown",
   "id": "e5ad5185",
   "metadata": {},
   "source": [
    "## Control equation"
   ]
  },
  {
   "cell_type": "code",
   "execution_count": 247,
   "id": "b24347a2",
   "metadata": {},
   "outputs": [],
   "source": [
    "TR = simplify(T/R)\n",
    "SR = simplify(S/R).subs([(s0, s_0), (s1, s_1)])\n",
    "\n",
    "obj_TR = numden_coeff(TR, 1, 1, q)\n",
    "obj_SR = numden_coeff(SR, 1, 1, q)\n",
    "\n",
    "aTR = obj_TR.lst_denum_coeff\n",
    "bTR = obj_TR.lst_num_coeff\n",
    "\n",
    "aSR = obj_SR.lst_denum_coeff\n",
    "bSR = obj_SR.lst_num_coeff"
   ]
  },
  {
   "cell_type": "markdown",
   "id": "0d353837",
   "metadata": {
    "variables": {
     "aSR": "$\\displaystyle \\left[ 1, \\  \\frac{b_{1}}{b_{0}}\\right]$",
     "aTR": "$\\displaystyle \\left[ 1, \\  \\frac{b_{1}}{b_{0}}\\right]$",
     "bSR": "$\\displaystyle \\left[ \\frac{- a_{1} + a_{m1}}{b_{0}}, \\  \\frac{- a_{2} + a_{m2}}{b_{0}}\\right]$",
     "bTR": "$\\displaystyle \\left[ \\frac{a_{m1} + a_{m2} + 1}{b_{0}}, \\  0\\right]$"
    }
   },
   "source": [
    "For $\\frac{T}{R}$, the coefficients of the numerator and denominator are\n",
    "\n",
    "$\\alpha\\frac{T}{R} =\\;$ {{aTR}} \n",
    "\n",
    "and\n",
    "\n",
    "$\\beta\\frac{T}{R} =\\;$ {{bTR}}\n",
    "\n",
    "while the coefficients of the numerator and denominator for $\\frac{S}{R}$ are\n",
    "\n",
    "$\\alpha\\frac{S}{R} =\\;$ {{aSR}}\n",
    "\n",
    "and\n",
    "\n",
    "$\\beta\\frac{S}{R} =\\;$ {{bSR}}"
   ]
  },
  {
   "cell_type": "code",
   "execution_count": 248,
   "id": "952f737d",
   "metadata": {},
   "outputs": [
    {
     "data": {
      "text/latex": [
       "$\\displaystyle - \\frac{b_{1} u(k-1)}{b_{0}} + \\frac{u_{c}(k) \\left(a_{m1} + a_{m2} + 1\\right)}{b_{0}} - \\frac{y(k) \\left(- a_{1} + a_{m1}\\right)}{b_{0}} - \\frac{y(k-1) \\left(- a_{2} + a_{m2}\\right)}{b_{0}}$"
      ],
      "text/plain": [
       "  b_{1}⋅u(k-1)   u_{c}(k)⋅(a_{m1} + a_{m2} + 1)   y(k)⋅(-a_{1} + a_{m1})   y(k\n",
       "- ──────────── + ────────────────────────────── - ────────────────────── - ───\n",
       "     b_{0}                   b_{0}                        b_{0}               \n",
       "\n",
       "-1)⋅(-a_{2} + a_{m2})\n",
       "─────────────────────\n",
       "      b_{0}          "
      ]
     },
     "execution_count": 248,
     "metadata": {},
     "output_type": "execute_result"
    }
   ],
   "source": [
    "u_k, u_k_1, uc_k, y_k, y_k_1, y_k_2 = sp.symbols('u(k) u(k-1) u_{c}(k) y(k) y(k-1) y(k-2)')\n",
    "\n",
    "uk = -u_k_1*aTR[1] + uc_k*bTR[0] - y_k*bSR[0] - y_k_1*bSR[1]\n",
    "uk"
   ]
  },
  {
   "cell_type": "code",
   "execution_count": 249,
   "id": "0b74594e",
   "metadata": {},
   "outputs": [
    {
     "data": {
      "text/latex": [
       "$$\\frac{0.594 z + 0.1537}{z^2 - 0.2707 z + 0.01832}\\quad dt = 2$$"
      ],
      "text/plain": [
       "TransferFunction(array([0.59399415, 0.15365092]), array([ 1.        , -0.27067057,  0.01831564]), 2)"
      ]
     },
     "execution_count": 249,
     "metadata": {},
     "output_type": "execute_result"
    }
   ],
   "source": [
    "co.sample_system(co.tf([1.], [1., 2., 1.]), Ts=2, method='zoh')"
   ]
  },
  {
   "cell_type": "code",
   "execution_count": 250,
   "id": "62bafb1f",
   "metadata": {},
   "outputs": [
    {
     "data": {
      "image/png": "[encoded data removed]",
      "text/plain": [
       "<Figure size 1440x720 with 1 Axes>"
      ]
     },
     "metadata": {
      "needs_background": "light"
     },
     "output_type": "display_data"
    },
    {
     "data": {
      "image/png": "[encoded data removed]",
      "text/plain": [
       "<Figure size 1440x720 with 1 Axes>"
      ]
     },
     "metadata": {
      "needs_background": "light"
     },
     "output_type": "display_data"
    },
    {
     "data": {
      "text/plain": [
       "[<matplotlib.lines.Line2D at 0x1a6bbd49790>]"
      ]
     },
     "execution_count": 250,
     "metadata": {},
     "output_type": "execute_result"
    },
    {
     "data": {
      "image/png": "[encoded data removed]",
      "text/plain": [
       "<Figure size 1440x720 with 1 Axes>"
      ]
     },
     "metadata": {
      "needs_background": "light"
     },
     "output_type": "display_data"
    }
   ],
   "source": [
    "# Tunable components vvvvvvvvvvvvvvvvvvvvvvvvvvvvvvvv\n",
    "sample_depth = 100\n",
    "starting_samples = 2\n",
    "\n",
    "# starting estimate for plant parameters\n",
    "est = 0.5\n",
    "\n",
    "lam = 1 # forgeting factor lambda\n",
    "\n",
    "# true plant parameters\n",
    "a_1 = -0.503215\n",
    "a_2 = 0.0497871\n",
    "b_0 = 1.59831\n",
    "b_1 = 0.587984\n",
    "theta0 = np.array([a_1, a_2, b_0, b_1]).reshape(-1,1)\n",
    "\n",
    "# Tunable components ^^^^^^^^^^^^^^^^^^^^^^^^^^^^^^^^\n",
    "\n",
    "# model parameters\n",
    "a_m1 = -0.2707\n",
    "a_m2 = 0.01832\n",
    "\n",
    "uk_subd = uk.subs([(am1, a_m1), (am2, a_m2)])\n",
    "uk_func = sp.lambdify([u_k_1, uc_k, y_k, y_k_1, a1, a2, b0, b1], uk_subd)\n",
    "\n",
    "sample_range = range(sample_depth)\n",
    "t = [i for i in sample_range]\n",
    "u_c = np.ones(sample_depth)\n",
    "u_c[np.where([m.sin(t[i]*m.pi/20)<=0 for i in sample_range])] = 0\n",
    "\n",
    "theta_hat = [np.array([est]*len(theta0)).reshape(-1,1) for _ in range(starting_samples)]\n",
    "\n",
    "y = [0]*starting_samples\n",
    "u = [0]*starting_samples\n",
    "\n",
    "I = np.identity(len(theta0))\n",
    "p = 100*I \n",
    "    \n",
    "for k in range(starting_samples ,sample_depth):\n",
    "    phi = np.array([-y[-1], -y[-2], u[-1], u[-2]]).reshape(-1,1)\n",
    "    \n",
    "    y.append(np.reshape(phi.T@theta0, ()))\n",
    "    K = p@phi@inv(lam + phi.T@p@phi)\n",
    "    p = (I - K@phi.T)@p/lam\n",
    "    theta_hat.append(theta_hat[-1] + K*(y[k] - phi.T@theta_hat[-1]))\n",
    "      \n",
    "    u.append(np.reshape(uk_func(u[k-1], u_c[k], y[k], y[k-1], \n",
    "                                theta_hat[-1][0], theta_hat[-1][1], \n",
    "                                theta_hat[-1][2], theta_hat[-1][3]), ()))\n",
    "    \n",
    "df_theta = pd.DataFrame(np.asarray(theta_hat).reshape(-1,4,), columns=['a1', 'a2', 'b0', 'b1'])\n",
    "\n",
    "theta_hat_ploter(df_theta, theta0, 'Theta_hat Estimates')\n",
    "\n",
    "plt.step(t, u)\n",
    "plt.grid()\n",
    "plt.show()\n",
    "    \n",
    "plt.plot(t, y)\n",
    "plt.plot(t, u_c)\n"
   ]
  },
  {
   "cell_type": "markdown",
   "id": "e1c059ab",
   "metadata": {},
   "source": [
    "# Problem 3"
   ]
  },
  {
   "cell_type": "markdown",
   "id": "d98bfd54",
   "metadata": {},
   "source": [
    "## Part 1"
   ]
  },
  {
   "cell_type": "markdown",
   "id": "c5c8276e",
   "metadata": {
    "variables": {
     "B_minus": "$\\displaystyle b_{0}$",
     "B_plus": "$\\displaystyle q + \\frac{b_{1}}{b_{0}}$",
     "H": "$\\displaystyle \\frac{b_{0} q + b_{1}}{a_{1} q + a_{2} + q^{2}}$"
    }
   },
   "source": [
    "$H = \\;${{H}}\n",
    "\n",
    "$B = B^{-}B^{+} = \\;$({{B_minus}})({{B_plus}})\n",
    "\n",
    "Therfore,\n",
    "\n",
    "$$Deg(B^-) = 0$$\n",
    "\n",
    "and \n",
    "\n",
    "$$Deg(B^+) = Deg(B) = Deg(B_m) = 1$$\n",
    "\n",
    "Additionally\n",
    "\n",
    "$$Deg(A) = Deg(A_m) = 2$$\n",
    "\n",
    "$$Deg(S) = Deg(R) = Deg(A) - 1 = 2 - 1 = 1$$\n",
    "\n",
    "$$Deg(R^{'}) = Deg(R) - Deg(B^+) = 1 - 1 = 0$$\n",
    "\n",
    "$$Deg(A_0) = Deg(A) + Deg(R^{'}) - Deg(A_m) = 2 + 0 - 2 = 0$$"
   ]
  },
  {
   "cell_type": "markdown",
   "id": "938461b9",
   "metadata": {
    "variables": {
     "A0": "$\\displaystyle 1$",
     "Am": "$\\displaystyle a_{m1} q + a_{m2} + q^{2}$",
     "Bm": "$\\displaystyle q \\left(a_{m1} + a_{m2} + 1\\right)$",
     "R": "$\\displaystyle q + \\frac{b_{1}}{b_{0}}$",
     "R_prime": "$\\displaystyle 1$",
     "S": "$\\displaystyle q s_{0} + s_{1}$",
     "T": "$\\displaystyle \\frac{q \\left(a_{m1} + a_{m2} + 1\\right)}{b_{0}}$"
    }
   },
   "source": [
    "The control polynomials become\n",
    "\n",
    "$A_0 =\\;${{A0}}\n",
    "\n",
    "$S =\\;${{S}}\n",
    "\n",
    "$R =\\;${{R}}\n",
    "\n",
    "$R^{'} =\\;${{R_prime}}\n",
    "\n",
    "$A_m =\\;${{Am}}\n",
    "\n",
    "Additionally, to achive unity gain, the final value theorem can implemented on $A_m$ to obtain the value of $B_m$. This is achived by the equation $B_m = A_m(1)q^m$.This way, when k goes to infinity ($q \\rightarrow 1$), $G_m = 1$ and $Deg(B_m) = Deg(B)$. Therfore,\n",
    "\n",
    "$B_m =\\;${{Bm}}\n",
    "\n",
    "From this result, $T$ can be calculated\n",
    "\n",
    "$T =\\;${{T}} "
   ]
  },
  {
   "cell_type": "code",
   "execution_count": null,
   "id": "e52fb070",
   "metadata": {},
   "outputs": [],
   "source": []
  }
 ],
 "metadata": {
  "kernelspec": {
   "display_name": "Python 3 (ipykernel)",
   "language": "python",
   "name": "python3"
  },
  "language_info": {
   "codemirror_mode": {
    "name": "ipython",
    "version": 3
   },
   "file_extension": ".py",
   "mimetype": "text/x-python",
   "name": "python",
   "nbconvert_exporter": "python",
   "pygments_lexer": "ipython3",
   "version": "3.9.2"
  }
 },
 "nbformat": 4,
 "nbformat_minor": 5
}
