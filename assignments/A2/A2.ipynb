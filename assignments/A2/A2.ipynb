{
 "cells": [
  {
   "cell_type": "code",
   "execution_count": 12,
   "id": "e83ea1ef",
   "metadata": {},
   "outputs": [],
   "source": [
    "import pandas as pd\n",
    "import numpy as np\n",
    "from math import sqrt\n",
    "import sympy as sp\n",
    "from sympy import collect, simplify, expand, fraction, latex\n",
    "from IPython.display import display, Markdown, Math\n",
    "import matplotlib.pyplot as plt\n",
    "sp.init_printing(use_latex='mathjax')"
   ]
  },
  {
   "cell_type": "code",
   "execution_count": 13,
   "id": "c2e3962c",
   "metadata": {},
   "outputs": [],
   "source": [
    "class numden_coeff:\n",
    "    def __init__(self, expr, order_num, order_denum, symb):\n",
    "        self.num, self.denum = fraction(expr)\n",
    "        self.symb = symb\n",
    "        self.common_factor = None\n",
    "        self.lst_denum_coeff = self.build_lst(self.denum, order_denum)\n",
    "        self.lst_num_coeff = self.build_lst(self.num, order_num)\n",
    "#         display(Markdown(r\"Numerator coefficients (\\beta)\"), self.lst_num_coeff[::-1])\n",
    "#         display(Markdown(r\"Denominator coefficients (alpha)\"), self.lst_denum_coeff[::-1])\n",
    "        \n",
    "        \n",
    "    def build_lst(self, poly, order):\n",
    "        lst = [expand(poly).coeff(self.symb**i) for i in range((order), 0, -1)]\n",
    "        lst.append(poly.subs(self.symb,0))\n",
    "        if (self.common_factor == None):\n",
    "            self.common_factor = lst[0]\n",
    "            \n",
    "        lst = [simplify(lst[i]/self.common_factor) for i in range(order + 1)]\n",
    "        return lst"
   ]
  },
  {
   "cell_type": "markdown",
   "id": "0c8e1fd4",
   "metadata": {},
   "source": [
    "# Problem 1"
   ]
  },
  {
   "cell_type": "markdown",
   "id": "c6199b01",
   "metadata": {},
   "source": [
    "## Part 1"
   ]
  },
  {
   "cell_type": "code",
   "execution_count": 14,
   "id": "a1d2201b",
   "metadata": {},
   "outputs": [],
   "source": [
    "c, d, s, zeta, omega, r_1, s_0, s_1, a_0 = sp.symbols('c d s zeta omega r_1 s_0 s_1 a_0')\n",
    "a = 1\n",
    "b = 1\n",
    "G1 = b/(s + a)\n",
    "G2 = c/(s+d)\n",
    "G = collect(expand(G1*G2), s)\n",
    "B, A = fraction(G)\n",
    "B_minus = B"
   ]
  },
  {
   "cell_type": "markdown",
   "id": "b8b6a81c",
   "metadata": {
    "variables": {
     "A": "$\\displaystyle d + s^{2} + s \\left(d + 1\\right)$",
     "B": "$\\displaystyle c$",
     "G": "$\\displaystyle \\frac{c}{d + s^{2} + s \\left(d + 1\\right)}$"
    }
   },
   "source": [
    "$G_1(s)G_2(s) = G(s) =\\;$ {{G}}\n",
    "\n",
    "Therefore\n",
    "\n",
    "$B = \\;${{B}}\n",
    "\n",
    "$A = \\;$ {{A}}\n",
    "\n",
    "Since $Deg(B)$ is clearly $0$, $B^{+} = 1$ and $B^- =\\;$ {{B}}"
   ]
  },
  {
   "cell_type": "code",
   "execution_count": 15,
   "id": "def1fd2b",
   "metadata": {},
   "outputs": [],
   "source": [
    "A_m = s**2 + 2*s + 1\n",
    "B_m = 1\n",
    "G_m = B_m/A_m\n",
    "B_m_prime = B_m/B_minus"
   ]
  },
  {
   "cell_type": "markdown",
   "id": "02415a6e",
   "metadata": {
    "variables": {
     "A_m": "$\\displaystyle s^{2} + 2 s + 1$",
     "G_m": "$\\displaystyle \\frac{1}{s^{2} + 2 s + 1}$"
    }
   },
   "source": [
    "$A_m$ is given to be {{A_m}}. Letting the desired model take the form of \n",
    "\n",
    "$G_m = \\frac{\\omega^2}{s^2 + 2\\zeta\\omega + \\omega^2}$\n",
    "\n",
    "$\\omega$ and $\\zeta$ are equivalent to $1$. Since $\\omega = 1$, $B_m$ must be equal to $1$ which yeilds\n",
    "\n",
    "$G_m =\\;${{G_m}}"
   ]
  },
  {
   "cell_type": "markdown",
   "id": "7cde01b6",
   "metadata": {},
   "source": [
    "$$Deg(A_0) = Deg(A) - Deg(B^+) - 1 = 2 - 0 - 1 = 1$$\n",
    "\n",
    "$$Deg(A_c) = 2(Deg(A))-1 = 2*2 - 1 = 3$$\n",
    "\n",
    "$$Deg(R) = Deg(S) = Deg(A_c) - Deg(A) = 3 - 2 = 1$$"
   ]
  },
  {
   "cell_type": "code",
   "execution_count": 16,
   "id": "c60dc604",
   "metadata": {},
   "outputs": [],
   "source": [
    "A_0 = s + a_0\n",
    "R_prime = s + r_1\n",
    "R_ = R_prime\n",
    "S_ = s_0*s + s_1\n",
    "T_ = A_0*B_m_prime"
   ]
  },
  {
   "cell_type": "markdown",
   "id": "bb688bbb",
   "metadata": {
    "variables": {
     "A_0": "$\\displaystyle a_{0} + s$",
     "R_prime": "$\\displaystyle r_{1} + s$",
     "S_": "$\\displaystyle s s_{0} + s_{1}$",
     "T_": "$\\displaystyle \\frac{a_{0} + s}{c}$"
    }
   },
   "source": [
    "Since $Deg(B^+) = 0$ then $Deg(R^{'}) = 1$ and therfore \n",
    "\n",
    "$R = B^{+}R^{'} = R^{'} =\\;${{R_prime}} \n",
    "\n",
    "Additionally\n",
    "\n",
    "$A_0 =\\;${{A_0}}\n",
    "\n",
    "$S =\\;${{S_}}\n",
    "\n",
    "$T =A_0B_{m}^{'}=\\;${{T_}}"
   ]
  },
  {
   "cell_type": "code",
   "execution_count": 17,
   "id": "21c78fb3",
   "metadata": {},
   "outputs": [],
   "source": [
    "LHS = collect(expand(A*R_prime + B_minus*S_), s)\n",
    "RHS = collect(expand(A_0*A_m), s)\n",
    "equ = sp.Eq(LHS,RHS)\n",
    "r_1_ = sp.solve(sp.Eq(LHS.coeff(s**2),RHS.coeff(s**2)), r_1)[0]\n",
    "s_0_ = sp.solve(sp.Eq(LHS.coeff(s**1),RHS.coeff(s**1)), s_0)[0]\n",
    "s_1_ = sp.solve(sp.Eq(LHS.subs(s,0),RHS.subs(s,0)), s_1)[0]"
   ]
  },
  {
   "cell_type": "markdown",
   "id": "7c3aa5f2",
   "metadata": {
    "variables": {
     "LHS": "$\\displaystyle c s_{1} + d r_{1} + s^{3} + s^{2} \\left(d + r_{1} + 1\\right) + s \\left(c s_{0} + d r_{1} + d + r_{1}\\right)$",
     "RHS": "$\\displaystyle a_{0} + s^{3} + s^{2} \\left(a_{0} + 2\\right) + s \\left(2 a_{0} + 1\\right)$"
    }
   },
   "source": [
    "The Diophantine equation $AR^{'} + B^{-}S = A_0A_m$ in terms of control parameters is given by\n",
    "\n",
    "{{LHS}}$=${{RHS}}"
   ]
  },
  {
   "cell_type": "markdown",
   "id": "2fdd68f7",
   "metadata": {
    "variables": {
     "r_1_": "$\\displaystyle a_{0} - d + 1$",
     "s_0_": "$\\displaystyle \\frac{2 a_{0} - d r_{1} - d - r_{1} + 1}{c}$",
     "s_1_": "$\\displaystyle \\frac{a_{0} - d r_{1}}{c}$"
    }
   },
   "source": [
    "Which yeilds\n",
    "\n",
    "$r_1 =${{r_1_}}\n",
    "\n",
    "$s_0 =${{s_0_}}\n",
    "\n",
    "$s_1 =${{s_1_}}"
   ]
  },
  {
   "cell_type": "markdown",
   "id": "e90c8e09",
   "metadata": {},
   "source": [
    "## Part 2"
   ]
  },
  {
   "cell_type": "markdown",
   "id": "3992eb27",
   "metadata": {},
   "source": [
    "### ODE of Plant"
   ]
  },
  {
   "cell_type": "code",
   "execution_count": 18,
   "id": "00df2965",
   "metadata": {},
   "outputs": [
    {
     "data": {
      "text/latex": [
       "$\\displaystyle c u(s) + y(s) \\left(- d + s \\left(- d - 1\\right)\\right)$"
      ],
      "text/plain": [
       "c⋅u(s) + y(s)⋅(-d + s⋅(-d - 1))"
      ]
     },
     "execution_count": 18,
     "metadata": {},
     "output_type": "execute_result"
    }
   ],
   "source": [
    "y_s, u_s = sp.symbols('y(s) u(s)')\n",
    "\n",
    "ode_RHS = ((-A.coeff(s**1)*s - A.subs(s,0))*y_s) + (B.coeff(s**2)*s**2 + B.coeff(s**1)*s**1 + B.subs(s,0))*u_s\n",
    "ode_RHS"
   ]
  },
  {
   "cell_type": "markdown",
   "id": "746b552b",
   "metadata": {},
   "source": [
    "The ODE of $2^{nd}$ order describing the process is given by\n",
    "\n",
    "$s^2y(s) = -(d + 1)sy(s) - dy(s) + cu(s)$\n",
    "\n",
    "where $p$ is the time shifting operator. The reliance of the RHS of the equation on derivatives can be changed to integrals by filtering the input ($u(s)$) and output ($y(s)$) of the plant by a filter whose denominator polynomial is greater order than the derivative. The above equation becomes \n",
    "\n",
    "$s^2y_f(s) = -(d + 1)sy_f(s) - dy_f(s) + cu_f(s)$ \n",
    "\n",
    "$\\Rightarrow s^2H_fy(s) = -(d + 1)sH_fy(s) - dH_fy(s) + cH_fu(s)$\n",
    "\n",
    "$\\Rightarrow \\frac{s^2}{A_m}y(s) = -(d + 1)\\frac{s}{A_m}y(s) - d\\frac{1}{A_m}y(s) + c\\frac{1}{A_m}u(s)$\n",
    "\n",
    "For simplicity, let $(d + 1) = x$. The ODE then becomes \n",
    "\n",
    "$\\Rightarrow \\frac{s^2}{A_m}y(s) = -x\\frac{s}{A_m}y(s) - d\\frac{1}{A_m}y(s) + c\\frac{1}{A_m}u(s)$\n",
    "\n",
    "This equation can be further simplified as\n",
    "\n",
    "$\\Rightarrow y_2(s) = -xy_1(s) - dy_0(s) + cu_0(s)$ \n",
    "\n"
   ]
  },
  {
   "cell_type": "markdown",
   "id": "3c73264f",
   "metadata": {},
   "source": [
    "### Bilinear Transformation of Filtered ODE"
   ]
  },
  {
   "cell_type": "code",
   "execution_count": 19,
   "id": "46a78331",
   "metadata": {},
   "outputs": [],
   "source": [
    "H_f = 1/A_m"
   ]
  },
  {
   "cell_type": "markdown",
   "id": "fffd28ba",
   "metadata": {
    "variables": {
     "H_f": "$\\displaystyle \\frac{1}{s^{2} + 2 s + 1}$"
    }
   },
   "source": [
    "The filter $H_f(s)$ is given to be\n",
    "\n",
    "$H_f(s)= \\frac{1}{A_m}=\\;$ {{H_f}}\n",
    "\n",
    "This filter ,and the ODE above, are however, in terms of $s$ and are therfore, in continuous time domain. To converte the filter to discrete time ($q$), a bilinear transformation will be performed. i.e.\n",
    "\n",
    "$s\\rightarrow\\frac{2(1 - \\frac{1}{q})}{T(1 + \\frac{1}{q})}$\n",
    "\n",
    "\n",
    "The ODE can now be represented in the discret time domain by\n",
    "\n",
    "$y_i(kT) = H_i(q^{-1})y(kT) = \\frac{s^i}{A_m(s)}\\bigg\\rvert_{s=\\frac{2(1 - \\frac{1}{q})}{T(1 + \\frac{1}{q})}}y(kT), \\;\\;\\;  u_i(kT)  = \\frac{s^i}{A_m(s)}\\bigg\\rvert_{s=\\frac{2(1 - \\frac{1}{q})}{T(1 + \\frac{1}{q})}}u(kT)$\n"
   ]
  },
  {
   "cell_type": "code",
   "execution_count": 20,
   "id": "8f1a5b85",
   "metadata": {},
   "outputs": [],
   "source": [
    "T, q = sp.symbols('T q')\n",
    "\n",
    "bilinear_T = (2/T)*((1 - q**(-1))/(1 + q**(-1)))\n",
    "\n",
    "H_fy1 = collect(simplify(expand((s*H_f).subs(s,bilinear_T))), q)\n",
    "H_fy0 = collect(simplify(expand((H_f).subs(s,bilinear_T))), q)\n",
    "H_fu0 = collect(simplify(expand((H_f).subs(s,bilinear_T))), q)\n",
    "\n",
    "obj_H_fy1 = numden_coeff(H_fy1, 2, 2, q)\n",
    "obj_H_fy0 = numden_coeff(H_fy0, 2, 2, q)\n",
    "obj_H_fu0 = numden_coeff(H_fu0, 2, 2, q)\n",
    "\n",
    "aH_fy1 = obj_H_fy1.lst_denum_coeff\n",
    "bH_fy1 = obj_H_fy1.lst_num_coeff\n",
    "aH_fy0 = obj_H_fy0.lst_denum_coeff\n",
    "bH_fy0 = obj_H_fy0.lst_num_coeff\n",
    "aH_fu0 = obj_H_fu0.lst_denum_coeff\n",
    "bH_fu0 = obj_H_fu0.lst_num_coeff"
   ]
  },
  {
   "cell_type": "markdown",
   "id": "3134550c",
   "metadata": {
    "variables": {
     "aH_fu0": "$\\displaystyle \\left[ 1, \\  \\frac{2 \\left(T - 2\\right)}{T + 2}, \\  \\frac{T^{2} - 4 T + 4}{T^{2} + 4 T + 4}\\right]$",
     "aH_fy0": "$\\displaystyle \\left[ 1, \\  \\frac{2 \\left(T - 2\\right)}{T + 2}, \\  \\frac{T^{2} - 4 T + 4}{T^{2} + 4 T + 4}\\right]$",
     "aH_fy1": "$\\displaystyle \\left[ 1, \\  \\frac{2 \\left(T - 2\\right)}{T + 2}, \\  \\frac{T^{2} - 4 T + 4}{T^{2} + 4 T + 4}\\right]$",
     "bH_fu0": "$\\displaystyle \\left[ \\frac{T^{2}}{T^{2} + 4 T + 4}, \\  \\frac{2 T^{2}}{T^{2} + 4 T + 4}, \\  \\frac{T^{2}}{T^{2} + 4 T + 4}\\right]$",
     "bH_fy0": "$\\displaystyle \\left[ \\frac{T^{2}}{T^{2} + 4 T + 4}, \\  \\frac{2 T^{2}}{T^{2} + 4 T + 4}, \\  \\frac{T^{2}}{T^{2} + 4 T + 4}\\right]$",
     "bH_fy1": "$\\displaystyle \\left[ \\frac{2 T}{T^{2} + 4 T + 4}, \\  0, \\  - \\frac{2 T}{T^{2} + 4 T + 4}\\right]$"
    }
   },
   "source": [
    "For $H_1(q^{-1})y(kT)$, the coefficients of the denominator $\\alpha y_1$ are\n",
    "\n",
    "$\\alpha y_1 = \\;${{aH_fy1}}\n",
    "\n",
    "(ordered by powers of $q$ going from $q^0$ to $q^-2$) and the coefficients of the numerator $\\beta y_1$ are\n",
    "\n",
    "$\\beta y_1 = \\;${{bH_fy1}}\n",
    "\n",
    "which are also ordered by powers of $q$ going from $q^0$ to $q^-2$. Similarly, the coefficients for the denominator ($\\alpha$) and numerator ($\\beta$) of $y_0$ and $u_0$ are\n",
    "\n",
    "$\\alpha y_0 = \\;${{aH_fy0}}\n",
    "\n",
    "$\\beta y_0 = \\;${{bH_fy0}}\n",
    "\n",
    "$\\alpha u_0 = \\;${{aH_fu0}}\n",
    "\n",
    "$\\beta u_0 = \\;${{bH_fu0}}\n",
    "\n",
    "Note that $\\alpha y_0 = \\alpha u_0$ and $\\beta y_0 = \\beta u_0$ "
   ]
  },
  {
   "cell_type": "code",
   "execution_count": 21,
   "id": "2be63c94",
   "metadata": {},
   "outputs": [],
   "source": [
    "y_k, y_k_1, y_k_2  = sp.symbols('y(k) y(k-1) y(k-2)')\n",
    "u_k, u_k_1, u_k_2  = sp.symbols('u(k) u(k-1) u(k-2)')\n",
    "y1_k_1, y1_k_2 = sp.symbols('y_{1}(k-1) y_{1}(k-2)')\n",
    "y0_k_1, y0_k_2 = sp.symbols('y_{0}(k-1) y_{0}(k-2)')\n",
    "u0_k_1, u0_k_2 = sp.symbols('u_{0}(k-1) u_{0}(k-2)')\n",
    "\n",
    "y1_k = -y1_k_1*aH_fy1[1] - y1_k_2*aH_fy1[2] + y_k*bH_fy1[0] + y_k_2*bH_fy1[2]\n",
    "y0_k = -y0_k_1*aH_fy0[1] - y0_k_2*aH_fy0[2] + y_k*bH_fy0[0] + y_k_1*bH_fy0[1] + y_k_2*bH_fy0[2]\n",
    "u0_k = -u0_k_1*aH_fu0[1] - u0_k_2*aH_fu0[2] + u_k*bH_fu0[0] + u_k_1*bH_fu0[1] + u_k_2*bH_fu0[2]"
   ]
  },
  {
   "cell_type": "markdown",
   "id": "5e3c6804",
   "metadata": {
    "variables": {
     "u0_k": "$\\displaystyle \\frac{T^{2} u(k)}{T^{2} + 4 T + 4} + \\frac{2 T^{2} u(k-1)}{T^{2} + 4 T + 4} + \\frac{T^{2} u(k-2)}{T^{2} + 4 T + 4} - \\frac{2 u_{0}(k-1) \\left(T - 2\\right)}{T + 2} - \\frac{u_{0}(k-2) \\left(T^{2} - 4 T + 4\\right)}{T^{2} + 4 T + 4}$",
     "y0_k": "$\\displaystyle \\frac{T^{2} y(k)}{T^{2} + 4 T + 4} + \\frac{2 T^{2} y(k-1)}{T^{2} + 4 T + 4} + \\frac{T^{2} y(k-2)}{T^{2} + 4 T + 4} - \\frac{2 y_{0}(k-1) \\left(T - 2\\right)}{T + 2} - \\frac{y_{0}(k-2) \\left(T^{2} - 4 T + 4\\right)}{T^{2} + 4 T + 4}$",
     "y1_k": "$\\displaystyle \\frac{2 T y(k)}{T^{2} + 4 T + 4} - \\frac{2 T y(k-2)}{T^{2} + 4 T + 4} - \\frac{2 y_{1}(k-1) \\left(T - 2\\right)}{T + 2} - \\frac{y_{1}(k-2) \\left(T^{2} - 4 T + 4\\right)}{T^{2} + 4 T + 4}$"
    }
   },
   "source": [
    "The difference equations for $y_i(kT)$ and $u_i(kT)$ are\n",
    "\n",
    "$y_1(kT) = \\;$ {{y1_k}}\n",
    "\n",
    "$y_0(kT) = \\;$ {{y0_k}}\n",
    "\n",
    "$u_0(kT) = \\;$ {{u0_k}}\n",
    "\n",
    "Therefore,\n",
    "\n",
    "$y_2(kT) = [-y_1(kT) \\; -y_0(kT) \\; u_0(kT)][x \\; d \\; c]^T = \\phi^T\\theta$"
   ]
  },
  {
   "cell_type": "markdown",
   "id": "6f5eb00c",
   "metadata": {},
   "source": [
    "### Bilinear Transformation of Control Signal u(t)"
   ]
  },
  {
   "cell_type": "code",
   "execution_count": 34,
   "id": "00790710",
   "metadata": {},
   "outputs": [],
   "source": [
    "T_R = T_/R_\n",
    "S_R = S_/R_\n",
    "\n",
    "T_subd = T_\n",
    "R_subd = R_.subs(r_1, r_1_)\n",
    "S_subd = collect(expand(S_.subs([(s_0,s_0_), (s_1,s_1_), (r_1, r_1_)])), s)\n",
    "\n",
    "T_R_subd = T_subd/R_subd\n",
    "S_R_subd = simplify(S_subd/R_subd)\n",
    "\n",
    "# bilinear transformation of T/R and S/R\n",
    "TR = collect(simplify(expand(T_R_subd.subs(s, bilinear_T))), q)\n",
    "SR = collect(simplify(expand(S_R_subd.subs(s, bilinear_T))), q)"
   ]
  },
  {
   "cell_type": "markdown",
   "id": "3eeb6dac",
   "metadata": {
    "variables": {
     "SR": "$\\displaystyle \\frac{T a_{0} d - T a_{0} - T d^{2} + T d - 2 a_{0} d + 2 a_{0} + 2 d^{2} - 2 d + q \\left(T a_{0} d - T a_{0} - T d^{2} + T d + 2 a_{0} d - 2 a_{0} - 2 d^{2} + 2 d\\right)}{c \\left(- T a_{0} + T d - T + q \\left(- T a_{0} + T d - T - 2\\right) + 2\\right)}$",
     "S_R": "$\\displaystyle \\frac{s s_{0} + s_{1}}{r_{1} + s}$",
     "S_R_subd": "$\\displaystyle \\frac{- a_{0} d + a_{0} + d^{2} - d - s \\left(a_{0} d - a_{0} - d^{2} + d\\right)}{c \\left(a_{0} - d + s + 1\\right)}$",
     "TR": "$\\displaystyle \\frac{- T a_{0} + q \\left(- T a_{0} - 2\\right) + 2}{c \\left(- T a_{0} + T d - T + q \\left(- T a_{0} + T d - T - 2\\right) + 2\\right)}$",
     "T_R": "$\\displaystyle \\frac{a_{0} + s}{c \\left(r_{1} + s\\right)}$",
     "T_R_subd": "$\\displaystyle \\frac{a_{0} + s}{c \\left(a_{0} - d + s + 1\\right)}$"
    }
   },
   "source": [
    "The control signal of the system is given by \n",
    "\n",
    "$u(t) = \\frac{T}{R}u_c(t) - \\frac{S}{R}y(t) = \\;${{T_R}}$u_c(t) -\\;${{S_R}}$y(t)=\\;$ {{T_R_subd}}$u_c(t) -\\;${{S_R_subd}}$y(t)$\n",
    "\n",
    "This however, must also be converted to the discrete time doamin with a bilinear transformation as well. This will be done by directly performing the transformation on $\\frac{T}{R}$ and $\\frac{S}{R}$ (no filtering) and using the $\\alpha$ and $\\beta$ coefficients to derive difference equations for $u_c(kT)$ and $y(kT)$ respectivley. \n",
    "\n",
    "The bilinear transformations of $\\frac{T}{R}$ and $\\frac{S}{R}$ are\n",
    "\n",
    "$\\frac{T}{R}\\bigg\\rvert_{s=\\frac{2(1 - \\frac{1}{q})}{T(1 + \\frac{1}{q})}} = \\;${{TR}}\n",
    "\n",
    "$\\frac{S}{R}\\bigg\\rvert_{s=\\frac{2(1 - \\frac{1}{q})}{T(1 + \\frac{1}{q})}} = \\;${{SR}}"
   ]
  },
  {
   "cell_type": "code",
   "execution_count": 36,
   "id": "806322b5",
   "metadata": {},
   "outputs": [],
   "source": [
    "obj_TR = numden_coeff(TR, 1, 1, q)\n",
    "obj_SR = numden_coeff(SR, 1, 1, q)\n",
    "\n",
    "aTR = obj_TR.lst_denum_coeff\n",
    "bTR = obj_TR.lst_num_coeff\n",
    "\n",
    "aSR = obj_SR.lst_denum_coeff\n",
    "bSR = obj_SR.lst_num_coeff"
   ]
  },
  {
   "cell_type": "markdown",
   "id": "771127e1",
   "metadata": {
    "variables": {
     "aSR": "$\\displaystyle \\left[ 1, \\  \\frac{T a_{0} - T d + T - 2}{T a_{0} - T d + T + 2}\\right]$",
     "aTR": "$\\displaystyle \\left[ 1, \\  \\frac{T a_{0} - T d + T - 2}{T a_{0} - T d + T + 2}\\right]$",
     "bSR": "$\\displaystyle \\left[ \\frac{- T a_{0} d + T a_{0} + T d^{2} - T d - 2 a_{0} d + 2 a_{0} + 2 d^{2} - 2 d}{c \\left(T a_{0} - T d + T + 2\\right)}, \\  \\frac{- T a_{0} d + T a_{0} + T d^{2} - T d + 2 a_{0} d - 2 a_{0} - 2 d^{2} + 2 d}{c \\left(T a_{0} - T d + T + 2\\right)}\\right]$",
     "bTR": "$\\displaystyle \\left[ \\frac{T a_{0} + 2}{c \\left(T a_{0} - T d + T + 2\\right)}, \\  \\frac{T a_{0} - 2}{c \\left(T a_{0} - T d + T + 2\\right)}\\right]$"
    }
   },
   "source": [
    "For $\\frac{T}{R}$, the coefficients of the numerator and denominator are\n",
    "\n",
    "$\\alpha\\frac{T}{R} =\\;$ {{aTR}} \n",
    "\n",
    "and\n",
    "\n",
    "$\\beta\\frac{T}{R} =\\;$ {{bTR}}\n",
    "\n",
    "while the coefficients of the numerator and denominator for $\\frac{S}{R}$ are\n",
    "\n",
    "$\\alpha\\frac{S}{R} =\\;$ {{aSR}}\n",
    "\n",
    "and\n",
    "\n",
    "$\\beta\\frac{S}{R} =\\;$ {{bSR}}"
   ]
  },
  {
   "cell_type": "code",
   "execution_count": 39,
   "id": "ef67eec7",
   "metadata": {},
   "outputs": [],
   "source": [
    "uc_k, uc_k_1 = sp.symbols('u_{c}(k) u_{c}(k-1)')\n",
    "\n",
    "uk = -u_k_1*aTR[1] + uc_k*bTR[0] + uc_k_1*bTR[1] - y_k*bSR[0] - y_k_1*bSR[1]"
   ]
  },
  {
   "cell_type": "markdown",
   "id": "19f7acdb",
   "metadata": {
    "variables": {
     "uk": "$\\displaystyle - \\frac{u(k-1) \\left(T a_{0} - T d + T - 2\\right)}{T a_{0} - T d + T + 2} + \\frac{u_{c}(k) \\left(T a_{0} + 2\\right)}{c \\left(T a_{0} - T d + T + 2\\right)} + \\frac{u_{c}(k-1) \\left(T a_{0} - 2\\right)}{c \\left(T a_{0} - T d + T + 2\\right)} - \\frac{y(k) \\left(- T a_{0} d + T a_{0} + T d^{2} - T d - 2 a_{0} d + 2 a_{0} + 2 d^{2} - 2 d\\right)}{c \\left(T a_{0} - T d + T + 2\\right)} - \\frac{y(k-1) \\left(- T a_{0} d + T a_{0} + T d^{2} - T d + 2 a_{0} d - 2 a_{0} - 2 d^{2} + 2 d\\right)}{c \\left(T a_{0} - T d + T + 2\\right)}$"
    }
   },
   "source": [
    "The difference equation representing the control signal becomes\n",
    "\n",
    "$u(k) = \\;${{uk}}"
   ]
  }
 ],
 "metadata": {
  "kernelspec": {
   "display_name": "Python 3 (ipykernel)",
   "language": "python",
   "name": "python3"
  },
  "language_info": {
   "codemirror_mode": {
    "name": "ipython",
    "version": 3
   },
   "file_extension": ".py",
   "mimetype": "text/x-python",
   "name": "python",
   "nbconvert_exporter": "python",
   "pygments_lexer": "ipython3",
   "version": "3.9.2"
  }
 },
 "nbformat": 4,
 "nbformat_minor": 5
}
