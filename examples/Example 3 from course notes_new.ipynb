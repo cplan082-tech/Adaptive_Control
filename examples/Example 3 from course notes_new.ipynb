{
 "cells": [
  {
   "cell_type": "code",
   "execution_count": 144,
   "id": "a51f1c17",
   "metadata": {},
   "outputs": [],
   "source": [
    "import pandas as pd\n",
    "import numpy as np\n",
    "from numpy.linalg import inv\n",
    "import math as m\n",
    "from math import sqrt\n",
    "from sympy import *\n",
    "from IPython.display import display, Markdown, Math\n",
    "import matplotlib.pyplot as plt\n",
    "init_printing(use_latex='mathjax')"
   ]
  },
  {
   "cell_type": "code",
   "execution_count": 110,
   "id": "c1725d40",
   "metadata": {},
   "outputs": [],
   "source": [
    "a, b, s, zeta, omega, r_1, s_0, s_1, a_0 = symbols('a b s zeta omega r_1 s_0 s_1 a_0')\n",
    "A = (s*(s + a))\n",
    "B = b\n",
    "B_minus = b\n",
    "G = B/A\n",
    "A_m = s**2 + 2*zeta*omega*s + omega**2\n",
    "B_m = omega**2\n",
    "G_m = B_m/A_m\n",
    "B_m_prime = B_m/B_minus\n",
    "R_prime = s + r_1\n",
    "S = s_0*s + s_1\n",
    "A_0 = s + a_0\n",
    "T_ = A_0*B_m_prime"
   ]
  },
  {
   "cell_type": "markdown",
   "id": "db4354eb",
   "metadata": {},
   "source": [
    "# Plant Transfer Function"
   ]
  },
  {
   "cell_type": "code",
   "execution_count": 111,
   "id": "196c1fa1",
   "metadata": {},
   "outputs": [
    {
     "data": {
      "text/latex": [
       "$\\displaystyle A = s \\left(a + s\\right);\\; \\; \\;B = b$"
      ],
      "text/plain": [
       "<IPython.core.display.Math object>"
      ]
     },
     "metadata": {},
     "output_type": "display_data"
    },
    {
     "data": {
      "text/latex": [
       "$\\displaystyle G = \\frac{B}{A} =b$"
      ],
      "text/plain": [
       "<IPython.core.display.Math object>"
      ]
     },
     "metadata": {},
     "output_type": "display_data"
    },
    {
     "data": {
      "text/latex": [
       "$\\displaystyle B^- = b;\\; \\; \\;B^+ = 1;\\; \\; \\;B_{m}^{'} = \\frac{\\omega^{2}}{b}$"
      ],
      "text/plain": [
       "<IPython.core.display.Math object>"
      ]
     },
     "metadata": {},
     "output_type": "display_data"
    }
   ],
   "source": [
    "display(Math('A = '+latex(A)+';\\\\; \\\\; \\\\;'+'B = '+latex(B)))\n",
    "display(Math('G = \\\\frac{B}{A} ='+latex(B)))\n",
    "display(Math('B^- = '+latex(B_minus)+';\\\\; \\\\; \\\\;'+'B^+ = 1'+';\\\\; \\\\; \\\\;'+\"B_{m}^{'} = \"+latex(B_m_prime)))"
   ]
  },
  {
   "cell_type": "markdown",
   "id": "319998fd",
   "metadata": {},
   "source": [
    "# Closed Loop Model Transfer Function"
   ]
  },
  {
   "cell_type": "code",
   "execution_count": 112,
   "id": "01574c8c",
   "metadata": {},
   "outputs": [
    {
     "data": {
      "text/latex": [
       "$\\displaystyle A_m = \\omega^{2} + 2 \\omega s \\zeta + s^{2};\\; \\; \\;B_m = \\omega^{2}$"
      ],
      "text/plain": [
       "<IPython.core.display.Math object>"
      ]
     },
     "metadata": {},
     "output_type": "display_data"
    },
    {
     "data": {
      "text/latex": [
       "$\\displaystyle G_m = \\frac{B_m}{A_m} =\\frac{\\omega^{2}}{\\omega^{2} + 2 \\omega s \\zeta + s^{2}}$"
      ],
      "text/plain": [
       "<IPython.core.display.Math object>"
      ]
     },
     "metadata": {},
     "output_type": "display_data"
    }
   ],
   "source": [
    "display(Math(\"A_m = \"+latex(A_m)+';\\\\; \\\\; \\\\;'+\"B_m = \"+latex(B_m)))\n",
    "display(Math(\"G_m = \\\\frac{B_m}{A_m} =\"+latex(G_m)))"
   ]
  },
  {
   "cell_type": "markdown",
   "id": "5750b838",
   "metadata": {},
   "source": [
    "# Observer Polynomial"
   ]
  },
  {
   "cell_type": "code",
   "execution_count": 113,
   "id": "18803402",
   "metadata": {},
   "outputs": [
    {
     "data": {
      "text/latex": [
       "$\\displaystyle A_0 = a_{0} + s$"
      ],
      "text/plain": [
       "<IPython.core.display.Math object>"
      ]
     },
     "metadata": {},
     "output_type": "display_data"
    }
   ],
   "source": [
    "display(Math('A_0 = '+latex(A_0)))"
   ]
  },
  {
   "cell_type": "markdown",
   "id": "0c9c41fa",
   "metadata": {},
   "source": [
    "# Control Polynomials"
   ]
  },
  {
   "cell_type": "code",
   "execution_count": 114,
   "id": "a7591fdd",
   "metadata": {},
   "outputs": [
    {
     "data": {
      "text/latex": [
       "$\\displaystyle R = B^{+}R^{'} = R^{'} = r_{1} + s$"
      ],
      "text/plain": [
       "<IPython.core.display.Math object>"
      ]
     },
     "metadata": {},
     "output_type": "display_data"
    },
    {
     "data": {
      "text/latex": [
       "$\\displaystyle S = s s_{0} + s_{1}$"
      ],
      "text/plain": [
       "<IPython.core.display.Math object>"
      ]
     },
     "metadata": {},
     "output_type": "display_data"
    },
    {
     "data": {
      "text/latex": [
       "$\\displaystyle T = \\frac{\\omega^{2} \\left(a_{0} + s\\right)}{b}$"
      ],
      "text/plain": [
       "<IPython.core.display.Math object>"
      ]
     },
     "metadata": {},
     "output_type": "display_data"
    }
   ],
   "source": [
    "display(Math(\"R = B^{+}R^{'} = R^{'} = \"+latex(R_prime)))\n",
    "display(Math('S = '+latex(S)))\n",
    "display(Math('T = '+latex(T_)))"
   ]
  },
  {
   "cell_type": "markdown",
   "id": "234897f9",
   "metadata": {},
   "source": [
    "# Control Parameters"
   ]
  },
  {
   "cell_type": "code",
   "execution_count": 115,
   "id": "7060e347",
   "metadata": {},
   "outputs": [
    {
     "data": {
      "text/latex": [
       "$\\displaystyle r_1 = - a + a_{0} + 2 \\omega \\zeta$"
      ],
      "text/plain": [
       "<IPython.core.display.Math object>"
      ]
     },
     "metadata": {},
     "output_type": "display_data"
    },
    {
     "data": {
      "text/latex": [
       "$\\displaystyle s_0 = \\frac{a^{2} - a a_{0} - 2 a \\omega \\zeta + 2 a_{0} \\omega \\zeta + \\omega^{2}}{b}$"
      ],
      "text/plain": [
       "<IPython.core.display.Math object>"
      ]
     },
     "metadata": {},
     "output_type": "display_data"
    },
    {
     "data": {
      "text/latex": [
       "$\\displaystyle s_1 = \\frac{a_{0} \\omega^{2}}{b}$"
      ],
      "text/plain": [
       "<IPython.core.display.Math object>"
      ]
     },
     "metadata": {},
     "output_type": "display_data"
    }
   ],
   "source": [
    "r_1_ = 2*zeta*omega + a_0 - a\n",
    "s_0_ = (omega**2 + 2*zeta*omega*a_0 - a*r_1_)/b\n",
    "s_0_ = simplify(expand(s_0_))\n",
    "s_1_ = a_0*omega**2/b\n",
    "\n",
    "display(Math('r_1 = '+latex(r_1_)))\n",
    "display(Math('s_0 = '+latex(s_0_)))\n",
    "display(Math('s_1 = '+latex(s_1_)))\n"
   ]
  },
  {
   "cell_type": "markdown",
   "id": "1400409a",
   "metadata": {},
   "source": [
    "# Control Polynomials in Terms of Estimated Parameters"
   ]
  },
  {
   "cell_type": "code",
   "execution_count": 116,
   "id": "81c24343",
   "metadata": {},
   "outputs": [
    {
     "data": {
      "text/latex": [
       "$\\displaystyle R = B^{+}R^{'} = R^{'} = - a + a_{0} + 2 \\omega \\zeta + s$"
      ],
      "text/plain": [
       "<IPython.core.display.Math object>"
      ]
     },
     "metadata": {},
     "output_type": "display_data"
    },
    {
     "data": {
      "text/latex": [
       "$\\displaystyle S = \\frac{a_{0} \\omega^{2}}{b} + \\frac{s \\left(a^{2} - a a_{0} - 2 a \\omega \\zeta + 2 a_{0} \\omega \\zeta + \\omega^{2}\\right)}{b}$"
      ],
      "text/plain": [
       "<IPython.core.display.Math object>"
      ]
     },
     "metadata": {},
     "output_type": "display_data"
    },
    {
     "data": {
      "text/latex": [
       "$\\displaystyle T = \\frac{\\omega^{2} \\left(a_{0} + s\\right)}{b}$"
      ],
      "text/plain": [
       "<IPython.core.display.Math object>"
      ]
     },
     "metadata": {},
     "output_type": "display_data"
    }
   ],
   "source": [
    "R = R_prime.subs(r_1, r_1_)\n",
    "S_ = s_0_*s + s_1_\n",
    "T_ = A_0*B_m_prime\n",
    "\n",
    "display(Math(\"R = B^{+}R^{'} = R^{'} = \"+latex(R)))\n",
    "display(Math('S = '+latex(S_)))\n",
    "display(Math('T = '+latex(T_)))"
   ]
  },
  {
   "cell_type": "markdown",
   "id": "6b9af49a",
   "metadata": {},
   "source": [
    "# Bilinear Transformation of Filtered Input and Output Signals"
   ]
  },
  {
   "cell_type": "code",
   "execution_count": 117,
   "id": "99aae358",
   "metadata": {},
   "outputs": [
    {
     "data": {
      "text/latex": [
       "$\\displaystyle H_f = \\frac{1}{\\omega^{2} + 2 \\omega s \\zeta + s^{2}}$"
      ],
      "text/plain": [
       "<IPython.core.display.Math object>"
      ]
     },
     "metadata": {},
     "output_type": "display_data"
    }
   ],
   "source": [
    "H_f = 1/A_m\n",
    "display(Math('H_f = '+latex(H_f)))"
   ]
  },
  {
   "cell_type": "code",
   "execution_count": 118,
   "id": "aca4c83e",
   "metadata": {},
   "outputs": [
    {
     "data": {
      "text/latex": [
       "$\\displaystyle \\frac{2 \\left(1 - \\frac{1}{q}\\right)}{T \\left(1 + \\frac{1}{q}\\right)}$"
      ],
      "text/plain": [
       "  ⎛    1⎞\n",
       "2⋅⎜1 - ─⎟\n",
       "  ⎝    q⎠\n",
       "─────────\n",
       "  ⎛    1⎞\n",
       "T⋅⎜1 + ─⎟\n",
       "  ⎝    q⎠"
      ]
     },
     "execution_count": 118,
     "metadata": {},
     "output_type": "execute_result"
    }
   ],
   "source": [
    "T, q = symbols('T q')\n",
    "\n",
    "bilinear_T = (2/T)*((1 - q**(-1))/(1 + q**(-1)))\n",
    "bilinear_T"
   ]
  },
  {
   "cell_type": "markdown",
   "id": "23689c3d",
   "metadata": {},
   "source": [
    "## Bilinear Transformation of Output Signal"
   ]
  },
  {
   "cell_type": "code",
   "execution_count": 119,
   "id": "e27ceb1e",
   "metadata": {},
   "outputs": [],
   "source": [
    "class numden_coeffs:\n",
    "    def __init__(self, expr, order_num, order_denum, symb):\n",
    "        self.num, self.denum = fraction(expr)\n",
    "        self.symb = symb\n",
    "        self.common_factor = None\n",
    "        self.lst_denum_coeff = self.build_lst(self.denum, order_denum)\n",
    "        self.lst_num_coeff = self.build_lst(self.num, order_num)\n",
    "        display(Markdown(r\"Numerator coefficients (beta)\"), self.lst_num_coeff[::-1])\n",
    "        display(Markdown(r\"Denominator coefficients (alpha)\"), self.lst_denum_coeff[::-1])\n",
    "        \n",
    "        \n",
    "    def build_lst(self, poly, order):\n",
    "        lst = [expand(poly).coeff(self.symb**i) for i in range((order), 0, -1)]\n",
    "        lst.append(poly.subs(self.symb,0))\n",
    "        if (self.common_factor == None):\n",
    "            self.common_factor = lst[0]\n",
    "            \n",
    "        lst = [simplify(lst[i]/self.common_factor) for i in range(order + 1)]\n",
    "        return lst\n",
    "        "
   ]
  },
  {
   "cell_type": "code",
   "execution_count": 120,
   "id": "301553e4",
   "metadata": {},
   "outputs": [
    {
     "data": {
      "text/latex": [
       "$\\displaystyle qH_fy(t) = \\frac{\\omega^{2} \\left(a_{0} + s\\right)}{b}$"
      ],
      "text/plain": [
       "<IPython.core.display.Math object>"
      ]
     },
     "metadata": {},
     "output_type": "display_data"
    }
   ],
   "source": [
    "H_fy = s*H_f\n",
    "H_fy = collect(simplify(expand(H_fy.subs(s,bilinear_T))), q)\n",
    "display(Math('qH_fy(t) = '+latex(T_)))"
   ]
  },
  {
   "cell_type": "code",
   "execution_count": 121,
   "id": "bdb0b338",
   "metadata": {},
   "outputs": [
    {
     "data": {
      "text/markdown": [
       "Numerator coefficients (beta)"
      ],
      "text/plain": [
       "<IPython.core.display.Markdown object>"
      ]
     },
     "metadata": {},
     "output_type": "display_data"
    },
    {
     "data": {
      "text/latex": [
       "$\\displaystyle \\left[ - \\frac{2 T}{T^{2} \\omega^{2} + 4 T \\omega \\zeta + 4}, \\  0, \\  \\frac{2 T}{T^{2} \\omega^{2} + 4 T \\omega \\zeta + 4}\\right]$"
      ],
      "text/plain": [
       "⎡       -2⋅T                     2⋅T        ⎤\n",
       "⎢───────────────────, 0, ───────────────────⎥\n",
       "⎢ 2  2                    2  2              ⎥\n",
       "⎣T ⋅ω  + 4⋅T⋅ω⋅ζ + 4     T ⋅ω  + 4⋅T⋅ω⋅ζ + 4⎦"
      ]
     },
     "metadata": {},
     "output_type": "display_data"
    },
    {
     "data": {
      "text/markdown": [
       "Denominator coefficients (alpha)"
      ],
      "text/plain": [
       "<IPython.core.display.Markdown object>"
      ]
     },
     "metadata": {},
     "output_type": "display_data"
    },
    {
     "data": {
      "text/latex": [
       "$\\displaystyle \\left[ \\frac{T^{2} \\omega^{2} - 4 T \\omega \\zeta + 4}{T^{2} \\omega^{2} + 4 T \\omega \\zeta + 4}, \\  \\frac{2 \\left(T^{2} \\omega^{2} - 4\\right)}{T^{2} \\omega^{2} + 4 T \\omega \\zeta + 4}, \\  1\\right]$"
      ],
      "text/plain": [
       "⎡ 2  2                     ⎛ 2  2    ⎞      ⎤\n",
       "⎢T ⋅ω  - 4⋅T⋅ω⋅ζ + 4     2⋅⎝T ⋅ω  - 4⎠      ⎥\n",
       "⎢───────────────────, ───────────────────, 1⎥\n",
       "⎢ 2  2                 2  2                 ⎥\n",
       "⎣T ⋅ω  + 4⋅T⋅ω⋅ζ + 4  T ⋅ω  + 4⋅T⋅ω⋅ζ + 4   ⎦"
      ]
     },
     "metadata": {},
     "output_type": "display_data"
    }
   ],
   "source": [
    "obj_H_fy_coef = numden_coeffs(H_fy, 2, 2, q)"
   ]
  },
  {
   "cell_type": "markdown",
   "id": "2b167452",
   "metadata": {},
   "source": [
    "### Difference Equation for $Y_1$ "
   ]
  },
  {
   "cell_type": "code",
   "execution_count": 122,
   "id": "4aa1dfcc",
   "metadata": {},
   "outputs": [
    {
     "data": {
      "text/latex": [
       "$\\displaystyle y_{1}(kT) =\\frac{2 T y(k)}{T^{2} \\omega^{2} + 4 T \\omega \\zeta + 4} - \\frac{2 T y(k-2)}{T^{2} \\omega^{2} + 4 T \\omega \\zeta + 4} - \\frac{2 y_{1}(k-1) \\left(T^{2} \\omega^{2} - 4\\right)}{T^{2} \\omega^{2} + 4 T \\omega \\zeta + 4} - \\frac{y_{1}(k-2) \\left(T^{2} \\omega^{2} - 4 T \\omega \\zeta + 4\\right)}{T^{2} \\omega^{2} + 4 T \\omega \\zeta + 4}$"
      ],
      "text/plain": [
       "<IPython.core.display.Math object>"
      ]
     },
     "metadata": {},
     "output_type": "display_data"
    }
   ],
   "source": [
    "y1_k_1, y1_k_2, y_k_2, y_k = symbols('y_{1}(k-1) y_{1}(k-2) y(k-2) y(k)')\n",
    "\n",
    "lst_alpha = obj_H_fy_coef.lst_denum_coeff\n",
    "lst_beta = obj_H_fy_coef.lst_num_coeff\n",
    "\n",
    "y1_k = -y1_k_1*lst_alpha[1] - y1_k_2*lst_alpha[2] + y_k_2*lst_beta[2] + y_k*lst_beta[0]\n",
    "display(Math('y_{1}(kT) ='+latex(y1_k)))"
   ]
  },
  {
   "cell_type": "markdown",
   "id": "acc00acb",
   "metadata": {},
   "source": [
    "## Bilinear Transformation of Input Signal"
   ]
  },
  {
   "cell_type": "code",
   "execution_count": 123,
   "id": "4dfe6e38",
   "metadata": {},
   "outputs": [
    {
     "data": {
      "text/latex": [
       "$\\displaystyle H_fu(t) =\\frac{T^{2} \\left(q^{2} + 2 q + 1\\right)}{T^{2} \\omega^{2} - 4 T \\omega \\zeta + q^{2} \\left(T^{2} \\omega^{2} + 4 T \\omega \\zeta + 4\\right) + q \\left(2 T^{2} \\omega^{2} - 8\\right) + 4}$"
      ],
      "text/plain": [
       "<IPython.core.display.Math object>"
      ]
     },
     "metadata": {},
     "output_type": "display_data"
    }
   ],
   "source": [
    "H_fu = H_f\n",
    "H_fu = collect(simplify(expand(H_fu.subs(s,bilinear_T))), q)\n",
    "display(Math('H_fu(t) ='+latex(H_fu)))"
   ]
  },
  {
   "cell_type": "code",
   "execution_count": 124,
   "id": "d40df184",
   "metadata": {},
   "outputs": [
    {
     "data": {
      "text/markdown": [
       "Numerator coefficients (beta)"
      ],
      "text/plain": [
       "<IPython.core.display.Markdown object>"
      ]
     },
     "metadata": {},
     "output_type": "display_data"
    },
    {
     "data": {
      "text/latex": [
       "$\\displaystyle \\left[ \\frac{T^{2}}{T^{2} \\omega^{2} + 4 T \\omega \\zeta + 4}, \\  \\frac{2 T^{2}}{T^{2} \\omega^{2} + 4 T \\omega \\zeta + 4}, \\  \\frac{T^{2}}{T^{2} \\omega^{2} + 4 T \\omega \\zeta + 4}\\right]$"
      ],
      "text/plain": [
       "⎡          2                     2                   2        ⎤\n",
       "⎢         T                   2⋅T                   T         ⎥\n",
       "⎢───────────────────, ───────────────────, ───────────────────⎥\n",
       "⎢ 2  2                 2  2                 2  2              ⎥\n",
       "⎣T ⋅ω  + 4⋅T⋅ω⋅ζ + 4  T ⋅ω  + 4⋅T⋅ω⋅ζ + 4  T ⋅ω  + 4⋅T⋅ω⋅ζ + 4⎦"
      ]
     },
     "metadata": {},
     "output_type": "display_data"
    },
    {
     "data": {
      "text/markdown": [
       "Denominator coefficients (alpha)"
      ],
      "text/plain": [
       "<IPython.core.display.Markdown object>"
      ]
     },
     "metadata": {},
     "output_type": "display_data"
    },
    {
     "data": {
      "text/latex": [
       "$\\displaystyle \\left[ \\frac{T^{2} \\omega^{2} - 4 T \\omega \\zeta + 4}{T^{2} \\omega^{2} + 4 T \\omega \\zeta + 4}, \\  \\frac{2 \\left(T^{2} \\omega^{2} - 4\\right)}{T^{2} \\omega^{2} + 4 T \\omega \\zeta + 4}, \\  1\\right]$"
      ],
      "text/plain": [
       "⎡ 2  2                     ⎛ 2  2    ⎞      ⎤\n",
       "⎢T ⋅ω  - 4⋅T⋅ω⋅ζ + 4     2⋅⎝T ⋅ω  - 4⎠      ⎥\n",
       "⎢───────────────────, ───────────────────, 1⎥\n",
       "⎢ 2  2                 2  2                 ⎥\n",
       "⎣T ⋅ω  + 4⋅T⋅ω⋅ζ + 4  T ⋅ω  + 4⋅T⋅ω⋅ζ + 4   ⎦"
      ]
     },
     "metadata": {},
     "output_type": "display_data"
    }
   ],
   "source": [
    "obj_H_fu_coef = numden_coeffs(H_fu, 2, 2, q)"
   ]
  },
  {
   "cell_type": "markdown",
   "id": "c8e8cc02",
   "metadata": {},
   "source": [
    "### Difference Equation for $u_0$"
   ]
  },
  {
   "cell_type": "code",
   "execution_count": 125,
   "id": "e0a6f863",
   "metadata": {},
   "outputs": [
    {
     "data": {
      "text/latex": [
       "$\\displaystyle u_{0}(kT) =\\frac{T^{2} u(k)}{T^{2} \\omega^{2} + 4 T \\omega \\zeta + 4} + \\frac{2 T^{2} u(k-1)}{T^{2} \\omega^{2} + 4 T \\omega \\zeta + 4} + \\frac{T^{2} u(k-2)}{T^{2} \\omega^{2} + 4 T \\omega \\zeta + 4} - \\frac{2 u_{0}(k-1) \\left(T^{2} \\omega^{2} - 4\\right)}{T^{2} \\omega^{2} + 4 T \\omega \\zeta + 4} - \\frac{u_{0}(k-2) \\left(T^{2} \\omega^{2} - 4 T \\omega \\zeta + 4\\right)}{T^{2} \\omega^{2} + 4 T \\omega \\zeta + 4}$"
      ],
      "text/plain": [
       "<IPython.core.display.Math object>"
      ]
     },
     "metadata": {},
     "output_type": "display_data"
    }
   ],
   "source": [
    "u0_k_1, u0_k_2, u_k, u_k_1, u_k_2 = symbols('u_{0}(k-1) u_{0}(k-2) u(k) u(k-1) u(k-2)')\n",
    "\n",
    "lst_alpha = obj_H_fu_coef.lst_denum_coeff\n",
    "lst_beta = obj_H_fu_coef.lst_num_coeff\n",
    "\n",
    "u0_k = -u0_k_1*lst_alpha[1] - u0_k_2*lst_alpha[2] + u_k*lst_beta[0] + u_k_1*lst_beta[1] + u_k_2*lst_beta[2]\n",
    "display(Math('u_{0}(kT) ='+latex(u0_k)))"
   ]
  },
  {
   "cell_type": "markdown",
   "id": "846c99ff",
   "metadata": {},
   "source": [
    "# Bilinear Transformation of Control Polynomials"
   ]
  },
  {
   "cell_type": "markdown",
   "id": "f611ba24",
   "metadata": {},
   "source": [
    "## Bilinear Transformation of $\\frac{T}{R}$"
   ]
  },
  {
   "cell_type": "code",
   "execution_count": 126,
   "id": "bcc3f69a",
   "metadata": {
    "scrolled": false
   },
   "outputs": [
    {
     "data": {
      "text/latex": [
       "$\\displaystyle \\frac{T}{R} =\\frac{T a_{0} + q \\left(T a_{0} + 2\\right) - 2}{b \\left(T r_{1} + q \\left(T r_{1} + 2\\right) - 2\\right)}$"
      ],
      "text/plain": [
       "<IPython.core.display.Math object>"
      ]
     },
     "metadata": {},
     "output_type": "display_data"
    }
   ],
   "source": [
    "T_R_prime = T_/R_prime\n",
    "T_R_prime = T_R_prime.subs(omega, 1)\n",
    "T_R_prime_bilinear_T = collect(simplify(expand(T_R_prime.subs(s, bilinear_T))), q)\n",
    "\n",
    "display(Math('\\\\frac{T}{R} ='+latex(T_R_prime_bilinear_T)))"
   ]
  },
  {
   "cell_type": "code",
   "execution_count": 127,
   "id": "8157c6ed",
   "metadata": {},
   "outputs": [
    {
     "data": {
      "text/markdown": [
       "Numerator coefficients (beta)"
      ],
      "text/plain": [
       "<IPython.core.display.Markdown object>"
      ]
     },
     "metadata": {},
     "output_type": "display_data"
    },
    {
     "data": {
      "text/latex": [
       "$\\displaystyle \\left[ \\frac{T a_{0} - 2}{b \\left(T r_{1} + 2\\right)}, \\  \\frac{T a_{0} + 2}{b \\left(T r_{1} + 2\\right)}\\right]$"
      ],
      "text/plain": [
       "⎡  T⋅a₀ - 2      T⋅a₀ + 2  ⎤\n",
       "⎢────────────, ────────────⎥\n",
       "⎣b⋅(T⋅r₁ + 2)  b⋅(T⋅r₁ + 2)⎦"
      ]
     },
     "metadata": {},
     "output_type": "display_data"
    },
    {
     "data": {
      "text/markdown": [
       "Denominator coefficients (alpha)"
      ],
      "text/plain": [
       "<IPython.core.display.Markdown object>"
      ]
     },
     "metadata": {},
     "output_type": "display_data"
    },
    {
     "data": {
      "text/latex": [
       "$\\displaystyle \\left[ \\frac{T r_{1} - 2}{T r_{1} + 2}, \\  1\\right]$"
      ],
      "text/plain": [
       "⎡T⋅r₁ - 2   ⎤\n",
       "⎢────────, 1⎥\n",
       "⎣T⋅r₁ + 2   ⎦"
      ]
     },
     "metadata": {},
     "output_type": "display_data"
    }
   ],
   "source": [
    "obj_T_R_prime_bilinear_T = numden_coeffs(T_R_prime_bilinear_T, 1, 1, q)"
   ]
  },
  {
   "cell_type": "markdown",
   "id": "8b19fec1",
   "metadata": {},
   "source": [
    "## Bilinear Transformation of $\\frac{S}{R}$"
   ]
  },
  {
   "cell_type": "code",
   "execution_count": 128,
   "id": "58954ee4",
   "metadata": {
    "scrolled": true
   },
   "outputs": [
    {
     "data": {
      "text/latex": [
       "$\\displaystyle \\frac{S}{R} =\\frac{T s_{1} + q \\left(T s_{1} + 2 s_{0}\\right) - 2 s_{0}}{T r_{1} + q \\left(T r_{1} + 2\\right) - 2}$"
      ],
      "text/plain": [
       "<IPython.core.display.Math object>"
      ]
     },
     "metadata": {},
     "output_type": "display_data"
    }
   ],
   "source": [
    "S_R_prime = S/R_prime\n",
    "S_R_prime = collect(simplify(expand(S_R_prime.subs([(omega, 1), (zeta, 0.7), (a_0, 2)]))), s)\n",
    "\n",
    "S_R_prime_bilinear_T = collect(simplify(expand(S_R_prime.subs(s, bilinear_T))), q)\n",
    "display(Math('\\\\frac{S}{R} ='+latex(S_R_prime_bilinear_T)))"
   ]
  },
  {
   "cell_type": "code",
   "execution_count": 129,
   "id": "51b1cb69",
   "metadata": {
    "scrolled": true
   },
   "outputs": [
    {
     "data": {
      "text/markdown": [
       "Numerator coefficients (beta)"
      ],
      "text/plain": [
       "<IPython.core.display.Markdown object>"
      ]
     },
     "metadata": {},
     "output_type": "display_data"
    },
    {
     "data": {
      "text/latex": [
       "$\\displaystyle \\left[ \\frac{T s_{1} - 2 s_{0}}{T r_{1} + 2}, \\  \\frac{T s_{1} + 2 s_{0}}{T r_{1} + 2}\\right]$"
      ],
      "text/plain": [
       "⎡T⋅s₁ - 2⋅s₀  T⋅s₁ + 2⋅s₀⎤\n",
       "⎢───────────, ───────────⎥\n",
       "⎣  T⋅r₁ + 2     T⋅r₁ + 2 ⎦"
      ]
     },
     "metadata": {},
     "output_type": "display_data"
    },
    {
     "data": {
      "text/markdown": [
       "Denominator coefficients (alpha)"
      ],
      "text/plain": [
       "<IPython.core.display.Markdown object>"
      ]
     },
     "metadata": {},
     "output_type": "display_data"
    },
    {
     "data": {
      "text/latex": [
       "$\\displaystyle \\left[ \\frac{T r_{1} - 2}{T r_{1} + 2}, \\  1\\right]$"
      ],
      "text/plain": [
       "⎡T⋅r₁ - 2   ⎤\n",
       "⎢────────, 1⎥\n",
       "⎣T⋅r₁ + 2   ⎦"
      ]
     },
     "metadata": {},
     "output_type": "display_data"
    }
   ],
   "source": [
    "obj_S_R_prime_bilinear_T = numden_coeffs(S_R_prime_bilinear_T, 1, 1, q)"
   ]
  },
  {
   "cell_type": "markdown",
   "id": "8ac89f70",
   "metadata": {},
   "source": [
    "## Control Equation $u(t) = \\frac{T}{R}u_c - \\frac{S}{R}y(t)$"
   ]
  },
  {
   "cell_type": "code",
   "execution_count": 130,
   "id": "f3232444",
   "metadata": {},
   "outputs": [
    {
     "data": {
      "text/latex": [
       "$\\displaystyle u(kT) =- \\frac{u(k-1) \\left(T r_{1} - 2\\right)}{T r_{1} + 2} - \\frac{y(k) \\left(T s_{1} + 2 s_{0}\\right)}{T r_{1} + 2} - \\frac{y(k-1) \\left(T s_{1} - 2 s_{0}\\right)}{T r_{1} + 2} + \\frac{u_{c}(k) \\left(T a_{0} + 2\\right)}{b \\left(T r_{1} + 2\\right)} + \\frac{u_{c}(k-1) \\left(T a_{0} - 2\\right)}{b \\left(T r_{1} + 2\\right)}$"
      ],
      "text/plain": [
       "<IPython.core.display.Math object>"
      ]
     },
     "metadata": {},
     "output_type": "display_data"
    }
   ],
   "source": [
    "u_k_1, u_c_k, u_c_k_1, y_k_1, y_k = symbols('u(k-1) u_{c}(k) u_{c}(k-1) y(k-1) y(k)')\n",
    "\n",
    "lst_T_beta = obj_T_R_prime_bilinear_T.lst_num_coeff\n",
    "lst_S_beta = obj_S_R_prime_bilinear_T.lst_num_coeff\n",
    "lst_R_alpha = obj_S_R_prime_bilinear_T.lst_denum_coeff\n",
    "\n",
    "u_bk = -u_k_1*lst_R_alpha[1] + u_c_k*lst_T_beta[0] + u_c_k_1*lst_T_beta[1] - y_k_1*lst_S_beta[1] - y_k*lst_S_beta[0]\n",
    "display(Math('u(kT) ='+latex(u_bk)))"
   ]
  },
  {
   "cell_type": "markdown",
   "id": "b04cabd6",
   "metadata": {},
   "source": [
    "__Step 1:__ Substitue values for $a_0, T, \\omega$ and $\\zeta$ into all equations and turn all equations into python functions\n",
    "\n",
    "__Step 2:__ derive $y_1(kT)$ and $u_0(kT)$ with equations derived above which depend on previous values of $y_1(kT)$ and $u_0(kT)$ and present and previous values of $y(kT)$ and $u(kT)$\n",
    "\n",
    "__Step 3:__ Plug present values of $y_1(kT)$ and $u_0(kT)$ into $\\phi = [y_1 \\; u_0]^T$ and subsequently $\\hat{\\theta} = (\\Phi^T\\Phi)^{-1}\\Phi^TY$\n",
    "\n",
    "__Step 4:__ Use RLS to find $\\hat{a}$ and $\\hat{b}$\n",
    "\n",
    "__Step 5:__ Find control params $r_1$, $s_0$ and $s_1$ with $\\hat{a}$ and $\\hat{b}$\n",
    "\n",
    "__Step 6:__ Plug $r_1$, $s_0$ and $s_1$ values into control law equation $u(kT)$ in above cell"
   ]
  },
  {
   "cell_type": "code",
   "execution_count": 131,
   "id": "2fbeafae",
   "metadata": {},
   "outputs": [],
   "source": [
    "a_0_val = 2\n",
    "omega_val = 1\n",
    "zeta_val = 0.7\n",
    "T_val = 0.05\n",
    "\n",
    "lst_denum_coeff_H_fy = [obj_H_fy_coef.lst_denum_coeff[i].subs([(T, T_val), (zeta, zeta_val), (omega, omega_val)]) for i in range(3)]\n",
    "lst_num_coeff_H_fy = [obj_H_fy_coef.lst_num_coeff[i].subs([(T, T_val), (zeta, zeta_val), (omega, omega_val)]) for i in range(3)]\n",
    "\n",
    "lst_denum_coeff_H_fu = [obj_H_fu_coef.lst_denum_coeff[i].subs([(T, T_val), (zeta, zeta_val), (omega, omega_val)]) for i in range(3)]\n",
    "lst_num_coeff_H_fu  = [obj_H_fu_coef.lst_num_coeff[i].subs([(T, T_val), (zeta, zeta_val), (omega, omega_val)]) for i in range(3)]"
   ]
  },
  {
   "cell_type": "code",
   "execution_count": 132,
   "id": "37f4bdc4",
   "metadata": {},
   "outputs": [
    {
     "data": {
      "text/latex": [
       "$\\displaystyle \\alpha\\frac{T}{R} = \\alpha\\frac{S}{R} =\\left[ \\frac{- 0.05 a - 1.83}{2.17 - 0.05 a}, \\  1\\right]$"
      ],
      "text/plain": [
       "<IPython.core.display.Math object>"
      ]
     },
     "metadata": {},
     "output_type": "display_data"
    },
    {
     "data": {
      "text/latex": [
       "$\\displaystyle \\beta\\frac{T}{R} =\\left[ - \\frac{1.9}{b \\left(2.17 - 0.05 a\\right)}, \\  \\frac{2.1}{b \\left(2.17 - 0.05 a\\right)}\\right]$"
      ],
      "text/plain": [
       "<IPython.core.display.Math object>"
      ]
     },
     "metadata": {},
     "output_type": "display_data"
    }
   ],
   "source": [
    "lst_denum_coeff_T_R = [obj_T_R_prime_bilinear_T.lst_denum_coeff[i].subs([(r_1, r_1_),\n",
    "                                                                         (s_0, s_0_),\n",
    "                                                                         (s_1, s_1_),\n",
    "                                                                         (zeta, zeta_val),\n",
    "                                                                         (omega, omega_val),\n",
    "                                                                         (T, T_val),\n",
    "                                                                         (a_0, a_0_val)])\n",
    "                       for i in range(2)]\n",
    "\n",
    "lst_num_coeff_T_R = [obj_T_R_prime_bilinear_T.lst_num_coeff[i].subs([(r_1, r_1_),\n",
    "                                                                     (s_0, s_0_),\n",
    "                                                                     (s_1, s_1_),\n",
    "                                                                     (zeta, zeta_val),\n",
    "                                                                     (omega, omega_val),\n",
    "                                                                     (T, T_val),\n",
    "                                                                     (a_0, a_0_val)])\n",
    "                       for i in range(2)]\n",
    "\n",
    "\n",
    "\n",
    "display(Math('\\\\alpha\\\\frac{T}{R} = \\\\alpha\\\\frac{S}{R} ='+latex(lst_denum_coeff_T_R[::-1])))\n",
    "display(Math('\\\\beta\\\\frac{T}{R} ='+latex(lst_num_coeff_T_R[::-1])))"
   ]
  },
  {
   "cell_type": "code",
   "execution_count": 133,
   "id": "7f4e9e4b",
   "metadata": {},
   "outputs": [
    {
     "data": {
      "text/latex": [
       "$\\displaystyle \\beta\\frac{S}{R} =\\left[ \\frac{- 2 a^{2} + 6.8 a - 7.7}{b \\left(0.05 a - 2.17\\right)}, \\  \\frac{2 a^{2} - 6.8 a + 7.5}{b \\left(0.05 a - 2.17\\right)}\\right]$"
      ],
      "text/plain": [
       "<IPython.core.display.Math object>"
      ]
     },
     "metadata": {},
     "output_type": "display_data"
    }
   ],
   "source": [
    "lst_num_coeff_S_R = [simplify(obj_S_R_prime_bilinear_T.lst_num_coeff[i].subs([(r_1, r_1_),\n",
    "                                                                              (s_0, s_0_),\n",
    "                                                                              (s_1, s_1_),\n",
    "                                                                              (zeta, zeta_val),\n",
    "                                                                              (omega, omega_val),\n",
    "                                                                              (T, T_val),\n",
    "                                                                              (a_0, a_0_val)]))\n",
    "                       for i in range(2)]\n",
    "display(Math('\\\\beta\\\\frac{S}{R} ='+latex(lst_num_coeff_S_R)))"
   ]
  },
  {
   "cell_type": "markdown",
   "id": "a7a87c73",
   "metadata": {},
   "source": [
    "# Plant Control Input $u(kT)$"
   ]
  },
  {
   "cell_type": "markdown",
   "id": "5748fa3a",
   "metadata": {},
   "source": [
    "Which is the result of the control equation $u(t) = \\frac{T}{R}u_c - \\frac{S}{R}y(t)$"
   ]
  },
  {
   "cell_type": "markdown",
   "id": "f8e27ad5",
   "metadata": {},
   "source": [
    "Variables are $u_{k1} = u(k-1), \\; u_{ck} = u_c(k), \\; u_{ck1} = u_c(k-1), \\; y_{k} = y(k) \\; y_{k1} = y(k-1)$"
   ]
  },
  {
   "cell_type": "code",
   "execution_count": 134,
   "id": "de43dffb",
   "metadata": {},
   "outputs": [
    {
     "data": {
      "text/latex": [
       "$\\displaystyle u(kT) =- \\frac{u(k-1) \\left(- 0.05 a - 1.83\\right)}{2.17 - 0.05 a} + \\frac{2.1 u_{c}(k)}{b \\left(2.17 - 0.05 a\\right)} - \\frac{1.9 u_{c}(k-1)}{b \\left(2.17 - 0.05 a\\right)} - \\frac{2.05 y(k) \\left(a^{2} - 3.4 a + 3.8\\right)}{b \\left(2.17 - 0.05 a\\right)} + \\frac{1.95 y(k-1) \\left(a^{2} - 3.4 a + 3.8\\right)}{b \\left(2.17 - 0.05 a\\right)}$"
      ],
      "text/plain": [
       "<IPython.core.display.Math object>"
      ]
     },
     "metadata": {},
     "output_type": "display_data"
    }
   ],
   "source": [
    "r_1_ = r_1_.subs([(zeta, zeta_val),(omega, omega_val)])\n",
    "s_0_ = s_0_.subs([(zeta, zeta_val),(omega, omega_val)])\n",
    "s_1_ = s_0_.subs([(zeta, zeta_val),(omega, omega_val)])\n",
    "\n",
    "u_k_eq = u_bk.subs([(r_1, r_1_),(s_0, s_0_),(s_1, s_1_),(T, T_val),(a_0, a_0_val)])\n",
    "display(Math('u(kT) ='+latex(u_k_eq)))"
   ]
  },
  {
   "cell_type": "markdown",
   "id": "aa86abf5",
   "metadata": {},
   "source": [
    "# Plant Output Equation $y(kT)$"
   ]
  },
  {
   "cell_type": "markdown",
   "id": "4ed78d38",
   "metadata": {},
   "source": [
    "Found with $G(s)$ Post bilinear transformation"
   ]
  },
  {
   "cell_type": "code",
   "execution_count": 135,
   "id": "df3ecd3e",
   "metadata": {},
   "outputs": [
    {
     "data": {
      "text/latex": [
       "$\\displaystyle G_{bilinear} =\\frac{T^{2} b \\left(q^{2} + 2 q + 1\\right)}{2 \\left(- T a + q^{2} \\left(T a + 2\\right) - 4 q + 2\\right)}$"
      ],
      "text/plain": [
       "<IPython.core.display.Math object>"
      ]
     },
     "metadata": {},
     "output_type": "display_data"
    },
    {
     "data": {
      "text/markdown": [
       "Numerator coefficients (beta)"
      ],
      "text/plain": [
       "<IPython.core.display.Markdown object>"
      ]
     },
     "metadata": {},
     "output_type": "display_data"
    },
    {
     "data": {
      "text/latex": [
       "$\\displaystyle \\left[ 0.000609756097560976, \\  0.00121951219512195, \\  0.000609756097560976\\right]$"
      ],
      "text/plain": [
       "[0.000609756097560976, 0.00121951219512195, 0.000609756097560976]"
      ]
     },
     "metadata": {},
     "output_type": "display_data"
    },
    {
     "data": {
      "text/markdown": [
       "Denominator coefficients (alpha)"
      ],
      "text/plain": [
       "<IPython.core.display.Markdown object>"
      ]
     },
     "metadata": {},
     "output_type": "display_data"
    },
    {
     "data": {
      "text/latex": [
       "$\\displaystyle \\left[ 0.951219512195122, \\  -1.95121951219512, \\  1.0\\right]$"
      ],
      "text/plain": [
       "[0.951219512195122, -1.95121951219512, 1.0]"
      ]
     },
     "metadata": {},
     "output_type": "display_data"
    }
   ],
   "source": [
    "theta_0 = np.array([1, 1])\n",
    "\n",
    "G_bil = collect(simplify(expand(G.subs(s, bilinear_T))), q)\n",
    "display(Math('G_{bilinear} ='+latex(G_bil)))\n",
    "\n",
    "G_bil = collect(simplify(expand(expand(G_bil).subs([(T, T_val), (a,theta_0[0]), (b,theta_0[1])]))), q)\n",
    "obj_G_bil= numden_coeffs(G_bil, 2, 2, q)"
   ]
  },
  {
   "cell_type": "code",
   "execution_count": 136,
   "id": "6571bf4b",
   "metadata": {},
   "outputs": [
    {
     "data": {
      "text/latex": [
       "$\\displaystyle y(kT) =0.000609756097560976 u(k) + 0.00121951219512195 u(k-1) + 0.000609756097560976 u(k-2) + 1.95121951219512 y(k-1) - 0.951219512195122 y(k-2)$"
      ],
      "text/plain": [
       "<IPython.core.display.Math object>"
      ]
     },
     "metadata": {},
     "output_type": "display_data"
    }
   ],
   "source": [
    "y_k1, y_k2, u_k, u_k1, u_k2 = symbols('y(k-1) y(k-2) u(k) u(k-1) u(k-2)') \n",
    "\n",
    "lst_G_beta = obj_G_bil.lst_num_coeff\n",
    "lst_G_alpha = obj_G_bil.lst_denum_coeff\n",
    "\n",
    "y_k_eq = -y_k1*lst_G_alpha[1] - y_k2*lst_G_alpha[2] + u_k*lst_G_beta[0] + u_k1*lst_G_beta[1] + u_k2*lst_G_beta[2]\n",
    "display(Math('y(kT) ='+latex(y_k_eq)))"
   ]
  },
  {
   "cell_type": "markdown",
   "id": "f63fe026",
   "metadata": {},
   "source": [
    " # Equation for Finding $\\phi = [-y_1 \\; u_0]$"
   ]
  },
  {
   "cell_type": "markdown",
   "id": "aaa15c1e",
   "metadata": {},
   "source": [
    "## Equation for  $y_{1}(𝑘𝑇)$"
   ]
  },
  {
   "cell_type": "markdown",
   "id": "9ad7d415",
   "metadata": {},
   "source": [
    "Variables are $y_{1k1} = y_1(k-1), \\; y_{1k2} = y_1(k-2), \\; y_{k} = y(k), \\; y_{k2} = y(k - 2)$"
   ]
  },
  {
   "cell_type": "code",
   "execution_count": 137,
   "id": "8e01dc37",
   "metadata": {},
   "outputs": [
    {
     "data": {
      "text/latex": [
       "$\\displaystyle y_{1}(kT) =0.024140012070006 y(k) - 0.024140012070006 y(k-2) + 1.92999396499698 y_{1}(k-1) - 0.932407966203983 y_{1}(k-2)$"
      ],
      "text/plain": [
       "<IPython.core.display.Math object>"
      ]
     },
     "metadata": {},
     "output_type": "display_data"
    }
   ],
   "source": [
    "y1_k_eq = y1_k.subs([(zeta, zeta_val),(omega, omega_val), (T, T_val)])\n",
    "display(Math('y_{1}(kT) ='+latex(y1_k_eq)))"
   ]
  },
  {
   "cell_type": "markdown",
   "id": "9d542fbe",
   "metadata": {},
   "source": [
    "## Equation for  $u_{0}(𝑘𝑇)$ "
   ]
  },
  {
   "cell_type": "markdown",
   "id": "22d50942",
   "metadata": {},
   "source": [
    "Variables are $u_{0k1} = u_0(k-1), \\; u_{0k2} = u_0(k-2), \\; u_{k} = u(k), \\; u_{k1} = u(k - 1) \\; u_{k2} = u(k - 2)$"
   ]
  },
  {
   "cell_type": "code",
   "execution_count": 138,
   "id": "fef94c42",
   "metadata": {},
   "outputs": [
    {
     "data": {
      "text/latex": [
       "$\\displaystyle u_{0}(kT) =0.000603500301750151 u(k) + 0.0012070006035003 u(k-1) + 0.000603500301750151 u(k-2) + 1.92999396499698 u_{0}(k-1) - 0.932407966203983 u_{0}(k-2)$"
      ],
      "text/plain": [
       "<IPython.core.display.Math object>"
      ]
     },
     "metadata": {},
     "output_type": "display_data"
    }
   ],
   "source": [
    "u0_k_eq = u0_k.subs([(zeta, zeta_val),(omega, omega_val), (T, T_val)])\n",
    "display(Math('u_{0}(kT) ='+latex(u0_k_eq)))"
   ]
  },
  {
   "cell_type": "markdown",
   "id": "5d3b7a38",
   "metadata": {},
   "source": [
    "# Equation Summary"
   ]
  },
  {
   "cell_type": "code",
   "execution_count": 139,
   "id": "646a28a2",
   "metadata": {},
   "outputs": [
    {
     "data": {
      "text/latex": [
       "$\\displaystyle u(kT) =- \\frac{u(k-1) \\left(- 0.05 a - 1.83\\right)}{2.17 - 0.05 a} + \\frac{2.1 u_{c}(k)}{b \\left(2.17 - 0.05 a\\right)} - \\frac{1.9 u_{c}(k-1)}{b \\left(2.17 - 0.05 a\\right)} - \\frac{2.05 y(k) \\left(a^{2} - 3.4 a + 3.8\\right)}{b \\left(2.17 - 0.05 a\\right)} + \\frac{1.95 y(k-1) \\left(a^{2} - 3.4 a + 3.8\\right)}{b \\left(2.17 - 0.05 a\\right)}$"
      ],
      "text/plain": [
       "<IPython.core.display.Math object>"
      ]
     },
     "metadata": {},
     "output_type": "display_data"
    },
    {
     "data": {
      "text/latex": [
       "$\\displaystyle y(kT) =0.000609756097560976 u(k) + 0.00121951219512195 u(k-1) + 0.000609756097560976 u(k-2) + 1.95121951219512 y(k-1) - 0.951219512195122 y(k-2)$"
      ],
      "text/plain": [
       "<IPython.core.display.Math object>"
      ]
     },
     "metadata": {},
     "output_type": "display_data"
    },
    {
     "data": {
      "text/latex": [
       "$\\displaystyle y_{1}(kT) =0.024140012070006 y(k) - 0.024140012070006 y(k-2) + 1.92999396499698 y_{1}(k-1) - 0.932407966203983 y_{1}(k-2)$"
      ],
      "text/plain": [
       "<IPython.core.display.Math object>"
      ]
     },
     "metadata": {},
     "output_type": "display_data"
    },
    {
     "data": {
      "text/latex": [
       "$\\displaystyle u_{0}(kT) =0.000603500301750151 u(k) + 0.0012070006035003 u(k-1) + 0.000603500301750151 u(k-2) + 1.92999396499698 u_{0}(k-1) - 0.932407966203983 u_{0}(k-2)$"
      ],
      "text/plain": [
       "<IPython.core.display.Math object>"
      ]
     },
     "metadata": {},
     "output_type": "display_data"
    }
   ],
   "source": [
    "display(Math('u(kT) ='+latex(u_k_eq)))\n",
    "display(Math('y(kT) ='+latex(y_k_eq)))\n",
    "display(Math('y_{1}(kT) ='+latex(y1_k_eq)))\n",
    "display(Math('u_{0}(kT) ='+latex(u0_k_eq)))"
   ]
  },
  {
   "cell_type": "markdown",
   "id": "a6d80428",
   "metadata": {},
   "source": [
    "# Implementation"
   ]
  },
  {
   "cell_type": "markdown",
   "id": "79a633f5",
   "metadata": {},
   "source": [
    "## Turning Above Equations into Functions"
   ]
  },
  {
   "cell_type": "code",
   "execution_count": 147,
   "id": "8dc170e1",
   "metadata": {},
   "outputs": [
    {
     "ename": "SyntaxError",
     "evalue": "invalid syntax (<lambdifygenerated-24>, line 1)",
     "output_type": "error",
     "traceback": [
      "Traceback \u001b[1;36m(most recent call last)\u001b[0m:\n",
      "  File \u001b[0;32m\"c:\\users\\clive\\appdata\\local\\programs\\python\\python39\\lib\\site-packages\\IPython\\core\\interactiveshell.py\"\u001b[0m, line \u001b[0;32m3457\u001b[0m, in \u001b[0;35mrun_code\u001b[0m\n    exec(code_obj, self.user_global_ns, self.user_ns)\n",
      "  File \u001b[0;32m\"C:\\Users\\clive\\AppData\\Local\\Temp\\ipykernel_7144\\42847686.py\"\u001b[0m, line \u001b[0;32m2\u001b[0m, in \u001b[0;35m<module>\u001b[0m\n    u_k_func = lambdify([u_k_1, u_c_k, u_c_k_1,y_k, y_k_1, a, b], u_k_eq)\n",
      "\u001b[1;36m  File \u001b[1;32m\"c:\\users\\clive\\appdata\\local\\programs\\python\\python39\\lib\\site-packages\\sympy\\utilities\\lambdify.py\"\u001b[1;36m, line \u001b[1;32m892\u001b[1;36m, in \u001b[1;35mlambdify\u001b[1;36m\u001b[0m\n\u001b[1;33m    c = compile(funcstr, filename, 'exec')\u001b[0m\n",
      "\u001b[1;36m  File \u001b[1;32m\"<lambdifygenerated-24>\"\u001b[1;36m, line \u001b[1;32m1\u001b[0m\n\u001b[1;33m    def _lambdifygenerated(Dummy_138, Dummy_137, Dummy_136, Dummy_135, Dummy_134, 1, 1):\u001b[0m\n\u001b[1;37m                                                                                  ^\u001b[0m\n\u001b[1;31mSyntaxError\u001b[0m\u001b[1;31m:\u001b[0m invalid syntax\n"
     ]
    }
   ],
   "source": [
    "yk_func = lambdify([y_k1, y_k2, u_k, u_k1, u_k2], y_k_eq)\n",
    "uk_func = lambdify([u_k_1, u_c_k, u_c_k_1,y_k, y_k_1, a, b], u_k_eq)\n",
    "y1_k_func = lambdify([y1_k_1, y1_k_2, y_k, y_k_2], y1_k_eq)\n",
    "u0_k_func = lambdify([u0_k_1, u0_k_2, u_k, u_k_1, u_k_2], u0_k_eq)"
   ]
  },
  {
   "cell_type": "code",
   "execution_count": 145,
   "id": "30674052",
   "metadata": {},
   "outputs": [
    {
     "data": {
      "image/png": "[encoded data removed]",
      "text/plain": [
       "<Figure size 432x288 with 1 Axes>"
      ]
     },
     "metadata": {
      "needs_background": "light"
     },
     "output_type": "display_data"
    },
    {
     "data": {
      "image/png": "[encoded data removed]",
      "text/plain": [
       "<Figure size 432x288 with 1 Axes>"
      ]
     },
     "metadata": {
      "needs_background": "light"
     },
     "output_type": "display_data"
    },
    {
     "data": {
      "text/plain": [
       "[<matplotlib.lines.Line2D at 0x1e56e579a60>]"
      ]
     },
     "execution_count": 145,
     "metadata": {},
     "output_type": "execute_result"
    },
    {
     "data": {
      "image/png": "[encoded data removed]",
      "text/plain": [
       "<Figure size 432x288 with 1 Axes>"
      ]
     },
     "metadata": {
      "needs_background": "light"
     },
     "output_type": "display_data"
    }
   ],
   "source": [
    "sample_depth = 100\n",
    "sample_range = range(sample_depth)\n",
    "starting_samples = 2\n",
    "\n",
    "t = [i for i in sample_range]\n",
    "u_c = np.ones(sample_depth)*-1\n",
    "u_c[np.where([m.sin(t[i]*m.pi/25)>=0 for i in sample_range])] = 1\n",
    "\n",
    "a = 1\n",
    "b = 1\n",
    "\n",
    "theta0 = np.array([a, b]).reshape(-1,1)\n",
    "theta_hat = [np.array([1]*starting_samples).reshape(-1,1) for _ in range(starting_samples)]\n",
    "\n",
    "y = [0]*starting_samples\n",
    "u = [0]*starting_samples\n",
    "\n",
    "y1 = [0]*starting_samples\n",
    "u0 = [0]*starting_samples\n",
    "\n",
    "lamb = 0\n",
    "I = np.identity(2)\n",
    "p = 100*I \n",
    "\n",
    "for k in range(2,sample_depth):\n",
    "    phi = np.array([-y1[-1], u0[-1]]).reshape(-1,1)\n",
    "    \n",
    "    p = inv(inv(p) + phi@phi.T)\n",
    "    K = p@phi\n",
    "    theta_hat.append(theta_hat[-1] + K*(np.reshape(phi.T@theta0, ()) - phi.T@theta_hat[-1]))\n",
    "    \n",
    "    \n",
    "    u.append(np.reshape(uk_func(u[k-1], u_c[k], u_c[k-1], phi.T@theta0, y[k-1], theta_hat[-1][0], theta_hat[-1][1]), ()))\n",
    "    y.append(np.reshape(yk_func(y[k-1], y[k-2], u[k], u[k-1], u[k-2]), ()))\n",
    "    \n",
    "    y1.append(np.reshape(y1_k_func(y1[k-1], y1[k-2], y[k], y[k-2]), ()))\n",
    "    u0.append(np.reshape(u0_k_func(u0[k-1], u0[k-2], u[k], u[k-1], u[k-2]), ()))\n",
    "    \n",
    "\n",
    "# pd.DataFrame(np.asarray(theta_hat).reshape(-1,4,), \n",
    "#                    columns=['a1', 'a2', 'b0', 'b1'])\n",
    "plt.plot(t,u)\n",
    "plt.show()\n",
    "\n",
    "plt.plot(t,u_c)\n",
    "plt.plot(t,y)\n",
    "plt.show()\n",
    "\n",
    "plt.plot(t,u_c)"
   ]
  },
  {
   "cell_type": "code",
   "execution_count": 142,
   "id": "194a1420",
   "metadata": {},
   "outputs": [
    {
     "ename": "SyntaxError",
     "evalue": "unexpected EOF while parsing (3375533771.py, line 3)",
     "output_type": "error",
     "traceback": [
      "\u001b[1;36m  File \u001b[1;32m\"C:\\Users\\clive\\AppData\\Local\\Temp\\ipykernel_7144\\3375533771.py\"\u001b[1;36m, line \u001b[1;32m3\u001b[0m\n\u001b[1;33m    y[i] = y_k_func(y[i-1], y[i-2], u[i], )\u001b[0m\n\u001b[1;37m                                           ^\u001b[0m\n\u001b[1;31mSyntaxError\u001b[0m\u001b[1;31m:\u001b[0m unexpected EOF while parsing\n"
     ]
    }
   ],
   "source": [
    "for i in range(1, sample_depth):\n",
    "    try:\n",
    "        y[i] = y_k_func(y[i-1], y[i-2], u[i], )"
   ]
  }
 ],
 "metadata": {
  "kernelspec": {
   "display_name": "Python 3 (ipykernel)",
   "language": "python",
   "name": "python3"
  },
  "language_info": {
   "codemirror_mode": {
    "name": "ipython",
    "version": 3
   },
   "file_extension": ".py",
   "mimetype": "text/x-python",
   "name": "python",
   "nbconvert_exporter": "python",
   "pygments_lexer": "ipython3",
   "version": "3.9.2"
  }
 },
 "nbformat": 4,
 "nbformat_minor": 5
}
