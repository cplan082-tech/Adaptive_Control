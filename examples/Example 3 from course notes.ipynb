{
 "cells": [
  {
   "cell_type": "code",
   "execution_count": 92,
   "id": "a51f1c17",
   "metadata": {},
   "outputs": [],
   "source": [
    "import pandas as pd\n",
    "import numpy as np\n",
    "from math import sqrt\n",
    "from sympy import *\n",
    "from IPython.display import display, Markdown, Math\n",
    "init_printing(use_latex='mathjax')"
   ]
  },
  {
   "cell_type": "code",
   "execution_count": 93,
   "id": "c1725d40",
   "metadata": {},
   "outputs": [
    {
     "data": {
      "text/latex": [
       "$\\displaystyle \\frac{b}{s \\left(a + s\\right)}$"
      ],
      "text/plain": [
       "    b    \n",
       "─────────\n",
       "s⋅(a + s)"
      ]
     },
     "execution_count": 93,
     "metadata": {},
     "output_type": "execute_result"
    }
   ],
   "source": [
    "a, b, s = symbols('a b s')\n",
    "A = (s*(s + a))\n",
    "B = b\n",
    "G_s = B/A\n",
    "G_s"
   ]
  },
  {
   "cell_type": "code",
   "execution_count": 94,
   "id": "c5198643",
   "metadata": {},
   "outputs": [],
   "source": [
    "B_minus = b"
   ]
  },
  {
   "cell_type": "code",
   "execution_count": 95,
   "id": "adde8503",
   "metadata": {},
   "outputs": [
    {
     "data": {
      "text/latex": [
       "$\\displaystyle \\frac{\\omega^{2}}{\\omega^{2} + 2 \\omega s \\zeta + s^{2}}$"
      ],
      "text/plain": [
       "         2       \n",
       "        ω        \n",
       "─────────────────\n",
       " 2              2\n",
       "ω  + 2⋅ω⋅s⋅ζ + s "
      ]
     },
     "execution_count": 95,
     "metadata": {},
     "output_type": "execute_result"
    }
   ],
   "source": [
    "zeta, omega = symbols('zeta omega')\n",
    "\n",
    "A_m = s**2 + 2*zeta*omega*s + omega**2\n",
    "B_m = omega**2\n",
    "G_m = B_m/A_m\n",
    "G_m"
   ]
  },
  {
   "cell_type": "code",
   "execution_count": 96,
   "id": "4606f074",
   "metadata": {},
   "outputs": [
    {
     "data": {
      "text/latex": [
       "$\\displaystyle \\frac{\\omega^{2}}{b}$"
      ],
      "text/plain": [
       " 2\n",
       "ω \n",
       "──\n",
       "b "
      ]
     },
     "execution_count": 96,
     "metadata": {},
     "output_type": "execute_result"
    }
   ],
   "source": [
    "B_m_prime = B_m/B_minus\n",
    "B_m_prime"
   ]
  },
  {
   "cell_type": "code",
   "execution_count": 97,
   "id": "443c02de",
   "metadata": {},
   "outputs": [
    {
     "data": {
      "text/latex": [
       "$\\displaystyle r_{1} + s$"
      ],
      "text/plain": [
       "r₁ + s"
      ]
     },
     "execution_count": 97,
     "metadata": {},
     "output_type": "execute_result"
    }
   ],
   "source": [
    "r_1 = symbols('r_1')\n",
    "\n",
    "R_prime = s + r_1\n",
    "R_prime"
   ]
  },
  {
   "cell_type": "code",
   "execution_count": 98,
   "id": "bf9ef5b3",
   "metadata": {},
   "outputs": [
    {
     "data": {
      "text/latex": [
       "$\\displaystyle s s_{0} + s_{1}$"
      ],
      "text/plain": [
       "s⋅s₀ + s₁"
      ]
     },
     "execution_count": 98,
     "metadata": {},
     "output_type": "execute_result"
    }
   ],
   "source": [
    "s_0, s_1 = symbols('s_0 s_1')\n",
    "\n",
    "S = s_0*s + s_1\n",
    "S"
   ]
  },
  {
   "cell_type": "code",
   "execution_count": 99,
   "id": "65253730",
   "metadata": {},
   "outputs": [
    {
     "data": {
      "text/latex": [
       "$\\displaystyle a_{0} + s$"
      ],
      "text/plain": [
       "a₀ + s"
      ]
     },
     "execution_count": 99,
     "metadata": {},
     "output_type": "execute_result"
    }
   ],
   "source": [
    "a_0 = symbols('a_0')\n",
    "\n",
    "A_0 = s + a_0\n",
    "A_0"
   ]
  },
  {
   "cell_type": "code",
   "execution_count": 100,
   "id": "7060e347",
   "metadata": {},
   "outputs": [
    {
     "data": {
      "text/latex": [
       "$\\displaystyle - a + a_{0} + 2 \\omega \\zeta$"
      ],
      "text/plain": [
       "-a + a₀ + 2⋅ω⋅ζ"
      ]
     },
     "execution_count": 100,
     "metadata": {},
     "output_type": "execute_result"
    }
   ],
   "source": [
    "r_1_ = 2*zeta*omega + a_0 - a\n",
    "r_1_"
   ]
  },
  {
   "cell_type": "code",
   "execution_count": 101,
   "id": "951954f8",
   "metadata": {},
   "outputs": [
    {
     "data": {
      "text/latex": [
       "$\\displaystyle \\frac{a^{2} - a a_{0} - 2 a \\omega \\zeta + 2 a_{0} \\omega \\zeta + \\omega^{2}}{b}$"
      ],
      "text/plain": [
       " 2                                2\n",
       "a  - a⋅a₀ - 2⋅a⋅ω⋅ζ + 2⋅a₀⋅ω⋅ζ + ω \n",
       "───────────────────────────────────\n",
       "                 b                 "
      ]
     },
     "execution_count": 101,
     "metadata": {},
     "output_type": "execute_result"
    }
   ],
   "source": [
    "s_0_ = (omega**2 + 2*zeta*omega*a_0 - a*r_1_)/b\n",
    "s_0_ = simplify(expand(s_0_))\n",
    "s_0_"
   ]
  },
  {
   "cell_type": "code",
   "execution_count": 102,
   "id": "b4e0863c",
   "metadata": {},
   "outputs": [
    {
     "data": {
      "text/latex": [
       "$\\displaystyle \\frac{a_{0} \\omega^{2}}{b}$"
      ],
      "text/plain": [
       "    2\n",
       "a₀⋅ω \n",
       "─────\n",
       "  b  "
      ]
     },
     "execution_count": 102,
     "metadata": {},
     "output_type": "execute_result"
    }
   ],
   "source": [
    "s_1_ = a_0*omega**2/b\n",
    "s_1_"
   ]
  },
  {
   "cell_type": "code",
   "execution_count": 103,
   "id": "81c24343",
   "metadata": {},
   "outputs": [
    {
     "data": {
      "text/latex": [
       "$\\displaystyle - a + a_{0} + 2 \\omega \\zeta + s$"
      ],
      "text/plain": [
       "-a + a₀ + 2⋅ω⋅ζ + s"
      ]
     },
     "execution_count": 103,
     "metadata": {},
     "output_type": "execute_result"
    }
   ],
   "source": [
    "R = R_prime.subs(r_1, r_1_)\n",
    "R"
   ]
  },
  {
   "cell_type": "code",
   "execution_count": 104,
   "id": "833d9356",
   "metadata": {},
   "outputs": [
    {
     "data": {
      "text/latex": [
       "$\\displaystyle r_{1} + s$"
      ],
      "text/plain": [
       "r₁ + s"
      ]
     },
     "execution_count": 104,
     "metadata": {},
     "output_type": "execute_result"
    }
   ],
   "source": [
    "R_prime"
   ]
  },
  {
   "cell_type": "code",
   "execution_count": 105,
   "id": "658c2e5c",
   "metadata": {},
   "outputs": [
    {
     "data": {
      "text/latex": [
       "$\\displaystyle \\frac{a_{0} \\omega^{2}}{b} + \\frac{s \\left(a^{2} - a a_{0} - 2 a \\omega \\zeta + 2 a_{0} \\omega \\zeta + \\omega^{2}\\right)}{b}$"
      ],
      "text/plain": [
       "    2     ⎛ 2                                2⎞\n",
       "a₀⋅ω    s⋅⎝a  - a⋅a₀ - 2⋅a⋅ω⋅ζ + 2⋅a₀⋅ω⋅ζ + ω ⎠\n",
       "───── + ───────────────────────────────────────\n",
       "  b                        b                   "
      ]
     },
     "execution_count": 105,
     "metadata": {},
     "output_type": "execute_result"
    }
   ],
   "source": [
    "S_ = s_0_*s + s_1_\n",
    "S_"
   ]
  },
  {
   "cell_type": "code",
   "execution_count": 106,
   "id": "8370638e",
   "metadata": {},
   "outputs": [
    {
     "data": {
      "text/latex": [
       "$\\displaystyle \\frac{\\omega^{2} \\left(a_{0} + s\\right)}{b}$"
      ],
      "text/plain": [
       " 2         \n",
       "ω ⋅(a₀ + s)\n",
       "───────────\n",
       "     b     "
      ]
     },
     "execution_count": 106,
     "metadata": {},
     "output_type": "execute_result"
    }
   ],
   "source": [
    "T_ = A_0*B_m_prime\n",
    "T_"
   ]
  },
  {
   "cell_type": "code",
   "execution_count": 107,
   "id": "99aae358",
   "metadata": {},
   "outputs": [
    {
     "data": {
      "text/latex": [
       "$\\displaystyle \\frac{1}{\\omega^{2} + 2 \\omega s \\zeta + s^{2}}$"
      ],
      "text/plain": [
       "        1        \n",
       "─────────────────\n",
       " 2              2\n",
       "ω  + 2⋅ω⋅s⋅ζ + s "
      ]
     },
     "execution_count": 107,
     "metadata": {},
     "output_type": "execute_result"
    }
   ],
   "source": [
    "H_f = 1/A_m\n",
    "H_f"
   ]
  },
  {
   "cell_type": "code",
   "execution_count": 108,
   "id": "aca4c83e",
   "metadata": {},
   "outputs": [
    {
     "data": {
      "text/latex": [
       "$\\displaystyle \\frac{2 \\left(1 - \\frac{1}{q}\\right)}{T \\left(1 + \\frac{1}{q}\\right)}$"
      ],
      "text/plain": [
       "  ⎛    1⎞\n",
       "2⋅⎜1 - ─⎟\n",
       "  ⎝    q⎠\n",
       "─────────\n",
       "  ⎛    1⎞\n",
       "T⋅⎜1 + ─⎟\n",
       "  ⎝    q⎠"
      ]
     },
     "execution_count": 108,
     "metadata": {},
     "output_type": "execute_result"
    }
   ],
   "source": [
    "T, q = symbols('T q')\n",
    "\n",
    "bilinear_T = (2/T)*((1 - q**(-1))/(1 + q**(-1)))\n",
    "bilinear_T"
   ]
  },
  {
   "cell_type": "code",
   "execution_count": 109,
   "id": "301553e4",
   "metadata": {},
   "outputs": [
    {
     "data": {
      "text/latex": [
       "$\\displaystyle \\frac{2 T \\left(q^{2} - 1\\right)}{T^{2} \\omega^{2} - 4 T \\omega \\zeta + q^{2} \\left(T^{2} \\omega^{2} + 4 T \\omega \\zeta + 4\\right) + q \\left(2 T^{2} \\omega^{2} - 8\\right) + 4}$"
      ],
      "text/plain": [
       "                              ⎛ 2    ⎞                          \n",
       "                          2⋅T⋅⎝q  - 1⎠                          \n",
       "────────────────────────────────────────────────────────────────\n",
       " 2  2              2 ⎛ 2  2              ⎞     ⎛   2  2    ⎞    \n",
       "T ⋅ω  - 4⋅T⋅ω⋅ζ + q ⋅⎝T ⋅ω  + 4⋅T⋅ω⋅ζ + 4⎠ + q⋅⎝2⋅T ⋅ω  - 8⎠ + 4"
      ]
     },
     "execution_count": 109,
     "metadata": {},
     "output_type": "execute_result"
    }
   ],
   "source": [
    "H_fy = s*H_f\n",
    "H_fy = collect(simplify(expand(H_fy.subs(s,bilinear_T))), q)\n",
    "H_fy"
   ]
  },
  {
   "cell_type": "code",
   "execution_count": 189,
   "id": "3e8b84d9",
   "metadata": {},
   "outputs": [],
   "source": [
    "class numdenum_coeffs:\n",
    "    def __init__(self, expr, order, symb):\n",
    "        self.num, self.denum = fraction(expr)\n",
    "        self.order = order\n",
    "        self.symb = symb\n",
    "        self.common_factor = None\n",
    "        self.lst_denum_coeff = self.build_lst(self.denum)\n",
    "        self.lst_num_coeff = self.build_lst(self.num)\n",
    "        display(Markdown(r\"Denominator coefficients\"), self.lst_denum_coeff)\n",
    "        display(Markdown(r\"Numerator coefficients\"), self.lst_num_coeff)\n",
    "        \n",
    "    def build_lst(self, poly):\n",
    "        lst = [expand(poly).coeff(self.symb**i) for i in range((self.order), 0, -1)]\n",
    "        lst.append(poly.subs(self.symb,0))\n",
    "        if (self.common_factor == None):\n",
    "            self.common_factor = lst[0]\n",
    "            \n",
    "        lst = [simplify(lst[i]/self.common_factor) for i in range(self.order + 1)]\n",
    "        return lst[::-1]\n",
    "        "
   ]
  },
  {
   "cell_type": "code",
   "execution_count": 190,
   "id": "652da370",
   "metadata": {},
   "outputs": [
    {
     "data": {
      "text/markdown": [
       "Denominator coefficients"
      ],
      "text/plain": [
       "<IPython.core.display.Markdown object>"
      ]
     },
     "metadata": {},
     "output_type": "display_data"
    },
    {
     "data": {
      "text/latex": [
       "$\\displaystyle \\left[ \\frac{T^{2} \\omega^{2} - 4 T \\omega \\zeta + 4}{T^{2} \\omega^{2} + 4 T \\omega \\zeta + 4}, \\  \\frac{2 \\left(T^{2} \\omega^{2} - 4\\right)}{T^{2} \\omega^{2} + 4 T \\omega \\zeta + 4}, \\  1\\right]$"
      ],
      "text/plain": [
       "⎡ 2  2                     ⎛ 2  2    ⎞      ⎤\n",
       "⎢T ⋅ω  - 4⋅T⋅ω⋅ζ + 4     2⋅⎝T ⋅ω  - 4⎠      ⎥\n",
       "⎢───────────────────, ───────────────────, 1⎥\n",
       "⎢ 2  2                 2  2                 ⎥\n",
       "⎣T ⋅ω  + 4⋅T⋅ω⋅ζ + 4  T ⋅ω  + 4⋅T⋅ω⋅ζ + 4   ⎦"
      ]
     },
     "metadata": {},
     "output_type": "display_data"
    },
    {
     "data": {
      "text/markdown": [
       "Numerator coefficients"
      ],
      "text/plain": [
       "<IPython.core.display.Markdown object>"
      ]
     },
     "metadata": {},
     "output_type": "display_data"
    },
    {
     "data": {
      "text/latex": [
       "$\\displaystyle \\left[ - \\frac{2 T}{T^{2} \\omega^{2} + 4 T \\omega \\zeta + 4}, \\  0, \\  \\frac{2 T}{T^{2} \\omega^{2} + 4 T \\omega \\zeta + 4}\\right]$"
      ],
      "text/plain": [
       "⎡       -2⋅T                     2⋅T        ⎤\n",
       "⎢───────────────────, 0, ───────────────────⎥\n",
       "⎢ 2  2                    2  2              ⎥\n",
       "⎣T ⋅ω  + 4⋅T⋅ω⋅ζ + 4     T ⋅ω  + 4⋅T⋅ω⋅ζ + 4⎦"
      ]
     },
     "metadata": {},
     "output_type": "display_data"
    }
   ],
   "source": [
    "lst_coef_H_fy_denum = numdenum_coeffs(H_fy, 2, q)"
   ]
  },
  {
   "cell_type": "code",
   "execution_count": null,
   "id": "0e46f2b7",
   "metadata": {},
   "outputs": [],
   "source": []
  },
  {
   "cell_type": "code",
   "execution_count": 110,
   "id": "039170f6",
   "metadata": {},
   "outputs": [],
   "source": [
    "H_fy_num,H_fy_denum = fraction(H_fy)\n",
    "# H_fy_denum = poly(H_fy_denum, q)\n",
    "# H_fy_denum.subs(q,0)\n",
    "# expand(H_fy_num).coeff(q**2)\n",
    "# H_fy_num"
   ]
  },
  {
   "cell_type": "code",
   "execution_count": 146,
   "id": "a80e4e57",
   "metadata": {},
   "outputs": [
    {
     "name": "stdout",
     "output_type": "stream",
     "text": [
      "H_fy denominator coefficients\n"
     ]
    },
    {
     "data": {
      "text/latex": [
       "$\\displaystyle \\left[ \\frac{T^{2} \\omega^{2} - 4 T \\omega \\zeta + 4}{T^{2} \\omega^{2} + 4 T \\omega \\zeta + 4}, \\  \\frac{2 T^{2} \\omega^{2} - 8}{T^{2} \\omega^{2} + 4 T \\omega \\zeta + 4}, \\  1\\right]$"
      ],
      "text/plain": [
       "⎡ 2  2                       2  2           ⎤\n",
       "⎢T ⋅ω  - 4⋅T⋅ω⋅ζ + 4      2⋅T ⋅ω  - 8       ⎥\n",
       "⎢───────────────────, ───────────────────, 1⎥\n",
       "⎢ 2  2                 2  2                 ⎥\n",
       "⎣T ⋅ω  + 4⋅T⋅ω⋅ζ + 4  T ⋅ω  + 4⋅T⋅ω⋅ζ + 4   ⎦"
      ]
     },
     "metadata": {},
     "output_type": "display_data"
    }
   ],
   "source": [
    "lst_coef_H_fy_denum = [H_fy_denum.coeff(q**i) for i in range(2,0,-1)]\n",
    "lst_coef_H_fy_denum.append(H_fy_denum.subs(q,0))\n",
    "common_factor = lst_coef_H_fy_denum[0]\n",
    "\n",
    "lst_coef_H_fy_denum = [lst_coef_H_fy_denum[i]/common_factor for i in range(3)]\n",
    "lst_coef_H_fy_denum = lst_coef_H_fy_denum[::-1]\n",
    "\n",
    "print(\"H_fy denominator coefficients\")\n",
    "\n",
    "display(lst_coef_H_fy_denum)"
   ]
  },
  {
   "cell_type": "code",
   "execution_count": 147,
   "id": "e78e36de",
   "metadata": {},
   "outputs": [
    {
     "name": "stdout",
     "output_type": "stream",
     "text": [
      "H_fy numerator coefficients\n"
     ]
    },
    {
     "data": {
      "text/latex": [
       "$\\displaystyle \\left[ - \\frac{2 T}{T^{2} \\omega^{2} + 4 T \\omega \\zeta + 4}, \\  0, \\  \\frac{2 T}{T^{2} \\omega^{2} + 4 T \\omega \\zeta + 4}\\right]$"
      ],
      "text/plain": [
       "⎡       -2⋅T                     2⋅T        ⎤\n",
       "⎢───────────────────, 0, ───────────────────⎥\n",
       "⎢ 2  2                    2  2              ⎥\n",
       "⎣T ⋅ω  + 4⋅T⋅ω⋅ζ + 4     T ⋅ω  + 4⋅T⋅ω⋅ζ + 4⎦"
      ]
     },
     "metadata": {},
     "output_type": "display_data"
    }
   ],
   "source": [
    "lst_coef_H_fy_num = [expand(H_fy_num).coeff(q**i) for i in range(2,0,-1)]\n",
    "lst_coef_H_fy_num.append(H_fy_num.subs(q,0))\n",
    "lst_coef_H_fy_num = [lst_coef_H_fy_num[i]/common_factor for i in range(3)]\n",
    "lst_coef_H_fy_num = lst_coef_H_fy_num[::-1]\n",
    "\n",
    "print(\"H_fy numerator coefficients\")\n",
    "display(lst_coef_H_fy_num)"
   ]
  },
  {
   "cell_type": "code",
   "execution_count": 113,
   "id": "4dfe6e38",
   "metadata": {},
   "outputs": [
    {
     "data": {
      "text/latex": [
       "$\\displaystyle \\frac{T^{2} \\left(q^{2} + 2 q + 1\\right)}{T^{2} \\omega^{2} - 4 T \\omega \\zeta + q^{2} \\left(T^{2} \\omega^{2} + 4 T \\omega \\zeta + 4\\right) + q \\left(2 T^{2} \\omega^{2} - 8\\right) + 4}$"
      ],
      "text/plain": [
       "                        2 ⎛ 2          ⎞                        \n",
       "                       T ⋅⎝q  + 2⋅q + 1⎠                        \n",
       "────────────────────────────────────────────────────────────────\n",
       " 2  2              2 ⎛ 2  2              ⎞     ⎛   2  2    ⎞    \n",
       "T ⋅ω  - 4⋅T⋅ω⋅ζ + q ⋅⎝T ⋅ω  + 4⋅T⋅ω⋅ζ + 4⎠ + q⋅⎝2⋅T ⋅ω  - 8⎠ + 4"
      ]
     },
     "execution_count": 113,
     "metadata": {},
     "output_type": "execute_result"
    }
   ],
   "source": [
    "H_fu = H_f\n",
    "H_fu = collect(simplify(expand(H_fu.subs(s,bilinear_T))), q)\n",
    "H_fu"
   ]
  },
  {
   "cell_type": "code",
   "execution_count": 114,
   "id": "c4f88c6a",
   "metadata": {},
   "outputs": [],
   "source": [
    "H_fu_num,H_fu_denum = fraction(H_fu)"
   ]
  },
  {
   "cell_type": "code",
   "execution_count": 149,
   "id": "9168dc91",
   "metadata": {},
   "outputs": [
    {
     "name": "stdout",
     "output_type": "stream",
     "text": [
      "H_fu denominator coefficients\n"
     ]
    },
    {
     "data": {
      "text/latex": [
       "$\\displaystyle \\left[ \\frac{T^{2} \\omega^{2} - 4 T \\omega \\zeta + 4}{T^{2} \\omega^{2} + 4 T \\omega \\zeta + 4}, \\  \\frac{2 T^{2} \\omega^{2} - 8}{T^{2} \\omega^{2} + 4 T \\omega \\zeta + 4}, \\  1\\right]$"
      ],
      "text/plain": [
       "⎡ 2  2                       2  2           ⎤\n",
       "⎢T ⋅ω  - 4⋅T⋅ω⋅ζ + 4      2⋅T ⋅ω  - 8       ⎥\n",
       "⎢───────────────────, ───────────────────, 1⎥\n",
       "⎢ 2  2                 2  2                 ⎥\n",
       "⎣T ⋅ω  + 4⋅T⋅ω⋅ζ + 4  T ⋅ω  + 4⋅T⋅ω⋅ζ + 4   ⎦"
      ]
     },
     "metadata": {},
     "output_type": "display_data"
    }
   ],
   "source": [
    "lst_coef_H_fu_denum = [H_fu_denum.coeff(q**i) for i in range(2,0,-1)]\n",
    "lst_coef_H_fu_denum.append(H_fu_denum.subs(q,0))\n",
    "common_factor = lst_coef_H_fu_denum[0]\n",
    "\n",
    "lst_coef_H_fu_denum = [lst_coef_H_fu_denum[i]/common_factor for i in range(3)]\n",
    "lst_coef_H_fu_denum = lst_coef_H_fu_denum[::-1]\n",
    "\n",
    "print(\"H_fu denominator coefficients\")\n",
    "display(lst_coef_H_fu_denum)"
   ]
  },
  {
   "cell_type": "code",
   "execution_count": 145,
   "id": "c04be187",
   "metadata": {},
   "outputs": [
    {
     "name": "stdout",
     "output_type": "stream",
     "text": [
      "H_fu numerator coefficients\n"
     ]
    },
    {
     "data": {
      "text/latex": [
       "$\\displaystyle \\left[ \\frac{T^{2}}{T b r_{1} + 2 b}, \\  \\frac{2 T^{2}}{T b r_{1} + 2 b}, \\  \\frac{T^{2}}{T b r_{1} + 2 b}\\right]$"
      ],
      "text/plain": [
       "⎡      2              2            2     ⎤\n",
       "⎢     T            2⋅T            T      ⎥\n",
       "⎢────────────, ────────────, ────────────⎥\n",
       "⎣T⋅b⋅r₁ + 2⋅b  T⋅b⋅r₁ + 2⋅b  T⋅b⋅r₁ + 2⋅b⎦"
      ]
     },
     "metadata": {},
     "output_type": "display_data"
    }
   ],
   "source": [
    "lst_coef_H_fu_num = [expand(H_fu_num).coeff(q**i) for i in range(2,0,-1)]\n",
    "lst_coef_H_fu_num.append(H_fu_num.subs(q,0))\n",
    "lst_coef_H_fu_num = [lst_coef_H_fu_num[i]/common_factor for i in range(3)]\n",
    "lst_coef_H_fu_num = lst_coef_H_fu_num[::-1]\n",
    "\n",
    "print(\"H_fu numerator coefficients\")\n",
    "# lst_disp = [display(lst_coef_H_fu_num[i]) for i in range(3)]\n",
    "display(lst_coef_H_fu_num) "
   ]
  },
  {
   "cell_type": "markdown",
   "id": "846c99ff",
   "metadata": {},
   "source": [
    "# Bilinear Transformation of Control Polynomials"
   ]
  },
  {
   "cell_type": "markdown",
   "id": "f611ba24",
   "metadata": {},
   "source": [
    "## Bilinear Transformation of $\\frac{T}{R}$"
   ]
  },
  {
   "cell_type": "code",
   "execution_count": 125,
   "id": "bcc3f69a",
   "metadata": {
    "scrolled": false
   },
   "outputs": [
    {
     "data": {
      "text/markdown": [
       "$$\\frac{T}{R} = $$"
      ],
      "text/plain": [
       "<IPython.core.display.Markdown object>"
      ]
     },
     "metadata": {},
     "output_type": "display_data"
    },
    {
     "data": {
      "text/latex": [
       "$\\displaystyle \\frac{T a_{0} + q \\left(T a_{0} + 2\\right) - 2}{b \\left(T r_{1} + q \\left(T r_{1} + 2\\right) - 2\\right)}$"
      ],
      "text/plain": [
       "  T⋅a₀ + q⋅(T⋅a₀ + 2) - 2  \n",
       "───────────────────────────\n",
       "b⋅(T⋅r₁ + q⋅(T⋅r₁ + 2) - 2)"
      ]
     },
     "metadata": {},
     "output_type": "display_data"
    }
   ],
   "source": [
    "init_printing(use_latex='mathjax')\n",
    "\n",
    "T_R_prime = T_/R_prime\n",
    "T_R_prime = T_R_prime.subs(omega, 1)\n",
    "T_R_prime_bilinear_T = collect(simplify(expand(T_R_prime.subs(s, bilinear_T))), q)\n",
    "\n",
    "\n",
    "display(Markdown(r\"$$\\frac{T}{R} = $$\"), T_R_prime_bilinear_T)\n"
   ]
  },
  {
   "cell_type": "code",
   "execution_count": 159,
   "id": "9532fb13",
   "metadata": {},
   "outputs": [
    {
     "data": {
      "text/latex": [
       "$\\displaystyle T a_{0} q + T a_{0} + 2 q - 2$"
      ],
      "text/plain": [
       "T⋅a₀⋅q + T⋅a₀ + 2⋅q - 2"
      ]
     },
     "metadata": {},
     "output_type": "display_data"
    },
    {
     "data": {
      "text/latex": [
       "$\\displaystyle T b q r_{1} + T b r_{1} + 2 b q - 2 b$"
      ],
      "text/plain": [
       "T⋅b⋅q⋅r₁ + T⋅b⋅r₁ + 2⋅b⋅q - 2⋅b"
      ]
     },
     "metadata": {},
     "output_type": "display_data"
    }
   ],
   "source": [
    "T_R_prime_bilinear_T_num, T_R_prime_bilinear_T_denum = fraction(T_R_prime_bilinear_T)\n",
    "T_R_prime_bilinear_T_num = expand(T_R_prime_bilinear_T_num)\n",
    "T_R_prime_bilinear_T_denum = expand(T_R_prime_bilinear_T_denum)"
   ]
  },
  {
   "cell_type": "code",
   "execution_count": 160,
   "id": "32aa119c",
   "metadata": {},
   "outputs": [
    {
     "data": {
      "text/markdown": [
       "$\\frac{T}{R}$ denominator coefficients"
      ],
      "text/plain": [
       "<IPython.core.display.Markdown object>"
      ]
     },
     "metadata": {},
     "output_type": "display_data"
    },
    {
     "data": {
      "text/latex": [
       "$\\displaystyle \\left[ \\frac{T r_{1} - 2}{T r_{1} + 2}, \\  1\\right]$"
      ],
      "text/plain": [
       "⎡T⋅r₁ - 2   ⎤\n",
       "⎢────────, 1⎥\n",
       "⎣T⋅r₁ + 2   ⎦"
      ]
     },
     "metadata": {},
     "output_type": "display_data"
    }
   ],
   "source": [
    "lst_coef_T_R_prime_bilinear_T_denum = [T_R_prime_bilinear_T_denum.coeff(q**i) for i in range(1,0,-1)]\n",
    "lst_coef_T_R_prime_bilinear_T_denum.append(T_R_prime_bilinear_T_denum.subs(q,0))\n",
    "common_factor = lst_coef_T_R_prime_bilinear_T_denum[0]\n",
    "\n",
    "lst_coef_T_R_prime_bilinear_T_denum = [simplify(lst_coef_T_R_prime_bilinear_T_denum[i]/common_factor) for i in range(2)]\n",
    "lst_coef_T_R_prime_bilinear_T_denum = lst_coef_T_R_prime_bilinear_T_denum[::-1]\n",
    "\n",
    "display(Markdown(r\"$\\frac{T}{R}$ denominator coefficients\"), lst_coef_T_R_prime_bilinear_T_denum)"
   ]
  },
  {
   "cell_type": "code",
   "execution_count": 161,
   "id": "fc86ce82",
   "metadata": {},
   "outputs": [
    {
     "data": {
      "text/markdown": [
       "$\\frac{T}{R}$ numerator coefficients"
      ],
      "text/plain": [
       "<IPython.core.display.Markdown object>"
      ]
     },
     "metadata": {},
     "output_type": "display_data"
    },
    {
     "data": {
      "text/latex": [
       "$\\displaystyle \\left[ \\frac{T a_{0} - 2}{b \\left(T r_{1} + 2\\right)}, \\  \\frac{T a_{0} + 2}{b \\left(T r_{1} + 2\\right)}\\right]$"
      ],
      "text/plain": [
       "⎡  T⋅a₀ - 2      T⋅a₀ + 2  ⎤\n",
       "⎢────────────, ────────────⎥\n",
       "⎣b⋅(T⋅r₁ + 2)  b⋅(T⋅r₁ + 2)⎦"
      ]
     },
     "metadata": {},
     "output_type": "display_data"
    }
   ],
   "source": [
    "lst_coef_T_R_prime_bilinear_T_num = [expand(T_R_prime_bilinear_T_num).coeff(q**i) for i in range(1,0,-1)]\n",
    "lst_coef_T_R_prime_bilinear_T_num.append(T_R_prime_bilinear_T_num.subs(q,0))\n",
    "\n",
    "lst_coef_T_R_prime_bilinear_T_num = [simplify(lst_coef_T_R_prime_bilinear_T_num[i]/common_factor) for i in range(2)]\n",
    "lst_coef_T_R_prime_bilinear_T_num = lst_coef_T_R_prime_bilinear_T_num[::-1]\n",
    "\n",
    "display(Markdown(r\"$\\frac{T}{R}$ numerator coefficients\"), lst_coef_T_R_prime_bilinear_T_num)"
   ]
  },
  {
   "cell_type": "code",
   "execution_count": 186,
   "id": "5a820879",
   "metadata": {},
   "outputs": [],
   "source": [
    "class numdenum_coeffs:\n",
    "    def __init__(self, expr, order, symb):\n",
    "        self.num, self.denum = fraction(expr)\n",
    "        self.order = order\n",
    "        self.symb = symb\n",
    "        self.common_factor = None\n",
    "        self.lst_denum_coeff = self.build_lst(self.denum)\n",
    "        self.lst_num_coeff = self.build_lst(self.num)\n",
    "        display(Markdown(r\"Denominator coefficients\"), self.lst_denum_coeff)\n",
    "        display(Markdown(r\"Numerator coefficients\"), self.lst_num_coeff)\n",
    "        \n",
    "    def build_lst(self, poly):\n",
    "        lst = [expand(poly).coeff(self.symb**i) for i in range((self.order - 1), 0, -1)]\n",
    "        lst.append(poly.subs(self.symb,0))\n",
    "        if (self.common_factor == None):\n",
    "            self.common_factor = lst[0]\n",
    "            \n",
    "        lst = [simplify(lst[i]/self.common_factor) for i in range(self.order)]\n",
    "        return lst[::-1]\n",
    "        "
   ]
  },
  {
   "cell_type": "code",
   "execution_count": 187,
   "id": "c405bdcd",
   "metadata": {},
   "outputs": [
    {
     "data": {
      "text/markdown": [
       "Denominator coefficients"
      ],
      "text/plain": [
       "<IPython.core.display.Markdown object>"
      ]
     },
     "metadata": {},
     "output_type": "display_data"
    },
    {
     "data": {
      "text/latex": [
       "$\\displaystyle \\left[ \\frac{T r_{1} - 2}{T r_{1} + 2}, \\  1\\right]$"
      ],
      "text/plain": [
       "⎡T⋅r₁ - 2   ⎤\n",
       "⎢────────, 1⎥\n",
       "⎣T⋅r₁ + 2   ⎦"
      ]
     },
     "metadata": {},
     "output_type": "display_data"
    },
    {
     "data": {
      "text/markdown": [
       "Numerator coefficients"
      ],
      "text/plain": [
       "<IPython.core.display.Markdown object>"
      ]
     },
     "metadata": {},
     "output_type": "display_data"
    },
    {
     "data": {
      "text/latex": [
       "$\\displaystyle \\left[ \\frac{T a_{0} - 2}{b \\left(T r_{1} + 2\\right)}, \\  \\frac{T a_{0} + 2}{b \\left(T r_{1} + 2\\right)}\\right]$"
      ],
      "text/plain": [
       "⎡  T⋅a₀ - 2      T⋅a₀ + 2  ⎤\n",
       "⎢────────────, ────────────⎥\n",
       "⎣b⋅(T⋅r₁ + 2)  b⋅(T⋅r₁ + 2)⎦"
      ]
     },
     "metadata": {},
     "output_type": "display_data"
    }
   ],
   "source": [
    "# display(T_R_prime_bilinear_T)\n",
    "res = numdenum_coeffs(T_R_prime_bilinear_T, 2, q)\n",
    "# res.denum"
   ]
  },
  {
   "cell_type": "code",
   "execution_count": null,
   "id": "4527e6b2",
   "metadata": {},
   "outputs": [],
   "source": []
  },
  {
   "cell_type": "code",
   "execution_count": null,
   "id": "d2dcf429",
   "metadata": {},
   "outputs": [],
   "source": []
  },
  {
   "cell_type": "code",
   "execution_count": null,
   "id": "dc300ed4",
   "metadata": {},
   "outputs": [],
   "source": []
  },
  {
   "cell_type": "markdown",
   "id": "8b19fec1",
   "metadata": {},
   "source": [
    "## Bilinear Transformation of $\\frac{S}{R}$"
   ]
  },
  {
   "cell_type": "code",
   "execution_count": 126,
   "id": "58954ee4",
   "metadata": {
    "scrolled": true
   },
   "outputs": [
    {
     "data": {
      "text/latex": [
       "$\\displaystyle \\frac{T s_{1} + q \\left(T s_{1} + 2 s_{0}\\right) - 2 s_{0}}{T r_{1} + q \\left(T r_{1} + 2\\right) - 2}$"
      ],
      "text/plain": [
       "T⋅s₁ + q⋅(T⋅s₁ + 2⋅s₀) - 2⋅s₀\n",
       "─────────────────────────────\n",
       "   T⋅r₁ + q⋅(T⋅r₁ + 2) - 2   "
      ]
     },
     "execution_count": 126,
     "metadata": {},
     "output_type": "execute_result"
    }
   ],
   "source": [
    "S_R_prime = S/R_prime\n",
    "S_R_prime = collect(simplify(expand(S_R_prime.subs([(omega, 1), (zeta, 0.7), (a_0, 2)]))), s)\n",
    "\n",
    "S_R_prime_bilinear_T = collect(simplify(expand(S_R_prime.subs(s, bilinear_T))), q)\n",
    "S_R_prime_bilinear_T"
   ]
  },
  {
   "cell_type": "code",
   "execution_count": 119,
   "id": "8e3b297f",
   "metadata": {},
   "outputs": [
    {
     "data": {
      "text/markdown": [
       "\n",
       "Dims: $13.49m \\times  2.3m$\n",
       "\n",
       "Area: $302.99m^2$\n",
       "\n",
       "Volume: $90.02m^3$\n"
      ],
      "text/plain": [
       "<IPython.core.display.Markdown object>"
      ]
     },
     "metadata": {},
     "output_type": "display_data"
    }
   ],
   "source": [
    "from IPython.display import display, Markdown\n",
    "\n",
    "a = 13.49\n",
    "b = 2.2544223\n",
    "P = 302.99\n",
    "V = 90.02\n",
    "\n",
    "display(Markdown(\n",
    "   rf\"\"\"\n",
    "Dims: ${a}m \\times{b:5.2}m$\n",
    "\n",
    "Area: ${P}m^2$\n",
    "\n",
    "Volume: ${V}m^3$\n",
    "\"\"\"))"
   ]
  },
  {
   "cell_type": "markdown",
   "id": "48c06730",
   "metadata": {},
   "source": [
    "$$u(t) = \\frac{T}{R}u_c - \\frac{S}{R}y(t)$$"
   ]
  }
 ],
 "metadata": {
  "kernelspec": {
   "display_name": "Python 3 (ipykernel)",
   "language": "python",
   "name": "python3"
  },
  "language_info": {
   "codemirror_mode": {
    "name": "ipython",
    "version": 3
   },
   "file_extension": ".py",
   "mimetype": "text/x-python",
   "name": "python",
   "nbconvert_exporter": "python",
   "pygments_lexer": "ipython3",
   "version": "3.9.2"
  }
 },
 "nbformat": 4,
 "nbformat_minor": 5
}
