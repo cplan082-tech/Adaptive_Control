{
 "cells": [
  {
   "cell_type": "code",
   "execution_count": null,
   "id": "646c74fe",
   "metadata": {},
   "outputs": [],
   "source": [
    "class lst_subs:\n",
    "    def __init__(self, expr, lst_subs, collect_term):\n",
    "        self.subed_expr = self.sub(expr, lst_subs, collect_term)\n",
    "#         self.collect_term = collect_term\n",
    "        \n",
    "    def sub(self, expr, lst_subs, collect_term):\n",
    "        iteration = len(lst_subs)\n",
    "        for i in range(iteration):\n",
    "            expr = collect(simplify(expand(expr.subs([lst_subs[i]]))), collect_term)\n",
    "            \n",
    "        return expr"
   ]
  },
  {
   "cell_type": "code",
   "execution_count": null,
   "id": "a5fc2076",
   "metadata": {},
   "outputs": [],
   "source": [
    "theta_0 = np.array([1, 1])\n",
    "\n",
    "lst =[(s, bilinear_T), (T, T_val), (a,theta_0[0]), (b,theta_0[1])]\n",
    "\n",
    "obj_G_bil_subed = lst_subs(G, lst, q)\n",
    "display(obj_G_bil_subed.subed_expr)\n",
    "\n",
    "# G_bil = collect(simplify(expand(G.subs(s, bilinear_T))), q)\n",
    "# G_bil = collect(simplify(expand(G_bil.subs(T, T_val))), q)\n",
    "# G_bil = collect(simplify(expand(G_bil.subs(a,theta_0[0]))), q)\n",
    "# G_bil = collect(simplify(expand(G_bil.subs(b,theta_0[1]))), q)\n",
    "# display(G_bil)\n",
    "\n",
    "obj_G_bil = numden_coeffs(obj_G_bil_subed.subed_expr, 2, 2, q)\n",
    "\n",
    "# G_func = lambdify(s, G)\n",
    "# G_func(1)"
   ]
  },
  {
   "cell_type": "code",
   "execution_count": null,
   "id": "d780e6a2",
   "metadata": {},
   "outputs": [],
   "source": [
    "# G_func = lambdify(s, G)\n",
    "# G_func(1)"
   ]
  }
 ],
 "metadata": {
  "kernelspec": {
   "display_name": "Python 3 (ipykernel)",
   "language": "python",
   "name": "python3"
  },
  "language_info": {
   "codemirror_mode": {
    "name": "ipython",
    "version": 3
   },
   "file_extension": ".py",
   "mimetype": "text/x-python",
   "name": "python",
   "nbconvert_exporter": "python",
   "pygments_lexer": "ipython3",
   "version": "3.9.2"
  }
 },
 "nbformat": 4,
 "nbformat_minor": 5
}
